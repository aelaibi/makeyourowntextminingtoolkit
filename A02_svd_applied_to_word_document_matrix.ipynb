{
 "cells": [
  {
   "cell_type": "markdown",
   "metadata": {},
   "source": [
    "# SVD Applied to a Word-Document Matrix"
   ]
  },
  {
   "cell_type": "markdown",
   "metadata": {},
   "source": [
    "This notebook applies the SVD to a simple word-document matrix. The aim is to see what the reconstructed reduced dimension matrix looks like."
   ]
  },
  {
   "cell_type": "code",
   "execution_count": 14,
   "metadata": {
    "collapsed": false
   },
   "outputs": [],
   "source": [
    "#import pandas for conviently labelled arrays\n",
    "import pandas\n",
    "# import numpy for SVD function\n",
    "import numpy\n",
    "# import matplotlib.pyplot for visualising arrays\n",
    "import matplotlib.pyplot as plt"
   ]
  },
  {
   "cell_type": "markdown",
   "metadata": {
    "collapsed": true
   },
   "source": [
    "## A Simple Word-Document Matrix\n",
    "The example word-document matrix is taken from http://makeyourowntextminingtoolkit.blogspot.co.uk/2016/11/so-many-dimensions-and-how-to-reduce.html"
   ]
  },
  {
   "cell_type": "code",
   "execution_count": 15,
   "metadata": {
    "collapsed": false
   },
   "outputs": [
    {
     "name": "stdout",
     "output_type": "stream",
     "text": [
      "['wheel', ' seat', ' engine', ' slice', ' oven', ' boil']\n"
     ]
    },
    {
     "data": {
      "text/html": [
       "<div>\n",
       "<table border=\"1\" class=\"dataframe\">\n",
       "  <thead>\n",
       "    <tr style=\"text-align: right;\">\n",
       "      <th></th>\n",
       "      <th>doc1</th>\n",
       "      <th>doc2</th>\n",
       "      <th>doc3</th>\n",
       "      <th>doc4</th>\n",
       "      <th>doc5</th>\n",
       "      <th>doc6</th>\n",
       "    </tr>\n",
       "  </thead>\n",
       "  <tbody>\n",
       "    <tr>\n",
       "      <th>wheel</th>\n",
       "      <td>0.50</td>\n",
       "      <td>0.3333</td>\n",
       "      <td>0.25</td>\n",
       "      <td>0.0000</td>\n",
       "      <td>0.0000</td>\n",
       "      <td>0.0</td>\n",
       "    </tr>\n",
       "    <tr>\n",
       "      <th>seat</th>\n",
       "      <td>0.25</td>\n",
       "      <td>0.3333</td>\n",
       "      <td>0.00</td>\n",
       "      <td>0.0000</td>\n",
       "      <td>0.0000</td>\n",
       "      <td>0.0</td>\n",
       "    </tr>\n",
       "    <tr>\n",
       "      <th>engine</th>\n",
       "      <td>0.25</td>\n",
       "      <td>0.3333</td>\n",
       "      <td>0.75</td>\n",
       "      <td>0.0000</td>\n",
       "      <td>0.0000</td>\n",
       "      <td>0.0</td>\n",
       "    </tr>\n",
       "    <tr>\n",
       "      <th>slice</th>\n",
       "      <td>0.00</td>\n",
       "      <td>0.0000</td>\n",
       "      <td>0.00</td>\n",
       "      <td>0.5000</td>\n",
       "      <td>0.5000</td>\n",
       "      <td>0.6</td>\n",
       "    </tr>\n",
       "    <tr>\n",
       "      <th>oven</th>\n",
       "      <td>0.00</td>\n",
       "      <td>0.0000</td>\n",
       "      <td>0.00</td>\n",
       "      <td>0.3333</td>\n",
       "      <td>0.1667</td>\n",
       "      <td>0.0</td>\n",
       "    </tr>\n",
       "    <tr>\n",
       "      <th>boil</th>\n",
       "      <td>0.00</td>\n",
       "      <td>0.0000</td>\n",
       "      <td>0.00</td>\n",
       "      <td>0.1667</td>\n",
       "      <td>0.3333</td>\n",
       "      <td>0.4</td>\n",
       "    </tr>\n",
       "  </tbody>\n",
       "</table>\n",
       "</div>"
      ],
      "text/plain": [
       "         doc1    doc2  doc3    doc4    doc5  doc6\n",
       "wheel    0.50  0.3333  0.25  0.0000  0.0000   0.0\n",
       " seat    0.25  0.3333  0.00  0.0000  0.0000   0.0\n",
       " engine  0.25  0.3333  0.75  0.0000  0.0000   0.0\n",
       " slice   0.00  0.0000  0.00  0.5000  0.5000   0.6\n",
       " oven    0.00  0.0000  0.00  0.3333  0.1667   0.0\n",
       " boil    0.00  0.0000  0.00  0.1667  0.3333   0.4"
      ]
     },
     "execution_count": 15,
     "metadata": {},
     "output_type": "execute_result"
    }
   ],
   "source": [
    "# create a simple word-document matrix as a pandas dataframe, the content values have been normalised\n",
    "words = ['wheel', ' seat', ' engine', ' slice', ' oven', ' boil']\n",
    "print(words)\n",
    "documents = ['doc1', 'doc2', 'doc3', 'doc4', 'doc5', 'doc6']\n",
    "word_doc = pandas.DataFrame([[0.5,0.3333, 0.25, 0, 0, 0],\n",
    "                      [0.25, 0.3333, 0, 0, 0, 0],\n",
    "                      [0.25, 0.3333, 0.75, 0,0,0],\n",
    "                      [0, 0, 0, 0.5, 0.5, 0.6],\n",
    "                      [0, 0, 0, 0.3333, 0.1667, 0],\n",
    "                      [0, 0, 0, 0.1667, 0.3333, 0.4]], index=words, columns=documents)\n",
    "# and show it\n",
    "word_doc"
   ]
  },
  {
   "cell_type": "code",
   "execution_count": null,
   "metadata": {
    "collapsed": true
   },
   "outputs": [],
   "source": []
  },
  {
   "cell_type": "markdown",
   "metadata": {},
   "source": [
    "## Word-Document matrix is A"
   ]
  },
  {
   "cell_type": "code",
   "execution_count": 16,
   "metadata": {
    "collapsed": false
   },
   "outputs": [],
   "source": [
    "# create a numpy array from the pandas dataframe\n",
    "A = word_doc.values"
   ]
  },
  {
   "cell_type": "code",
   "execution_count": null,
   "metadata": {
    "collapsed": true
   },
   "outputs": [],
   "source": []
  },
  {
   "cell_type": "markdown",
   "metadata": {},
   "source": [
    "## Word-Word Matrix is A.A*"
   ]
  },
  {
   "cell_type": "code",
   "execution_count": 17,
   "metadata": {
    "collapsed": false
   },
   "outputs": [
    {
     "data": {
      "text/html": [
       "<div>\n",
       "<table border=\"1\" class=\"dataframe\">\n",
       "  <thead>\n",
       "    <tr style=\"text-align: right;\">\n",
       "      <th></th>\n",
       "      <th>wheel</th>\n",
       "      <th>seat</th>\n",
       "      <th>engine</th>\n",
       "      <th>slice</th>\n",
       "      <th>oven</th>\n",
       "      <th>boil</th>\n",
       "    </tr>\n",
       "  </thead>\n",
       "  <tbody>\n",
       "    <tr>\n",
       "      <th>wheel</th>\n",
       "      <td>0.423589</td>\n",
       "      <td>0.236089</td>\n",
       "      <td>0.423589</td>\n",
       "      <td>0.00</td>\n",
       "      <td>0.000000</td>\n",
       "      <td>0.000000</td>\n",
       "    </tr>\n",
       "    <tr>\n",
       "      <th>seat</th>\n",
       "      <td>0.236089</td>\n",
       "      <td>0.173589</td>\n",
       "      <td>0.173589</td>\n",
       "      <td>0.00</td>\n",
       "      <td>0.000000</td>\n",
       "      <td>0.000000</td>\n",
       "    </tr>\n",
       "    <tr>\n",
       "      <th>engine</th>\n",
       "      <td>0.423589</td>\n",
       "      <td>0.173589</td>\n",
       "      <td>0.736089</td>\n",
       "      <td>0.00</td>\n",
       "      <td>0.000000</td>\n",
       "      <td>0.000000</td>\n",
       "    </tr>\n",
       "    <tr>\n",
       "      <th>slice</th>\n",
       "      <td>0.000000</td>\n",
       "      <td>0.000000</td>\n",
       "      <td>0.000000</td>\n",
       "      <td>0.86</td>\n",
       "      <td>0.250000</td>\n",
       "      <td>0.490000</td>\n",
       "    </tr>\n",
       "    <tr>\n",
       "      <th>oven</th>\n",
       "      <td>0.000000</td>\n",
       "      <td>0.000000</td>\n",
       "      <td>0.000000</td>\n",
       "      <td>0.25</td>\n",
       "      <td>0.138878</td>\n",
       "      <td>0.111122</td>\n",
       "    </tr>\n",
       "    <tr>\n",
       "      <th>boil</th>\n",
       "      <td>0.000000</td>\n",
       "      <td>0.000000</td>\n",
       "      <td>0.000000</td>\n",
       "      <td>0.49</td>\n",
       "      <td>0.111122</td>\n",
       "      <td>0.298878</td>\n",
       "    </tr>\n",
       "  </tbody>\n",
       "</table>\n",
       "</div>"
      ],
      "text/plain": [
       "            wheel      seat    engine   slice      oven      boil\n",
       "wheel    0.423589  0.236089  0.423589    0.00  0.000000  0.000000\n",
       " seat    0.236089  0.173589  0.173589    0.00  0.000000  0.000000\n",
       " engine  0.423589  0.173589  0.736089    0.00  0.000000  0.000000\n",
       " slice   0.000000  0.000000  0.000000    0.86  0.250000  0.490000\n",
       " oven    0.000000  0.000000  0.000000    0.25  0.138878  0.111122\n",
       " boil    0.000000  0.000000  0.000000    0.49  0.111122  0.298878"
      ]
     },
     "execution_count": 17,
     "metadata": {},
     "output_type": "execute_result"
    }
   ],
   "source": [
    "pandas.DataFrame(numpy.dot(A, A.T), index=words, columns=words)"
   ]
  },
  {
   "cell_type": "markdown",
   "metadata": {},
   "source": [
    "# Document-Document Matrix is A*.A"
   ]
  },
  {
   "cell_type": "code",
   "execution_count": 18,
   "metadata": {
    "collapsed": false
   },
   "outputs": [
    {
     "data": {
      "text/html": [
       "<div>\n",
       "<table border=\"1\" class=\"dataframe\">\n",
       "  <thead>\n",
       "    <tr style=\"text-align: right;\">\n",
       "      <th></th>\n",
       "      <th>doc1</th>\n",
       "      <th>doc2</th>\n",
       "      <th>doc3</th>\n",
       "      <th>doc4</th>\n",
       "      <th>doc5</th>\n",
       "      <th>doc6</th>\n",
       "    </tr>\n",
       "  </thead>\n",
       "  <tbody>\n",
       "    <tr>\n",
       "      <th>doc1</th>\n",
       "      <td>0.3750</td>\n",
       "      <td>0.333300</td>\n",
       "      <td>0.3125</td>\n",
       "      <td>0.000000</td>\n",
       "      <td>0.000000</td>\n",
       "      <td>0.00000</td>\n",
       "    </tr>\n",
       "    <tr>\n",
       "      <th>doc2</th>\n",
       "      <td>0.3333</td>\n",
       "      <td>0.333267</td>\n",
       "      <td>0.3333</td>\n",
       "      <td>0.000000</td>\n",
       "      <td>0.000000</td>\n",
       "      <td>0.00000</td>\n",
       "    </tr>\n",
       "    <tr>\n",
       "      <th>doc3</th>\n",
       "      <td>0.3125</td>\n",
       "      <td>0.333300</td>\n",
       "      <td>0.6250</td>\n",
       "      <td>0.000000</td>\n",
       "      <td>0.000000</td>\n",
       "      <td>0.00000</td>\n",
       "    </tr>\n",
       "    <tr>\n",
       "      <th>doc4</th>\n",
       "      <td>0.0000</td>\n",
       "      <td>0.000000</td>\n",
       "      <td>0.0000</td>\n",
       "      <td>0.388878</td>\n",
       "      <td>0.361122</td>\n",
       "      <td>0.36668</td>\n",
       "    </tr>\n",
       "    <tr>\n",
       "      <th>doc5</th>\n",
       "      <td>0.0000</td>\n",
       "      <td>0.000000</td>\n",
       "      <td>0.0000</td>\n",
       "      <td>0.361122</td>\n",
       "      <td>0.388878</td>\n",
       "      <td>0.43332</td>\n",
       "    </tr>\n",
       "    <tr>\n",
       "      <th>doc6</th>\n",
       "      <td>0.0000</td>\n",
       "      <td>0.000000</td>\n",
       "      <td>0.0000</td>\n",
       "      <td>0.366680</td>\n",
       "      <td>0.433320</td>\n",
       "      <td>0.52000</td>\n",
       "    </tr>\n",
       "  </tbody>\n",
       "</table>\n",
       "</div>"
      ],
      "text/plain": [
       "        doc1      doc2    doc3      doc4      doc5     doc6\n",
       "doc1  0.3750  0.333300  0.3125  0.000000  0.000000  0.00000\n",
       "doc2  0.3333  0.333267  0.3333  0.000000  0.000000  0.00000\n",
       "doc3  0.3125  0.333300  0.6250  0.000000  0.000000  0.00000\n",
       "doc4  0.0000  0.000000  0.0000  0.388878  0.361122  0.36668\n",
       "doc5  0.0000  0.000000  0.0000  0.361122  0.388878  0.43332\n",
       "doc6  0.0000  0.000000  0.0000  0.366680  0.433320  0.52000"
      ]
     },
     "execution_count": 18,
     "metadata": {},
     "output_type": "execute_result"
    }
   ],
   "source": [
    "pandas.DataFrame(numpy.dot(A.T, A), index=documents, columns=documents)"
   ]
  },
  {
   "cell_type": "code",
   "execution_count": null,
   "metadata": {
    "collapsed": true
   },
   "outputs": [],
   "source": []
  },
  {
   "cell_type": "markdown",
   "metadata": {},
   "source": [
    "## Now Take the SVD"
   ]
  },
  {
   "cell_type": "code",
   "execution_count": 19,
   "metadata": {
    "collapsed": false
   },
   "outputs": [],
   "source": [
    "# break it down into an SVD\n",
    "U, s, V = numpy.linalg.svd(A, full_matrices=False)\n",
    "S = numpy.diag(s)"
   ]
  },
  {
   "cell_type": "code",
   "execution_count": 20,
   "metadata": {
    "collapsed": false
   },
   "outputs": [
    {
     "name": "stdout",
     "output_type": "stream",
     "text": [
      "U =\n",
      " [[ 0.   -0.57 -0.52  0.   -0.64  0.  ]\n",
      " [ 0.   -0.29 -0.6   0.    0.75  0.  ]\n",
      " [ 0.   -0.77  0.61  0.    0.2   0.  ]\n",
      " [-0.84  0.    0.    0.    0.   -0.54]\n",
      " [-0.25  0.    0.   -0.89  0.    0.38]\n",
      " [-0.48  0.    0.    0.45  0.    0.75]] \n",
      "\n",
      "S =\n",
      " [[ 1.1   0.    0.    0.    0.    0.  ]\n",
      " [ 0.    1.06  0.    0.    0.    0.  ]\n",
      " [ 0.    0.    0.45  0.    0.    0.  ]\n",
      " [ 0.    0.    0.    0.29  0.    0.  ]\n",
      " [ 0.    0.    0.    0.    0.13  0.  ]\n",
      " [ 0.    0.    0.    0.    0.    0.05]] \n",
      "\n",
      "V =\n",
      " [[ 0.    0.    0.   -0.53 -0.56 -0.63]\n",
      " [-0.52 -0.51 -0.68  0.    0.    0.  ]\n",
      " [-0.57 -0.38  0.72  0.    0.    0.  ]\n",
      " [ 0.    0.    0.   -0.77  0.01  0.64]\n",
      " [-0.63  0.77 -0.1   0.    0.    0.  ]\n",
      " [-0.   -0.   -0.   -0.35  0.83 -0.44]] \n",
      "\n"
     ]
    }
   ],
   "source": [
    "# what are U, S and V\n",
    "print(\"U =\\n\", numpy.round(U, decimals=2), \"\\n\")\n",
    "print(\"S =\\n\", numpy.round(S, decimals=2), \"\\n\")\n",
    "print(\"V =\\n\", numpy.round(V, decimals=2), \"\\n\")"
   ]
  },
  {
   "cell_type": "markdown",
   "metadata": {},
   "source": [
    "We can see above that the values in the diagonal **S** matrix are ordered by magnitide. There is a significant different between the biggest value 1.1, and the smallest 0.05. The halfway value of 0.28 is still much smaller than the largest."
   ]
  },
  {
   "cell_type": "markdown",
   "metadata": {},
   "source": [
    "## Check U, S and V Do Actually Reconstruct A"
   ]
  },
  {
   "cell_type": "code",
   "execution_count": 21,
   "metadata": {
    "collapsed": false
   },
   "outputs": [
    {
     "name": "stdout",
     "output_type": "stream",
     "text": [
      "[[ 0.5   0.33  0.25 -0.    0.    0.  ]\n",
      " [ 0.25  0.33  0.    0.    0.    0.  ]\n",
      " [ 0.25  0.33  0.75  0.    0.    0.  ]\n",
      " [ 0.    0.    0.    0.5   0.5   0.6 ]\n",
      " [ 0.    0.    0.    0.33  0.17 -0.  ]\n",
      " [ 0.    0.    0.    0.17  0.33  0.4 ]]\n"
     ]
    }
   ],
   "source": [
    "# rebuild A2 from U.S.V\n",
    "A2 = numpy.dot(U,numpy.dot(S,V))\n",
    "print(numpy.round(A2, decimals=2))"
   ]
  },
  {
   "cell_type": "markdown",
   "metadata": {},
   "source": [
    "Yes, that worked .. the reconstructed A2 is the same as the original A (within the bounds of small floating point accuracy)"
   ]
  },
  {
   "cell_type": "markdown",
   "metadata": {},
   "source": [
    "## Now Reduce Dimensions, And Reconstruct\n",
    "Here we use only the top 2 values of the **S** matrix, pretty brutal reduction in dimensions!"
   ]
  },
  {
   "cell_type": "code",
   "execution_count": 29,
   "metadata": {
    "collapsed": false
   },
   "outputs": [
    {
     "name": "stdout",
     "output_type": "stream",
     "text": [
      "[[ 1.1   0.    0.    0.    0.    0.  ]\n",
      " [ 0.    1.06  0.    0.    0.    0.  ]\n",
      " [ 0.    0.    0.    0.    0.    0.  ]\n",
      " [ 0.    0.    0.    0.    0.    0.  ]\n",
      " [ 0.    0.    0.    0.    0.    0.  ]\n",
      " [ 0.    0.    0.    0.    0.    0.  ]]\n"
     ]
    }
   ],
   "source": [
    "# S2 is the same as S but with only \n",
    "S2 = numpy.zeros_like(S)\n",
    "# only keep top two eigenvalues\n",
    "l = 2\n",
    "S2[:l, :l] = S[:l,:l]\n",
    "# show S2 which has less info than original S\n",
    "print(numpy.round(S2, decimals=2))"
   ]
  },
  {
   "cell_type": "code",
   "execution_count": 30,
   "metadata": {
    "collapsed": false
   },
   "outputs": [
    {
     "name": "stdout",
     "output_type": "stream",
     "text": [
      "[[ 0.31  0.31  0.41  0.    0.    0.  ]\n",
      " [ 0.16  0.15  0.21  0.    0.    0.  ]\n",
      " [ 0.42  0.42  0.55  0.    0.    0.  ]\n",
      " [ 0.    0.    0.    0.49  0.52  0.59]\n",
      " [ 0.    0.    0.    0.14  0.15  0.17]\n",
      " [ 0.    0.    0.    0.28  0.3   0.34]]\n"
     ]
    }
   ],
   "source": [
    "# reconstruct A3 from U, S2 and V\n",
    "A3 = numpy.dot(U, numpy.dot(S2,V))\n",
    "print(numpy.round(A3, decimals=2))"
   ]
  },
  {
   "cell_type": "code",
   "execution_count": 33,
   "metadata": {
    "collapsed": false
   },
   "outputs": [],
   "source": [
    "# now do a new SVD on A3 to get a new V\n",
    "U_reduced, s_reduced, V_reduced = numpy.linalg.svd(A3, full_matrices=False)\n",
    "S_reduced = numpy.diag(s_reduced)"
   ]
  },
  {
   "cell_type": "code",
   "execution_count": 34,
   "metadata": {
    "collapsed": false
   },
   "outputs": [
    {
     "name": "stdout",
     "output_type": "stream",
     "text": [
      "U_reduced =\n",
      " [[ 0.   -0.57  0.82  0.    0.   -0.06]\n",
      " [ 0.   -0.29 -0.26  0.    0.   -0.92]\n",
      " [ 0.   -0.77 -0.51  0.    0.    0.38]\n",
      " [-0.84  0.    0.   -0.13 -0.52  0.  ]\n",
      " [-0.25  0.    0.   -0.77  0.59  0.  ]\n",
      " [-0.48  0.    0.    0.63  0.61  0.  ]] \n",
      "\n",
      "S_reduced =\n",
      " [[ 1.1   0.    0.    0.    0.    0.  ]\n",
      " [ 0.    1.06  0.    0.    0.    0.  ]\n",
      " [ 0.    0.    0.    0.    0.    0.  ]\n",
      " [ 0.    0.    0.    0.    0.    0.  ]\n",
      " [ 0.    0.    0.    0.    0.    0.  ]\n",
      " [ 0.    0.    0.    0.    0.    0.  ]] \n",
      "\n",
      "V_reduced =\n",
      " [[ 0.    0.    0.   -0.53 -0.56 -0.63]\n",
      " [-0.52 -0.51 -0.68  0.    0.    0.  ]\n",
      " [-0.85  0.22  0.48  0.    0.    0.  ]\n",
      " [-0.   -0.   -0.   -0.85  0.38  0.37]\n",
      " [ 0.    0.    0.   -0.03 -0.73  0.68]\n",
      " [-0.1   0.83 -0.55 -0.    0.    0.  ]] \n",
      "\n"
     ]
    }
   ],
   "source": [
    "# what are U, S and V\n",
    "print(\"U_reduced =\\n\", numpy.round(U_reduced, decimals=2), \"\\n\")\n",
    "print(\"S_reduced =\\n\", numpy.round(S_reduced, decimals=2), \"\\n\")\n",
    "print(\"V_reduced =\\n\", numpy.round(V_reduced, decimals=2), \"\\n\")"
   ]
  },
  {
   "cell_type": "code",
   "execution_count": 50,
   "metadata": {
    "collapsed": false
   },
   "outputs": [
    {
     "data": {
      "text/plain": [
       "array([[ 0.  ,  0.  ,  0.  , -0.58, -0.62, -0.7 ],\n",
       "       [-0.55, -0.54, -0.72,  0.  ,  0.  ,  0.  ],\n",
       "       [-0.  ,  0.  ,  0.  ,  0.  ,  0.  ,  0.  ],\n",
       "       [ 0.  ,  0.  ,  0.  , -0.  ,  0.  ,  0.  ],\n",
       "       [ 0.  ,  0.  ,  0.  , -0.  , -0.  ,  0.  ],\n",
       "       [-0.  ,  0.  , -0.  ,  0.  ,  0.  ,  0.  ]])"
      ]
     },
     "execution_count": 50,
     "metadata": {},
     "output_type": "execute_result"
    }
   ],
   "source": [
    "SrVr = numpy.dot(S_reduced, V_reduced)\n",
    "numpy.round(SrVr, decimals=2)"
   ]
  },
  {
   "cell_type": "code",
   "execution_count": 51,
   "metadata": {
    "collapsed": false
   },
   "outputs": [
    {
     "data": {
      "image/png": "[encoded data removed]",
      "text/plain": [
       "<matplotlib.figure.Figure at 0x110acaa58>"
      ]
     },
     "metadata": {},
     "output_type": "display_data"
    }
   ],
   "source": [
    "# plot the array\n",
    "p = plt.subplot(131)\n",
    "p.axis('scaled'); p.axis([-2, 2, -2, 2]); p.axhline(y=0, color='lightgrey'); p.axvline(x=0, color='lightgrey')\n",
    "p.set_yticklabels([]); p.set_xticklabels([])\n",
    "\n",
    "p.set_title(\"SrVr\")\n",
    "p.plot(SrVr[0,],SrVr[1,],'ro')\n",
    "\n",
    "plt.show()"
   ]
  },
  {
   "cell_type": "markdown",
   "metadata": {},
   "source": [
    "The above shows that there are 2 clusters of documents. That matches our expectations as we constructed the example data set that way."
   ]
  },
  {
   "cell_type": "markdown",
   "metadata": {},
   "source": []
  },
  {
   "cell_type": "code",
   "execution_count": 53,
   "metadata": {
    "collapsed": false
   },
   "outputs": [
    {
     "data": {
      "text/html": [
       "<div>\n",
       "<table border=\"1\" class=\"dataframe\">\n",
       "  <thead>\n",
       "    <tr style=\"text-align: right;\">\n",
       "      <th></th>\n",
       "      <th>0</th>\n",
       "      <th>1</th>\n",
       "      <th>2</th>\n",
       "      <th>3</th>\n",
       "      <th>4</th>\n",
       "      <th>5</th>\n",
       "    </tr>\n",
       "  </thead>\n",
       "  <tbody>\n",
       "    <tr>\n",
       "      <th>wheel</th>\n",
       "      <td>0.00</td>\n",
       "      <td>-0.60</td>\n",
       "      <td>0.0</td>\n",
       "      <td>0.0</td>\n",
       "      <td>0.0</td>\n",
       "      <td>-0.0</td>\n",
       "    </tr>\n",
       "    <tr>\n",
       "      <th>seat</th>\n",
       "      <td>0.00</td>\n",
       "      <td>-0.30</td>\n",
       "      <td>-0.0</td>\n",
       "      <td>0.0</td>\n",
       "      <td>0.0</td>\n",
       "      <td>-0.0</td>\n",
       "    </tr>\n",
       "    <tr>\n",
       "      <th>engine</th>\n",
       "      <td>0.00</td>\n",
       "      <td>-0.81</td>\n",
       "      <td>-0.0</td>\n",
       "      <td>0.0</td>\n",
       "      <td>0.0</td>\n",
       "      <td>0.0</td>\n",
       "    </tr>\n",
       "    <tr>\n",
       "      <th>slice</th>\n",
       "      <td>-0.93</td>\n",
       "      <td>0.00</td>\n",
       "      <td>0.0</td>\n",
       "      <td>-0.0</td>\n",
       "      <td>-0.0</td>\n",
       "      <td>0.0</td>\n",
       "    </tr>\n",
       "    <tr>\n",
       "      <th>oven</th>\n",
       "      <td>-0.27</td>\n",
       "      <td>0.00</td>\n",
       "      <td>0.0</td>\n",
       "      <td>-0.0</td>\n",
       "      <td>0.0</td>\n",
       "      <td>0.0</td>\n",
       "    </tr>\n",
       "    <tr>\n",
       "      <th>boil</th>\n",
       "      <td>-0.53</td>\n",
       "      <td>0.00</td>\n",
       "      <td>0.0</td>\n",
       "      <td>0.0</td>\n",
       "      <td>0.0</td>\n",
       "      <td>0.0</td>\n",
       "    </tr>\n",
       "  </tbody>\n",
       "</table>\n",
       "</div>"
      ],
      "text/plain": [
       "            0     1    2    3    4    5\n",
       "wheel    0.00 -0.60  0.0  0.0  0.0 -0.0\n",
       " seat    0.00 -0.30 -0.0  0.0  0.0 -0.0\n",
       " engine  0.00 -0.81 -0.0  0.0  0.0  0.0\n",
       " slice  -0.93  0.00  0.0 -0.0 -0.0  0.0\n",
       " oven   -0.27  0.00  0.0 -0.0  0.0  0.0\n",
       " boil   -0.53  0.00  0.0  0.0  0.0  0.0"
      ]
     },
     "execution_count": 53,
     "metadata": {},
     "output_type": "execute_result"
    }
   ],
   "source": [
    "# new axes are ... a linrar combination of previous words ...\n",
    "UrSr = numpy.dot(U_reduced, S_reduced)\n",
    "pandas.DataFrame(numpy.round(UrSr, decimals=2), index=words)"
   ]
  },
  {
   "cell_type": "markdown",
   "metadata": {},
   "source": [
    "The above shows that the 2 new axes are linear combinations of existing words:\n",
    " * topic 1 is mostly **engine** and **wheel**\n",
    " * topic 2 is mostly **slice** and **boil**"
   ]
  },
  {
   "cell_type": "code",
   "execution_count": null,
   "metadata": {
    "collapsed": true
   },
   "outputs": [],
   "source": []
  }
 ],
 "metadata": {
  "anaconda-cloud": {},
  "kernelspec": {
   "display_name": "Python [conda root]",
   "language": "python",
   "name": "conda-root-py"
  },
  "language_info": {
   "codemirror_mode": {
    "name": "ipython",
    "version": 3
   },
   "file_extension": ".py",
   "mimetype": "text/x-python",
   "name": "python",
   "nbconvert_exporter": "python",
   "pygments_lexer": "ipython3",
   "version": "3.5.2"
  }
 },
 "nbformat": 4,
 "nbformat_minor": 2
}
