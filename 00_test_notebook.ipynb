{
 "cells": [
  {
   "cell_type": "code",
   "execution_count": 2,
   "metadata": {
    "collapsed": true
   },
   "outputs": [],
   "source": [
    "# simple notebook to test code as we develop it"
   ]
  },
  {
   "cell_type": "code",
   "execution_count": 3,
   "metadata": {},
   "outputs": [],
   "source": [
    "# following only used for development, reloads the modules with any code changes\n",
    "%load_ext autoreload\n",
    "%autoreload 2"
   ]
  },
  {
   "cell_type": "code",
   "execution_count": 4,
   "metadata": {},
   "outputs": [],
   "source": [
    "# import our text mining toolkit\n",
    "import text_mining_toolkit as tmt"
   ]
  },
  {
   "cell_type": "code",
   "execution_count": 5,
   "metadata": {},
   "outputs": [
    {
     "name": "stdout",
     "output_type": "stream",
     "text": [
      "directory of files =  data_sets/recipes/txt/\ntext_filename_pattern =  ??.txt\nself.documents populated =  22\n"
     ]
    }
   ],
   "source": [
    "cr = tmt.corpus_reader.CorpusReader(directory_of_files=\"data_sets/recipes/txt/\", text_filename_pattern=\"??.txt\")"
   ]
  },
  {
   "cell_type": "code",
   "execution_count": 6,
   "metadata": {},
   "outputs": [
    {
     "data": {
      "text/plain": [
       "['00.txt',\n '01.txt',\n '02.txt',\n '03.txt',\n '04.txt',\n '05.txt',\n '06.txt',\n '07.txt',\n '08.txt',\n '09.txt',\n '10.txt',\n '11.txt',\n '12.txt',\n '13.txt',\n '14.txt',\n '15.txt',\n '16.txt',\n '17.txt',\n '18.txt',\n '19.txt',\n '20.txt',\n '21.txt']"
      ]
     },
     "execution_count": 6,
     "metadata": {},
     "output_type": "execute_result"
    }
   ],
   "source": [
    "cr.get_documents()"
   ]
  },
  {
   "cell_type": "code",
   "execution_count": 7,
   "metadata": {},
   "outputs": [
    {
     "name": "stdout",
     "output_type": "stream",
     "text": [
      "ARTICHOKES IN MOLD\n\n(Sformato di carciofi)\n\nRemove the outside leaves of the artichokes, the harder part of all\nleaves, and clean the stalks without removing them.\n\nCut each artichoke into four parts and put them to boil in salt water\nfor only five minutes. If left longer on the fire they become too soaked\nin water and lose their taste. Remove from the water, drain them, grind\nor pound and rub them through a sieve. Season the pulp so obtained with\ntwo or three beaten eggs, two or three tablespoonfuls of =Balsamella=\n(No. 54) grated cheese, salt and a taste of nutmeg, but taste the\nseasoning several times to see that it is correctly dosed.\n\nPlace in a mold with brown stock or meat gravy (in that case use a mold\nwith a hole) and cook in double boiler.\n"
     ]
    }
   ],
   "source": [
    "a = cr.get_text_by_document('13.txt')\n",
    "print(a)"
   ]
  },
  {
   "cell_type": "code",
   "execution_count": 8,
   "metadata": {},
   "outputs": [],
   "source": [
    "# cr.get_all_text()"
   ]
  },
  {
   "cell_type": "code",
   "execution_count": 9,
   "metadata": {},
   "outputs": [
    {
     "data": {
      "text/plain": [
       "'ARTICHOKES IN MOLD (Sformato di carciofi) Remove the outside leaves of the artichokes, the harder part of all leaves, and clean the stalks without removing them. Cut each artichoke into four parts and put them to boil in salt water for only five minutes. If left longer on the fire they become too soaked in water and lose their taste. Remove from the water, drain them, grind or pound and rub them through a sieve. Season the pulp so obtained with two or three beaten eggs, two or three tablespoonfuls of =Balsamella= (No. 54) grated cheese, salt and a taste of nutmeg, but taste the seasoning several times to see that it is correctly dosed. Place in a mold with brown stock or meat gravy (in that case use a mold with a hole) and cook in double boiler.'"
      ]
     },
     "execution_count": 9,
     "metadata": {},
     "output_type": "execute_result"
    }
   ],
   "source": [
    "tmt.text_processing.simplify_whitespace(a)"
   ]
  },
  {
   "cell_type": "code",
   "execution_count": 10,
   "metadata": {},
   "outputs": [
    {
     "data": {
      "text/plain": [
       "'ARTICHOKES IN MOLD\\n\\nSformato di carciofi\\n\\nRemove the outside leaves of the artichokes the harder part of all\\nleaves and clean the stalks without removing them\\n\\nCut each artichoke into four parts and put them to boil in salt water\\nfor only five minutes If left longer on the fire they become too soaked\\nin water and lose their taste Remove from the water drain them grind\\nor pound and rub them through a sieve Season the pulp so obtained with\\ntwo or three beaten eggs two or three tablespoonfuls of Balsamella\\nNo 54 grated cheese salt and a taste of nutmeg but taste the\\nseasoning several times to see that it is correctly dosed\\n\\nPlace in a mold with brown stock or meat gravy in that case use a mold\\nwith a hole and cook in double boiler'"
      ]
     },
     "execution_count": 10,
     "metadata": {},
     "output_type": "execute_result"
    }
   ],
   "source": [
    "tmt.text_processing.remove_punctuation(a)"
   ]
  },
  {
   "cell_type": "code",
   "execution_count": 11,
   "metadata": {},
   "outputs": [
    {
     "data": {
      "text/plain": [
       "'ARTICHOKES IN MOLDSformato di carciofiRemove the outside leaves of the artichokes the harder part of allleaves and clean the stalks without removing themCut each artichoke into four parts and put them to boil in salt waterfor only five minutes If left longer on the fire they become too soakedin water and lose their taste Remove from the water drain them grindor pound and rub them through a sieve Season the pulp so obtained withtwo or three beaten eggs two or three tablespoonfuls of BalsamellaNo 54 grated cheese salt and a taste of nutmeg but taste theseasoning several times to see that it is correctly dosedPlace in a mold with brown stock or meat gravy in that case use a moldwith a hole and cook in double boiler'"
      ]
     },
     "execution_count": 11,
     "metadata": {},
     "output_type": "execute_result"
    }
   ],
   "source": [
    "tmt.text_processing.keep_alphanumeric(a)"
   ]
  },
  {
   "cell_type": "code",
   "execution_count": 10,
   "metadata": {},
   "outputs": [],
   "source": [
    "tmt.text_processing.to_lowercase(a)"
   ]
  },
  {
   "cell_type": "code",
   "execution_count": null,
   "metadata": {},
   "outputs": [],
   "source": [
    ""
   ]
  }
 ],
 "metadata": {
  "kernelspec": {
   "display_name": "Python 2",
   "language": "python",
   "name": "python2"
  },
  "language_info": {
   "codemirror_mode": {
    "name": "ipython",
    "version": 2.0
   },
   "file_extension": ".py",
   "mimetype": "text/x-python",
   "name": "python",
   "nbconvert_exporter": "python",
   "pygments_lexer": "ipython2",
   "version": "2.7.6"
  }
 },
 "nbformat": 4,
 "nbformat_minor": 0
}