{
 "cells": [
  {
   "cell_type": "code",
   "execution_count": 1,
   "metadata": {
    "collapsed": true
   },
   "outputs": [],
   "source": [
    "# notebook to illustrate document similarity clusters"
   ]
  },
  {
   "cell_type": "code",
   "execution_count": 1,
   "metadata": {
    "collapsed": false
   },
   "outputs": [],
   "source": [
    "# following only used for development, reloads the modules with any code changes\n",
    "%load_ext autoreload\n",
    "%autoreload 2\n",
    "\n",
    "# inline matplotlib charts\n",
    "%matplotlib inline"
   ]
  },
  {
   "cell_type": "code",
   "execution_count": 2,
   "metadata": {
    "collapsed": false
   },
   "outputs": [],
   "source": [
    "# import our text mining toolkit\n",
    "import text_mining_toolkit as tmt"
   ]
  },
  {
   "cell_type": "code",
   "execution_count": 3,
   "metadata": {
    "collapsed": false
   },
   "outputs": [
    {
     "name": "stdout",
     "output_type": "stream",
     "text": [
      "content_directory =  data_sets/mixed/txt/\n",
      "text_filename_pattern =  *.txt\n",
      "self.documents populated =  52\n"
     ]
    }
   ],
   "source": [
    "#cr = tmt.corpus_reader.CorpusReader(content_directory=\"data_sets/recipes/txt/\", text_filename_pattern=\"??.txt\")\n",
    "#cr = tmt.corpus_reader.CorpusReader(directory_of_files=\"data_sets/mystery_corpus_01/txt/\", text_filename_pattern=\"??.txt\")\n",
    "#cr = tmt.corpus_reader.CorpusReader(content_directory=\"data_sets/iraq_inquiry/txt/\", text_filename_pattern=\"the-report*.txt\")\n",
    "#cr = tmt.corpus_reader.CorpusReader(content_directory=\"data_sets/clinton_emails/txt/\", text_filename_pattern=\"C0*.txt\")\n",
    "#cr = tmt.corpus_reader.CorpusReader(content_directory=\"data_sets/shakespeare_macbeth/txt/\", text_filename_pattern=\"macbeth_act_0?_scene_0?.txt\")\n",
    "cr = tmt.corpus_reader.CorpusReader(content_directory=\"data_sets/mixed/txt/\", text_filename_pattern=\"*.txt\")"
   ]
  },
  {
   "cell_type": "code",
   "execution_count": 5,
   "metadata": {
    "collapsed": false,
    "scrolled": false
   },
   "outputs": [
    {
     "name": "stdout",
     "output_type": "stream",
     "text": [
      "removed wordcount index file:  data_sets/mixed/txt/index_wordcount.hdf5\n"
     ]
    }
   ],
   "source": [
    "# first clear index\n",
    "tmt.index_wordcount.delete_index(cr.content_directory)\n",
    "\n",
    "# for all documents in corpus\n",
    "for document_name in cr.get_documents():\n",
    "    #print(\"processing \", document_name)\n",
    "\n",
    "    # get document text\n",
    "    document_text = cr.get_text_by_document(document_name)\n",
    "\n",
    "    # simplify whitespace (remove newlines)\n",
    "    b = tmt.text_processing.simplify_whitespace(document_text)\n",
    "\n",
    "    # only keep alphanumeric characters, removes punctuation\n",
    "    c = tmt.text_processing.keep_only_alphanumeric(b)\n",
    "\n",
    "    # make lowercase\n",
    "    d = tmt.text_processing.to_lowercase(c)\n",
    "\n",
    "    # split into words list\n",
    "    dl = tmt.text_processing.split_text_into_words(d)\n",
    "    \n",
    "    # build n-grams\n",
    "    #gl = tmt.word_processing.build_ngrams_from_words(dl,2)\n",
    "\n",
    "    # remove stop words\n",
    "    #el = tmt.word_processing.remove_stop_words(dl, \"./stopwords/minimal-stop.txt\")\n",
    "    \n",
    "    # update index\n",
    "    tmt.index_wordcount.create_wordcount_index_for_document(cr.content_directory, document_name, dl)\n",
    "    pass\n",
    "\n"
   ]
  },
  {
   "cell_type": "code",
   "execution_count": 6,
   "metadata": {
    "collapsed": false
   },
   "outputs": [
    {
     "name": "stdout",
     "output_type": "stream",
     "text": [
      "saving corpus word count index ...  data_sets/mixed/txt/index_wordcount.hdf5\n"
     ]
    }
   ],
   "source": [
    "# merge document indices into a corpus index\n",
    "tmt.index_wordcount.merge_wordcount_indices_for_corpus(cr.content_directory)"
   ]
  },
  {
   "cell_type": "code",
   "execution_count": 7,
   "metadata": {
    "collapsed": false
   },
   "outputs": [
    {
     "name": "stdout",
     "output_type": "stream",
     "text": [
      "removed relevance index file:  data_sets/mixed/txt/index_relevance.hdf5\n",
      "saving corpus relevance index ...  data_sets/mixed/txt/index_relevance.hdf5\n"
     ]
    }
   ],
   "source": [
    "# delete and build relevance index\n",
    "\n",
    "tmt.index_relevance.delete_index(cr.content_directory)\n",
    "tmt.index_relevance.calculate_relevance_index(cr.content_directory)"
   ]
  },
  {
   "cell_type": "code",
   "execution_count": 6,
   "metadata": {
    "collapsed": false,
    "scrolled": true
   },
   "outputs": [
    {
     "name": "stdout",
     "output_type": "stream",
     "text": [
      "removed doc similarity matrix file:  data_sets/mixed/txt/matrix_docsimilarity.hdf5\n",
      "created  data_sets/mixed/txt/matrix_docsimilarity.hdf5\n",
      "CPU times: user 2.29 s, sys: 65.2 ms, total: 2.36 s\n",
      "Wall time: 1.26 s\n"
     ]
    }
   ],
   "source": [
    "# calculate document similarities\n",
    "\n",
    "# delete if already exists\n",
    "tmt.index_doc_similarity.delete_matrix(cr.content_directory)\n",
    "\n",
    "# calclate doc1-doc2 similarity\n",
    "%time tmt.index_doc_similarity.create_doc_similarity_matrix(cr.content_directory)"
   ]
  },
  {
   "cell_type": "code",
   "execution_count": 7,
   "metadata": {
    "collapsed": false
   },
   "outputs": [
    {
     "name": "stdout",
     "output_type": "stream",
     "text": [
      "doc_similarity_matrix_file  data_sets/mixed/txt/matrix_docsimilarity.hdf5\n",
      "          02.txt    03.txt  \\\n",
      "01.txt  0.170044  0.275520   \n",
      "02.txt  0.000000  0.097112   \n",
      "03.txt  0.000000  0.000000   \n",
      "04.txt  0.000000  0.000000   \n",
      "05.txt  0.000000  0.000000   \n",
      "06.txt  0.000000  0.000000   \n",
      "07.txt  0.000000  0.000000   \n",
      "08.txt  0.000000  0.000000   \n",
      "09.txt  0.000000  0.000000   \n",
      "10.txt  0.000000  0.000000   \n",
      "\n",
      "                               ...                          \\\n",
      "01.txt                         ...                           \n",
      "02.txt                         ...                           \n",
      "03.txt                         ...                           \n",
      "04.txt                         ...                           \n",
      "05.txt                         ...                           \n",
      "06.txt                         ...                           \n",
      "07.txt                         ...                           \n",
      "08.txt                         ...                           \n",
      "09.txt                         ...                           \n",
      "10.txt                         ...                           \n",
      "\n",
      "        the-report-of-the-iraq-inquiry_section_annex-4.txt  \\\n",
      "01.txt                                           0.008713    \n",
      "02.txt                                           0.008463    \n",
      "03.txt                                           0.007706    \n",
      "04.txt                                           0.014072    \n",
      "05.txt                                           0.003302    \n",
      "06.txt                                           0.005447    \n",
      "07.txt                                           0.012105    \n",
      "08.txt                                           0.006736    \n",
      "09.txt                                           0.001506    \n",
      "10.txt                                           0.006395    \n",
      "\n",
      "        the-report-of-the-iraq-inquiry_section_annex-5.txt  \n",
      "01.txt                                           0.022159   \n",
      "02.txt                                           0.017720   \n",
      "03.txt                                           0.052003   \n",
      "04.txt                                           0.043768   \n",
      "05.txt                                           0.022072   \n",
      "06.txt                                           0.016592   \n",
      "07.txt                                           0.037469   \n",
      "08.txt                                           0.029231   \n",
      "09.txt                                           0.025834   \n",
      "10.txt                                           0.013575   \n",
      "\n",
      "[10 rows x 51 columns]\n"
     ]
    }
   ],
   "source": [
    "tmt.index_doc_similarity.print_matrix(cr.content_directory)"
   ]
  },
  {
   "cell_type": "code",
   "execution_count": 8,
   "metadata": {
    "collapsed": false,
    "scrolled": true
   },
   "outputs": [
    {
     "data": {
      "text/html": [
       "<div>\n",
       "<table border=\"1\" class=\"dataframe\">\n",
       "  <thead>\n",
       "    <tr style=\"text-align: right;\">\n",
       "      <th></th>\n",
       "      <th>doc1</th>\n",
       "      <th>doc2</th>\n",
       "      <th>similarity</th>\n",
       "    </tr>\n",
       "  </thead>\n",
       "  <tbody>\n",
       "    <tr>\n",
       "      <th>0</th>\n",
       "      <td>C05739561.txt</td>\n",
       "      <td>C05739546.txt</td>\n",
       "      <td>1.000000</td>\n",
       "    </tr>\n",
       "    <tr>\n",
       "      <th>1</th>\n",
       "      <td>C05739561.txt</td>\n",
       "      <td>C05739554.txt</td>\n",
       "      <td>0.997375</td>\n",
       "    </tr>\n",
       "    <tr>\n",
       "      <th>2</th>\n",
       "      <td>C05739565.txt</td>\n",
       "      <td>C05739563.txt</td>\n",
       "      <td>0.992705</td>\n",
       "    </tr>\n",
       "    <tr>\n",
       "      <th>3</th>\n",
       "      <td>C05739554.txt</td>\n",
       "      <td>C05739546.txt</td>\n",
       "      <td>0.991492</td>\n",
       "    </tr>\n",
       "    <tr>\n",
       "      <th>4</th>\n",
       "      <td>the-report-of-the-iraq-inquiry_section-33.txt</td>\n",
       "      <td>the-report-of-the-iraq-inquiry_section-32.txt</td>\n",
       "      <td>0.950962</td>\n",
       "    </tr>\n",
       "    <tr>\n",
       "      <th>5</th>\n",
       "      <td>the-report-of-the-iraq-inquiry_section-34.txt</td>\n",
       "      <td>the-report-of-the-iraq-inquiry_section-33.txt</td>\n",
       "      <td>0.926943</td>\n",
       "    </tr>\n",
       "    <tr>\n",
       "      <th>6</th>\n",
       "      <td>the-report-of-the-iraq-inquiry_section-34.txt</td>\n",
       "      <td>the-report-of-the-iraq-inquiry_section-32.txt</td>\n",
       "      <td>0.925336</td>\n",
       "    </tr>\n",
       "    <tr>\n",
       "      <th>7</th>\n",
       "      <td>the-report-of-the-iraq-inquiry_section-32.txt</td>\n",
       "      <td>the-report-of-the-iraq-inquiry_section-31.txt</td>\n",
       "      <td>0.916514</td>\n",
       "    </tr>\n",
       "    <tr>\n",
       "      <th>8</th>\n",
       "      <td>the-report-of-the-iraq-inquiry_section-34.txt</td>\n",
       "      <td>the-report-of-the-iraq-inquiry_section-31.txt</td>\n",
       "      <td>0.887027</td>\n",
       "    </tr>\n",
       "    <tr>\n",
       "      <th>9</th>\n",
       "      <td>the-report-of-the-iraq-inquiry_section-33.txt</td>\n",
       "      <td>the-report-of-the-iraq-inquiry_section-31.txt</td>\n",
       "      <td>0.858477</td>\n",
       "    </tr>\n",
       "    <tr>\n",
       "      <th>10</th>\n",
       "      <td>the-report-of-the-iraq-inquiry_section-31.txt</td>\n",
       "      <td>the-report-of-the-iraq-inquiry_section-12.txt</td>\n",
       "      <td>0.845943</td>\n",
       "    </tr>\n",
       "    <tr>\n",
       "      <th>11</th>\n",
       "      <td>the-report-of-the-iraq-inquiry_section-32.txt</td>\n",
       "      <td>the-report-of-the-iraq-inquiry_section-12.txt</td>\n",
       "      <td>0.788654</td>\n",
       "    </tr>\n",
       "    <tr>\n",
       "      <th>12</th>\n",
       "      <td>the-report-of-the-iraq-inquiry_section-34.txt</td>\n",
       "      <td>the-report-of-the-iraq-inquiry_section-12.txt</td>\n",
       "      <td>0.758289</td>\n",
       "    </tr>\n",
       "    <tr>\n",
       "      <th>13</th>\n",
       "      <td>the-report-of-the-iraq-inquiry_section-33.txt</td>\n",
       "      <td>the-report-of-the-iraq-inquiry_section-12.txt</td>\n",
       "      <td>0.742125</td>\n",
       "    </tr>\n",
       "    <tr>\n",
       "      <th>14</th>\n",
       "      <td>C05739567.txt</td>\n",
       "      <td>C05739545.txt</td>\n",
       "      <td>0.706729</td>\n",
       "    </tr>\n",
       "    <tr>\n",
       "      <th>15</th>\n",
       "      <td>the-report-of-the-iraq-inquiry_section-34.txt</td>\n",
       "      <td>the-report-of-the-iraq-inquiry_section-11.txt</td>\n",
       "      <td>0.700997</td>\n",
       "    </tr>\n",
       "    <tr>\n",
       "      <th>16</th>\n",
       "      <td>the-report-of-the-iraq-inquiry_section-31.txt</td>\n",
       "      <td>the-report-of-the-iraq-inquiry_section-11.txt</td>\n",
       "      <td>0.686425</td>\n",
       "    </tr>\n",
       "    <tr>\n",
       "      <th>17</th>\n",
       "      <td>the-report-of-the-iraq-inquiry_section-12.txt</td>\n",
       "      <td>the-report-of-the-iraq-inquiry_section-11.txt</td>\n",
       "      <td>0.665006</td>\n",
       "    </tr>\n",
       "    <tr>\n",
       "      <th>18</th>\n",
       "      <td>the-report-of-the-iraq-inquiry_section-32.txt</td>\n",
       "      <td>the-report-of-the-iraq-inquiry_section-11.txt</td>\n",
       "      <td>0.651868</td>\n",
       "    </tr>\n",
       "    <tr>\n",
       "      <th>19</th>\n",
       "      <td>the-report-of-the-iraq-inquiry_section-33.txt</td>\n",
       "      <td>the-report-of-the-iraq-inquiry_section-20.txt</td>\n",
       "      <td>0.647377</td>\n",
       "    </tr>\n",
       "  </tbody>\n",
       "</table>\n",
       "</div>"
      ],
      "text/plain": [
       "                                             doc1  \\\n",
       "0                                   C05739561.txt   \n",
       "1                                   C05739561.txt   \n",
       "2                                   C05739565.txt   \n",
       "3                                   C05739554.txt   \n",
       "4   the-report-of-the-iraq-inquiry_section-33.txt   \n",
       "5   the-report-of-the-iraq-inquiry_section-34.txt   \n",
       "6   the-report-of-the-iraq-inquiry_section-34.txt   \n",
       "7   the-report-of-the-iraq-inquiry_section-32.txt   \n",
       "8   the-report-of-the-iraq-inquiry_section-34.txt   \n",
       "9   the-report-of-the-iraq-inquiry_section-33.txt   \n",
       "10  the-report-of-the-iraq-inquiry_section-31.txt   \n",
       "11  the-report-of-the-iraq-inquiry_section-32.txt   \n",
       "12  the-report-of-the-iraq-inquiry_section-34.txt   \n",
       "13  the-report-of-the-iraq-inquiry_section-33.txt   \n",
       "14                                  C05739567.txt   \n",
       "15  the-report-of-the-iraq-inquiry_section-34.txt   \n",
       "16  the-report-of-the-iraq-inquiry_section-31.txt   \n",
       "17  the-report-of-the-iraq-inquiry_section-12.txt   \n",
       "18  the-report-of-the-iraq-inquiry_section-32.txt   \n",
       "19  the-report-of-the-iraq-inquiry_section-33.txt   \n",
       "\n",
       "                                             doc2  similarity  \n",
       "0                                   C05739546.txt    1.000000  \n",
       "1                                   C05739554.txt    0.997375  \n",
       "2                                   C05739563.txt    0.992705  \n",
       "3                                   C05739546.txt    0.991492  \n",
       "4   the-report-of-the-iraq-inquiry_section-32.txt    0.950962  \n",
       "5   the-report-of-the-iraq-inquiry_section-33.txt    0.926943  \n",
       "6   the-report-of-the-iraq-inquiry_section-32.txt    0.925336  \n",
       "7   the-report-of-the-iraq-inquiry_section-31.txt    0.916514  \n",
       "8   the-report-of-the-iraq-inquiry_section-31.txt    0.887027  \n",
       "9   the-report-of-the-iraq-inquiry_section-31.txt    0.858477  \n",
       "10  the-report-of-the-iraq-inquiry_section-12.txt    0.845943  \n",
       "11  the-report-of-the-iraq-inquiry_section-12.txt    0.788654  \n",
       "12  the-report-of-the-iraq-inquiry_section-12.txt    0.758289  \n",
       "13  the-report-of-the-iraq-inquiry_section-12.txt    0.742125  \n",
       "14                                  C05739545.txt    0.706729  \n",
       "15  the-report-of-the-iraq-inquiry_section-11.txt    0.700997  \n",
       "16  the-report-of-the-iraq-inquiry_section-11.txt    0.686425  \n",
       "17  the-report-of-the-iraq-inquiry_section-11.txt    0.665006  \n",
       "18  the-report-of-the-iraq-inquiry_section-11.txt    0.651868  \n",
       "19  the-report-of-the-iraq-inquiry_section-20.txt    0.647377  "
      ]
     },
     "execution_count": 8,
     "metadata": {},
     "output_type": "execute_result"
    }
   ],
   "source": [
    "# get document similarities order by value\n",
    "doc1_doc2_similarity = tmt.index_doc_similarity.get_doc_pairs_by_similarity(cr.content_directory)\n",
    "doc1_doc2_similarity[:20]"
   ]
  },
  {
   "cell_type": "code",
   "execution_count": 9,
   "metadata": {
    "collapsed": false,
    "scrolled": false
   },
   "outputs": [
    {
     "data": {
      "text/html": [
       "<div id=\"d3-container-7803149\"></div>\n",
       "<div>force-directed graph</div>\n",
       "\n",
       "<style>\n",
       "    .links line {\n",
       "        stroke: #999;\n",
       "        stroke-opacity: .1;\n",
       "    }\n",
       "\n",
       "    .nodes circle {\n",
       "        pointer-events: all;\n",
       "        stroke: #fff;\n",
       "        fill: #333;\n",
       "        stroke-width: 1.5px;\n",
       "        opacity: 0.7;\n",
       "    }\n",
       "\n",
       "    .nodes text {\n",
       "        pointer-events: none;\n",
       "        font: 10px sans-serif;\n",
       "        fill: #333;\n",
       "        opacity: .5;\n",
       "    }\n",
       "</style>\n"
      ]
     },
     "metadata": {},
     "output_type": "display_data"
    },
    {
     "data": {
      "application/javascript": [
       "// require is needed to make d3 work in jupyter notebooks from imported code\n",
       "require.config({\n",
       "    paths: {\n",
       "        d3: \"https://d3js.org/d3.v4.min\"\n",
       "    }\n",
       "});\n",
       "\n",
       "require([\"d3\"], function(d3) {\n",
       "    //console.log(d3.version);\n",
       "\n",
       "    var width = 800,\n",
       "        height = 600;\n",
       "\n",
       "    var svg = d3.select(\"#d3-container-7803149\")\n",
       "        .append(\"svg\")\n",
       "        .attr(\"width\", width)\n",
       "        .attr(\"height\", height);\n",
       "\n",
       "    var colour = d3.scaleOrdinal(d3.schemeCategory20c);\n",
       "\n",
       "    var graph = {\n",
       "        nodes: [{'id': 'macbeth_act_01_scene_03.txt'}, {'id': 'macbeth_act_03_scene_02.txt'}, {'id': 'C05739554.txt'}, {'id': 'C05739559.txt'}, {'id': 'C05739546.txt'}, {'id': 'the-report-of-the-iraq-inquiry_section_annex-2.txt'}, {'id': 'the-report-of-the-iraq-inquiry_section-31.txt'}, {'id': 'C05739560.txt'}, {'id': 'C05739545.txt'}, {'id': 'the-report-of-the-iraq-inquiry_section-20.txt'}, {'id': 'macbeth_act_02_scene_01.txt'}, {'id': '10.txt'}, {'id': 'C05739565.txt'}, {'id': 'C05739561.txt'}, {'id': 'C05739567.txt'}, {'id': 'macbeth_act_01_scene_04.txt'}, {'id': 'the-report-of-the-iraq-inquiry_section-12.txt'}, {'id': 'the-report-of-the-iraq-inquiry_section-32.txt'}, {'id': 'the-report-of-the-iraq-inquiry_section_annex-3.txt'}, {'id': 'C05739550.txt'}, {'id': 'the-report-of-the-iraq-inquiry_section-34.txt'}, {'id': 'C05739563.txt'}, {'id': 'the-report-of-the-iraq-inquiry_section-33.txt'}, {'id': 'macbeth_act_02_scene_03.txt'}, {'id': 'macbeth_act_01_scene_07.txt'}, {'id': 'macbeth_act_01_scene_05.txt'}, {'id': 'the-report-of-the-iraq-inquiry_section-11.txt'}, {'id': 'macbeth_act_03_scene_01.txt'}, {'id': 'macbeth_act_02_scene_02.txt'}, {'id': 'C05739562.txt'}, {'id': '11.txt'}, {'id': 'C05739547.txt'}, {'id': 'the-report-of-the-iraq-inquiry_section_annex-1.txt'}, {'id': 'the-report-of-the-iraq-inquiry_section-15-1.txt'}],\n",
       "        links: [{'similarity': 0.40015842457029743, 'target': 10, 'source': 0}, {'similarity': 0.4640357075909097, 'target': 27, 'source': 0}, {'similarity': 0.43775452847132323, 'target': 25, 'source': 0}, {'similarity': 0.39188826156112877, 'target': 27, 'source': 1}, {'similarity': 0.45561374206183874, 'target': 8, 'source': 2}, {'similarity': 0.4167864948174064, 'target': 19, 'source': 2}, {'similarity': 0.4471077359367863, 'target': 29, 'source': 2}, {'similarity': 0.5831488805191405, 'target': 21, 'source': 2}, {'similarity': 0.3947381852063064, 'target': 31, 'source': 2}, {'similarity': 0.5837862817289392, 'target': 12, 'source': 2}, {'similarity': 0.9973745898690288, 'target': 13, 'source': 2}, {'similarity': 0.4617944619130368, 'target': 14, 'source': 2}, {'similarity': 0.9914917741015495, 'target': 4, 'source': 2}, {'similarity': 0.42749008314040177, 'target': 3, 'source': 2}, {'similarity': 0.42438063172734924, 'target': 29, 'source': 3}, {'similarity': 0.4446217837645219, 'target': 7, 'source': 3}, {'similarity': 0.5444201403843003, 'target': 19, 'source': 3}, {'similarity': 0.508248923182714, 'target': 21, 'source': 3}, {'similarity': 0.4256587897731975, 'target': 13, 'source': 3}, {'similarity': 0.5081782239878746, 'target': 12, 'source': 3}, {'similarity': 0.5235372726767532, 'target': 31, 'source': 3}, {'similarity': 0.5851937827327548, 'target': 14, 'source': 3}, {'similarity': 0.6067706454672045, 'target': 8, 'source': 3}, {'similarity': 0.40810847290387153, 'target': 29, 'source': 4}, {'similarity': 0.5327423657297221, 'target': 21, 'source': 4}, {'similarity': 0.533469777857096, 'target': 12, 'source': 4}, {'similarity': 1.0, 'target': 13, 'source': 4}, {'similarity': 0.39173661944279364, 'target': 14, 'source': 4}, {'similarity': 0.3939293591447093, 'target': 26, 'source': 5}, {'similarity': 0.4239874410872739, 'target': 33, 'source': 5}, {'similarity': 0.456804021093741, 'target': 18, 'source': 5}, {'similarity': 0.41361606076130714, 'target': 9, 'source': 5}, {'similarity': 0.6864245398628083, 'target': 26, 'source': 6}, {'similarity': 0.5441079462567064, 'target': 33, 'source': 6}, {'similarity': 0.8870273744660889, 'target': 20, 'source': 6}, {'similarity': 0.8584769050615599, 'target': 22, 'source': 6}, {'similarity': 0.6020534599186115, 'target': 9, 'source': 6}, {'similarity': 0.8459432402131324, 'target': 16, 'source': 6}, {'similarity': 0.9165136943810289, 'target': 17, 'source': 6}, {'similarity': 0.4124486831356069, 'target': 21, 'source': 7}, {'similarity': 0.41237200006700603, 'target': 12, 'source': 7}, {'similarity': 0.4023352945791855, 'target': 29, 'source': 7}, {'similarity': 0.58636895565169, 'target': 19, 'source': 8}, {'similarity': 0.4670138156010103, 'target': 29, 'source': 8}, {'similarity': 0.5450133179045072, 'target': 21, 'source': 8}, {'similarity': 0.5449161285195168, 'target': 12, 'source': 8}, {'similarity': 0.5613711352872301, 'target': 31, 'source': 8}, {'similarity': 0.7067288560957714, 'target': 14, 'source': 8}, {'similarity': 0.4533895496684556, 'target': 13, 'source': 8}, {'similarity': 0.4517891699628196, 'target': 26, 'source': 9}, {'similarity': 0.6373645148442968, 'target': 17, 'source': 9}, {'similarity': 0.43157467103349684, 'target': 18, 'source': 9}, {'similarity': 0.5507672833363793, 'target': 20, 'source': 9}, {'similarity': 0.6473765720105527, 'target': 22, 'source': 9}, {'similarity': 0.5804547925870238, 'target': 16, 'source': 9}, {'similarity': 0.5889753246391946, 'target': 33, 'source': 9}, {'similarity': 0.4051933551200811, 'target': 27, 'source': 10}, {'similarity': 0.4442729002781015, 'target': 30, 'source': 11}, {'similarity': 0.4906892285555808, 'target': 19, 'source': 12}, {'similarity': 0.9927047864419036, 'target': 21, 'source': 12}, {'similarity': 0.4683915843166192, 'target': 31, 'source': 12}, {'similarity': 0.5264409394027988, 'target': 29, 'source': 12}, {'similarity': 0.5838580206783128, 'target': 13, 'source': 12}, {'similarity': 0.5406380616083456, 'target': 14, 'source': 12}, {'similarity': 0.44749479424923394, 'target': 29, 'source': 13}, {'similarity': 0.41475197735692093, 'target': 19, 'source': 13}, {'similarity': 0.583224141312259, 'target': 21, 'source': 13}, {'similarity': 0.39281446452373514, 'target': 31, 'source': 13}, {'similarity': 0.4595466510562811, 'target': 14, 'source': 13}, {'similarity': 0.45973155233170077, 'target': 29, 'source': 14}, {'similarity': 0.5605683056570779, 'target': 19, 'source': 14}, {'similarity': 0.540713276707795, 'target': 21, 'source': 14}, {'similarity': 0.5359201546663681, 'target': 31, 'source': 14}, {'similarity': 0.41970007479297655, 'target': 27, 'source': 15}, {'similarity': 0.3977951904171838, 'target': 32, 'source': 16}, {'similarity': 0.6650059928988391, 'target': 26, 'source': 16}, {'similarity': 0.758289495067247, 'target': 20, 'source': 16}, {'similarity': 0.7421248528138874, 'target': 22, 'source': 16}, {'similarity': 0.7886544087759481, 'target': 17, 'source': 16}, {'similarity': 0.5657052861028385, 'target': 33, 'source': 16}, {'similarity': 0.6518684937883119, 'target': 26, 'source': 17}, {'similarity': 0.5353624900332475, 'target': 33, 'source': 17}, {'similarity': 0.9253359660044191, 'target': 20, 'source': 17}, {'similarity': 0.9509623326014038, 'target': 22, 'source': 17}, {'similarity': 0.42062895935954153, 'target': 29, 'source': 19}, {'similarity': 0.49073699040373614, 'target': 21, 'source': 19}, {'similarity': 0.5444935636772746, 'target': 31, 'source': 19}, {'similarity': 0.700997116878535, 'target': 26, 'source': 20}, {'similarity': 0.9269425259616447, 'target': 22, 'source': 20}, {'similarity': 0.5066078582486708, 'target': 33, 'source': 20}, {'similarity': 0.5268810208427599, 'target': 29, 'source': 21}, {'similarity': 0.46845674828138123, 'target': 31, 'source': 21}, {'similarity': 0.6005964215616169, 'target': 26, 'source': 22}, {'similarity': 0.5370100002183301, 'target': 33, 'source': 22}, {'similarity': 0.4121863105224195, 'target': 27, 'source': 23}, {'similarity': 0.3927749030655585, 'target': 28, 'source': 23}, {'similarity': 0.40371469185170106, 'target': 27, 'source': 24}, {'similarity': 0.504630452103765, 'target': 33, 'source': 26}, {'similarity': 0.4633061611071095, 'target': 31, 'source': 29}, {'similarity': 0.4447739295975492, 'target': 33, 'source': 32}]\n",
       "    };\n",
       "\n",
       "    var simulation = d3.forceSimulation(graph.nodes)\n",
       "        .force(\"link\", d3.forceLink(graph.links).distance(function(d){return 10 / d.similarity;}))\n",
       "        .force(\"charge\", d3.forceManyBody().strength(-20))\n",
       "        .force(\"radius\", d3.forceCollide(15))\n",
       "        .force(\"center\", d3.forceCenter(width / 2.0, height / 2.0));\n",
       "\n",
       "    var link = svg.append(\"g\")\n",
       "        .attr(\"class\", \"links\")\n",
       "        .selectAll(\"line\")\n",
       "        .data(graph.links)\n",
       "        .enter().append(\"line\")\n",
       "        .style(\"stroke-linecap\", \"round\")\n",
       "        .style(\"stroke\", function(d) {return colour(d.similarity);})\n",
       "        .style(\"stroke-width\", function (d) {return Math.sqrt(d.similarity*10);});\n",
       "\n",
       "    var node = svg.append(\"g\")\n",
       "        .attr(\"class\", \"nodes\")\n",
       "        .selectAll(\"g\")\n",
       "        .data(graph.nodes)\n",
       "        .enter().append(\"g\");\n",
       "\n",
       "    var circle = node.append(\"circle\")\n",
       "        .attr(\"r\", 4.5)\n",
       "        .call(d3.drag()\n",
       "            .on(\"start\", dragstarted)\n",
       "            .on(\"drag\", dragged)\n",
       "            .on(\"end\", dragended));\n",
       "\n",
       "    //node.append(\"title\")\n",
       "    //    .text(function(d) { return d.id; });\n",
       "\n",
       "    var t2 = node.append(\"text\")\n",
       "      .attr(\"dx\", 10)\n",
       "      .attr(\"dy\", \".35em\")\n",
       "      .text(function(d) { return d.id; });\n",
       "\n",
       "    simulation\n",
       "        .on(\"tick\", ticked);\n",
       "\n",
       "    function ticked() {\n",
       "        link\n",
       "            .attr(\"x1\", function(d) { return d.source.x; })\n",
       "            .attr(\"y1\", function(d) { return d.source.y; })\n",
       "            .attr(\"x2\", function(d) { return d.target.x; })\n",
       "            .attr(\"y2\", function(d) { return d.target.y; });\n",
       "\n",
       "        circle\n",
       "            .attr(\"cx\", function(d) { return d.x; })\n",
       "            .attr(\"cy\", function(d) { return d.y; });\n",
       "\n",
       "        t2\n",
       "            .attr(\"x\", function(d) { return d.x; })\n",
       "            .attr(\"y\", function(d) { return d.y; });\n",
       "    };\n",
       "\n",
       "    function dragstarted(d) {\n",
       "        if (!d3.event.active) simulation.alphaTarget(0.3).restart();\n",
       "        d.fx = d.x;\n",
       "        d.fy = d.y;\n",
       "    };\n",
       "\n",
       "    function dragged(d) {\n",
       "        d.fx = d3.event.x;\n",
       "        d.fy = d3.event.y;\n",
       "    };\n",
       "\n",
       "    function dragended(d) {\n",
       "        if (!d3.event.active) simulation.alphaTarget(0);\n",
       "        d.fx = null;\n",
       "        d.fy = null;\n",
       "    };\n",
       "\n",
       "});\n",
       "\n"
      ]
     },
     "metadata": {},
     "output_type": "display_data"
    }
   ],
   "source": [
    "# visualise the doc similarities\n",
    "tmt.visualisation.plot_force_directed_graph(doc1_doc2_similarity[:100])"
   ]
  },
  {
   "cell_type": "code",
   "execution_count": null,
   "metadata": {
    "collapsed": true
   },
   "outputs": [],
   "source": []
  }
 ],
 "metadata": {
  "anaconda-cloud": {},
  "kernelspec": {
   "display_name": "Python [conda root]",
   "language": "python",
   "name": "conda-root-py"
  },
  "language_info": {
   "codemirror_mode": {
    "name": "ipython",
    "version": 3
   },
   "file_extension": ".py",
   "mimetype": "text/x-python",
   "name": "python",
   "nbconvert_exporter": "python",
   "pygments_lexer": "ipython3",
   "version": "3.5.2"
  }
 },
 "nbformat": 4,
 "nbformat_minor": 0
}
