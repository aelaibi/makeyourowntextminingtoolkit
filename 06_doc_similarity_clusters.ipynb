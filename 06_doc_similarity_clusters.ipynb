{
 "cells": [
  {
   "cell_type": "code",
   "execution_count": 1,
   "metadata": {
    "collapsed": true
   },
   "outputs": [],
   "source": [
    "# notebook to illustrate document similarity clusters"
   ]
  },
  {
   "cell_type": "code",
   "execution_count": 2,
   "metadata": {
    "collapsed": false
   },
   "outputs": [],
   "source": [
    "# following only used for development, reloads the modules with any code changes\n",
    "%load_ext autoreload\n",
    "%autoreload 2\n",
    "\n",
    "# inline matplotlib charts\n",
    "%matplotlib inline"
   ]
  },
  {
   "cell_type": "code",
   "execution_count": 3,
   "metadata": {
    "collapsed": false
   },
   "outputs": [],
   "source": [
    "# import our text mining toolkit\n",
    "import text_mining_toolkit as tmt"
   ]
  },
  {
   "cell_type": "code",
   "execution_count": 4,
   "metadata": {
    "collapsed": false
   },
   "outputs": [
    {
     "name": "stdout",
     "output_type": "stream",
     "text": [
      "content_directory =  data_sets/mixed/txt/\n",
      "text_filename_pattern =  *.txt\n",
      "self.documents populated =  52\n"
     ]
    }
   ],
   "source": [
    "#cr = tmt.corpus_reader.CorpusReader(content_directory=\"data_sets/recipes/txt/\", text_filename_pattern=\"??.txt\")\n",
    "#cr = tmt.corpus_reader.CorpusReader(directory_of_files=\"data_sets/mystery_corpus_01/txt/\", text_filename_pattern=\"??.txt\")\n",
    "#cr = tmt.corpus_reader.CorpusReader(content_directory=\"data_sets/iraq_inquiry/txt/\", text_filename_pattern=\"the-report*.txt\")\n",
    "#cr = tmt.corpus_reader.CorpusReader(content_directory=\"data_sets/clinton_emails/txt/\", text_filename_pattern=\"C0*.txt\")\n",
    "#cr = tmt.corpus_reader.CorpusReader(content_directory=\"data_sets/shakespeare_macbeth/txt/\", text_filename_pattern=\"macbeth_act_0?_scene_0?.txt\")\n",
    "cr = tmt.corpus_reader.CorpusReader(content_directory=\"data_sets/mixed/txt/\", text_filename_pattern=\"*.txt\")"
   ]
  },
  {
   "cell_type": "code",
   "execution_count": 6,
   "metadata": {
    "collapsed": false,
    "scrolled": true
   },
   "outputs": [
    {
     "name": "stdout",
     "output_type": "stream",
     "text": [
      "processing  01.txt\n",
      "processing  02.txt\n",
      "processing  03.txt\n",
      "processing  04.txt\n",
      "processing  05.txt\n",
      "processing  06.txt\n",
      "processing  07.txt\n",
      "processing  08.txt\n",
      "processing  09.txt\n",
      "processing  10.txt\n",
      "processing  11.txt\n",
      "processing  12.txt\n",
      "processing  13.txt\n",
      "processing  C05739545.txt\n",
      "processing  C05739546.txt\n",
      "processing  C05739547.txt\n",
      "processing  C05739550.txt\n",
      "processing  C05739554.txt\n",
      "processing  C05739559.txt\n",
      "processing  C05739560.txt\n",
      "processing  C05739561.txt\n",
      "processing  C05739562.txt\n",
      "processing  C05739563.txt\n",
      "processing  C05739564.txt\n",
      "processing  C05739565.txt\n",
      "processing  C05739567.txt\n",
      "processing  macbeth_act_01_scene_01.txt\n",
      "processing  macbeth_act_01_scene_02.txt\n",
      "processing  macbeth_act_01_scene_03.txt\n",
      "processing  macbeth_act_01_scene_04.txt\n",
      "processing  macbeth_act_01_scene_05.txt\n",
      "processing  macbeth_act_01_scene_06.txt\n",
      "processing  macbeth_act_01_scene_07.txt\n",
      "processing  macbeth_act_02_scene_01.txt\n",
      "processing  macbeth_act_02_scene_02.txt\n",
      "processing  macbeth_act_02_scene_03.txt\n",
      "processing  macbeth_act_02_scene_04.txt\n",
      "processing  macbeth_act_03_scene_01.txt\n",
      "processing  macbeth_act_03_scene_02.txt\n",
      "processing  the-report-of-the-iraq-inquiry_section-11.txt\n",
      "processing  the-report-of-the-iraq-inquiry_section-12.txt\n",
      "processing  the-report-of-the-iraq-inquiry_section-15-1.txt\n",
      "processing  the-report-of-the-iraq-inquiry_section-20.txt\n",
      "processing  the-report-of-the-iraq-inquiry_section-31.txt\n",
      "processing  the-report-of-the-iraq-inquiry_section-32.txt\n",
      "processing  the-report-of-the-iraq-inquiry_section-33.txt\n",
      "processing  the-report-of-the-iraq-inquiry_section-34.txt\n",
      "processing  the-report-of-the-iraq-inquiry_section_annex-1.txt\n",
      "processing  the-report-of-the-iraq-inquiry_section_annex-2.txt\n",
      "processing  the-report-of-the-iraq-inquiry_section_annex-3.txt\n",
      "processing  the-report-of-the-iraq-inquiry_section_annex-4.txt\n",
      "processing  the-report-of-the-iraq-inquiry_section_annex-5.txt\n"
     ]
    }
   ],
   "source": [
    "# first clear index\n",
    "tmt.index_wordcount.delete_index(cr.content_directory)\n",
    "\n",
    "# for all documents in corpus\n",
    "for document_name in cr.get_documents():\n",
    "    print(\"processing \", document_name)\n",
    "\n",
    "    # get document text\n",
    "    document_text = cr.get_text_by_document(document_name)\n",
    "\n",
    "    # simplify whitespace (remove newlines)\n",
    "    b = tmt.text_processing.simplify_whitespace(document_text)\n",
    "\n",
    "    # only keep alphanumeric characters, removes punctuation\n",
    "    c = tmt.text_processing.keep_only_alphanumeric(b)\n",
    "\n",
    "    # make lowercase\n",
    "    d = tmt.text_processing.to_lowercase(c)\n",
    "\n",
    "    # split into words list\n",
    "    dl = tmt.text_processing.split_text_into_words(d)\n",
    "    \n",
    "    # build n-grams\n",
    "    #gl = tmt.word_processing.build_ngrams_from_words(dl,2)\n",
    "\n",
    "    # remove stop words\n",
    "    #el = tmt.word_processing.remove_stop_words(dl, \"./stopwords/minimal-stop.txt\")\n",
    "    \n",
    "    # update index\n",
    "    tmt.index_wordcount.create_wordcount_index_for_document(cr.content_directory, document_name, dl)\n",
    "    pass\n",
    "\n"
   ]
  },
  {
   "cell_type": "code",
   "execution_count": 7,
   "metadata": {
    "collapsed": false
   },
   "outputs": [
    {
     "name": "stdout",
     "output_type": "stream",
     "text": [
      "saving corpus word count index ...  data_sets/mixed/txt/index_wordcount.hdf5\n"
     ]
    }
   ],
   "source": [
    "# merge document indices into a corpus index\n",
    "tmt.index_wordcount.merge_wordcount_indices_for_corpus(cr.content_directory)"
   ]
  },
  {
   "cell_type": "code",
   "execution_count": 10,
   "metadata": {
    "collapsed": false
   },
   "outputs": [
    {
     "name": "stdout",
     "output_type": "stream",
     "text": [
      "wordcount_index_file  data_sets/mixed/txt/index_wordcount.hdf5\n",
      "            01.txt  02.txt  \\\n",
      "               0.0     0.0   \n",
      "0              0.0     0.0   \n",
      "0100           0.0     0.0   \n",
      "0253           0.0     0.0   \n",
      "03             0.0     0.0   \n",
      "030311docx     0.0     0.0   \n",
      "0330           0.0     0.0   \n",
      "036            0.0     0.0   \n",
      "04002          0.0     0.0   \n",
      "05             0.0     0.0   \n",
      "\n",
      "                                   ...                          \\\n",
      "                                   ...                           \n",
      "0                                  ...                           \n",
      "0100                               ...                           \n",
      "0253                               ...                           \n",
      "03                                 ...                           \n",
      "030311docx                         ...                           \n",
      "0330                               ...                           \n",
      "036                                ...                           \n",
      "04002                              ...                           \n",
      "05                                 ...                           \n",
      "\n",
      "            the-report-of-the-iraq-inquiry_section_annex-4.txt  \\\n",
      "                                                          8.0    \n",
      "0                                                         0.0    \n",
      "0100                                                      0.0    \n",
      "0253                                                      0.0    \n",
      "03                                                        0.0    \n",
      "030311docx                                                0.0    \n",
      "0330                                                      0.0    \n",
      "036                                                       0.0    \n",
      "04002                                                     0.0    \n",
      "05                                                        0.0    \n",
      "\n",
      "            the-report-of-the-iraq-inquiry_section_annex-5.txt  \n",
      "                                                         19.0   \n",
      "0                                                         0.0   \n",
      "0100                                                      0.0   \n",
      "0253                                                      0.0   \n",
      "03                                                        1.0   \n",
      "030311docx                                                0.0   \n",
      "0330                                                      0.0   \n",
      "036                                                       0.0   \n",
      "04002                                                     0.0   \n",
      "05                                                        0.0   \n",
      "\n",
      "[10 rows x 52 columns]\n"
     ]
    }
   ],
   "source": [
    "tmt.index_wordcount.print_index(cr.content_directory)"
   ]
  },
  {
   "cell_type": "code",
   "execution_count": 11,
   "metadata": {
    "collapsed": false
   },
   "outputs": [
    {
     "data": {
      "text/plain": [
       "08.txt    3.0\n",
       "03.txt    3.0\n",
       "12.txt    2.0\n",
       "06.txt    1.0\n",
       "02.txt    1.0\n",
       "01.txt    1.0\n",
       "dtype: float64"
      ]
     },
     "execution_count": 11,
     "metadata": {},
     "output_type": "execute_result"
    }
   ],
   "source": [
    "tmt.index_wordcount.search_wordcount_index(cr.content_directory, \"bread milk\")"
   ]
  },
  {
   "cell_type": "code",
   "execution_count": null,
   "metadata": {
    "collapsed": true
   },
   "outputs": [],
   "source": [
    "# calculate document similarities\n",
    "tmt."
   ]
  }
 ],
 "metadata": {
  "anaconda-cloud": {},
  "kernelspec": {
   "display_name": "Python [conda root]",
   "language": "python",
   "name": "conda-root-py"
  },
  "language_info": {
   "codemirror_mode": {
    "name": "ipython",
    "version": 3
   },
   "file_extension": ".py",
   "mimetype": "text/x-python",
   "name": "python",
   "nbconvert_exporter": "python",
   "pygments_lexer": "ipython3",
   "version": "3.5.2"
  }
 },
 "nbformat": 4,
 "nbformat_minor": 0
}
