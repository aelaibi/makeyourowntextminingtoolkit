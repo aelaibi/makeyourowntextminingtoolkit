{
 "cells": [
  {
   "cell_type": "code",
   "execution_count": 1,
   "metadata": {
    "collapsed": true
   },
   "outputs": [],
   "source": [
    "# notebook to illustrate document similarity clusters"
   ]
  },
  {
   "cell_type": "code",
   "execution_count": 2,
   "metadata": {
    "collapsed": false
   },
   "outputs": [],
   "source": [
    "# following only used for development, reloads the modules with any code changes\n",
    "%load_ext autoreload\n",
    "%autoreload 2\n",
    "\n",
    "# inline matplotlib charts\n",
    "%matplotlib inline"
   ]
  },
  {
   "cell_type": "code",
   "execution_count": 3,
   "metadata": {
    "collapsed": false
   },
   "outputs": [],
   "source": [
    "# import our text mining toolkit\n",
    "import text_mining_toolkit as tmt"
   ]
  },
  {
   "cell_type": "code",
   "execution_count": 4,
   "metadata": {
    "collapsed": false
   },
   "outputs": [
    {
     "name": "stdout",
     "output_type": "stream",
     "text": [
      "content_directory =  data_sets/mixed/txt/\n",
      "text_filename_pattern =  *.txt\n",
      "self.documents populated =  52\n"
     ]
    }
   ],
   "source": [
    "#cr = tmt.corpus_reader.CorpusReader(content_directory=\"data_sets/recipes/txt/\", text_filename_pattern=\"??.txt\")\n",
    "#cr = tmt.corpus_reader.CorpusReader(directory_of_files=\"data_sets/mystery_corpus_01/txt/\", text_filename_pattern=\"??.txt\")\n",
    "#cr = tmt.corpus_reader.CorpusReader(content_directory=\"data_sets/iraq_inquiry/txt/\", text_filename_pattern=\"the-report*.txt\")\n",
    "#cr = tmt.corpus_reader.CorpusReader(content_directory=\"data_sets/clinton_emails/txt/\", text_filename_pattern=\"C0*.txt\")\n",
    "#cr = tmt.corpus_reader.CorpusReader(content_directory=\"data_sets/shakespeare_macbeth/txt/\", text_filename_pattern=\"macbeth_act_0?_scene_0?.txt\")\n",
    "cr = tmt.corpus_reader.CorpusReader(content_directory=\"data_sets/mixed/txt/\", text_filename_pattern=\"*.txt\")"
   ]
  },
  {
   "cell_type": "code",
   "execution_count": 5,
   "metadata": {
    "collapsed": false,
    "scrolled": true
   },
   "outputs": [
    {
     "name": "stdout",
     "output_type": "stream",
     "text": [
      "removed wordcount index file:  data_sets/mixed/txt/index_wordcount.hdf5\n",
      "processing  01.txt\n",
      "processing  02.txt\n",
      "processing  03.txt\n",
      "processing  04.txt\n",
      "processing  05.txt\n",
      "processing  06.txt\n",
      "processing  07.txt\n",
      "processing  08.txt\n",
      "processing  09.txt\n",
      "processing  10.txt\n",
      "processing  11.txt\n",
      "processing  12.txt\n",
      "processing  13.txt\n",
      "processing  C05739545.txt\n",
      "processing  C05739546.txt\n",
      "processing  C05739547.txt\n",
      "processing  C05739550.txt\n",
      "processing  C05739554.txt\n",
      "processing  C05739559.txt\n",
      "processing  C05739560.txt\n",
      "processing  C05739561.txt\n",
      "processing  C05739562.txt\n",
      "processing  C05739563.txt\n",
      "processing  C05739564.txt\n",
      "processing  C05739565.txt\n",
      "processing  C05739567.txt\n",
      "processing  macbeth_act_01_scene_01.txt\n",
      "processing  macbeth_act_01_scene_02.txt\n",
      "processing  macbeth_act_01_scene_03.txt\n",
      "processing  macbeth_act_01_scene_04.txt\n",
      "processing  macbeth_act_01_scene_05.txt\n",
      "processing  macbeth_act_01_scene_06.txt\n",
      "processing  macbeth_act_01_scene_07.txt\n",
      "processing  macbeth_act_02_scene_01.txt\n",
      "processing  macbeth_act_02_scene_02.txt\n",
      "processing  macbeth_act_02_scene_03.txt\n",
      "processing  macbeth_act_02_scene_04.txt\n",
      "processing  macbeth_act_03_scene_01.txt\n",
      "processing  macbeth_act_03_scene_02.txt\n",
      "processing  the-report-of-the-iraq-inquiry_section-11.txt\n",
      "processing  the-report-of-the-iraq-inquiry_section-12.txt\n",
      "processing  the-report-of-the-iraq-inquiry_section-15-1.txt\n",
      "processing  the-report-of-the-iraq-inquiry_section-20.txt\n",
      "processing  the-report-of-the-iraq-inquiry_section-31.txt\n",
      "processing  the-report-of-the-iraq-inquiry_section-32.txt\n",
      "processing  the-report-of-the-iraq-inquiry_section-33.txt\n",
      "processing  the-report-of-the-iraq-inquiry_section-34.txt\n",
      "processing  the-report-of-the-iraq-inquiry_section_annex-1.txt\n",
      "processing  the-report-of-the-iraq-inquiry_section_annex-2.txt\n",
      "processing  the-report-of-the-iraq-inquiry_section_annex-3.txt\n",
      "processing  the-report-of-the-iraq-inquiry_section_annex-4.txt\n",
      "processing  the-report-of-the-iraq-inquiry_section_annex-5.txt\n"
     ]
    }
   ],
   "source": [
    "# first clear index\n",
    "tmt.index_wordcount.delete_index(cr.content_directory)\n",
    "\n",
    "# for all documents in corpus\n",
    "for document_name in cr.get_documents():\n",
    "    print(\"processing \", document_name)\n",
    "\n",
    "    # get document text\n",
    "    document_text = cr.get_text_by_document(document_name)\n",
    "\n",
    "    # simplify whitespace (remove newlines)\n",
    "    b = tmt.text_processing.simplify_whitespace(document_text)\n",
    "\n",
    "    # only keep alphanumeric characters, removes punctuation\n",
    "    c = tmt.text_processing.keep_only_alphanumeric(b)\n",
    "\n",
    "    # make lowercase\n",
    "    d = tmt.text_processing.to_lowercase(c)\n",
    "\n",
    "    # split into words list\n",
    "    dl = tmt.text_processing.split_text_into_words(d)\n",
    "    \n",
    "    # build n-grams\n",
    "    #gl = tmt.word_processing.build_ngrams_from_words(dl,2)\n",
    "\n",
    "    # remove stop words\n",
    "    el = tmt.word_processing.remove_stop_words(dl, \"./stopwords/minimal-stop.txt\")\n",
    "    \n",
    "    # update index\n",
    "    tmt.index_wordcount.create_wordcount_index_for_document(cr.content_directory, document_name, el)\n",
    "    pass\n",
    "\n"
   ]
  },
  {
   "cell_type": "code",
   "execution_count": 6,
   "metadata": {
    "collapsed": false
   },
   "outputs": [
    {
     "name": "stdout",
     "output_type": "stream",
     "text": [
      "saving corpus word count index ...  data_sets/mixed/txt/index_wordcount.hdf5\n"
     ]
    }
   ],
   "source": [
    "# merge document indices into a corpus index\n",
    "tmt.index_wordcount.merge_wordcount_indices_for_corpus(cr.content_directory)"
   ]
  },
  {
   "cell_type": "code",
   "execution_count": 7,
   "metadata": {
    "collapsed": false
   },
   "outputs": [],
   "source": [
    "# tmt.index_wordcount.print_index(cr.content_directory)"
   ]
  },
  {
   "cell_type": "code",
   "execution_count": 8,
   "metadata": {
    "collapsed": false
   },
   "outputs": [
    {
     "data": {
      "text/plain": [
       "08.txt    3.0\n",
       "03.txt    3.0\n",
       "12.txt    2.0\n",
       "06.txt    1.0\n",
       "02.txt    1.0\n",
       "01.txt    1.0\n",
       "dtype: float64"
      ]
     },
     "execution_count": 8,
     "metadata": {},
     "output_type": "execute_result"
    }
   ],
   "source": [
    "tmt.index_wordcount.search_wordcount_index(cr.content_directory, \"bread milk\")"
   ]
  },
  {
   "cell_type": "code",
   "execution_count": 9,
   "metadata": {
    "collapsed": true
   },
   "outputs": [],
   "source": [
    "##"
   ]
  },
  {
   "cell_type": "code",
   "execution_count": 10,
   "metadata": {
    "collapsed": false
   },
   "outputs": [
    {
     "name": "stdout",
     "output_type": "stream",
     "text": [
      "removed doc similarity matrix file:  data_sets/mixed/txt/matrix.docsimilarity\n",
      "created  data_sets/mixed/txt/matrix.docsimilarity\n"
     ]
    }
   ],
   "source": [
    "# calculate document similarities\n",
    "\n",
    "# delete if already exists\n",
    "tmt.index_doc_similarity.delete_matrix(cr.content_directory)\n",
    "\n",
    "# calclate doc1-doc2 similarity\n",
    "tmt.index_doc_similarity.create_doc_similarity_matrix(cr.content_directory)"
   ]
  },
  {
   "cell_type": "code",
   "execution_count": 11,
   "metadata": {
    "collapsed": false
   },
   "outputs": [],
   "source": [
    "#tmt.index_doc_similarity.print_matrix(cr.content_directory)"
   ]
  },
  {
   "cell_type": "code",
   "execution_count": 12,
   "metadata": {
    "collapsed": false,
    "scrolled": true
   },
   "outputs": [
    {
     "data": {
      "text/html": [
       "<div>\n",
       "<table border=\"1\" class=\"dataframe\">\n",
       "  <thead>\n",
       "    <tr style=\"text-align: right;\">\n",
       "      <th></th>\n",
       "      <th>doc1</th>\n",
       "      <th>doc2</th>\n",
       "      <th>similarity</th>\n",
       "    </tr>\n",
       "  </thead>\n",
       "  <tbody>\n",
       "    <tr>\n",
       "      <th>0</th>\n",
       "      <td>C05739567.txt</td>\n",
       "      <td>C05739545.txt</td>\n",
       "      <td>1.000000</td>\n",
       "    </tr>\n",
       "    <tr>\n",
       "      <th>1</th>\n",
       "      <td>C05739567.txt</td>\n",
       "      <td>C05739559.txt</td>\n",
       "      <td>0.993863</td>\n",
       "    </tr>\n",
       "    <tr>\n",
       "      <th>2</th>\n",
       "      <td>C05739559.txt</td>\n",
       "      <td>C05739545.txt</td>\n",
       "      <td>0.947459</td>\n",
       "    </tr>\n",
       "    <tr>\n",
       "      <th>3</th>\n",
       "      <td>C05739559.txt</td>\n",
       "      <td>C05739547.txt</td>\n",
       "      <td>0.821843</td>\n",
       "    </tr>\n",
       "    <tr>\n",
       "      <th>4</th>\n",
       "      <td>C05739547.txt</td>\n",
       "      <td>C05739545.txt</td>\n",
       "      <td>0.812524</td>\n",
       "    </tr>\n",
       "    <tr>\n",
       "      <th>5</th>\n",
       "      <td>C05739567.txt</td>\n",
       "      <td>C05739547.txt</td>\n",
       "      <td>0.811761</td>\n",
       "    </tr>\n",
       "    <tr>\n",
       "      <th>6</th>\n",
       "      <td>C05739559.txt</td>\n",
       "      <td>C05739550.txt</td>\n",
       "      <td>0.797992</td>\n",
       "    </tr>\n",
       "    <tr>\n",
       "      <th>7</th>\n",
       "      <td>C05739567.txt</td>\n",
       "      <td>C05739550.txt</td>\n",
       "      <td>0.794305</td>\n",
       "    </tr>\n",
       "    <tr>\n",
       "      <th>8</th>\n",
       "      <td>C05739550.txt</td>\n",
       "      <td>C05739545.txt</td>\n",
       "      <td>0.781913</td>\n",
       "    </tr>\n",
       "    <tr>\n",
       "      <th>9</th>\n",
       "      <td>C05739550.txt</td>\n",
       "      <td>C05739547.txt</td>\n",
       "      <td>0.704468</td>\n",
       "    </tr>\n",
       "  </tbody>\n",
       "</table>\n",
       "</div>"
      ],
      "text/plain": [
       "            doc1           doc2  similarity\n",
       "0  C05739567.txt  C05739545.txt    1.000000\n",
       "1  C05739567.txt  C05739559.txt    0.993863\n",
       "2  C05739559.txt  C05739545.txt    0.947459\n",
       "3  C05739559.txt  C05739547.txt    0.821843\n",
       "4  C05739547.txt  C05739545.txt    0.812524\n",
       "5  C05739567.txt  C05739547.txt    0.811761\n",
       "6  C05739559.txt  C05739550.txt    0.797992\n",
       "7  C05739567.txt  C05739550.txt    0.794305\n",
       "8  C05739550.txt  C05739545.txt    0.781913\n",
       "9  C05739550.txt  C05739547.txt    0.704468"
      ]
     },
     "execution_count": 12,
     "metadata": {},
     "output_type": "execute_result"
    }
   ],
   "source": [
    "# get document similarities order by value\n",
    "doc1_doc2_similarity = tmt.index_doc_similarity.get_doc_pairs_by_similarity(cr.content_directory)\n",
    "doc1_doc2_similarity[:10]"
   ]
  },
  {
   "cell_type": "code",
   "execution_count": 13,
   "metadata": {
    "collapsed": false,
    "scrolled": false
   },
   "outputs": [
    {
     "data": {
      "text/html": [
       "<div id=\"d3-container-7203866\"></div>\n",
       "<div>force-directed graph</div>\n",
       "\n",
       "<style>\n",
       "    .links line {\n",
       "        stroke: #999;\n",
       "        stroke-opacity: .1;\n",
       "    }\n",
       "\n",
       "    .nodes circle {\n",
       "        pointer-events: all;\n",
       "        stroke: #fff;\n",
       "        fill: #333;\n",
       "        stroke-width: 1.5px;\n",
       "        opacity: 0.7;\n",
       "    }\n",
       "\n",
       "    .nodes text {\n",
       "        pointer-events: none;\n",
       "        font: 10px sans-serif;\n",
       "        fill: #333;\n",
       "        opacity: .5;\n",
       "    }\n",
       "</style>\n"
      ]
     },
     "metadata": {},
     "output_type": "display_data"
    },
    {
     "data": {
      "application/javascript": [
       "// require is needed to make d3 work in jupyter notebooks from imported code\n",
       "require.config({\n",
       "    paths: {\n",
       "        d3: \"https://d3js.org/d3.v4.min\"\n",
       "    }\n",
       "});\n",
       "\n",
       "require([\"d3\"], function(d3) {\n",
       "    //console.log(d3.version);\n",
       "\n",
       "    var width = 800,\n",
       "        height = 600;\n",
       "\n",
       "    var svg = d3.select(\"#d3-container-7203866\")\n",
       "        .append(\"svg\")\n",
       "        .attr(\"width\", width)\n",
       "        .attr(\"height\", height);\n",
       "\n",
       "    var colour = d3.scaleOrdinal(d3.schemeCategory20c);\n",
       "\n",
       "    var graph = {\n",
       "        nodes: [{'id': '08.txt'}, {'id': 'C05739547.txt'}, {'id': 'C05739562.txt'}, {'id': 'macbeth_act_01_scene_04.txt'}, {'id': '03.txt'}, {'id': 'C05739560.txt'}, {'id': '05.txt'}, {'id': 'macbeth_act_02_scene_01.txt'}, {'id': 'macbeth_act_01_scene_03.txt'}, {'id': '13.txt'}, {'id': '02.txt'}, {'id': '06.txt'}, {'id': 'C05739546.txt'}, {'id': 'C05739545.txt'}, {'id': 'C05739567.txt'}, {'id': 'the-report-of-the-iraq-inquiry_section-33.txt'}, {'id': 'C05739561.txt'}, {'id': '10.txt'}, {'id': '12.txt'}, {'id': 'C05739564.txt'}, {'id': 'C05739563.txt'}, {'id': 'macbeth_act_02_scene_02.txt'}, {'id': 'the-report-of-the-iraq-inquiry_section-31.txt'}, {'id': 'the-report-of-the-iraq-inquiry_section-34.txt'}, {'id': 'macbeth_act_02_scene_03.txt'}, {'id': 'macbeth_act_01_scene_07.txt'}, {'id': 'C05739565.txt'}, {'id': '09.txt'}, {'id': '04.txt'}, {'id': '01.txt'}, {'id': 'macbeth_act_01_scene_06.txt'}, {'id': 'C05739554.txt'}, {'id': '07.txt'}, {'id': 'macbeth_act_03_scene_01.txt'}, {'id': 'the-report-of-the-iraq-inquiry_section-32.txt'}, {'id': '11.txt'}, {'id': 'macbeth_act_03_scene_02.txt'}, {'id': 'macbeth_act_01_scene_05.txt'}, {'id': 'C05739550.txt'}, {'id': 'C05739559.txt'}],\n",
       "        links: [{'target': 29, 'source': 0, 'similarity': 0.19550217224635832}, {'target': 6, 'source': 0, 'similarity': 0.24649279728839088}, {'target': 35, 'source': 0, 'similarity': 0.33118067978533094}, {'target': 4, 'source': 0, 'similarity': 0.22615838141550557}, {'target': 27, 'source': 0, 'similarity': 0.2548769060396967}, {'target': 18, 'source': 0, 'similarity': 0.2533303228719801}, {'target': 17, 'source': 0, 'similarity': 0.41130238423414184}, {'target': 28, 'source': 0, 'similarity': 0.22484530338133082}, {'target': 11, 'source': 0, 'similarity': 0.20071556350626116}, {'target': 32, 'source': 0, 'similarity': 0.19538683173175864}, {'target': 2, 'source': 1, 'similarity': 0.2958752794837242}, {'target': 5, 'source': 1, 'similarity': 0.2837705698734872}, {'target': 31, 'source': 1, 'similarity': 0.29742655061810647}, {'target': 13, 'source': 1, 'similarity': 0.812523827678231}, {'target': 12, 'source': 1, 'similarity': 0.24588524415281893}, {'target': 19, 'source': 1, 'similarity': 0.24351083326826176}, {'target': 14, 'source': 1, 'similarity': 0.8117613419748378}, {'target': 16, 'source': 1, 'similarity': 0.29994978752684975}, {'target': 26, 'source': 1, 'similarity': 0.4031551804569798}, {'target': 20, 'source': 1, 'similarity': 0.4031551804569798}, {'target': 38, 'source': 1, 'similarity': 0.7044679157703749}, {'target': 39, 'source': 1, 'similarity': 0.8218430973863683}, {'target': 14, 'source': 2, 'similarity': 0.3490290889554071}, {'target': 26, 'source': 2, 'similarity': 0.21047420144347445}, {'target': 20, 'source': 2, 'similarity': 0.21047420144347445}, {'target': 13, 'source': 2, 'similarity': 0.33348683705579857}, {'target': 38, 'source': 2, 'similarity': 0.2831233301568147}, {'target': 39, 'source': 2, 'similarity': 0.33290053811582704}, {'target': 30, 'source': 3, 'similarity': 0.24340506768483167}, {'target': 25, 'source': 3, 'similarity': 0.19452744631635507}, {'target': 33, 'source': 3, 'similarity': 0.22642340055801044}, {'target': 7, 'source': 3, 'similarity': 0.2435451590542128}, {'target': 8, 'source': 3, 'similarity': 0.19751508282576594}, {'target': 37, 'source': 3, 'similarity': 0.203009564768883}, {'target': 21, 'source': 3, 'similarity': 0.2118297476697109}, {'target': 29, 'source': 4, 'similarity': 0.32813158017874694}, {'target': 35, 'source': 4, 'similarity': 0.23428594824762525}, {'target': 17, 'source': 4, 'similarity': 0.3012355490165545}, {'target': 32, 'source': 4, 'similarity': 0.2845742907744885}, {'target': 18, 'source': 4, 'similarity': 0.325582985381242}, {'target': 6, 'source': 4, 'similarity': 0.2176030479080111}, {'target': 9, 'source': 4, 'similarity': 0.2570364044733517}, {'target': 28, 'source': 4, 'similarity': 0.21588547679519735}, {'target': 11, 'source': 4, 'similarity': 0.20881100556829346}, {'target': 14, 'source': 5, 'similarity': 0.326871180252401}, {'target': 26, 'source': 5, 'similarity': 0.1957258892954383}, {'target': 20, 'source': 5, 'similarity': 0.1957258892954383}, {'target': 13, 'source': 5, 'similarity': 0.32413286768791166}, {'target': 38, 'source': 5, 'similarity': 0.27707708235446793}, {'target': 39, 'source': 5, 'similarity': 0.3710611953329629}, {'target': 29, 'source': 6, 'similarity': 0.3121175030599755}, {'target': 35, 'source': 6, 'similarity': 0.2059975520195838}, {'target': 17, 'source': 6, 'similarity': 0.3377009049501374}, {'target': 18, 'source': 6, 'similarity': 0.2555525186866466}, {'target': 10, 'source': 6, 'similarity': 0.24649279728839088}, {'target': 11, 'source': 6, 'similarity': 0.6658506731946143}, {'target': 25, 'source': 7, 'similarity': 0.23473781404382668}, {'target': 21, 'source': 7, 'similarity': 0.27518756949181045}, {'target': 8, 'source': 7, 'similarity': 0.2343785957091478}, {'target': 37, 'source': 7, 'similarity': 0.23154689383419785}, {'target': 33, 'source': 7, 'similarity': 0.26469151101604793}, {'target': 25, 'source': 8, 'similarity': 0.1996969749094078}, {'target': 33, 'source': 8, 'similarity': 0.23099166086525671}, {'target': 37, 'source': 8, 'similarity': 0.2090919716706193}, {'target': 21, 'source': 8, 'similarity': 0.22879446772118128}, {'target': 29, 'source': 9, 'similarity': 0.2420503084954912}, {'target': 32, 'source': 9, 'similarity': 0.5016831799606032}, {'target': 18, 'source': 9, 'similarity': 0.3242024965325936}, {'target': 17, 'source': 9, 'similarity': 0.20369260933500352}, {'target': 10, 'source': 9, 'similarity': 0.2508944543828265}, {'target': 29, 'source': 10, 'similarity': 0.2867365192946589}, {'target': 32, 'source': 10, 'similarity': 0.45294220083271325}, {'target': 18, 'source': 10, 'similarity': 0.2533303228719801}, {'target': 11, 'source': 10, 'similarity': 0.23720930232558138}, {'target': 29, 'source': 11, 'similarity': 0.2618544246451223}, {'target': 35, 'source': 11, 'similarity': 0.22534883720930227}, {'target': 32, 'source': 11, 'similarity': 0.2623996707141387}, {'target': 17, 'source': 11, 'similarity': 0.34998093785741513}, {'target': 16, 'source': 12, 'similarity': 0.2763056125774661}, {'target': 26, 'source': 12, 'similarity': 0.2083310611704865}, {'target': 14, 'source': 12, 'similarity': 0.300592063153403}, {'target': 31, 'source': 12, 'similarity': 0.27114942733744374}, {'target': 20, 'source': 12, 'similarity': 0.2077733872017701}, {'target': 13, 'source': 12, 'similarity': 0.2852970983571581}, {'target': 38, 'source': 12, 'similarity': 0.2438084879905438}, {'target': 39, 'source': 12, 'similarity': 0.2895345873930256}, {'target': 31, 'source': 13, 'similarity': 0.34767564130780326}, {'target': 19, 'source': 13, 'similarity': 0.2866349117399832}, {'target': 14, 'source': 13, 'similarity': 1.0}, {'target': 16, 'source': 13, 'similarity': 0.3506251695479543}, {'target': 26, 'source': 13, 'similarity': 0.4692646803873492}, {'target': 20, 'source': 13, 'similarity': 0.4692646803873492}, {'target': 38, 'source': 13, 'similarity': 0.7819130877609913}, {'target': 39, 'source': 13, 'similarity': 0.9474590869939705}, {'target': 31, 'source': 14, 'similarity': 0.3622991710072628}, {'target': 19, 'source': 14, 'similarity': 0.3057999439618941}, {'target': 16, 'source': 14, 'similarity': 0.3653727588843128}, {'target': 26, 'source': 14, 'similarity': 0.4812393194145181}, {'target': 20, 'source': 14, 'similarity': 0.4812393194145181}, {'target': 38, 'source': 14, 'similarity': 0.7943048718383974}, {'target': 39, 'source': 14, 'similarity': 0.9938630490956071}, {'target': 23, 'source': 15, 'similarity': 0.23451922122609253}, {'target': 22, 'source': 15, 'similarity': 0.20788191757094307}, {'target': 34, 'source': 15, 'similarity': 0.24132237779900284}, {'target': 26, 'source': 16, 'similarity': 0.24016223971360492}, {'target': 31, 'source': 16, 'similarity': 0.29059556638760775}, {'target': 20, 'source': 16, 'similarity': 0.23972022332149398}, {'target': 38, 'source': 16, 'similarity': 0.2986667657927788}, {'target': 39, 'source': 16, 'similarity': 0.36125017468577114}, {'target': 35, 'source': 17, 'similarity': 0.6737133053755242}, {'target': 32, 'source': 17, 'similarity': 0.340689408533767}, {'target': 18, 'source': 17, 'similarity': 0.3426188792940714}, {'target': 27, 'source': 17, 'similarity': 0.22066699344625382}, {'target': 28, 'source': 17, 'similarity': 0.2688074598601276}, {'target': 29, 'source': 17, 'similarity': 0.3194270464571647}, {'target': 29, 'source': 18, 'similarity': 0.3372254297971164}, {'target': 32, 'source': 18, 'similarity': 0.38111641494014703}, {'target': 28, 'source': 18, 'similarity': 0.22495178943550148}, {'target': 35, 'source': 18, 'similarity': 0.26599683901557913}, {'target': 38, 'source': 19, 'similarity': 0.26159569529177645}, {'target': 39, 'source': 19, 'similarity': 0.2852650913732449}, {'target': 26, 'source': 20, 'similarity': 0.4033565118407569}, {'target': 31, 'source': 20, 'similarity': 0.23799584812198654}, {'target': 38, 'source': 20, 'similarity': 0.38791778003268096}, {'target': 39, 'source': 20, 'similarity': 0.4766430558651376}, {'target': 24, 'source': 21, 'similarity': 0.21978744149396312}, {'target': 25, 'source': 21, 'similarity': 0.2502954122930512}, {'target': 37, 'source': 21, 'similarity': 0.219781371359145}, {'target': 36, 'source': 21, 'similarity': 0.22631411627112913}, {'target': 33, 'source': 21, 'similarity': 0.26009306301949875}, {'target': 23, 'source': 22, 'similarity': 0.19977276854878523}, {'target': 34, 'source': 22, 'similarity': 0.2074296355137851}, {'target': 34, 'source': 23, 'similarity': 0.22548173586510323}, {'target': 33, 'source': 24, 'similarity': 0.2018991667184405}, {'target': 37, 'source': 25, 'similarity': 0.2094459032606899}, {'target': 33, 'source': 25, 'similarity': 0.23983935893205213}, {'target': 31, 'source': 26, 'similarity': 0.23843414618482628}, {'target': 38, 'source': 26, 'similarity': 0.3881713210653821}, {'target': 39, 'source': 26, 'similarity': 0.4766430558651376}, {'target': 28, 'source': 27, 'similarity': 0.2715901457800047}, {'target': 29, 'source': 27, 'similarity': 0.20170859041290937}, {'target': 35, 'source': 27, 'similarity': 0.4038205980066445}, {'target': 35, 'source': 28, 'similarity': 0.260217308425467}, {'target': 35, 'source': 29, 'similarity': 0.26262458471760797}, {'target': 32, 'source': 29, 'similarity': 0.3298738717549172}, {'target': 33, 'source': 30, 'similarity': 0.21110860239331675}, {'target': 38, 'source': 31, 'similarity': 0.2961543219164988}, {'target': 39, 'source': 31, 'similarity': 0.3582112668019791}, {'target': 35, 'source': 32, 'similarity': 0.35791315085408515}, {'target': 39, 'source': 38, 'similarity': 0.7979922292008523}]\n",
       "    };\n",
       "\n",
       "    var simulation = d3.forceSimulation(graph.nodes)\n",
       "        .force(\"link\", d3.forceLink(graph.links).distance(function(d){return 10 / d.similarity;}))\n",
       "        .force(\"charge\", d3.forceManyBody().strength(-20))\n",
       "        .force(\"radius\", d3.forceCollide(15))\n",
       "        .force(\"center\", d3.forceCenter(width / 2.0, height / 2.0));\n",
       "\n",
       "    var link = svg.append(\"g\")\n",
       "        .attr(\"class\", \"links\")\n",
       "        .selectAll(\"line\")\n",
       "        .data(graph.links)\n",
       "        .enter().append(\"line\")\n",
       "        .style(\"stroke-linecap\", \"round\")\n",
       "        .style(\"stroke\", function(d) {return colour(d.similarity);})\n",
       "        .style(\"stroke-width\", function (d) {return Math.sqrt(d.similarity*10);});\n",
       "\n",
       "    var node = svg.append(\"g\")\n",
       "        .attr(\"class\", \"nodes\")\n",
       "        .selectAll(\"g\")\n",
       "        .data(graph.nodes)\n",
       "        .enter().append(\"g\");\n",
       "\n",
       "    var circle = node.append(\"circle\")\n",
       "        .attr(\"r\", 4.5)\n",
       "        .call(d3.drag()\n",
       "            .on(\"start\", dragstarted)\n",
       "            .on(\"drag\", dragged)\n",
       "            .on(\"end\", dragended));\n",
       "\n",
       "    //node.append(\"title\")\n",
       "    //    .text(function(d) { return d.id; });\n",
       "\n",
       "    var t2 = node.append(\"text\")\n",
       "      .attr(\"dx\", 10)\n",
       "      .attr(\"dy\", \".35em\")\n",
       "      .text(function(d) { return d.id; });\n",
       "\n",
       "    simulation\n",
       "        .on(\"tick\", ticked);\n",
       "\n",
       "    function ticked() {\n",
       "        link\n",
       "            .attr(\"x1\", function(d) { return d.source.x; })\n",
       "            .attr(\"y1\", function(d) { return d.source.y; })\n",
       "            .attr(\"x2\", function(d) { return d.target.x; })\n",
       "            .attr(\"y2\", function(d) { return d.target.y; });\n",
       "\n",
       "        circle\n",
       "            .attr(\"cx\", function(d) { return d.x; })\n",
       "            .attr(\"cy\", function(d) { return d.y; });\n",
       "\n",
       "        t2\n",
       "            .attr(\"x\", function(d) { return d.x; })\n",
       "            .attr(\"y\", function(d) { return d.y; });\n",
       "    };\n",
       "\n",
       "    function dragstarted(d) {\n",
       "        if (!d3.event.active) simulation.alphaTarget(0.3).restart();\n",
       "        d.fx = d.x;\n",
       "        d.fy = d.y;\n",
       "    };\n",
       "\n",
       "    function dragged(d) {\n",
       "        d.fx = d3.event.x;\n",
       "        d.fy = d3.event.y;\n",
       "    };\n",
       "\n",
       "    function dragended(d) {\n",
       "        if (!d3.event.active) simulation.alphaTarget(0);\n",
       "        d.fx = null;\n",
       "        d.fy = null;\n",
       "    };\n",
       "\n",
       "});\n",
       "\n"
      ]
     },
     "metadata": {},
     "output_type": "display_data"
    }
   ],
   "source": [
    "# visualise the doc similarities\n",
    "tmt.visualisation.plot_force_directed_graph(doc1_doc2_similarity[:150])"
   ]
  },
  {
   "cell_type": "code",
   "execution_count": null,
   "metadata": {
    "collapsed": true
   },
   "outputs": [],
   "source": []
  }
 ],
 "metadata": {
  "anaconda-cloud": {},
  "kernelspec": {
   "display_name": "Python [conda root]",
   "language": "python",
   "name": "conda-root-py"
  },
  "language_info": {
   "codemirror_mode": {
    "name": "ipython",
    "version": 3
   },
   "file_extension": ".py",
   "mimetype": "text/x-python",
   "name": "python",
   "nbconvert_exporter": "python",
   "pygments_lexer": "ipython3",
   "version": "3.5.2"
  }
 },
 "nbformat": 4,
 "nbformat_minor": 0
}
