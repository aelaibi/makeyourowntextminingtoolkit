{
 "cells": [
  {
   "cell_type": "code",
   "execution_count": 1,
   "metadata": {
    "collapsed": true
   },
   "outputs": [],
   "source": [
    "# notebook to illustrate document similarity clusters"
   ]
  },
  {
   "cell_type": "code",
   "execution_count": 2,
   "metadata": {
    "collapsed": false
   },
   "outputs": [],
   "source": [
    "# following only used for development, reloads the modules with any code changes\n",
    "%load_ext autoreload\n",
    "%autoreload 2\n",
    "\n",
    "# inline matplotlib charts\n",
    "%matplotlib inline"
   ]
  },
  {
   "cell_type": "code",
   "execution_count": 3,
   "metadata": {
    "collapsed": false
   },
   "outputs": [],
   "source": [
    "# import our text mining toolkit\n",
    "import text_mining_toolkit as tmt"
   ]
  },
  {
   "cell_type": "code",
   "execution_count": 4,
   "metadata": {
    "collapsed": false
   },
   "outputs": [
    {
     "name": "stdout",
     "output_type": "stream",
     "text": [
      "content_directory =  data_sets/mixed/txt/\n",
      "text_filename_pattern =  *.txt\n",
      "self.documents populated =  52\n"
     ]
    }
   ],
   "source": [
    "#cr = tmt.corpus_reader.CorpusReader(content_directory=\"data_sets/recipes/txt/\", text_filename_pattern=\"??.txt\")\n",
    "#cr = tmt.corpus_reader.CorpusReader(directory_of_files=\"data_sets/mystery_corpus_01/txt/\", text_filename_pattern=\"??.txt\")\n",
    "#cr = tmt.corpus_reader.CorpusReader(content_directory=\"data_sets/iraq_inquiry/txt/\", text_filename_pattern=\"the-report*.txt\")\n",
    "#cr = tmt.corpus_reader.CorpusReader(content_directory=\"data_sets/clinton_emails/txt/\", text_filename_pattern=\"C0*.txt\")\n",
    "#cr = tmt.corpus_reader.CorpusReader(content_directory=\"data_sets/shakespeare_macbeth/txt/\", text_filename_pattern=\"macbeth_act_0?_scene_0?.txt\")\n",
    "cr = tmt.corpus_reader.CorpusReader(content_directory=\"data_sets/mixed/txt/\", text_filename_pattern=\"*.txt\")"
   ]
  },
  {
   "cell_type": "code",
   "execution_count": 5,
   "metadata": {
    "collapsed": false,
    "scrolled": true
   },
   "outputs": [
    {
     "name": "stdout",
     "output_type": "stream",
     "text": [
      "removed wordcount index file:  data_sets/mixed/txt/index_wordcount.hdf5\n",
      "processing  01.txt\n",
      "processing  02.txt\n",
      "processing  03.txt\n",
      "processing  04.txt\n",
      "processing  05.txt\n",
      "processing  06.txt\n",
      "processing  07.txt\n",
      "processing  08.txt\n",
      "processing  09.txt\n",
      "processing  10.txt\n",
      "processing  11.txt\n",
      "processing  12.txt\n",
      "processing  13.txt\n",
      "processing  C05739545.txt\n",
      "processing  C05739546.txt\n",
      "processing  C05739547.txt\n",
      "processing  C05739550.txt\n",
      "processing  C05739554.txt\n",
      "processing  C05739559.txt\n",
      "processing  C05739560.txt\n",
      "processing  C05739561.txt\n",
      "processing  C05739562.txt\n",
      "processing  C05739563.txt\n",
      "processing  C05739564.txt\n",
      "processing  C05739565.txt\n",
      "processing  C05739567.txt\n",
      "processing  macbeth_act_01_scene_01.txt\n",
      "processing  macbeth_act_01_scene_02.txt\n",
      "processing  macbeth_act_01_scene_03.txt\n",
      "processing  macbeth_act_01_scene_04.txt\n",
      "processing  macbeth_act_01_scene_05.txt\n",
      "processing  macbeth_act_01_scene_06.txt\n",
      "processing  macbeth_act_01_scene_07.txt\n",
      "processing  macbeth_act_02_scene_01.txt\n",
      "processing  macbeth_act_02_scene_02.txt\n",
      "processing  macbeth_act_02_scene_03.txt\n",
      "processing  macbeth_act_02_scene_04.txt\n",
      "processing  macbeth_act_03_scene_01.txt\n",
      "processing  macbeth_act_03_scene_02.txt\n",
      "processing  the-report-of-the-iraq-inquiry_section-11.txt\n",
      "processing  the-report-of-the-iraq-inquiry_section-12.txt\n",
      "processing  the-report-of-the-iraq-inquiry_section-15-1.txt\n",
      "processing  the-report-of-the-iraq-inquiry_section-20.txt\n",
      "processing  the-report-of-the-iraq-inquiry_section-31.txt\n",
      "processing  the-report-of-the-iraq-inquiry_section-32.txt\n",
      "processing  the-report-of-the-iraq-inquiry_section-33.txt\n",
      "processing  the-report-of-the-iraq-inquiry_section-34.txt\n",
      "processing  the-report-of-the-iraq-inquiry_section_annex-1.txt\n",
      "processing  the-report-of-the-iraq-inquiry_section_annex-2.txt\n",
      "processing  the-report-of-the-iraq-inquiry_section_annex-3.txt\n",
      "processing  the-report-of-the-iraq-inquiry_section_annex-4.txt\n",
      "processing  the-report-of-the-iraq-inquiry_section_annex-5.txt\n"
     ]
    }
   ],
   "source": [
    "# first clear index\n",
    "tmt.index_wordcount.delete_index(cr.content_directory)\n",
    "\n",
    "# for all documents in corpus\n",
    "for document_name in cr.get_documents():\n",
    "    print(\"processing \", document_name)\n",
    "\n",
    "    # get document text\n",
    "    document_text = cr.get_text_by_document(document_name)\n",
    "\n",
    "    # simplify whitespace (remove newlines)\n",
    "    b = tmt.text_processing.simplify_whitespace(document_text)\n",
    "\n",
    "    # only keep alphanumeric characters, removes punctuation\n",
    "    c = tmt.text_processing.keep_only_alphanumeric(b)\n",
    "\n",
    "    # make lowercase\n",
    "    d = tmt.text_processing.to_lowercase(c)\n",
    "\n",
    "    # split into words list\n",
    "    dl = tmt.text_processing.split_text_into_words(d)\n",
    "    \n",
    "    # build n-grams\n",
    "    #gl = tmt.word_processing.build_ngrams_from_words(dl,2)\n",
    "\n",
    "    # remove stop words\n",
    "    #el = tmt.word_processing.remove_stop_words(dl, \"./stopwords/minimal-stop.txt\")\n",
    "    \n",
    "    # update index\n",
    "    tmt.index_wordcount.create_wordcount_index_for_document(cr.content_directory, document_name, dl)\n",
    "    pass\n",
    "\n"
   ]
  },
  {
   "cell_type": "code",
   "execution_count": 6,
   "metadata": {
    "collapsed": false
   },
   "outputs": [
    {
     "name": "stdout",
     "output_type": "stream",
     "text": [
      "saving corpus word count index ...  data_sets/mixed/txt/index_wordcount.hdf5\n"
     ]
    }
   ],
   "source": [
    "# merge document indices into a corpus index\n",
    "tmt.index_wordcount.merge_wordcount_indices_for_corpus(cr.content_directory)"
   ]
  },
  {
   "cell_type": "code",
   "execution_count": 7,
   "metadata": {
    "collapsed": false
   },
   "outputs": [
    {
     "name": "stdout",
     "output_type": "stream",
     "text": [
      "removed relevance index file:  data_sets/mixed/txt/index_relevance.hdf5\n",
      "saving corpus relevance index ...  data_sets/mixed/txt/index_relevance.hdf5\n"
     ]
    }
   ],
   "source": [
    "# delete and build relevance index\n",
    "\n",
    "tmt.index_relevance.delete_index(cr.content_directory)\n",
    "tmt.index_relevance.calculate_relevance_index(cr.content_directory)"
   ]
  },
  {
   "cell_type": "code",
   "execution_count": 8,
   "metadata": {
    "collapsed": false
   },
   "outputs": [
    {
     "name": "stdout",
     "output_type": "stream",
     "text": [
      "removed doc similarity matrix file:  data_sets/mixed/txt/matrix.docsimilarity\n",
      "created  data_sets/mixed/txt/matrix.docsimilarity\n"
     ]
    }
   ],
   "source": [
    "# calculate document similarities\n",
    "\n",
    "# delete if already exists\n",
    "tmt.index_doc_similarity.delete_matrix(cr.content_directory)\n",
    "\n",
    "# calclate doc1-doc2 similarity\n",
    "tmt.index_doc_similarity.create_doc_similarity_matrix(cr.content_directory)"
   ]
  },
  {
   "cell_type": "code",
   "execution_count": 9,
   "metadata": {
    "collapsed": false
   },
   "outputs": [],
   "source": [
    "#tmt.index_doc_similarity.print_matrix(cr.content_directory)"
   ]
  },
  {
   "cell_type": "code",
   "execution_count": 10,
   "metadata": {
    "collapsed": false,
    "scrolled": true
   },
   "outputs": [
    {
     "data": {
      "text/html": [
       "<div>\n",
       "<table border=\"1\" class=\"dataframe\">\n",
       "  <thead>\n",
       "    <tr style=\"text-align: right;\">\n",
       "      <th></th>\n",
       "      <th>doc1</th>\n",
       "      <th>doc2</th>\n",
       "      <th>similarity</th>\n",
       "    </tr>\n",
       "  </thead>\n",
       "  <tbody>\n",
       "    <tr>\n",
       "      <th>0</th>\n",
       "      <td>C05739561.txt</td>\n",
       "      <td>C05739546.txt</td>\n",
       "      <td>1.000000</td>\n",
       "    </tr>\n",
       "    <tr>\n",
       "      <th>1</th>\n",
       "      <td>C05739561.txt</td>\n",
       "      <td>C05739554.txt</td>\n",
       "      <td>0.997375</td>\n",
       "    </tr>\n",
       "    <tr>\n",
       "      <th>2</th>\n",
       "      <td>C05739565.txt</td>\n",
       "      <td>C05739563.txt</td>\n",
       "      <td>0.992705</td>\n",
       "    </tr>\n",
       "    <tr>\n",
       "      <th>3</th>\n",
       "      <td>C05739554.txt</td>\n",
       "      <td>C05739546.txt</td>\n",
       "      <td>0.991492</td>\n",
       "    </tr>\n",
       "    <tr>\n",
       "      <th>4</th>\n",
       "      <td>the-report-of-the-iraq-inquiry_section-33.txt</td>\n",
       "      <td>the-report-of-the-iraq-inquiry_section-32.txt</td>\n",
       "      <td>0.950962</td>\n",
       "    </tr>\n",
       "    <tr>\n",
       "      <th>5</th>\n",
       "      <td>the-report-of-the-iraq-inquiry_section-34.txt</td>\n",
       "      <td>the-report-of-the-iraq-inquiry_section-33.txt</td>\n",
       "      <td>0.926943</td>\n",
       "    </tr>\n",
       "    <tr>\n",
       "      <th>6</th>\n",
       "      <td>the-report-of-the-iraq-inquiry_section-34.txt</td>\n",
       "      <td>the-report-of-the-iraq-inquiry_section-32.txt</td>\n",
       "      <td>0.925336</td>\n",
       "    </tr>\n",
       "    <tr>\n",
       "      <th>7</th>\n",
       "      <td>the-report-of-the-iraq-inquiry_section-32.txt</td>\n",
       "      <td>the-report-of-the-iraq-inquiry_section-31.txt</td>\n",
       "      <td>0.916514</td>\n",
       "    </tr>\n",
       "    <tr>\n",
       "      <th>8</th>\n",
       "      <td>the-report-of-the-iraq-inquiry_section-34.txt</td>\n",
       "      <td>the-report-of-the-iraq-inquiry_section-31.txt</td>\n",
       "      <td>0.887027</td>\n",
       "    </tr>\n",
       "    <tr>\n",
       "      <th>9</th>\n",
       "      <td>the-report-of-the-iraq-inquiry_section-33.txt</td>\n",
       "      <td>the-report-of-the-iraq-inquiry_section-31.txt</td>\n",
       "      <td>0.858477</td>\n",
       "    </tr>\n",
       "    <tr>\n",
       "      <th>10</th>\n",
       "      <td>the-report-of-the-iraq-inquiry_section-31.txt</td>\n",
       "      <td>the-report-of-the-iraq-inquiry_section-12.txt</td>\n",
       "      <td>0.845943</td>\n",
       "    </tr>\n",
       "    <tr>\n",
       "      <th>11</th>\n",
       "      <td>the-report-of-the-iraq-inquiry_section-32.txt</td>\n",
       "      <td>the-report-of-the-iraq-inquiry_section-12.txt</td>\n",
       "      <td>0.788654</td>\n",
       "    </tr>\n",
       "    <tr>\n",
       "      <th>12</th>\n",
       "      <td>the-report-of-the-iraq-inquiry_section-34.txt</td>\n",
       "      <td>the-report-of-the-iraq-inquiry_section-12.txt</td>\n",
       "      <td>0.758289</td>\n",
       "    </tr>\n",
       "    <tr>\n",
       "      <th>13</th>\n",
       "      <td>the-report-of-the-iraq-inquiry_section-33.txt</td>\n",
       "      <td>the-report-of-the-iraq-inquiry_section-12.txt</td>\n",
       "      <td>0.742125</td>\n",
       "    </tr>\n",
       "    <tr>\n",
       "      <th>14</th>\n",
       "      <td>C05739567.txt</td>\n",
       "      <td>C05739545.txt</td>\n",
       "      <td>0.706729</td>\n",
       "    </tr>\n",
       "    <tr>\n",
       "      <th>15</th>\n",
       "      <td>the-report-of-the-iraq-inquiry_section-34.txt</td>\n",
       "      <td>the-report-of-the-iraq-inquiry_section-11.txt</td>\n",
       "      <td>0.700997</td>\n",
       "    </tr>\n",
       "    <tr>\n",
       "      <th>16</th>\n",
       "      <td>the-report-of-the-iraq-inquiry_section-31.txt</td>\n",
       "      <td>the-report-of-the-iraq-inquiry_section-11.txt</td>\n",
       "      <td>0.686425</td>\n",
       "    </tr>\n",
       "    <tr>\n",
       "      <th>17</th>\n",
       "      <td>the-report-of-the-iraq-inquiry_section-12.txt</td>\n",
       "      <td>the-report-of-the-iraq-inquiry_section-11.txt</td>\n",
       "      <td>0.665006</td>\n",
       "    </tr>\n",
       "    <tr>\n",
       "      <th>18</th>\n",
       "      <td>the-report-of-the-iraq-inquiry_section-32.txt</td>\n",
       "      <td>the-report-of-the-iraq-inquiry_section-11.txt</td>\n",
       "      <td>0.651868</td>\n",
       "    </tr>\n",
       "    <tr>\n",
       "      <th>19</th>\n",
       "      <td>the-report-of-the-iraq-inquiry_section-33.txt</td>\n",
       "      <td>the-report-of-the-iraq-inquiry_section-20.txt</td>\n",
       "      <td>0.647377</td>\n",
       "    </tr>\n",
       "  </tbody>\n",
       "</table>\n",
       "</div>"
      ],
      "text/plain": [
       "                                             doc1  \\\n",
       "0                                   C05739561.txt   \n",
       "1                                   C05739561.txt   \n",
       "2                                   C05739565.txt   \n",
       "3                                   C05739554.txt   \n",
       "4   the-report-of-the-iraq-inquiry_section-33.txt   \n",
       "5   the-report-of-the-iraq-inquiry_section-34.txt   \n",
       "6   the-report-of-the-iraq-inquiry_section-34.txt   \n",
       "7   the-report-of-the-iraq-inquiry_section-32.txt   \n",
       "8   the-report-of-the-iraq-inquiry_section-34.txt   \n",
       "9   the-report-of-the-iraq-inquiry_section-33.txt   \n",
       "10  the-report-of-the-iraq-inquiry_section-31.txt   \n",
       "11  the-report-of-the-iraq-inquiry_section-32.txt   \n",
       "12  the-report-of-the-iraq-inquiry_section-34.txt   \n",
       "13  the-report-of-the-iraq-inquiry_section-33.txt   \n",
       "14                                  C05739567.txt   \n",
       "15  the-report-of-the-iraq-inquiry_section-34.txt   \n",
       "16  the-report-of-the-iraq-inquiry_section-31.txt   \n",
       "17  the-report-of-the-iraq-inquiry_section-12.txt   \n",
       "18  the-report-of-the-iraq-inquiry_section-32.txt   \n",
       "19  the-report-of-the-iraq-inquiry_section-33.txt   \n",
       "\n",
       "                                             doc2  similarity  \n",
       "0                                   C05739546.txt    1.000000  \n",
       "1                                   C05739554.txt    0.997375  \n",
       "2                                   C05739563.txt    0.992705  \n",
       "3                                   C05739546.txt    0.991492  \n",
       "4   the-report-of-the-iraq-inquiry_section-32.txt    0.950962  \n",
       "5   the-report-of-the-iraq-inquiry_section-33.txt    0.926943  \n",
       "6   the-report-of-the-iraq-inquiry_section-32.txt    0.925336  \n",
       "7   the-report-of-the-iraq-inquiry_section-31.txt    0.916514  \n",
       "8   the-report-of-the-iraq-inquiry_section-31.txt    0.887027  \n",
       "9   the-report-of-the-iraq-inquiry_section-31.txt    0.858477  \n",
       "10  the-report-of-the-iraq-inquiry_section-12.txt    0.845943  \n",
       "11  the-report-of-the-iraq-inquiry_section-12.txt    0.788654  \n",
       "12  the-report-of-the-iraq-inquiry_section-12.txt    0.758289  \n",
       "13  the-report-of-the-iraq-inquiry_section-12.txt    0.742125  \n",
       "14                                  C05739545.txt    0.706729  \n",
       "15  the-report-of-the-iraq-inquiry_section-11.txt    0.700997  \n",
       "16  the-report-of-the-iraq-inquiry_section-11.txt    0.686425  \n",
       "17  the-report-of-the-iraq-inquiry_section-11.txt    0.665006  \n",
       "18  the-report-of-the-iraq-inquiry_section-11.txt    0.651868  \n",
       "19  the-report-of-the-iraq-inquiry_section-20.txt    0.647377  "
      ]
     },
     "execution_count": 10,
     "metadata": {},
     "output_type": "execute_result"
    }
   ],
   "source": [
    "# get document similarities order by value\n",
    "doc1_doc2_similarity = tmt.index_doc_similarity.get_doc_pairs_by_similarity(cr.content_directory)\n",
    "doc1_doc2_similarity[:20]"
   ]
  },
  {
   "cell_type": "code",
   "execution_count": 20,
   "metadata": {
    "collapsed": false,
    "scrolled": false
   },
   "outputs": [
    {
     "data": {
      "text/html": [
       "<div id=\"d3-container-4671322\"></div>\n",
       "<div>force-directed graph</div>\n",
       "\n",
       "<style>\n",
       "    .links line {\n",
       "        stroke: #999;\n",
       "        stroke-opacity: .1;\n",
       "    }\n",
       "\n",
       "    .nodes circle {\n",
       "        pointer-events: all;\n",
       "        stroke: #fff;\n",
       "        fill: #333;\n",
       "        stroke-width: 1.5px;\n",
       "        opacity: 0.7;\n",
       "    }\n",
       "\n",
       "    .nodes text {\n",
       "        pointer-events: none;\n",
       "        font: 10px sans-serif;\n",
       "        fill: #333;\n",
       "        opacity: .5;\n",
       "    }\n",
       "</style>\n"
      ]
     },
     "metadata": {},
     "output_type": "display_data"
    },
    {
     "data": {
      "application/javascript": [
       "// require is needed to make d3 work in jupyter notebooks from imported code\n",
       "require.config({\n",
       "    paths: {\n",
       "        d3: \"https://d3js.org/d3.v4.min\"\n",
       "    }\n",
       "});\n",
       "\n",
       "require([\"d3\"], function(d3) {\n",
       "    //console.log(d3.version);\n",
       "\n",
       "    var width = 800,\n",
       "        height = 600;\n",
       "\n",
       "    var svg = d3.select(\"#d3-container-4671322\")\n",
       "        .append(\"svg\")\n",
       "        .attr(\"width\", width)\n",
       "        .attr(\"height\", height);\n",
       "\n",
       "    var colour = d3.scaleOrdinal(d3.schemeCategory20c);\n",
       "\n",
       "    var graph = {\n",
       "        nodes: [{'id': 'C05739562.txt'}, {'id': 'C05739561.txt'}, {'id': 'the-report-of-the-iraq-inquiry_section_annex-1.txt'}, {'id': '05.txt'}, {'id': 'macbeth_act_01_scene_04.txt'}, {'id': '13.txt'}, {'id': 'C05739559.txt'}, {'id': '03.txt'}, {'id': 'macbeth_act_01_scene_05.txt'}, {'id': '08.txt'}, {'id': 'macbeth_act_02_scene_02.txt'}, {'id': '09.txt'}, {'id': 'C05739547.txt'}, {'id': 'macbeth_act_02_scene_04.txt'}, {'id': '04.txt'}, {'id': 'the-report-of-the-iraq-inquiry_section_annex-3.txt'}, {'id': '12.txt'}, {'id': 'macbeth_act_01_scene_03.txt'}, {'id': 'C05739550.txt'}, {'id': 'C05739567.txt'}, {'id': 'macbeth_act_01_scene_06.txt'}, {'id': '10.txt'}, {'id': 'the-report-of-the-iraq-inquiry_section-12.txt'}, {'id': 'C05739563.txt'}, {'id': 'the-report-of-the-iraq-inquiry_section-34.txt'}, {'id': 'macbeth_act_02_scene_01.txt'}, {'id': 'C05739565.txt'}, {'id': 'the-report-of-the-iraq-inquiry_section-32.txt'}, {'id': 'the-report-of-the-iraq-inquiry_section_annex-2.txt'}, {'id': '07.txt'}, {'id': 'the-report-of-the-iraq-inquiry_section-11.txt'}, {'id': 'C05739564.txt'}, {'id': 'macbeth_act_02_scene_03.txt'}, {'id': 'macbeth_act_03_scene_01.txt'}, {'id': 'C05739545.txt'}, {'id': 'the-report-of-the-iraq-inquiry_section_annex-5.txt'}, {'id': '06.txt'}, {'id': 'the-report-of-the-iraq-inquiry_section_annex-4.txt'}, {'id': '11.txt'}, {'id': 'the-report-of-the-iraq-inquiry_section-31.txt'}, {'id': 'the-report-of-the-iraq-inquiry_section-20.txt'}, {'id': 'C05739560.txt'}, {'id': 'the-report-of-the-iraq-inquiry_section-15-1.txt'}, {'id': 'macbeth_act_01_scene_07.txt'}, {'id': 'C05739546.txt'}, {'id': 'macbeth_act_01_scene_02.txt'}, {'id': '01.txt'}, {'id': 'C05739554.txt'}, {'id': 'the-report-of-the-iraq-inquiry_section-33.txt'}, {'id': 'macbeth_act_03_scene_02.txt'}],\n",
       "        links: [{'source': 0, 'similarity': 0.44749479424923394, 'target': 1}, {'source': 0, 'similarity': 0.42062895935954153, 'target': 18}, {'source': 0, 'similarity': 0.45973155233170077, 'target': 19}, {'source': 0, 'similarity': 0.3194227809943333, 'target': 31}, {'source': 0, 'similarity': 0.4023352945791855, 'target': 41}, {'source': 0, 'similarity': 0.42438063172734924, 'target': 6}, {'source': 0, 'similarity': 0.4670138156010103, 'target': 34}, {'source': 0, 'similarity': 0.5268810208427599, 'target': 23}, {'source': 0, 'similarity': 0.4633061611071095, 'target': 12}, {'source': 0, 'similarity': 0.4471077359367863, 'target': 47}, {'source': 0, 'similarity': 0.40810847290387153, 'target': 44}, {'source': 0, 'similarity': 0.5264409394027988, 'target': 26}, {'source': 1, 'similarity': 0.4256587897731975, 'target': 6}, {'source': 1, 'similarity': 0.41475197735692093, 'target': 18}, {'source': 1, 'similarity': 0.4595466510562811, 'target': 19}, {'source': 1, 'similarity': 0.307590610820149, 'target': 31}, {'source': 1, 'similarity': 0.33494152763833623, 'target': 41}, {'source': 1, 'similarity': 0.4533895496684556, 'target': 34}, {'source': 1, 'similarity': 1.0, 'target': 44}, {'source': 1, 'similarity': 0.583224141312259, 'target': 23}, {'source': 1, 'similarity': 0.39281446452373514, 'target': 12}, {'source': 1, 'similarity': 0.9973745898690288, 'target': 47}, {'source': 1, 'similarity': 0.5838580206783128, 'target': 26}, {'source': 2, 'similarity': 0.35101010629148316, 'target': 24}, {'source': 2, 'similarity': 0.36086335080519216, 'target': 28}, {'source': 2, 'similarity': 0.3977951904171838, 'target': 22}, {'source': 2, 'similarity': 0.38325225999584184, 'target': 30}, {'source': 2, 'similarity': 0.3914656455305409, 'target': 39}, {'source': 2, 'similarity': 0.36900989349743785, 'target': 40}, {'source': 2, 'similarity': 0.35806158465234617, 'target': 48}, {'source': 2, 'similarity': 0.4447739295975492, 'target': 42}, {'source': 2, 'similarity': 0.3846711165050376, 'target': 27}, {'source': 2, 'similarity': 0.2927117433884484, 'target': 15}, {'source': 3, 'similarity': 0.2868015893776115, 'target': 36}, {'source': 4, 'similarity': 0.3393930537647508, 'target': 8}, {'source': 4, 'similarity': 0.3372406859270907, 'target': 25}, {'source': 4, 'similarity': 0.3815573745363002, 'target': 17}, {'source': 4, 'similarity': 0.2769638441126901, 'target': 49}, {'source': 4, 'similarity': 0.3308694947407176, 'target': 20}, {'source': 4, 'similarity': 0.28883225936027773, 'target': 32}, {'source': 4, 'similarity': 0.41970007479297655, 'target': 33}, {'source': 4, 'similarity': 0.31543153678161273, 'target': 43}, {'source': 4, 'similarity': 0.2934417519574709, 'target': 45}, {'source': 5, 'similarity': 0.2404235731671723, 'target': 16}, {'source': 5, 'similarity': 0.335993595070304, 'target': 29}, {'source': 6, 'similarity': 0.5444201403843003, 'target': 18}, {'source': 6, 'similarity': 0.5851937827327548, 'target': 19}, {'source': 6, 'similarity': 0.26775673051121945, 'target': 31}, {'source': 6, 'similarity': 0.4446217837645219, 'target': 41}, {'source': 6, 'similarity': 0.6067706454672045, 'target': 34}, {'source': 6, 'similarity': 0.35351414234781475, 'target': 44}, {'source': 6, 'similarity': 0.508248923182714, 'target': 23}, {'source': 6, 'similarity': 0.5235372726767532, 'target': 12}, {'source': 6, 'similarity': 0.42749008314040177, 'target': 47}, {'source': 6, 'similarity': 0.5081782239878746, 'target': 26}, {'source': 7, 'similarity': 0.2612431702372223, 'target': 16}, {'source': 7, 'similarity': 0.24706629417118897, 'target': 21}, {'source': 7, 'similarity': 0.25714572592461055, 'target': 9}, {'source': 7, 'similarity': 0.3125748403569888, 'target': 14}, {'source': 7, 'similarity': 0.28934736723800525, 'target': 46}, {'source': 8, 'similarity': 0.3530029689029783, 'target': 33}, {'source': 8, 'similarity': 0.43775452847132323, 'target': 17}, {'source': 8, 'similarity': 0.3593941109650945, 'target': 49}, {'source': 8, 'similarity': 0.2874285220933263, 'target': 32}, {'source': 8, 'similarity': 0.34966702453765935, 'target': 25}, {'source': 8, 'similarity': 0.36990138317472293, 'target': 43}, {'source': 8, 'similarity': 0.31361894390507655, 'target': 10}, {'source': 9, 'similarity': 0.2789054011568741, 'target': 21}, {'source': 9, 'similarity': 0.2912787646400668, 'target': 38}, {'source': 9, 'similarity': 0.2565426349581132, 'target': 14}, {'source': 10, 'similarity': 0.27159152194986386, 'target': 25}, {'source': 10, 'similarity': 0.34240071691940105, 'target': 17}, {'source': 10, 'similarity': 0.38749076427102624, 'target': 49}, {'source': 10, 'similarity': 0.3927749030655585, 'target': 32}, {'source': 10, 'similarity': 0.3581288251571664, 'target': 33}, {'source': 10, 'similarity': 0.35579502464040325, 'target': 43}, {'source': 11, 'similarity': 0.31119640400074106, 'target': 38}, {'source': 11, 'similarity': 0.25566135214993896, 'target': 14}, {'source': 12, 'similarity': 0.5444935636772746, 'target': 18}, {'source': 12, 'similarity': 0.5359201546663681, 'target': 19}, {'source': 12, 'similarity': 0.2540563567206186, 'target': 31}, {'source': 12, 'similarity': 0.3573004873932518, 'target': 41}, {'source': 12, 'similarity': 0.5613711352872301, 'target': 34}, {'source': 12, 'similarity': 0.46845674828138123, 'target': 23}, {'source': 12, 'similarity': 0.3947381852063064, 'target': 47}, {'source': 12, 'similarity': 0.32710911960675443, 'target': 44}, {'source': 12, 'similarity': 0.4683915843166192, 'target': 26}, {'source': 13, 'similarity': 0.2424207669861335, 'target': 45}, {'source': 13, 'similarity': 0.28116105972062394, 'target': 32}, {'source': 15, 'similarity': 0.24330903640098425, 'target': 30}, {'source': 15, 'similarity': 0.456804021093741, 'target': 28}, {'source': 15, 'similarity': 0.28916869999540296, 'target': 22}, {'source': 15, 'similarity': 0.2580006886413921, 'target': 48}, {'source': 15, 'similarity': 0.24750192116295258, 'target': 24}, {'source': 15, 'similarity': 0.27706933510692633, 'target': 39}, {'source': 15, 'similarity': 0.43157467103349684, 'target': 40}, {'source': 15, 'similarity': 0.37709121247361205, 'target': 42}, {'source': 15, 'similarity': 0.25527125006760126, 'target': 27}, {'source': 15, 'similarity': 0.28524238483647574, 'target': 35}, {'source': 17, 'similarity': 0.2633946965085755, 'target': 20}, {'source': 17, 'similarity': 0.40015842457029743, 'target': 25}, {'source': 17, 'similarity': 0.3513180919200501, 'target': 45}, {'source': 17, 'similarity': 0.3634239058591692, 'target': 32}, {'source': 17, 'similarity': 0.4640357075909097, 'target': 33}, {'source': 17, 'similarity': 0.3507074611917739, 'target': 43}, {'source': 17, 'similarity': 0.28485749588631293, 'target': 49}, {'source': 18, 'similarity': 0.5605683056570779, 'target': 19}, {'source': 18, 'similarity': 0.262794879352212, 'target': 31}, {'source': 18, 'similarity': 0.3605122136121835, 'target': 41}, {'source': 18, 'similarity': 0.58636895565169, 'target': 34}, {'source': 18, 'similarity': 0.49073699040373614, 'target': 23}, {'source': 18, 'similarity': 0.4167864948174064, 'target': 47}, {'source': 18, 'similarity': 0.3464815055588316, 'target': 44}, {'source': 18, 'similarity': 0.4906892285555808, 'target': 26}, {'source': 19, 'similarity': 0.3304173960002197, 'target': 31}, {'source': 19, 'similarity': 0.36428915110210625, 'target': 41}, {'source': 19, 'similarity': 0.7067288560957714, 'target': 34}, {'source': 19, 'similarity': 0.540713276707795, 'target': 23}, {'source': 19, 'similarity': 0.4617944619130368, 'target': 47}, {'source': 19, 'similarity': 0.39173661944279364, 'target': 44}, {'source': 19, 'similarity': 0.5406380616083456, 'target': 26}, {'source': 20, 'similarity': 0.24982952649697623, 'target': 45}, {'source': 20, 'similarity': 0.25030428561608653, 'target': 49}, {'source': 20, 'similarity': 0.24746230437386163, 'target': 32}, {'source': 20, 'similarity': 0.3032749597875099, 'target': 33}, {'source': 20, 'similarity': 0.278769104528419, 'target': 43}, {'source': 21, 'similarity': 0.4442729002781015, 'target': 38}, {'source': 22, 'similarity': 0.758289495067247, 'target': 24}, {'source': 22, 'similarity': 0.33998833777354115, 'target': 28}, {'source': 22, 'similarity': 0.24993106978058208, 'target': 35}, {'source': 22, 'similarity': 0.6650059928988391, 'target': 30}, {'source': 22, 'similarity': 0.8459432402131324, 'target': 39}, {'source': 22, 'similarity': 0.5804547925870238, 'target': 40}, {'source': 22, 'similarity': 0.7421248528138874, 'target': 48}, {'source': 22, 'similarity': 0.5657052861028385, 'target': 42}, {'source': 22, 'similarity': 0.7886544087759481, 'target': 27}, {'source': 23, 'similarity': 0.32013732559783, 'target': 31}, {'source': 23, 'similarity': 0.4124486831356069, 'target': 41}, {'source': 23, 'similarity': 0.5450133179045072, 'target': 34}, {'source': 23, 'similarity': 0.5831488805191405, 'target': 47}, {'source': 23, 'similarity': 0.5327423657297221, 'target': 44}, {'source': 23, 'similarity': 0.9927047864419036, 'target': 26}, {'source': 24, 'similarity': 0.2915723747016702, 'target': 28}, {'source': 24, 'similarity': 0.700997116878535, 'target': 30}, {'source': 24, 'similarity': 0.8870273744660889, 'target': 39}, {'source': 24, 'similarity': 0.5507672833363793, 'target': 40}, {'source': 24, 'similarity': 0.9269425259616447, 'target': 48}, {'source': 24, 'similarity': 0.5066078582486708, 'target': 42}, {'source': 24, 'similarity': 0.9253359660044191, 'target': 27}, {'source': 25, 'similarity': 0.2905747599331938, 'target': 49}, {'source': 25, 'similarity': 0.2931139995624782, 'target': 32}, {'source': 25, 'similarity': 0.4051933551200811, 'target': 33}, {'source': 25, 'similarity': 0.301027759235889, 'target': 43}, {'source': 26, 'similarity': 0.3201344752379884, 'target': 31}, {'source': 26, 'similarity': 0.41237200006700603, 'target': 41}, {'source': 26, 'similarity': 0.5449161285195168, 'target': 34}, {'source': 26, 'similarity': 0.5837862817289392, 'target': 47}, {'source': 26, 'similarity': 0.533469777857096, 'target': 44}, {'source': 27, 'similarity': 0.29821275886688337, 'target': 28}, {'source': 27, 'similarity': 0.2396913151924314, 'target': 35}, {'source': 27, 'similarity': 0.6518684937883119, 'target': 30}, {'source': 27, 'similarity': 0.9165136943810289, 'target': 39}, {'source': 27, 'similarity': 0.6373645148442968, 'target': 40}, {'source': 27, 'similarity': 0.9509623326014038, 'target': 48}, {'source': 27, 'similarity': 0.5353624900332475, 'target': 42}, {'source': 28, 'similarity': 0.2778318047379997, 'target': 48}, {'source': 28, 'similarity': 0.3939293591447093, 'target': 30}, {'source': 28, 'similarity': 0.3288941940037698, 'target': 39}, {'source': 28, 'similarity': 0.41361606076130714, 'target': 40}, {'source': 28, 'similarity': 0.4239874410872739, 'target': 42}, {'source': 30, 'similarity': 0.6864245398628083, 'target': 39}, {'source': 30, 'similarity': 0.4517891699628196, 'target': 40}, {'source': 30, 'similarity': 0.6005964215616169, 'target': 48}, {'source': 30, 'similarity': 0.504630452103765, 'target': 42}, {'source': 31, 'similarity': 0.30854415052542816, 'target': 47}, {'source': 31, 'similarity': 0.3425364821760438, 'target': 34}, {'source': 31, 'similarity': 0.28186491535811226, 'target': 44}, {'source': 32, 'similarity': 0.4121863105224195, 'target': 33}, {'source': 32, 'similarity': 0.3174917060288329, 'target': 43}, {'source': 32, 'similarity': 0.3132211780610858, 'target': 49}, {'source': 33, 'similarity': 0.39188826156112877, 'target': 49}, {'source': 33, 'similarity': 0.40371469185170106, 'target': 43}, {'source': 34, 'similarity': 0.38289115978973715, 'target': 41}, {'source': 34, 'similarity': 0.3787482550481892, 'target': 44}, {'source': 34, 'similarity': 0.45561374206183874, 'target': 47}, {'source': 35, 'similarity': 0.25160153342164093, 'target': 39}, {'source': 35, 'similarity': 0.2991352767374631, 'target': 40}, {'source': 35, 'similarity': 0.24223947216122388, 'target': 48}, {'source': 35, 'similarity': 0.28643848662020344, 'target': 42}, {'source': 37, 'similarity': 0.2879437737634926, 'target': 42}, {'source': 39, 'similarity': 0.6020534599186115, 'target': 40}, {'source': 39, 'similarity': 0.8584769050615599, 'target': 48}, {'source': 39, 'similarity': 0.5441079462567064, 'target': 42}, {'source': 40, 'similarity': 0.6473765720105527, 'target': 48}, {'source': 40, 'similarity': 0.5889753246391946, 'target': 42}, {'source': 41, 'similarity': 0.33378920290426395, 'target': 47}, {'source': 41, 'similarity': 0.2989380650568122, 'target': 44}, {'source': 42, 'similarity': 0.5370100002183301, 'target': 48}, {'source': 43, 'similarity': 0.3173664894213173, 'target': 49}, {'source': 44, 'similarity': 0.9914917741015495, 'target': 47}]\n",
       "    };\n",
       "\n",
       "    var simulation = d3.forceSimulation(graph.nodes)\n",
       "        .force(\"link\", d3.forceLink(graph.links).distance(function(d){return 10 / d.similarity;}))\n",
       "        .force(\"charge\", d3.forceManyBody().strength(-20))\n",
       "        .force(\"radius\", d3.forceCollide(15))\n",
       "        .force(\"center\", d3.forceCenter(width / 2.0, height / 2.0));\n",
       "\n",
       "    var link = svg.append(\"g\")\n",
       "        .attr(\"class\", \"links\")\n",
       "        .selectAll(\"line\")\n",
       "        .data(graph.links)\n",
       "        .enter().append(\"line\")\n",
       "        .style(\"stroke-linecap\", \"round\")\n",
       "        .style(\"stroke\", function(d) {return colour(d.similarity);})\n",
       "        .style(\"stroke-width\", function (d) {return Math.sqrt(d.similarity*10);});\n",
       "\n",
       "    var node = svg.append(\"g\")\n",
       "        .attr(\"class\", \"nodes\")\n",
       "        .selectAll(\"g\")\n",
       "        .data(graph.nodes)\n",
       "        .enter().append(\"g\");\n",
       "\n",
       "    var circle = node.append(\"circle\")\n",
       "        .attr(\"r\", 4.5)\n",
       "        .call(d3.drag()\n",
       "            .on(\"start\", dragstarted)\n",
       "            .on(\"drag\", dragged)\n",
       "            .on(\"end\", dragended));\n",
       "\n",
       "    //node.append(\"title\")\n",
       "    //    .text(function(d) { return d.id; });\n",
       "\n",
       "    var t2 = node.append(\"text\")\n",
       "      .attr(\"dx\", 10)\n",
       "      .attr(\"dy\", \".35em\")\n",
       "      .text(function(d) { return d.id; });\n",
       "\n",
       "    simulation\n",
       "        .on(\"tick\", ticked);\n",
       "\n",
       "    function ticked() {\n",
       "        link\n",
       "            .attr(\"x1\", function(d) { return d.source.x; })\n",
       "            .attr(\"y1\", function(d) { return d.source.y; })\n",
       "            .attr(\"x2\", function(d) { return d.target.x; })\n",
       "            .attr(\"y2\", function(d) { return d.target.y; });\n",
       "\n",
       "        circle\n",
       "            .attr(\"cx\", function(d) { return d.x; })\n",
       "            .attr(\"cy\", function(d) { return d.y; });\n",
       "\n",
       "        t2\n",
       "            .attr(\"x\", function(d) { return d.x; })\n",
       "            .attr(\"y\", function(d) { return d.y; });\n",
       "    };\n",
       "\n",
       "    function dragstarted(d) {\n",
       "        if (!d3.event.active) simulation.alphaTarget(0.3).restart();\n",
       "        d.fx = d.x;\n",
       "        d.fy = d.y;\n",
       "    };\n",
       "\n",
       "    function dragged(d) {\n",
       "        d.fx = d3.event.x;\n",
       "        d.fy = d3.event.y;\n",
       "    };\n",
       "\n",
       "    function dragended(d) {\n",
       "        if (!d3.event.active) simulation.alphaTarget(0);\n",
       "        d.fx = null;\n",
       "        d.fy = null;\n",
       "    };\n",
       "\n",
       "});\n",
       "\n"
      ]
     },
     "metadata": {},
     "output_type": "display_data"
    }
   ],
   "source": [
    "# visualise the doc similarities\n",
    "tmt.visualisation.plot_force_directed_graph(doc1_doc2_similarity[:200])"
   ]
  },
  {
   "cell_type": "code",
   "execution_count": null,
   "metadata": {
    "collapsed": true
   },
   "outputs": [],
   "source": []
  }
 ],
 "metadata": {
  "anaconda-cloud": {},
  "kernelspec": {
   "display_name": "Python [conda root]",
   "language": "python",
   "name": "conda-root-py"
  },
  "language_info": {
   "codemirror_mode": {
    "name": "ipython",
    "version": 3
   },
   "file_extension": ".py",
   "mimetype": "text/x-python",
   "name": "python",
   "nbconvert_exporter": "python",
   "pygments_lexer": "ipython3",
   "version": "3.5.2"
  }
 },
 "nbformat": 4,
 "nbformat_minor": 0
}
