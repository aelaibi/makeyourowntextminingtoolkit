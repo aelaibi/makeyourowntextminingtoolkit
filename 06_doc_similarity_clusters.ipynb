{
 "cells": [
  {
   "cell_type": "code",
   "execution_count": 1,
   "metadata": {
    "collapsed": true
   },
   "outputs": [],
   "source": [
    "# notebook to illustrate document similarity clusters"
   ]
  },
  {
   "cell_type": "code",
   "execution_count": 2,
   "metadata": {
    "collapsed": false
   },
   "outputs": [],
   "source": [
    "# following only used for development, reloads the modules with any code changes\n",
    "%load_ext autoreload\n",
    "%autoreload 2\n",
    "\n",
    "# inline matplotlib charts\n",
    "%matplotlib inline"
   ]
  },
  {
   "cell_type": "code",
   "execution_count": 3,
   "metadata": {
    "collapsed": false
   },
   "outputs": [],
   "source": [
    "# import our text mining toolkit\n",
    "import text_mining_toolkit as tmt"
   ]
  },
  {
   "cell_type": "code",
   "execution_count": 4,
   "metadata": {
    "collapsed": false
   },
   "outputs": [
    {
     "name": "stdout",
     "output_type": "stream",
     "text": [
      "content_directory =  data_sets/mixed/txt/\n",
      "text_filename_pattern =  *.txt\n",
      "self.documents populated =  52\n"
     ]
    }
   ],
   "source": [
    "#cr = tmt.corpus_reader.CorpusReader(content_directory=\"data_sets/recipes/txt/\", text_filename_pattern=\"??.txt\")\n",
    "#cr = tmt.corpus_reader.CorpusReader(directory_of_files=\"data_sets/mystery_corpus_01/txt/\", text_filename_pattern=\"??.txt\")\n",
    "#cr = tmt.corpus_reader.CorpusReader(content_directory=\"data_sets/iraq_inquiry/txt/\", text_filename_pattern=\"the-report*.txt\")\n",
    "#cr = tmt.corpus_reader.CorpusReader(content_directory=\"data_sets/clinton_emails/txt/\", text_filename_pattern=\"C0*.txt\")\n",
    "#cr = tmt.corpus_reader.CorpusReader(content_directory=\"data_sets/shakespeare_macbeth/txt/\", text_filename_pattern=\"macbeth_act_0?_scene_0?.txt\")\n",
    "cr = tmt.corpus_reader.CorpusReader(content_directory=\"data_sets/mixed/txt/\", text_filename_pattern=\"*.txt\")"
   ]
  },
  {
   "cell_type": "code",
   "execution_count": 5,
   "metadata": {
    "collapsed": false,
    "scrolled": true
   },
   "outputs": [
    {
     "name": "stdout",
     "output_type": "stream",
     "text": [
      "removed wordcount index file:  data_sets/mixed/txt/index_wordcount.hdf5\n",
      "processing  01.txt\n",
      "processing  02.txt\n",
      "processing  03.txt\n",
      "processing  04.txt\n",
      "processing  05.txt\n",
      "processing  06.txt\n",
      "processing  07.txt\n",
      "processing  08.txt\n",
      "processing  09.txt\n",
      "processing  10.txt\n",
      "processing  11.txt\n",
      "processing  12.txt\n",
      "processing  13.txt\n",
      "processing  C05739545.txt\n",
      "processing  C05739546.txt\n",
      "processing  C05739547.txt\n",
      "processing  C05739550.txt\n",
      "processing  C05739554.txt\n",
      "processing  C05739559.txt\n",
      "processing  C05739560.txt\n",
      "processing  C05739561.txt\n",
      "processing  C05739562.txt\n",
      "processing  C05739563.txt\n",
      "processing  C05739564.txt\n",
      "processing  C05739565.txt\n",
      "processing  C05739567.txt\n",
      "processing  macbeth_act_01_scene_01.txt\n",
      "processing  macbeth_act_01_scene_02.txt\n",
      "processing  macbeth_act_01_scene_03.txt\n",
      "processing  macbeth_act_01_scene_04.txt\n",
      "processing  macbeth_act_01_scene_05.txt\n",
      "processing  macbeth_act_01_scene_06.txt\n",
      "processing  macbeth_act_01_scene_07.txt\n",
      "processing  macbeth_act_02_scene_01.txt\n",
      "processing  macbeth_act_02_scene_02.txt\n",
      "processing  macbeth_act_02_scene_03.txt\n",
      "processing  macbeth_act_02_scene_04.txt\n",
      "processing  macbeth_act_03_scene_01.txt\n",
      "processing  macbeth_act_03_scene_02.txt\n",
      "processing  the-report-of-the-iraq-inquiry_section-11.txt\n",
      "processing  the-report-of-the-iraq-inquiry_section-12.txt\n",
      "processing  the-report-of-the-iraq-inquiry_section-15-1.txt\n",
      "processing  the-report-of-the-iraq-inquiry_section-20.txt\n",
      "processing  the-report-of-the-iraq-inquiry_section-31.txt\n",
      "processing  the-report-of-the-iraq-inquiry_section-32.txt\n",
      "processing  the-report-of-the-iraq-inquiry_section-33.txt\n",
      "processing  the-report-of-the-iraq-inquiry_section-34.txt\n",
      "processing  the-report-of-the-iraq-inquiry_section_annex-1.txt\n",
      "processing  the-report-of-the-iraq-inquiry_section_annex-2.txt\n",
      "processing  the-report-of-the-iraq-inquiry_section_annex-3.txt\n",
      "processing  the-report-of-the-iraq-inquiry_section_annex-4.txt\n",
      "processing  the-report-of-the-iraq-inquiry_section_annex-5.txt\n"
     ]
    }
   ],
   "source": [
    "# first clear index\n",
    "tmt.index_wordcount.delete_index(cr.content_directory)\n",
    "\n",
    "# for all documents in corpus\n",
    "for document_name in cr.get_documents():\n",
    "    print(\"processing \", document_name)\n",
    "\n",
    "    # get document text\n",
    "    document_text = cr.get_text_by_document(document_name)\n",
    "\n",
    "    # simplify whitespace (remove newlines)\n",
    "    b = tmt.text_processing.simplify_whitespace(document_text)\n",
    "\n",
    "    # only keep alphanumeric characters, removes punctuation\n",
    "    c = tmt.text_processing.keep_only_alphanumeric(b)\n",
    "\n",
    "    # make lowercase\n",
    "    d = tmt.text_processing.to_lowercase(c)\n",
    "\n",
    "    # split into words list\n",
    "    dl = tmt.text_processing.split_text_into_words(d)\n",
    "    \n",
    "    # build n-grams\n",
    "    #gl = tmt.word_processing.build_ngrams_from_words(dl,2)\n",
    "\n",
    "    # remove stop words\n",
    "    #el = tmt.word_processing.remove_stop_words(dl, \"./stopwords/minimal-stop.txt\")\n",
    "    \n",
    "    # update index\n",
    "    tmt.index_wordcount.create_wordcount_index_for_document(cr.content_directory, document_name, dl)\n",
    "    pass\n",
    "\n"
   ]
  },
  {
   "cell_type": "code",
   "execution_count": 6,
   "metadata": {
    "collapsed": false
   },
   "outputs": [
    {
     "name": "stdout",
     "output_type": "stream",
     "text": [
      "saving corpus word count index ...  data_sets/mixed/txt/index_wordcount.hdf5\n"
     ]
    }
   ],
   "source": [
    "# merge document indices into a corpus index\n",
    "tmt.index_wordcount.merge_wordcount_indices_for_corpus(cr.content_directory)"
   ]
  },
  {
   "cell_type": "code",
   "execution_count": 7,
   "metadata": {
    "collapsed": false
   },
   "outputs": [],
   "source": [
    "# tmt.index_wordcount.print_index(cr.content_directory)"
   ]
  },
  {
   "cell_type": "code",
   "execution_count": 8,
   "metadata": {
    "collapsed": false
   },
   "outputs": [
    {
     "data": {
      "text/plain": [
       "08.txt    3.0\n",
       "03.txt    3.0\n",
       "12.txt    2.0\n",
       "06.txt    1.0\n",
       "02.txt    1.0\n",
       "01.txt    1.0\n",
       "dtype: float64"
      ]
     },
     "execution_count": 8,
     "metadata": {},
     "output_type": "execute_result"
    }
   ],
   "source": [
    "tmt.index_wordcount.search_wordcount_index(cr.content_directory, \"bread milk\")"
   ]
  },
  {
   "cell_type": "code",
   "execution_count": 9,
   "metadata": {
    "collapsed": true
   },
   "outputs": [],
   "source": [
    "##"
   ]
  },
  {
   "cell_type": "code",
   "execution_count": 5,
   "metadata": {
    "collapsed": false
   },
   "outputs": [
    {
     "name": "stdout",
     "output_type": "stream",
     "text": [
      "removed doc similarity matrix file:  data_sets/mixed/txt/matrix.docsimilarity\n",
      "created  data_sets/mixed/txt/matrix.docsimilarity\n"
     ]
    }
   ],
   "source": [
    "# calculate document similarities\n",
    "\n",
    "# delete if already exists\n",
    "tmt.index_doc_similarity.delete_matrix(cr.content_directory)\n",
    "\n",
    "# calclate doc1-doc2 similarity\n",
    "tmt.index_doc_similarity.create_doc_similarity_matrix(cr.content_directory)"
   ]
  },
  {
   "cell_type": "code",
   "execution_count": 6,
   "metadata": {
    "collapsed": false
   },
   "outputs": [],
   "source": [
    "#tmt.index_doc_similarity.print_matrix(cr.content_directory)"
   ]
  },
  {
   "cell_type": "code",
   "execution_count": 7,
   "metadata": {
    "collapsed": false,
    "scrolled": true
   },
   "outputs": [
    {
     "data": {
      "text/html": [
       "<div>\n",
       "<table border=\"1\" class=\"dataframe\">\n",
       "  <thead>\n",
       "    <tr style=\"text-align: right;\">\n",
       "      <th></th>\n",
       "      <th>doc1</th>\n",
       "      <th>doc2</th>\n",
       "      <th>similarity</th>\n",
       "    </tr>\n",
       "  </thead>\n",
       "  <tbody>\n",
       "    <tr>\n",
       "      <th>0</th>\n",
       "      <td>11.txt</td>\n",
       "      <td>10.txt</td>\n",
       "      <td>1.000000</td>\n",
       "    </tr>\n",
       "    <tr>\n",
       "      <th>1</th>\n",
       "      <td>10.txt</td>\n",
       "      <td>06.txt</td>\n",
       "      <td>0.843739</td>\n",
       "    </tr>\n",
       "    <tr>\n",
       "      <th>2</th>\n",
       "      <td>10.txt</td>\n",
       "      <td>08.txt</td>\n",
       "      <td>0.827247</td>\n",
       "    </tr>\n",
       "    <tr>\n",
       "      <th>3</th>\n",
       "      <td>10.txt</td>\n",
       "      <td>07.txt</td>\n",
       "      <td>0.810582</td>\n",
       "    </tr>\n",
       "    <tr>\n",
       "      <th>4</th>\n",
       "      <td>12.txt</td>\n",
       "      <td>10.txt</td>\n",
       "      <td>0.809347</td>\n",
       "    </tr>\n",
       "    <tr>\n",
       "      <th>5</th>\n",
       "      <td>12.txt</td>\n",
       "      <td>11.txt</td>\n",
       "      <td>0.791245</td>\n",
       "    </tr>\n",
       "    <tr>\n",
       "      <th>6</th>\n",
       "      <td>11.txt</td>\n",
       "      <td>06.txt</td>\n",
       "      <td>0.781809</td>\n",
       "    </tr>\n",
       "    <tr>\n",
       "      <th>7</th>\n",
       "      <td>the-report-of-the-iraq-inquiry_section_annex-5...</td>\n",
       "      <td>10.txt</td>\n",
       "      <td>0.778167</td>\n",
       "    </tr>\n",
       "    <tr>\n",
       "      <th>8</th>\n",
       "      <td>10.txt</td>\n",
       "      <td>05.txt</td>\n",
       "      <td>0.768322</td>\n",
       "    </tr>\n",
       "    <tr>\n",
       "      <th>9</th>\n",
       "      <td>11.txt</td>\n",
       "      <td>08.txt</td>\n",
       "      <td>0.754004</td>\n",
       "    </tr>\n",
       "  </tbody>\n",
       "</table>\n",
       "</div>"
      ],
      "text/plain": [
       "                                                doc1    doc2  similarity\n",
       "0                                             11.txt  10.txt    1.000000\n",
       "1                                             10.txt  06.txt    0.843739\n",
       "2                                             10.txt  08.txt    0.827247\n",
       "3                                             10.txt  07.txt    0.810582\n",
       "4                                             12.txt  10.txt    0.809347\n",
       "5                                             12.txt  11.txt    0.791245\n",
       "6                                             11.txt  06.txt    0.781809\n",
       "7  the-report-of-the-iraq-inquiry_section_annex-5...  10.txt    0.778167\n",
       "8                                             10.txt  05.txt    0.768322\n",
       "9                                             11.txt  08.txt    0.754004"
      ]
     },
     "execution_count": 7,
     "metadata": {},
     "output_type": "execute_result"
    }
   ],
   "source": [
    "# get document similarities order by value\n",
    "doc1_doc2_similarity = tmt.index_doc_similarity.get_doc_pairs_by_similarity(cr.content_directory)\n",
    "doc1_doc2_similarity[:10]"
   ]
  },
  {
   "cell_type": "code",
   "execution_count": 45,
   "metadata": {
    "collapsed": false,
    "scrolled": false
   },
   "outputs": [
    {
     "data": {
      "text/html": [
       "<div id=\"d3-container-3499853\"></div>\n",
       "<div>force-directed graph</div>\n",
       "\n",
       "<style>\n",
       "    .links line {\n",
       "        stroke: #999;\n",
       "        stroke-opacity: .1;\n",
       "    }\n",
       "\n",
       "    .nodes circle {\n",
       "        pointer-events: all;\n",
       "        stroke: #fff;\n",
       "        fill: #333;\n",
       "        stroke-width: 1.5px;\n",
       "        opacity: 0.7;\n",
       "    }\n",
       "\n",
       "    .nodes text {\n",
       "        pointer-events: none;\n",
       "        font: 10px sans-serif;\n",
       "        fill: #333;\n",
       "        opacity: .5;\n",
       "    }\n",
       "</style>\n"
      ]
     },
     "metadata": {},
     "output_type": "display_data"
    },
    {
     "data": {
      "application/javascript": [
       "// require is needed to make d3 work in jupyter notebooks from imported code\n",
       "require.config({\n",
       "    paths: {\n",
       "        d3: \"https://d3js.org/d3.v4.min\"\n",
       "    }\n",
       "});\n",
       "\n",
       "require([\"d3\"], function(d3) {\n",
       "    //console.log(d3.version);\n",
       "\n",
       "    var width = 800,\n",
       "        height = 600;\n",
       "\n",
       "    var svg = d3.select(\"#d3-container-3499853\")\n",
       "        .append(\"svg\")\n",
       "        .attr(\"width\", width)\n",
       "        .attr(\"height\", height);\n",
       "\n",
       "    var colour = d3.scaleOrdinal(d3.schemeCategory20c);\n",
       "\n",
       "    var graph = {\n",
       "        nodes: [{'id': '06.txt'}, {'id': '07.txt'}, {'id': '10.txt'}, {'id': '12.txt'}, {'id': '08.txt'}, {'id': '11.txt'}],\n",
       "        links: [{'source': 0, 'target': 5, 'similarity': 0.7818090199042579}, {'source': 0, 'target': 2, 'similarity': 0.8437389770723103}, {'source': 1, 'target': 2, 'similarity': 0.8105820105820105}, {'source': 2, 'target': 5, 'similarity': 1.0}, {'source': 2, 'target': 3, 'similarity': 0.8093474426807757}, {'source': 2, 'target': 4, 'similarity': 0.8272474909246207}, {'source': 3, 'target': 5, 'similarity': 0.7912446460065506}]\n",
       "    };\n",
       "\n",
       "    var simulation = d3.forceSimulation(graph.nodes)\n",
       "        .force(\"link\", d3.forceLink(graph.links).distance(function(d){return 10 / d.similarity;}))\n",
       "        .force(\"charge\", d3.forceManyBody().strength(-20))\n",
       "        .force(\"radius\", d3.forceCollide(15))\n",
       "        .force(\"center\", d3.forceCenter(width / 2.0, height / 2.0));\n",
       "\n",
       "    var link = svg.append(\"g\")\n",
       "        .attr(\"class\", \"links\")\n",
       "        .selectAll(\"line\")\n",
       "        .data(graph.links)\n",
       "        .enter().append(\"line\")\n",
       "        .style(\"stroke-linecap\", \"round\")\n",
       "        //.style(\"stroke\", function(d) {return colour(d.similarity);})\n",
       "        .style(\"stroke-width\", function (d) {return Math.sqrt(d.similarity*10);});\n",
       "\n",
       "    var node = svg.append(\"g\")\n",
       "        .attr(\"class\", \"nodes\")\n",
       "        .selectAll(\"g\")\n",
       "        .data(graph.nodes)\n",
       "        .enter().append(\"g\");\n",
       "\n",
       "    var circle = node.append(\"circle\")\n",
       "        .attr(\"r\", 4.5)\n",
       "        .call(d3.drag()\n",
       "            .on(\"start\", dragstarted)\n",
       "            .on(\"drag\", dragged)\n",
       "            .on(\"end\", dragended));\n",
       "\n",
       "    //node.append(\"title\")\n",
       "    //    .text(function(d) { return d.id; });\n",
       "\n",
       "    var t2 = node.append(\"text\")\n",
       "      .attr(\"dx\", 10)\n",
       "      .attr(\"dy\", \".35em\")\n",
       "      .text(function(d) { return d.id; });\n",
       "\n",
       "    simulation\n",
       "        .on(\"tick\", ticked);\n",
       "\n",
       "    function ticked() {\n",
       "        link\n",
       "            .attr(\"x1\", function(d) { return d.source.x; })\n",
       "            .attr(\"y1\", function(d) { return d.source.y; })\n",
       "            .attr(\"x2\", function(d) { return d.target.x; })\n",
       "            .attr(\"y2\", function(d) { return d.target.y; });\n",
       "\n",
       "        circle\n",
       "            .attr(\"cx\", function(d) { return d.x; })\n",
       "            .attr(\"cy\", function(d) { return d.y; });\n",
       "\n",
       "        t2\n",
       "            .attr(\"x\", function(d) { return d.x; })\n",
       "            .attr(\"y\", function(d) { return d.y; });\n",
       "    };\n",
       "\n",
       "    function dragstarted(d) {\n",
       "        if (!d3.event.active) simulation.alphaTarget(0.3).restart();\n",
       "        d.fx = d.x;\n",
       "        d.fy = d.y;\n",
       "    };\n",
       "\n",
       "    function dragged(d) {\n",
       "        d.fx = d3.event.x;\n",
       "        d.fy = d3.event.y;\n",
       "    };\n",
       "\n",
       "    function dragended(d) {\n",
       "        if (!d3.event.active) simulation.alphaTarget(0);\n",
       "        d.fx = null;\n",
       "        d.fy = null;\n",
       "    };\n",
       "\n",
       "});\n",
       "\n"
      ]
     },
     "metadata": {},
     "output_type": "display_data"
    }
   ],
   "source": [
    "# visualise the doc similarities\n",
    "tmt.visualisation.plot_force_directed_graph(doc1_doc2_similarity[:7])"
   ]
  },
  {
   "cell_type": "code",
   "execution_count": null,
   "metadata": {
    "collapsed": true
   },
   "outputs": [],
   "source": []
  }
 ],
 "metadata": {
  "anaconda-cloud": {},
  "kernelspec": {
   "display_name": "Python [conda root]",
   "language": "python",
   "name": "conda-root-py"
  },
  "language_info": {
   "codemirror_mode": {
    "name": "ipython",
    "version": 3
   },
   "file_extension": ".py",
   "mimetype": "text/x-python",
   "name": "python",
   "nbconvert_exporter": "python",
   "pygments_lexer": "ipython3",
   "version": "3.5.2"
  }
 },
 "nbformat": 4,
 "nbformat_minor": 0
}
