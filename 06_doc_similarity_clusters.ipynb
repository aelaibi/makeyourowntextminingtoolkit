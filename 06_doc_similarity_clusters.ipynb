{
 "cells": [
  {
   "cell_type": "code",
   "execution_count": 1,
   "metadata": {
    "collapsed": true
   },
   "outputs": [],
   "source": [
    "# notebook to illustrate document similarity clusters"
   ]
  },
  {
   "cell_type": "code",
   "execution_count": 2,
   "metadata": {
    "collapsed": false
   },
   "outputs": [],
   "source": [
    "# following only used for development, reloads the modules with any code changes\n",
    "%load_ext autoreload\n",
    "%autoreload 2\n",
    "\n",
    "# inline matplotlib charts\n",
    "%matplotlib inline"
   ]
  },
  {
   "cell_type": "code",
   "execution_count": 3,
   "metadata": {
    "collapsed": false
   },
   "outputs": [],
   "source": [
    "# import our text mining toolkit\n",
    "import text_mining_toolkit as tmt"
   ]
  },
  {
   "cell_type": "code",
   "execution_count": 4,
   "metadata": {
    "collapsed": false
   },
   "outputs": [
    {
     "name": "stdout",
     "output_type": "stream",
     "text": [
      "content_directory =  data_sets/mixed/txt/\n",
      "text_filename_pattern =  *.txt\n",
      "self.documents populated =  52\n"
     ]
    }
   ],
   "source": [
    "#cr = tmt.corpus_reader.CorpusReader(content_directory=\"data_sets/recipes/txt/\", text_filename_pattern=\"??.txt\")\n",
    "#cr = tmt.corpus_reader.CorpusReader(directory_of_files=\"data_sets/mystery_corpus_01/txt/\", text_filename_pattern=\"??.txt\")\n",
    "#cr = tmt.corpus_reader.CorpusReader(content_directory=\"data_sets/iraq_inquiry/txt/\", text_filename_pattern=\"the-report*.txt\")\n",
    "#cr = tmt.corpus_reader.CorpusReader(content_directory=\"data_sets/clinton_emails/txt/\", text_filename_pattern=\"C0*.txt\")\n",
    "#cr = tmt.corpus_reader.CorpusReader(content_directory=\"data_sets/shakespeare_macbeth/txt/\", text_filename_pattern=\"macbeth_act_0?_scene_0?.txt\")\n",
    "cr = tmt.corpus_reader.CorpusReader(content_directory=\"data_sets/mixed/txt/\", text_filename_pattern=\"*.txt\")"
   ]
  },
  {
   "cell_type": "code",
   "execution_count": 5,
   "metadata": {
    "collapsed": false,
    "scrolled": true
   },
   "outputs": [
    {
     "name": "stdout",
     "output_type": "stream",
     "text": [
      "removed wordcount index file:  data_sets/mixed/txt/index_wordcount.hdf5\n",
      "processing  01.txt\n",
      "processing  02.txt\n",
      "processing  03.txt\n",
      "processing  04.txt\n",
      "processing  05.txt\n",
      "processing  06.txt\n",
      "processing  07.txt\n",
      "processing  08.txt\n",
      "processing  09.txt\n",
      "processing  10.txt\n",
      "processing  11.txt\n",
      "processing  12.txt\n",
      "processing  13.txt\n",
      "processing  C05739545.txt\n",
      "processing  C05739546.txt\n",
      "processing  C05739547.txt\n",
      "processing  C05739550.txt\n",
      "processing  C05739554.txt\n",
      "processing  C05739559.txt\n",
      "processing  C05739560.txt\n",
      "processing  C05739561.txt\n",
      "processing  C05739562.txt\n",
      "processing  C05739563.txt\n",
      "processing  C05739564.txt\n",
      "processing  C05739565.txt\n",
      "processing  C05739567.txt\n",
      "processing  macbeth_act_01_scene_01.txt\n",
      "processing  macbeth_act_01_scene_02.txt\n",
      "processing  macbeth_act_01_scene_03.txt\n",
      "processing  macbeth_act_01_scene_04.txt\n",
      "processing  macbeth_act_01_scene_05.txt\n",
      "processing  macbeth_act_01_scene_06.txt\n",
      "processing  macbeth_act_01_scene_07.txt\n",
      "processing  macbeth_act_02_scene_01.txt\n",
      "processing  macbeth_act_02_scene_02.txt\n",
      "processing  macbeth_act_02_scene_03.txt\n",
      "processing  macbeth_act_02_scene_04.txt\n",
      "processing  macbeth_act_03_scene_01.txt\n",
      "processing  macbeth_act_03_scene_02.txt\n",
      "processing  the-report-of-the-iraq-inquiry_section-11.txt\n",
      "processing  the-report-of-the-iraq-inquiry_section-12.txt\n",
      "processing  the-report-of-the-iraq-inquiry_section-15-1.txt\n",
      "processing  the-report-of-the-iraq-inquiry_section-20.txt\n",
      "processing  the-report-of-the-iraq-inquiry_section-31.txt\n",
      "processing  the-report-of-the-iraq-inquiry_section-32.txt\n",
      "processing  the-report-of-the-iraq-inquiry_section-33.txt\n",
      "processing  the-report-of-the-iraq-inquiry_section-34.txt\n",
      "processing  the-report-of-the-iraq-inquiry_section_annex-1.txt\n",
      "processing  the-report-of-the-iraq-inquiry_section_annex-2.txt\n",
      "processing  the-report-of-the-iraq-inquiry_section_annex-3.txt\n",
      "processing  the-report-of-the-iraq-inquiry_section_annex-4.txt\n",
      "processing  the-report-of-the-iraq-inquiry_section_annex-5.txt\n"
     ]
    }
   ],
   "source": [
    "# first clear index\n",
    "tmt.index_wordcount.delete_index(cr.content_directory)\n",
    "\n",
    "# for all documents in corpus\n",
    "for document_name in cr.get_documents():\n",
    "    print(\"processing \", document_name)\n",
    "\n",
    "    # get document text\n",
    "    document_text = cr.get_text_by_document(document_name)\n",
    "\n",
    "    # simplify whitespace (remove newlines)\n",
    "    b = tmt.text_processing.simplify_whitespace(document_text)\n",
    "\n",
    "    # only keep alphanumeric characters, removes punctuation\n",
    "    c = tmt.text_processing.keep_only_alphanumeric(b)\n",
    "\n",
    "    # make lowercase\n",
    "    d = tmt.text_processing.to_lowercase(c)\n",
    "\n",
    "    # split into words list\n",
    "    dl = tmt.text_processing.split_text_into_words(d)\n",
    "    \n",
    "    # build n-grams\n",
    "    #gl = tmt.word_processing.build_ngrams_from_words(dl,2)\n",
    "\n",
    "    # remove stop words\n",
    "    #el = tmt.word_processing.remove_stop_words(dl, \"./stopwords/minimal-stop.txt\")\n",
    "    \n",
    "    # update index\n",
    "    tmt.index_wordcount.create_wordcount_index_for_document(cr.content_directory, document_name, dl)\n",
    "    pass\n",
    "\n"
   ]
  },
  {
   "cell_type": "code",
   "execution_count": 6,
   "metadata": {
    "collapsed": false
   },
   "outputs": [
    {
     "name": "stdout",
     "output_type": "stream",
     "text": [
      "saving corpus word count index ...  data_sets/mixed/txt/index_wordcount.hdf5\n"
     ]
    }
   ],
   "source": [
    "# merge document indices into a corpus index\n",
    "tmt.index_wordcount.merge_wordcount_indices_for_corpus(cr.content_directory)"
   ]
  },
  {
   "cell_type": "code",
   "execution_count": 10,
   "metadata": {
    "collapsed": false
   },
   "outputs": [
    {
     "name": "stdout",
     "output_type": "stream",
     "text": [
      "removed relevance index file:  data_sets/mixed/txt/index_relevance.hdf5\n",
      "saving corpus relevance index ...  data_sets/mixed/txt/index_relevance.hdf5\n"
     ]
    }
   ],
   "source": [
    "# delete and build relevance index\n",
    "\n",
    "tmt.index_relevance.delete_index(cr.content_directory)\n",
    "tmt.index_relevance.calculate_relevance_index(cr.content_directory)"
   ]
  },
  {
   "cell_type": "code",
   "execution_count": 13,
   "metadata": {
    "collapsed": false
   },
   "outputs": [
    {
     "name": "stdout",
     "output_type": "stream",
     "text": [
      "removed doc similarity matrix file:  data_sets/mixed/txt/matrix.docsimilarity\n",
      "created  data_sets/mixed/txt/matrix.docsimilarity\n"
     ]
    }
   ],
   "source": [
    "# calculate document similarities\n",
    "\n",
    "# delete if already exists\n",
    "tmt.index_doc_similarity.delete_matrix(cr.content_directory)\n",
    "\n",
    "# calclate doc1-doc2 similarity\n",
    "tmt.index_doc_similarity.create_doc_similarity_matrix(cr.content_directory)"
   ]
  },
  {
   "cell_type": "code",
   "execution_count": 16,
   "metadata": {
    "collapsed": false
   },
   "outputs": [],
   "source": [
    "#tmt.index_doc_similarity.print_matrix(cr.content_directory)"
   ]
  },
  {
   "cell_type": "code",
   "execution_count": 24,
   "metadata": {
    "collapsed": false,
    "scrolled": true
   },
   "outputs": [
    {
     "data": {
      "text/html": [
       "<div>\n",
       "<table border=\"1\" class=\"dataframe\">\n",
       "  <thead>\n",
       "    <tr style=\"text-align: right;\">\n",
       "      <th></th>\n",
       "      <th>doc1</th>\n",
       "      <th>doc2</th>\n",
       "      <th>similarity</th>\n",
       "    </tr>\n",
       "  </thead>\n",
       "  <tbody>\n",
       "    <tr>\n",
       "      <th>0</th>\n",
       "      <td>C05739561.txt</td>\n",
       "      <td>C05739554.txt</td>\n",
       "      <td>1.000000</td>\n",
       "    </tr>\n",
       "    <tr>\n",
       "      <th>1</th>\n",
       "      <td>C05739565.txt</td>\n",
       "      <td>C05739563.txt</td>\n",
       "      <td>0.999959</td>\n",
       "    </tr>\n",
       "    <tr>\n",
       "      <th>2</th>\n",
       "      <td>C05739561.txt</td>\n",
       "      <td>C05739546.txt</td>\n",
       "      <td>0.997317</td>\n",
       "    </tr>\n",
       "    <tr>\n",
       "      <th>3</th>\n",
       "      <td>C05739554.txt</td>\n",
       "      <td>C05739546.txt</td>\n",
       "      <td>0.994921</td>\n",
       "    </tr>\n",
       "    <tr>\n",
       "      <th>4</th>\n",
       "      <td>the-report-of-the-iraq-inquiry_section-33.txt</td>\n",
       "      <td>the-report-of-the-iraq-inquiry_section-32.txt</td>\n",
       "      <td>0.994283</td>\n",
       "    </tr>\n",
       "    <tr>\n",
       "      <th>5</th>\n",
       "      <td>the-report-of-the-iraq-inquiry_section-34.txt</td>\n",
       "      <td>the-report-of-the-iraq-inquiry_section-32.txt</td>\n",
       "      <td>0.992807</td>\n",
       "    </tr>\n",
       "    <tr>\n",
       "      <th>6</th>\n",
       "      <td>the-report-of-the-iraq-inquiry_section-32.txt</td>\n",
       "      <td>the-report-of-the-iraq-inquiry_section-31.txt</td>\n",
       "      <td>0.992191</td>\n",
       "    </tr>\n",
       "    <tr>\n",
       "      <th>7</th>\n",
       "      <td>the-report-of-the-iraq-inquiry_section-34.txt</td>\n",
       "      <td>the-report-of-the-iraq-inquiry_section-33.txt</td>\n",
       "      <td>0.991721</td>\n",
       "    </tr>\n",
       "    <tr>\n",
       "      <th>8</th>\n",
       "      <td>the-report-of-the-iraq-inquiry_section-31.txt</td>\n",
       "      <td>the-report-of-the-iraq-inquiry_section-12.txt</td>\n",
       "      <td>0.989763</td>\n",
       "    </tr>\n",
       "    <tr>\n",
       "      <th>9</th>\n",
       "      <td>the-report-of-the-iraq-inquiry_section-34.txt</td>\n",
       "      <td>the-report-of-the-iraq-inquiry_section-31.txt</td>\n",
       "      <td>0.987702</td>\n",
       "    </tr>\n",
       "    <tr>\n",
       "      <th>10</th>\n",
       "      <td>the-report-of-the-iraq-inquiry_section-33.txt</td>\n",
       "      <td>the-report-of-the-iraq-inquiry_section-31.txt</td>\n",
       "      <td>0.981875</td>\n",
       "    </tr>\n",
       "    <tr>\n",
       "      <th>11</th>\n",
       "      <td>the-report-of-the-iraq-inquiry_section-32.txt</td>\n",
       "      <td>the-report-of-the-iraq-inquiry_section-12.txt</td>\n",
       "      <td>0.978545</td>\n",
       "    </tr>\n",
       "    <tr>\n",
       "      <th>12</th>\n",
       "      <td>the-report-of-the-iraq-inquiry_section-34.txt</td>\n",
       "      <td>the-report-of-the-iraq-inquiry_section-12.txt</td>\n",
       "      <td>0.975892</td>\n",
       "    </tr>\n",
       "    <tr>\n",
       "      <th>13</th>\n",
       "      <td>the-report-of-the-iraq-inquiry_section-33.txt</td>\n",
       "      <td>the-report-of-the-iraq-inquiry_section-12.txt</td>\n",
       "      <td>0.968804</td>\n",
       "    </tr>\n",
       "    <tr>\n",
       "      <th>14</th>\n",
       "      <td>the-report-of-the-iraq-inquiry_section-31.txt</td>\n",
       "      <td>the-report-of-the-iraq-inquiry_section-11.txt</td>\n",
       "      <td>0.965843</td>\n",
       "    </tr>\n",
       "    <tr>\n",
       "      <th>15</th>\n",
       "      <td>the-report-of-the-iraq-inquiry_section-12.txt</td>\n",
       "      <td>the-report-of-the-iraq-inquiry_section-11.txt</td>\n",
       "      <td>0.965642</td>\n",
       "    </tr>\n",
       "    <tr>\n",
       "      <th>16</th>\n",
       "      <td>the-report-of-the-iraq-inquiry_section-20.txt</td>\n",
       "      <td>the-report-of-the-iraq-inquiry_section-12.txt</td>\n",
       "      <td>0.964386</td>\n",
       "    </tr>\n",
       "    <tr>\n",
       "      <th>17</th>\n",
       "      <td>the-report-of-the-iraq-inquiry_section-31.txt</td>\n",
       "      <td>the-report-of-the-iraq-inquiry_section-20.txt</td>\n",
       "      <td>0.960154</td>\n",
       "    </tr>\n",
       "    <tr>\n",
       "      <th>18</th>\n",
       "      <td>the-report-of-the-iraq-inquiry_section-15-1.txt</td>\n",
       "      <td>the-report-of-the-iraq-inquiry_section-12.txt</td>\n",
       "      <td>0.956302</td>\n",
       "    </tr>\n",
       "    <tr>\n",
       "      <th>19</th>\n",
       "      <td>the-report-of-the-iraq-inquiry_section-31.txt</td>\n",
       "      <td>the-report-of-the-iraq-inquiry_section-15-1.txt</td>\n",
       "      <td>0.953367</td>\n",
       "    </tr>\n",
       "  </tbody>\n",
       "</table>\n",
       "</div>"
      ],
      "text/plain": [
       "                                               doc1  \\\n",
       "0                                     C05739561.txt   \n",
       "1                                     C05739565.txt   \n",
       "2                                     C05739561.txt   \n",
       "3                                     C05739554.txt   \n",
       "4     the-report-of-the-iraq-inquiry_section-33.txt   \n",
       "5     the-report-of-the-iraq-inquiry_section-34.txt   \n",
       "6     the-report-of-the-iraq-inquiry_section-32.txt   \n",
       "7     the-report-of-the-iraq-inquiry_section-34.txt   \n",
       "8     the-report-of-the-iraq-inquiry_section-31.txt   \n",
       "9     the-report-of-the-iraq-inquiry_section-34.txt   \n",
       "10    the-report-of-the-iraq-inquiry_section-33.txt   \n",
       "11    the-report-of-the-iraq-inquiry_section-32.txt   \n",
       "12    the-report-of-the-iraq-inquiry_section-34.txt   \n",
       "13    the-report-of-the-iraq-inquiry_section-33.txt   \n",
       "14    the-report-of-the-iraq-inquiry_section-31.txt   \n",
       "15    the-report-of-the-iraq-inquiry_section-12.txt   \n",
       "16    the-report-of-the-iraq-inquiry_section-20.txt   \n",
       "17    the-report-of-the-iraq-inquiry_section-31.txt   \n",
       "18  the-report-of-the-iraq-inquiry_section-15-1.txt   \n",
       "19    the-report-of-the-iraq-inquiry_section-31.txt   \n",
       "\n",
       "                                               doc2  similarity  \n",
       "0                                     C05739554.txt    1.000000  \n",
       "1                                     C05739563.txt    0.999959  \n",
       "2                                     C05739546.txt    0.997317  \n",
       "3                                     C05739546.txt    0.994921  \n",
       "4     the-report-of-the-iraq-inquiry_section-32.txt    0.994283  \n",
       "5     the-report-of-the-iraq-inquiry_section-32.txt    0.992807  \n",
       "6     the-report-of-the-iraq-inquiry_section-31.txt    0.992191  \n",
       "7     the-report-of-the-iraq-inquiry_section-33.txt    0.991721  \n",
       "8     the-report-of-the-iraq-inquiry_section-12.txt    0.989763  \n",
       "9     the-report-of-the-iraq-inquiry_section-31.txt    0.987702  \n",
       "10    the-report-of-the-iraq-inquiry_section-31.txt    0.981875  \n",
       "11    the-report-of-the-iraq-inquiry_section-12.txt    0.978545  \n",
       "12    the-report-of-the-iraq-inquiry_section-12.txt    0.975892  \n",
       "13    the-report-of-the-iraq-inquiry_section-12.txt    0.968804  \n",
       "14    the-report-of-the-iraq-inquiry_section-11.txt    0.965843  \n",
       "15    the-report-of-the-iraq-inquiry_section-11.txt    0.965642  \n",
       "16    the-report-of-the-iraq-inquiry_section-12.txt    0.964386  \n",
       "17    the-report-of-the-iraq-inquiry_section-20.txt    0.960154  \n",
       "18    the-report-of-the-iraq-inquiry_section-12.txt    0.956302  \n",
       "19  the-report-of-the-iraq-inquiry_section-15-1.txt    0.953367  "
      ]
     },
     "execution_count": 24,
     "metadata": {},
     "output_type": "execute_result"
    }
   ],
   "source": [
    "# get document similarities order by value\n",
    "doc1_doc2_similarity = tmt.index_doc_similarity.get_doc_pairs_by_similarity(cr.content_directory)\n",
    "doc1_doc2_similarity[:20]"
   ]
  },
  {
   "cell_type": "code",
   "execution_count": 28,
   "metadata": {
    "collapsed": false,
    "scrolled": false
   },
   "outputs": [
    {
     "data": {
      "text/html": [
       "<div id=\"d3-container-5216586\"></div>\n",
       "<div>force-directed graph</div>\n",
       "\n",
       "<style>\n",
       "    .links line {\n",
       "        stroke: #999;\n",
       "        stroke-opacity: .1;\n",
       "    }\n",
       "\n",
       "    .nodes circle {\n",
       "        pointer-events: all;\n",
       "        stroke: #fff;\n",
       "        fill: #333;\n",
       "        stroke-width: 1.5px;\n",
       "        opacity: 0.7;\n",
       "    }\n",
       "\n",
       "    .nodes text {\n",
       "        pointer-events: none;\n",
       "        font: 10px sans-serif;\n",
       "        fill: #333;\n",
       "        opacity: .5;\n",
       "    }\n",
       "</style>\n"
      ]
     },
     "metadata": {},
     "output_type": "display_data"
    },
    {
     "data": {
      "application/javascript": [
       "// require is needed to make d3 work in jupyter notebooks from imported code\n",
       "require.config({\n",
       "    paths: {\n",
       "        d3: \"https://d3js.org/d3.v4.min\"\n",
       "    }\n",
       "});\n",
       "\n",
       "require([\"d3\"], function(d3) {\n",
       "    //console.log(d3.version);\n",
       "\n",
       "    var width = 800,\n",
       "        height = 600;\n",
       "\n",
       "    var svg = d3.select(\"#d3-container-5216586\")\n",
       "        .append(\"svg\")\n",
       "        .attr(\"width\", width)\n",
       "        .attr(\"height\", height);\n",
       "\n",
       "    var colour = d3.scaleOrdinal(d3.schemeCategory20c);\n",
       "\n",
       "    var graph = {\n",
       "        nodes: [{'id': 'C05739564.txt'}, {'id': '08.txt'}, {'id': 'C05739547.txt'}, {'id': 'the-report-of-the-iraq-inquiry_section_annex-5.txt'}, {'id': 'C05739567.txt'}, {'id': 'macbeth_act_02_scene_02.txt'}, {'id': '12.txt'}, {'id': 'macbeth_act_01_scene_05.txt'}, {'id': 'C05739554.txt'}, {'id': 'C05739561.txt'}, {'id': '10.txt'}, {'id': 'C05739559.txt'}, {'id': 'macbeth_act_03_scene_01.txt'}, {'id': 'C05739560.txt'}, {'id': 'C05739546.txt'}, {'id': 'the-report-of-the-iraq-inquiry_section_annex-2.txt'}, {'id': 'the-report-of-the-iraq-inquiry_section_annex-3.txt'}, {'id': 'C05739550.txt'}, {'id': 'the-report-of-the-iraq-inquiry_section-15-1.txt'}, {'id': 'macbeth_act_02_scene_01.txt'}, {'id': '13.txt'}, {'id': 'macbeth_act_01_scene_03.txt'}, {'id': 'the-report-of-the-iraq-inquiry_section_annex-1.txt'}, {'id': 'the-report-of-the-iraq-inquiry_section-32.txt'}, {'id': 'C05739563.txt'}, {'id': 'the-report-of-the-iraq-inquiry_section-12.txt'}, {'id': 'the-report-of-the-iraq-inquiry_section-31.txt'}, {'id': 'the-report-of-the-iraq-inquiry_section-20.txt'}, {'id': 'the-report-of-the-iraq-inquiry_section-33.txt'}, {'id': '07.txt'}, {'id': '04.txt'}, {'id': 'C05739565.txt'}, {'id': '01.txt'}, {'id': 'the-report-of-the-iraq-inquiry_section-34.txt'}, {'id': '03.txt'}, {'id': 'macbeth_act_01_scene_07.txt'}, {'id': 'macbeth_act_02_scene_03.txt'}, {'id': '11.txt'}, {'id': 'the-report-of-the-iraq-inquiry_section-11.txt'}, {'id': 'C05739545.txt'}, {'id': 'macbeth_act_03_scene_02.txt'}, {'id': 'C05739562.txt'}, {'id': 'macbeth_act_01_scene_04.txt'}],\n",
       "        links: [{'source': 0, 'target': 23, 'similarity': 0.7757041783577283}, {'source': 0, 'target': 24, 'similarity': 0.7759230370674839}, {'source': 0, 'target': 25, 'similarity': 0.7539305619338477}, {'source': 0, 'target': 26, 'similarity': 0.7638689582499799}, {'source': 0, 'target': 27, 'similarity': 0.72551378627341}, {'source': 0, 'target': 28, 'similarity': 0.7644543252272691}, {'source': 0, 'target': 8, 'similarity': 0.7810545426824124}, {'source': 0, 'target': 31, 'similarity': 0.7762309838148548}, {'source': 0, 'target': 9, 'similarity': 0.782129780917206}, {'source': 0, 'target': 33, 'similarity': 0.7675273660027307}, {'source': 0, 'target': 38, 'similarity': 0.72897217535809}, {'source': 0, 'target': 13, 'similarity': 0.7564573774263664}, {'source': 0, 'target': 14, 'similarity': 0.7736119467113861}, {'source': 0, 'target': 18, 'similarity': 0.7397675580477268}, {'source': 0, 'target': 41, 'similarity': 0.7871386972488368}, {'source': 1, 'target': 34, 'similarity': 0.7749117463687688}, {'source': 1, 'target': 30, 'similarity': 0.7150455041211857}, {'source': 1, 'target': 22, 'similarity': 0.7319602018887942}, {'source': 1, 'target': 3, 'similarity': 0.7445100357753824}, {'source': 1, 'target': 37, 'similarity': 0.7835535800495826}, {'source': 1, 'target': 27, 'similarity': 0.7273056867567458}, {'source': 1, 'target': 6, 'similarity': 0.7815712723390275}, {'source': 1, 'target': 10, 'similarity': 0.7366976336228113}, {'source': 2, 'target': 11, 'similarity': 0.7493059420472291}, {'source': 2, 'target': 4, 'similarity': 0.7760004060337393}, {'source': 2, 'target': 17, 'similarity': 0.7554159713651144}, {'source': 2, 'target': 39, 'similarity': 0.7714433632634679}, {'source': 3, 'target': 23, 'similarity': 0.8499161335912032}, {'source': 3, 'target': 24, 'similarity': 0.7324128274045937}, {'source': 3, 'target': 22, 'similarity': 0.9034315699346068}, {'source': 3, 'target': 26, 'similarity': 0.8740835915588886}, {'source': 3, 'target': 27, 'similarity': 0.9079790469423921}, {'source': 3, 'target': 41, 'similarity': 0.7336968397436882}, {'source': 3, 'target': 8, 'similarity': 0.7785402927491629}, {'source': 3, 'target': 31, 'similarity': 0.731986469216374}, {'source': 3, 'target': 9, 'similarity': 0.7827024018282092}, {'source': 3, 'target': 33, 'similarity': 0.8417522453289725}, {'source': 3, 'target': 18, 'similarity': 0.8871010070270864}, {'source': 3, 'target': 13, 'similarity': 0.8087683212242671}, {'source': 3, 'target': 14, 'similarity': 0.8092072833501694}, {'source': 3, 'target': 37, 'similarity': 0.7682403028865714}, {'source': 3, 'target': 38, 'similarity': 0.8915484862581662}, {'source': 3, 'target': 10, 'similarity': 0.7461789061657913}, {'source': 3, 'target': 28, 'similarity': 0.833145306645629}, {'source': 3, 'target': 25, 'similarity': 0.8819070056717412}, {'source': 4, 'target': 11, 'similarity': 0.8280210744764288}, {'source': 4, 'target': 39, 'similarity': 0.8485994892129123}, {'source': 4, 'target': 17, 'similarity': 0.7958968007913174}, {'source': 5, 'target': 35, 'similarity': 0.7245719775436309}, {'source': 5, 'target': 12, 'similarity': 0.7436050854495769}, {'source': 5, 'target': 36, 'similarity': 0.7346887774271198}, {'source': 5, 'target': 21, 'similarity': 0.7212007109679748}, {'source': 5, 'target': 19, 'similarity': 0.7253404042192293}, {'source': 6, 'target': 34, 'similarity': 0.7957525566924273}, {'source': 6, 'target': 20, 'similarity': 0.7322332899917969}, {'source': 6, 'target': 30, 'similarity': 0.7435924635474795}, {'source': 6, 'target': 37, 'similarity': 0.7389915994991665}, {'source': 7, 'target': 23, 'similarity': 0.729676470899232}, {'source': 7, 'target': 25, 'similarity': 0.7286724251934351}, {'source': 7, 'target': 27, 'similarity': 0.72646571286306}, {'source': 7, 'target': 26, 'similarity': 0.7296129510889213}, {'source': 7, 'target': 35, 'similarity': 0.7716117133956462}, {'source': 7, 'target': 28, 'similarity': 0.7168474423188944}, {'source': 7, 'target': 18, 'similarity': 0.7244141982693767}, {'source': 7, 'target': 36, 'similarity': 0.782906850418861}, {'source': 7, 'target': 33, 'similarity': 0.7291127437510506}, {'source': 7, 'target': 12, 'similarity': 0.8181780468521629}, {'source': 7, 'target': 42, 'similarity': 0.8192942003380062}, {'source': 7, 'target': 38, 'similarity': 0.728245027515932}, {'source': 7, 'target': 19, 'similarity': 0.7851572075219123}, {'source': 7, 'target': 40, 'similarity': 0.7760019576596816}, {'source': 7, 'target': 21, 'similarity': 0.809819152593821}, {'source': 8, 'target': 23, 'similarity': 0.8277421060184299}, {'source': 8, 'target': 24, 'similarity': 0.9044464088375888}, {'source': 8, 'target': 25, 'similarity': 0.8347869698673636}, {'source': 8, 'target': 26, 'similarity': 0.8339822317866968}, {'source': 8, 'target': 27, 'similarity': 0.8310314372358437}, {'source': 8, 'target': 28, 'similarity': 0.8103640935753148}, {'source': 8, 'target': 31, 'similarity': 0.9045216737855127}, {'source': 8, 'target': 9, 'similarity': 1.0}, {'source': 8, 'target': 33, 'similarity': 0.818864021680931}, {'source': 8, 'target': 18, 'similarity': 0.8234066903313724}, {'source': 8, 'target': 13, 'similarity': 0.8525183134260781}, {'source': 8, 'target': 14, 'similarity': 0.9949207868468335}, {'source': 8, 'target': 38, 'similarity': 0.826288085469747}, {'source': 8, 'target': 41, 'similarity': 0.8592868655771453}, {'source': 8, 'target': 22, 'similarity': 0.7899346238175069}, {'source': 9, 'target': 23, 'similarity': 0.8318373872891315}, {'source': 9, 'target': 24, 'similarity': 0.9057570886648448}, {'source': 9, 'target': 25, 'similarity': 0.8395349705363151}, {'source': 9, 'target': 26, 'similarity': 0.8381369050791238}, {'source': 9, 'target': 27, 'similarity': 0.8341609754393221}, {'source': 9, 'target': 28, 'similarity': 0.8145446118999125}, {'source': 9, 'target': 31, 'similarity': 0.9058314397342442}, {'source': 9, 'target': 33, 'similarity': 0.8229940738269342}, {'source': 9, 'target': 18, 'similarity': 0.828769617094227}, {'source': 9, 'target': 13, 'similarity': 0.85604530002353}, {'source': 9, 'target': 14, 'similarity': 0.9973167242607601}, {'source': 9, 'target': 38, 'similarity': 0.8299457471753444}, {'source': 9, 'target': 41, 'similarity': 0.8592369679061369}, {'source': 9, 'target': 22, 'similarity': 0.7943599140260997}, {'source': 10, 'target': 38, 'similarity': 0.7268135231516505}, {'source': 10, 'target': 22, 'similarity': 0.7289887505805585}, {'source': 10, 'target': 37, 'similarity': 0.7902362108228752}, {'source': 10, 'target': 27, 'similarity': 0.7477846587060556}, {'source': 11, 'target': 17, 'similarity': 0.7776744439616629}, {'source': 11, 'target': 39, 'similarity': 0.7945264460034398}, {'source': 12, 'target': 23, 'similarity': 0.7213404542725373}, {'source': 12, 'target': 26, 'similarity': 0.7150242740356844}, {'source': 12, 'target': 35, 'similarity': 0.8321095558624539}, {'source': 12, 'target': 21, 'similarity': 0.848613790486292}, {'source': 12, 'target': 42, 'similarity': 0.8367553795497832}, {'source': 12, 'target': 33, 'similarity': 0.7149476575645253}, {'source': 12, 'target': 36, 'similarity': 0.8452874683480968}, {'source': 12, 'target': 19, 'similarity': 0.8193411636809881}, {'source': 12, 'target': 40, 'similarity': 0.7960900138183207}, {'source': 12, 'target': 41, 'similarity': 0.7297831277605347}, {'source': 13, 'target': 23, 'similarity': 0.8411267900902271}, {'source': 13, 'target': 24, 'similarity': 0.8556729477449058}, {'source': 13, 'target': 25, 'similarity': 0.8488790322009342}, {'source': 13, 'target': 26, 'similarity': 0.8508980823893774}, {'source': 13, 'target': 27, 'similarity': 0.8393215102591948}, {'source': 13, 'target': 28, 'similarity': 0.8261517422705578}, {'source': 13, 'target': 31, 'similarity': 0.855458225550501}, {'source': 13, 'target': 33, 'similarity': 0.8377072271855452}, {'source': 13, 'target': 38, 'similarity': 0.839135596480142}, {'source': 13, 'target': 14, 'similarity': 0.8573186047472758}, {'source': 13, 'target': 37, 'similarity': 0.7181184907880616}, {'source': 13, 'target': 18, 'similarity': 0.8413743420365648}, {'source': 13, 'target': 41, 'similarity': 0.8397716950680968}, {'source': 13, 'target': 22, 'similarity': 0.8301558193670739}, {'source': 14, 'target': 23, 'similarity': 0.8502223655516987}, {'source': 14, 'target': 24, 'similarity': 0.8903523525875331}, {'source': 14, 'target': 25, 'similarity': 0.8612376311020017}, {'source': 14, 'target': 26, 'similarity': 0.8586204494188633}, {'source': 14, 'target': 27, 'similarity': 0.859137504710194}, {'source': 14, 'target': 28, 'similarity': 0.8329594287152282}, {'source': 14, 'target': 31, 'similarity': 0.8904846538797886}, {'source': 14, 'target': 33, 'similarity': 0.8429086365037622}, {'source': 14, 'target': 18, 'similarity': 0.8493567750143671}, {'source': 14, 'target': 37, 'similarity': 0.7232518881959505}, {'source': 14, 'target': 38, 'similarity': 0.8534993343618726}, {'source': 14, 'target': 41, 'similarity': 0.8545833030512904}, {'source': 14, 'target': 22, 'similarity': 0.8226313982194806}, {'source': 15, 'target': 16, 'similarity': 0.7165103717119924}, {'source': 17, 'target': 39, 'similarity': 0.7893741894906844}, {'source': 18, 'target': 23, 'similarity': 0.9440744103805722}, {'source': 18, 'target': 24, 'similarity': 0.7944224533096917}, {'source': 18, 'target': 22, 'similarity': 0.9201075297376019}, {'source': 18, 'target': 26, 'similarity': 0.9533670109964532}, {'source': 18, 'target': 27, 'similarity': 0.948695484142035}, {'source': 18, 'target': 41, 'similarity': 0.8067722308114968}, {'source': 18, 'target': 31, 'similarity': 0.794144912242587}, {'source': 18, 'target': 33, 'similarity': 0.9375497956351162}, {'source': 18, 'target': 36, 'similarity': 0.7337331568008575}, {'source': 18, 'target': 37, 'similarity': 0.7555626649254874}, {'source': 18, 'target': 38, 'similarity': 0.9443645809449437}, {'source': 18, 'target': 28, 'similarity': 0.9343596916153966}, {'source': 18, 'target': 25, 'similarity': 0.9563022779182851}, {'source': 19, 'target': 42, 'similarity': 0.7952188650049249}, {'source': 19, 'target': 35, 'similarity': 0.7676209027756183}, {'source': 19, 'target': 21, 'similarity': 0.7836709525195423}, {'source': 19, 'target': 36, 'similarity': 0.7879073958876672}, {'source': 20, 'target': 34, 'similarity': 0.7221875857913836}, {'source': 21, 'target': 36, 'similarity': 0.8076059037677487}, {'source': 21, 'target': 35, 'similarity': 0.7948293519466754}, {'source': 21, 'target': 40, 'similarity': 0.7483941886444108}, {'source': 21, 'target': 42, 'similarity': 0.7804180418309239}, {'source': 22, 'target': 23, 'similarity': 0.8874483085467867}, {'source': 22, 'target': 24, 'similarity': 0.7446327192388957}, {'source': 22, 'target': 25, 'similarity': 0.913984214443071}, {'source': 22, 'target': 26, 'similarity': 0.9087309619473333}, {'source': 22, 'target': 27, 'similarity': 0.923179512649247}, {'source': 22, 'target': 41, 'similarity': 0.7531873066305039}, {'source': 22, 'target': 31, 'similarity': 0.7443462807316558}, {'source': 22, 'target': 33, 'similarity': 0.8818885331663081}, {'source': 22, 'target': 38, 'similarity': 0.9259085361642568}, {'source': 22, 'target': 37, 'similarity': 0.7704372590142743}, {'source': 22, 'target': 28, 'similarity': 0.8688174931787451}, {'source': 23, 'target': 24, 'similarity': 0.7958137561855201}, {'source': 23, 'target': 26, 'similarity': 0.9921913072701393}, {'source': 23, 'target': 27, 'similarity': 0.9504100832514988}, {'source': 23, 'target': 41, 'similarity': 0.8063805273900719}, {'source': 23, 'target': 31, 'similarity': 0.7952020568006736}, {'source': 23, 'target': 33, 'similarity': 0.9928069253984291}, {'source': 23, 'target': 38, 'similarity': 0.9518863716982601}, {'source': 23, 'target': 36, 'similarity': 0.7384574549215718}, {'source': 23, 'target': 37, 'similarity': 0.749313026722548}, {'source': 23, 'target': 28, 'similarity': 0.9942829433293207}, {'source': 23, 'target': 25, 'similarity': 0.978544854936352}, {'source': 24, 'target': 25, 'similarity': 0.8028299115109891}, {'source': 24, 'target': 26, 'similarity': 0.8031727040744541}, {'source': 24, 'target': 27, 'similarity': 0.7808798431658027}, {'source': 24, 'target': 28, 'similarity': 0.7804231623976834}, {'source': 24, 'target': 31, 'similarity': 0.9999586555462338}, {'source': 24, 'target': 33, 'similarity': 0.788285758116355}, {'source': 24, 'target': 38, 'similarity': 0.7885168946354116}, {'source': 24, 'target': 41, 'similarity': 0.8520780726375338}, {'source': 25, 'target': 26, 'similarity': 0.989762604635929}, {'source': 25, 'target': 27, 'similarity': 0.9643861153975656}, {'source': 25, 'target': 41, 'similarity': 0.8019292155698964}, {'source': 25, 'target': 29, 'similarity': 0.7159156129558114}, {'source': 25, 'target': 31, 'similarity': 0.8024976317473154}, {'source': 25, 'target': 33, 'similarity': 0.9758924389137389}, {'source': 25, 'target': 38, 'similarity': 0.9656415768040258}, {'source': 25, 'target': 36, 'similarity': 0.7295811215551051}, {'source': 25, 'target': 37, 'similarity': 0.7641590294406877}, {'source': 25, 'target': 28, 'similarity': 0.9688044211699939}, {'source': 26, 'target': 27, 'similarity': 0.9601540098696939}, {'source': 26, 'target': 41, 'similarity': 0.8105385895494418}, {'source': 26, 'target': 31, 'similarity': 0.8026199956388925}, {'source': 26, 'target': 33, 'similarity': 0.9877017736181049}, {'source': 26, 'target': 38, 'similarity': 0.9658429234951712}, {'source': 26, 'target': 36, 'similarity': 0.7398876849974766}, {'source': 26, 'target': 37, 'similarity': 0.764656665493144}, {'source': 26, 'target': 28, 'similarity': 0.9818748496686102}, {'source': 27, 'target': 29, 'similarity': 0.7200494628015054}, {'source': 27, 'target': 28, 'similarity': 0.9400334212731668}, {'source': 27, 'target': 31, 'similarity': 0.7804316799489541}, {'source': 27, 'target': 33, 'similarity': 0.9422161342045737}, {'source': 27, 'target': 36, 'similarity': 0.7381208198170306}, {'source': 27, 'target': 37, 'similarity': 0.7851232011155567}, {'source': 27, 'target': 38, 'similarity': 0.9530782496757807}, {'source': 27, 'target': 41, 'similarity': 0.7886268952274231}, {'source': 28, 'target': 31, 'similarity': 0.7797823605593303}, {'source': 28, 'target': 33, 'similarity': 0.9917205731025633}, {'source': 28, 'target': 36, 'similarity': 0.7299552437850768}, {'source': 28, 'target': 37, 'similarity': 0.7325491247728041}, {'source': 28, 'target': 38, 'similarity': 0.9331200702354006}, {'source': 28, 'target': 41, 'similarity': 0.7894634967391608}, {'source': 30, 'target': 34, 'similarity': 0.7558700357163063}, {'source': 31, 'target': 33, 'similarity': 0.7877682831542108}, {'source': 31, 'target': 38, 'similarity': 0.7881030904889473}, {'source': 31, 'target': 41, 'similarity': 0.8518846503126879}, {'source': 32, 'target': 34, 'similarity': 0.7430803924934649}, {'source': 33, 'target': 41, 'similarity': 0.8003077972362043}, {'source': 33, 'target': 38, 'similarity': 0.9530921036394369}, {'source': 33, 'target': 36, 'similarity': 0.7334226941211973}, {'source': 33, 'target': 37, 'similarity': 0.7501686650059476}, {'source': 34, 'target': 37, 'similarity': 0.7223139490975268}, {'source': 35, 'target': 36, 'similarity': 0.8059554323523227}, {'source': 35, 'target': 40, 'similarity': 0.7392295495872745}, {'source': 35, 'target': 42, 'similarity': 0.7429524385699139}, {'source': 36, 'target': 38, 'similarity': 0.7256773773010541}, {'source': 36, 'target': 42, 'similarity': 0.7930405940368169}, {'source': 36, 'target': 40, 'similarity': 0.7475817464529407}, {'source': 36, 'target': 41, 'similarity': 0.7419358527724986}, {'source': 37, 'target': 38, 'similarity': 0.7807314007169376}, {'source': 38, 'target': 41, 'similarity': 0.783899516061994}, {'source': 40, 'target': 42, 'similarity': 0.7469326184413485}]\n",
       "    };\n",
       "\n",
       "    var simulation = d3.forceSimulation(graph.nodes)\n",
       "        .force(\"link\", d3.forceLink(graph.links).distance(function(d){return 10 / d.similarity;}))\n",
       "        .force(\"charge\", d3.forceManyBody().strength(-20))\n",
       "        .force(\"radius\", d3.forceCollide(15))\n",
       "        .force(\"center\", d3.forceCenter(width / 2.0, height / 2.0));\n",
       "\n",
       "    var link = svg.append(\"g\")\n",
       "        .attr(\"class\", \"links\")\n",
       "        .selectAll(\"line\")\n",
       "        .data(graph.links)\n",
       "        .enter().append(\"line\")\n",
       "        .style(\"stroke-linecap\", \"round\")\n",
       "        .style(\"stroke\", function(d) {return colour(d.similarity);})\n",
       "        .style(\"stroke-width\", function (d) {return Math.sqrt(d.similarity*10);});\n",
       "\n",
       "    var node = svg.append(\"g\")\n",
       "        .attr(\"class\", \"nodes\")\n",
       "        .selectAll(\"g\")\n",
       "        .data(graph.nodes)\n",
       "        .enter().append(\"g\");\n",
       "\n",
       "    var circle = node.append(\"circle\")\n",
       "        .attr(\"r\", 4.5)\n",
       "        .call(d3.drag()\n",
       "            .on(\"start\", dragstarted)\n",
       "            .on(\"drag\", dragged)\n",
       "            .on(\"end\", dragended));\n",
       "\n",
       "    //node.append(\"title\")\n",
       "    //    .text(function(d) { return d.id; });\n",
       "\n",
       "    var t2 = node.append(\"text\")\n",
       "      .attr(\"dx\", 10)\n",
       "      .attr(\"dy\", \".35em\")\n",
       "      .text(function(d) { return d.id; });\n",
       "\n",
       "    simulation\n",
       "        .on(\"tick\", ticked);\n",
       "\n",
       "    function ticked() {\n",
       "        link\n",
       "            .attr(\"x1\", function(d) { return d.source.x; })\n",
       "            .attr(\"y1\", function(d) { return d.source.y; })\n",
       "            .attr(\"x2\", function(d) { return d.target.x; })\n",
       "            .attr(\"y2\", function(d) { return d.target.y; });\n",
       "\n",
       "        circle\n",
       "            .attr(\"cx\", function(d) { return d.x; })\n",
       "            .attr(\"cy\", function(d) { return d.y; });\n",
       "\n",
       "        t2\n",
       "            .attr(\"x\", function(d) { return d.x; })\n",
       "            .attr(\"y\", function(d) { return d.y; });\n",
       "    };\n",
       "\n",
       "    function dragstarted(d) {\n",
       "        if (!d3.event.active) simulation.alphaTarget(0.3).restart();\n",
       "        d.fx = d.x;\n",
       "        d.fy = d.y;\n",
       "    };\n",
       "\n",
       "    function dragged(d) {\n",
       "        d.fx = d3.event.x;\n",
       "        d.fy = d3.event.y;\n",
       "    };\n",
       "\n",
       "    function dragended(d) {\n",
       "        if (!d3.event.active) simulation.alphaTarget(0);\n",
       "        d.fx = null;\n",
       "        d.fy = null;\n",
       "    };\n",
       "\n",
       "});\n",
       "\n"
      ]
     },
     "metadata": {},
     "output_type": "display_data"
    }
   ],
   "source": [
    "# visualise the doc similarities\n",
    "tmt.visualisation.plot_force_directed_graph(doc1_doc2_similarity[:250])"
   ]
  },
  {
   "cell_type": "code",
   "execution_count": null,
   "metadata": {
    "collapsed": true
   },
   "outputs": [],
   "source": []
  }
 ],
 "metadata": {
  "anaconda-cloud": {},
  "kernelspec": {
   "display_name": "Python [conda root]",
   "language": "python",
   "name": "conda-root-py"
  },
  "language_info": {
   "codemirror_mode": {
    "name": "ipython",
    "version": 3
   },
   "file_extension": ".py",
   "mimetype": "text/x-python",
   "name": "python",
   "nbconvert_exporter": "python",
   "pygments_lexer": "ipython3",
   "version": "3.5.2"
  }
 },
 "nbformat": 4,
 "nbformat_minor": 0
}
