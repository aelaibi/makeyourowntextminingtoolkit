{
 "cells": [
  {
   "cell_type": "code",
   "execution_count": 55,
   "metadata": {
    "collapsed": true
   },
   "outputs": [],
   "source": [
    "# simple notebook to take a text corpus and work out word frequencies"
   ]
  },
  {
   "cell_type": "code",
   "execution_count": 56,
   "metadata": {},
   "outputs": [
    {
     "name": "stdout",
     "output_type": "stream",
     "text": [
      "The autoreload extension is already loaded. To reload it, use:\n  %reload_ext autoreload\n"
     ]
    }
   ],
   "source": [
    "# following only used for development, reloads the modules with any code changes\n",
    "%load_ext autoreload\n",
    "%autoreload 2"
   ]
  },
  {
   "cell_type": "code",
   "execution_count": 57,
   "metadata": {
    "collapsed": true
   },
   "outputs": [],
   "source": [
    "# import our text mining toolkit\n",
    "import text_mining_toolkit as tmt"
   ]
  },
  {
   "cell_type": "code",
   "execution_count": 58,
   "metadata": {
    "collapsed": false
   },
   "outputs": [
    {
     "name": "stdout",
     "output_type": "stream",
     "text": [
      "directory of files =  data_sets/recipes/txt/\ntext_filename_pattern =  ??.txt\nself.documents populated =  22\n"
     ]
    }
   ],
   "source": [
    "cr = tmt.corpus_reader.CorpusReader(directory_of_files=\"data_sets/recipes/txt/\", text_filename_pattern=\"??.txt\")"
   ]
  },
  {
   "cell_type": "code",
   "execution_count": 59,
   "metadata": {
    "collapsed": false
   },
   "outputs": [
    {
     "name": "stdout",
     "output_type": "stream",
     "text": [
      "ARTICHOKES IN MOLD\n\n(Sformato di carciofi)\n\nRemove the outside leaves of the artichokes, the harder part of all\nleaves, and clean the stalks without removing them.\n\nCut each artichoke into four parts and put them to boil in salt water\nfor only five minutes. If left longer on the fire they become too soaked\nin water and lose their taste. Remove from the water, drain them, grind\nor pound and rub them through a sieve. Season the pulp so obtained with\ntwo or three beaten eggs, two or three tablespoonfuls of =Balsamella=\n(No. 54) grated cheese, salt and a taste of nutmeg, but taste the\nseasoning several times to see that it is correctly dosed.\n\nPlace in a mold with brown stock or meat gravy (in that case use a mold\nwith a hole) and cook in double boiler.\n"
     ]
    }
   ],
   "source": [
    "a = cr.get_text_by_document('13.txt')\n",
    "print(a)"
   ]
  },
  {
   "cell_type": "code",
   "execution_count": 68,
   "metadata": {},
   "outputs": [
    {
     "name": "stdout",
     "output_type": "stream",
     "text": [
      "ARTICHOKES IN MOLD (Sformato di carciofi) Remove the outside leaves of the artichokes, the harder part of all leaves, and clean the stalks without removing them. Cut each artichoke into four parts and put them to boil in salt water for only five minutes. If left longer on the fire they become too soaked in water and lose their taste. Remove from the water, drain them, grind or pound and rub them through a sieve. Season the pulp so obtained with two or three beaten eggs, two or three tablespoonfuls of =Balsamella= (No. 54) grated cheese, salt and a taste of nutmeg, but taste the seasoning several times to see that it is correctly dosed. Place in a mold with brown stock or meat gravy (in that case use a mold with a hole) and cook in double boiler. \n\nARTICHOKES IN MOLD Sformato di carciofi Remove the outside leaves of the artichokes the harder part of all leaves and clean the stalks without removing them Cut each artichoke into four parts and put them to boil in salt water for only five minutes If left longer on the fire they become too soaked in water and lose their taste Remove from the water drain them grind or pound and rub them through a sieve Season the pulp so obtained with two or three beaten eggs two or three tablespoonfuls of Balsamella No 54 grated cheese salt and a taste of nutmeg but taste the seasoning several times to see that it is correctly dosed Place in a mold with brown stock or meat gravy in that case use a mold with a hole and cook in double boiler \n\n['ARTICHOKES', 'IN', 'MOLD', 'Sformato', 'di', 'carciofi', 'Remove', 'the', 'outside', 'leaves', 'of', 'the', 'artichokes', 'the', 'harder', 'part', 'of', 'all', 'leaves', 'and', 'clean', 'the', 'stalks', 'without', 'removing', 'them', 'Cut', 'each', 'artichoke', 'into', 'four', 'parts', 'and', 'put', 'them', 'to', 'boil', 'in', 'salt', 'water', 'for', 'only', 'five', 'minutes', 'If', 'left', 'longer', 'on', 'the', 'fire', 'they', 'become', 'too', 'soaked', 'in', 'water', 'and', 'lose', 'their', 'taste', 'Remove', 'from', 'the', 'water', 'drain', 'them', 'grind', 'or', 'pound', 'and', 'rub', 'them', 'through', 'a', 'sieve', 'Season', 'the', 'pulp', 'so', 'obtained', 'with', 'two', 'or', 'three', 'beaten', 'eggs', 'two', 'or', 'three', 'tablespoonfuls', 'of', 'Balsamella', 'No', '54', 'grated', 'cheese', 'salt', 'and', 'a', 'taste', 'of', 'nutmeg', 'but', 'taste', 'the', 'seasoning', 'several', 'times', 'to', 'see', 'that', 'it', 'is', 'correctly', 'dosed', 'Place', 'in', 'a', 'mold', 'with', 'brown', 'stock', 'or', 'meat', 'gravy', 'in', 'that', 'case', 'use', 'a', 'mold', 'with', 'a', 'hole', 'and', 'cook', 'in', 'double', 'boiler'] \n\n['ARTICHOKES', 'Sformato', 'carciofi', 'Remove', 'outside', 'leaves', 'artichokes', 'harder', 'leaves', 'clean', 'stalks', 'without', 'removing', 'artichoke', 'parts', 'water', 'minutes', 'longer', 'become', 'soaked', 'water', 'their', 'taste', 'Remove', 'water', 'drain', 'grind', 'pound', 'through', 'sieve', 'Season', 'obtained', 'three', 'beaten', 'three', 'tablespoonfuls', 'Balsamella', 'grated', 'cheese', 'taste', 'nutmeg', 'taste', 'seasoning', 'several', 'times', 'correctly', 'dosed', 'Place', 'brown', 'stock', 'gravy', 'double', 'boiler'] \n\n"
     ]
    }
   ],
   "source": [
    "# wordcount to wordcloud\n",
    "# pipeline\n",
    "\n",
    "# get document 13\n",
    "a = cr.get_text_by_document('13.txt')\n",
    "\n",
    "# simplify whitespace (remove newlines)\n",
    "b = tmt.text_processing_steps.simplify_whitespace(a)\n",
    "\n",
    "# only keep alphanumeric characters, removes punctuation\n",
    "c = tmt.text_processing_steps.keep_alphanumeric(b)\n",
    "\n",
    "# split into words list\n",
    "dl = tmt.word_processing_steps.split_text_into_words(c)\n",
    "\n",
    "# only keep words with min length 5\n",
    "el = tmt.word_processing_steps.keep_words_min_length(dl,5)\n",
    "\n",
    "print(b, '\\n')\n",
    "print(c, '\\n')\n",
    "print(dl, '\\n')\n",
    "print(el, '\\n')"
   ]
  },
  {
   "cell_type": "code",
   "execution_count": null,
   "metadata": {},
   "outputs": [],
   "source": [
    ""
   ]
  }
 ],
 "metadata": {
  "anaconda-cloud": {},
  "kernelspec": {
   "display_name": "Python [conda root]",
   "language": "python",
   "name": "conda-root-py"
  },
  "language_info": {
   "codemirror_mode": {
    "name": "ipython",
    "version": 3.0
   },
   "file_extension": ".py",
   "mimetype": "text/x-python",
   "name": "python",
   "nbconvert_exporter": "python",
   "pygments_lexer": "ipython3",
   "version": "3.5.2"
  }
 },
 "nbformat": 4,
 "nbformat_minor": 0
}