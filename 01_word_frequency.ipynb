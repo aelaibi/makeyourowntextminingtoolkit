{
 "cells": [
  {
   "cell_type": "code",
   "execution_count": 1,
   "metadata": {
    "collapsed": true
   },
   "outputs": [],
   "source": [
    "# simple notebook to take a text corpus and work out word frequencies"
   ]
  },
  {
   "cell_type": "code",
   "execution_count": 2,
   "metadata": {
    "collapsed": true
   },
   "outputs": [],
   "source": [
    "# import our text mining toolkit\n",
    "import text_mining_toolkit"
   ]
  },
  {
   "cell_type": "code",
   "execution_count": 3,
   "metadata": {
    "collapsed": false
   },
   "outputs": [
    {
     "name": "stdout",
     "output_type": "stream",
     "text": [
      "directory of files =  data_sets/recipes/txt/\ntext_filename_pattern =  ??.txt\nself.documents populated =  22\n"
     ]
    }
   ],
   "source": [
    "cr = text_mining_toolkit.corpus_reader.CorpusReader(directory_of_files=\"data_sets/recipes/txt/\", text_filename_pattern=\"??.txt\")"
   ]
  },
  {
   "cell_type": "code",
   "execution_count": 4,
   "metadata": {
    "collapsed": false
   },
   "outputs": [
    {
     "data": {
      "text/plain": [
       "['00.txt',\n '01.txt',\n '02.txt',\n '03.txt',\n '04.txt',\n '05.txt',\n '06.txt',\n '07.txt',\n '08.txt',\n '09.txt',\n '10.txt',\n '11.txt',\n '12.txt',\n '13.txt',\n '14.txt',\n '15.txt',\n '16.txt',\n '17.txt',\n '18.txt',\n '19.txt',\n '20.txt',\n '21.txt']"
      ]
     },
     "execution_count": 4,
     "metadata": {},
     "output_type": "execute_result"
    }
   ],
   "source": [
    "cr.get_documents()"
   ]
  },
  {
   "cell_type": "code",
   "execution_count": 5,
   "metadata": {
    "collapsed": false
   },
   "outputs": [
    {
     "data": {
      "text/plain": [
       "'ARTICHOKES IN MOLD\\n\\n(Sformato di carciofi)\\n\\nRemove the outside leaves of the artichokes, the harder part of all\\nleaves, and clean the stalks without removing them.\\n\\nCut each artichoke into four parts and put them to boil in salt water\\nfor only five minutes. If left longer on the fire they become too soaked\\nin water and lose their taste. Remove from the water, drain them, grind\\nor pound and rub them through a sieve. Season the pulp so obtained with\\ntwo or three beaten eggs, two or three tablespoonfuls of =Balsamella=\\n(No. 54) grated cheese, salt and a taste of nutmeg, but taste the\\nseasoning several times to see that it is correctly dosed.\\n\\nPlace in a mold with brown stock or meat gravy (in that case use a mold\\nwith a hole) and cook in double boiler.'"
      ]
     },
     "execution_count": 5,
     "metadata": {},
     "output_type": "execute_result"
    }
   ],
   "source": [
    "cr.get_text_by_document('13.txt')"
   ]
  },
  {
   "cell_type": "code",
   "execution_count": 6,
   "metadata": {
    "collapsed": false
   },
   "outputs": [
    {
     "data": {
      "text/plain": [
       "\"SIDE-DISH OF SPINACH\\n\\n(Spinaci per contorno)\\n\\nAfter cooking the spinach in boiling water and chopping them fine, the\\nspinach can be cooked in different ways:\\n\\n1. With butter, salt and pepper, adding a little brown stock, if you\\nhave it, or a few tablespoonfuls of broth, or milk.\\n\\n2. With onion sauce (onion chopped very fine) and butter.\\n\\n3. With butter salt and pepper, adding a very small pinch of grated\\ncheese.\\n\\n4. With butter, a drop of olive oil and tomato sauce (No. 12) or tomato\\npaste diluted with soup stock or water. VEGETABLE SOUP\\n\\n(Zuppa Santé)\\n\\nAny kind of vegetables may be used for this soup: carrots, celery,\\ncabbage, turnips, onions, potatoes, spinach, the outside leaves of\\nlettuce or greens of any variety.\\n\\nSelect three or four kind of vegetables, shred or chop coarsely cabbage\\nor greens, and slice or cut in cubes the root vegetables. Put them over\\nthe fire with a small quantity of cooking oil or butter substitute, and\\nlet them fry until they have absorbed the fat. Then add broth and cook\\nuntil the vegetables are very tender. Fry croutons of stale bread in oil\\nand serve them in the soup. YELLOW SAUCE\\n\\n(Salsa gialla)\\n\\nThis sauce is especially good for boiled fish, and the quantities\\nindicated below are sufficient for a piece of fish or a whole fish\\nweighing about a pound.\\n\\nPut on the fire in a little saucepan one teaspoonful of flour and two\\nounces of butter, and when the flour begins to be browned, pour over it\\nlittle by little one cup of the broth of the fish, that is to say of the\\nwater in which the fish has been boiled. When you see that the flour\\ndoes not rise in the boiling water, take away the sauce from the flour\\nand pour over two tablespoonfuls of olive oil and the yolk of an egg,\\nstirring and mixing everything well. Squeeze in the sauce half a lemon\\nand season generously with salt and pepper. Let it cool and then pour\\nover the fish that is to be served with a sprig of parsley.\\n\\nThis sauce must have the appearance of a cream and must not be too\\nliquid, in order that it may remain attached to the fish. TOMATO SAUCE\\n\\n(Salsa di Pomidoro)\\n\\nChop together, fine, one quarter of an onion, a clove of garlic, a piece\\nof celery as long as your finger, a few bay leaves and just enough\\nparsley. Season with a little oil, salt and pepper, cut up seven or\\neight tomatoes and put everything over the fire together. Stir it from\\ntime to time and when you see the juice condensing into a thin custard\\nstrain through a sieve, and it is ready for use.\\n\\nWhen fresh tomatoes are not available the tomato paste may be used. This\\nis a concentrated paste made from tomatoes and spices which is to be\\nhad, at all Italian grocers', now so numerous in all American cities.\\nThinned with water, it is a much used ingredient in Italian recipes.\\nCatsup and concentrated tomato soup do not make satisfactory substitutes\\nas they are too sweet in flavor. Of course canned tomatoes seasoned with\\nsalt and a bit of bay leaf, can always be used instead of fresh\\ntomatoes.\\n\\nThis sauce serves many purposes. It is good on boiled meat; excellent to\\ndress macaroni, spaghetti or other pastes which have been seasoned with\\nbutter and cheese, or on boiled rice seasoned in the same way (see\\nRisotto). Mushrooms are a fine addition to it.\\n\\nWhen using concentrated paste the following recipes will be found to\\ngive good results:\\n\\nChop one onion, one carrot and a celery stalk: form a little bunch of\\nparsley and other aromatic greens and put everything to brown in a\\nsaucepan together with a piece of butter. Add a reasonable portion of\\ntomato paste while cooking, stir and keep on a low fire until the sauce\\nassumes the necessary consistency. GNOCCHI\\n\\nThis is an excellent soup, but as it requires boiled or roast breast of\\nchicken or turkey it is well to make it only when these ingredients are\\nhandy.\\n\\nPrepare a certain quantity of boiled potatoes, the mealy kind being\\npreferred. Mash the potatoes and mix them with chicken or turkey breast\\nwell ground, grated cheese (Parmesan or Swiss), two or more yolks of\\neggs, salt and a small quantity of nutmeg. Pour the compound on the\\nbread board with a quantity of flour sufficient to make a paste and roll\\nit in little sticks as thick as the small finger. Cut the sticks in\\nlittle pieces about half an inch long and put them in boiling water.\\nFive or six minutes' cooking will be sufficient. WHITE SAUCE\\n\\n(Salsa bianca)\\n\\nThis sauce can be served with boiled asparagus or with cauliflower. The\\ningredients are 1/4 lb. of butter, a tablespoonful of flour, a\\ntablespoonful vinegar, one yolk of egg, salt and pepper, broth or water\\nin sufficient quantity.\\n\\nPut first on the fire the flour with half the butter and when it begins\\nto be browned pour over it the broth or the water little by little,\\nstirring with the wooden spoon and adding the rest of the butter and the\\nvinegar without making the water boil too much. When taken off the fire\\nadd the yolk of the egg, stir and serve. FRIED MUSHROOMS\\n\\n(Funghi fritti)\\n\\nChoose middle-sized mushrooms, which are also of the right ripeness:\\nwhen they are too big they are too soft and if small they are too hard.\\n\\nScrape the stems, wash them carefully but do not keep in water, for then\\nthey would lose their pleasant odor. Then cut them in rather large\\nslices and dip them in flour before putting in the frying pan. Olive oil\\nis best for frying mushrooms and the seasoning is composed exclusively\\nof salt and pepper to be applied when they are frying. They can also be\\ndipped in beaten eggs after being sprinkled with flour, but this is\\nsuperfluous. ASPARAGUS\\n\\n(Sparagi)\\n\\nAsparagus can be prepared in many different ways, but the simplest and\\nbest is that of boiling them and serving them seasoned with olive oil\\nand vinegar or lemon juice. However there are other ways as, for\\ninstance, the following: Put them whole to brown a little with the green\\npart in butter and, after seasoning them with salt, pepper and a pinch\\nof grated cheese, pour over the melted butter when it is browned. Or\\nelse divide the white from the green part and place them as follows in a\\nfireproof plate: Dust the bottom with grated cheese and dispose over the\\npoints of the asparagus one near the other; season with salt, pepper,\\ngrated cheese and little pieces of butter. Make another layer of\\nasparagus and, seasoning in the same way, continue until you have them.\\nBe moderate in the seasoning. Cross the layers of asparagus like a\\ntrestle, put on the oven and keep until the seasoning, is melted. Serve\\nhot.\\n\\nIf you have some brown stock, parboil them first and complete the\\ncooking with brown stock, adding a little bust and dusting moderately\\nwith grated cheese. ARTICHOKES IN MOLD\\n\\n(Sformato di carciofi)\\n\\nRemove the outside leaves of the artichokes, the harder part of all\\nleaves, and clean the stalks without removing them.\\n\\nCut each artichoke into four parts and put them to boil in salt water\\nfor only five minutes. If left longer on the fire they become too soaked\\nin water and lose their taste. Remove from the water, drain them, grind\\nor pound and rub them through a sieve. Season the pulp so obtained with\\ntwo or three beaten eggs, two or three tablespoonfuls of =Balsamella=\\n(No. 54) grated cheese, salt and a taste of nutmeg, but taste the\\nseasoning several times to see that it is correctly dosed.\\n\\nPlace in a mold with brown stock or meat gravy (in that case use a mold\\nwith a hole) and cook in double boiler. GREEN SAUCE\\n\\n(Salsa verde)\\n\\nChop all together some capers that have been in vinegar, one anchovy, a\\nsmall slice of onion and just a taste of garlic. Crush the resulting\\nhash with the blade of a knife to make it very fine. Add a sprig of\\nparsley, chopped together with some leaves of basil and dissolve the\\nwhole in very good olive oil and lemon juice.\\n\\nThis sauce is excellent to season boiled chicken or cold boiled fish or\\nhard boiled eggs.\\n\\nGreen Peppers can take the place of capers, if these are not at hand. STUFFED ITALIAN SQUASH\\n\\n(Zucchini ripieni)\\n\\nFor a description of the =Zucchini= see No. 32.\\n\\nTo make the stuffed zucchini first cut them lengthwise in two halves and\\nremove the interior pulp, leaving space enough for the filling.\\n\\nTake some lean veal (quantity in proportion to the squashes) cut it into\\npieces and place it on the fire in a saucepan with a hash of onion,\\nparsley, celery, carrot, a little corned beef cut in little pieces, a\\nlittle oil, salt and pepper. Stir it often with a spoon and when the\\nmeat is brown pour in a cup of water and then another after a while.\\nThen rub the gravy through a sieve and put it aside.\\n\\nChop the cooked meat fine and grind it in the grinder and make a hash of\\nit and one egg, a little grated cheese, a crumb of bread boiled in milk\\nor in soup stock and just a taste of nutmeg. Put this hash inside each\\nhalf squash and put them to brown in butter, completing the cooking with\\nthe gravy set aside. RICE CAKES\\n\\n(Frittelle di riso)\\n\\nCook the rice in milk, adding a small quantity of butter, some salt,\\nhalf a teaspoon of sugar and just a taste of lemon peel. Let the rice\\ncool down after being thoroughly cooked, then add three yolks of eggs\\n(for 1/4 lb. of rice) and some flour. Mix well and let the whole rest\\nfor several hours. When about to fry, beat the white of the eggs to a\\nfroth, add to the rice mixing slowly, and put into the saucepan with a\\nladle. POLENTA PIE\\n\\n(Polenta Pasticciata)\\n\\nMake a very stiff mush of cornmeal cooked in milk. Salt it well and\\nspread out on the bread board in a sheet about one inch thick. When\\ncold, cut in little diamonds or squares and place these in a buttered\\nbaking dish. Prepare the =Bolognese sauce= according to the following\\nrecipe: Chop 1/4 lb. round steak, a slice of pork or bacon, one small\\ncarrot 1/4 onion, one large piece celery. Put the meat and vegetables\\nover the fire with a piece of butter. When the meat has browned add half\\na tablespoon of flour and wet the mixture with hot water or broth,\\nallowing it to simmer from half an hour to an hour. It is done when it\\nis the consistency of a thick gravy.\\n\\nMake a smooth white sauce with milk cornstarch and butter. Over a layer\\nof the polenta, cut as above and placed in the baking dish sprinkle\\nsome grated cheese and a few tablespoons each of the white sauce and the\\nmeat sauce. Repeat until the dish is full. Bake until the top is nicely\\nbrowned. This dish seems very elaborate, but it is very delicious and a\\nmeal in itself.\\n\\nThe Bolognese sauce is also used to season macaroni or spaghetti in lieu\\nof the tomato sauce or the brown stock. STUFFED TOMATOES\\n\\n(Pomodori ripieni)\\n\\nSelect ripe middle-sized tomatoes, cut them in two equal parts and scoop\\nout the inside seeds. Season with salt and pepper and fill the tomatoes\\nwith the following hash, in such a way as to make the stuffing come over\\nthe edge of the half tomato:\\n\\nMake a hash with onion, parsley and celery, put it on the fire with a\\npiece of butter and when it is browned, put in a small handful of dried\\nmushrooms previously softened in water and chopped very fine: add a\\ntablespoonful of bread crumbs soaked in milk, season with salt and\\npepper and let the compound simmer, moistening with water if necessary.\\nWhen you take from the fire add, when it is still lukewarm, grated\\ncheese and a beaten yolk (or two) of egg, but seeing that the compound\\ndoes not become too liquid.\\n\\nWhen the tomatoes are filled, take them in the oven with a little butter\\nand oil mixed together and serve them as a side-dish for roast beef or\\nsteak.\\n\\nThe stuffed tomatoes can be made simpler with a hash of garlic and\\nparsley mixed with bread crumbs, salt and pepper and seasoned with oil\\nwhen they are in the saucepan. RAVIOLI\\n\\nPut on the bread board about two pounds of flour in a heap; make a\\nhollow in the middle and put in it a piece of butter, three egg-yolks,\\nsalt and three or four tablespoonfuls of lukewarm water. Make a paste\\nand knead it well, then let it stand for an hour, wrapped or covered\\nwith a linen cloth. Then spread the paste to a thin sheet, as thin as a\\nten-cent piece.\\n\\nChop and grind pieces of roast or boiled chicken meat: add to it an\\nequal part of marrow from the bones of beef and pieces of brains, three\\nyolks, some crumbs of bread soaked in milk or broth and some grated\\ncheese (Parmesan or Swiss). Rub through a sieve and make little balls as\\nbig as a hazel-nut, which are to be placed at equal distances (a little\\nmore than an inch) in a line over the sheet of paste.\\n\\nBeat a whole egg and pass it over the paste with a brush all around the\\nlittle balls. Cover these with another sheet of paste, press down the\\nintervals between each ball, and then separate each section from the\\nother with a knife. Moisten the edges of each section with the finger\\ndipped in cold water, to make them stick together, and press them down\\nwith the fingers or the prongs of a fork. Then put to boil in water\\nseasoned with salt or, better still, in broth. The ravioli are then to\\nbe served hot seasoned with cheese and butter or with brown stock or\\ntomato sauce. FRIED ARTICHOKE\\n\\n(Carciofi fritti)\\n\\nTake two artichokes, cut out the hard part of the leaves and of the\\nstalk, cut them in two. Then cut these halves into section or slices so\\nas to have eight or ten for each artichoke, according to size. As you\\ncut them, throw them into cold water and when they are well washed, dry\\nthem, but not thoroughly, putting them at once into the flour so that\\nthe latter remains attached to it. Beat the white of an egg, but not to\\na froth, then mix the yolk with the white and salt the whole. Shake out\\nthe artichokes to take away the superfluous flour and then put them in\\nthe egg, leaving them for a while so that the egg may be attached to\\nthem.\\n\\nThrow the pieces one by one into the pan where there is boiling fat,\\nbutter or olive oil, and when they are well browned, take them away and\\nserve with lemon. If it is desired that the artichokes remain white, it\\nis better to fry them in oil and to squeeze half lemon into the water\\nwhere the artichokes are put to soften. CODFISH CROQUETTES\\n\\n(Cotolette di baccalá)\\n\\nBoil as explained above and, if the quantity is one pound or a little\\nmore put together two anchovies and some parsley, chopping everything\\ntogether very fine. Add some pepper, a tablespoonful of grated cheese,\\nthree or four tablespoonfuls of pap, composed of bread crumbs in large\\npieces, water and butter, and two eggs. Give the compound the form of\\nseveral flat cutlets, dip them in beaten egg and in ground bread crumbs.\\nFry in oil and serve with lemon, or tomato sauce. FRIED EGG-PLANTS\\n\\n(Melanzane fritte)\\n\\nEgg-plant or, as they are also called, mad-apples are an excellent\\nvegetable which may be used as dressing or as a dish by itself. Small or\\nmiddle-sized egg-plants are to be preferred, as the big ones have\\nsometimes a slightly bitter taste.\\n\\nRemove the skin, cut into cubes, salt and leave them in a plate for a\\nfew hours. Then wipe them to remove the juice that they have thrown out,\\ndip in flour and fry in oil. CODFISH\\n\\n(Baccalá)\\n\\nI\\n\\nFreshen and soak the codfish in cold water, changing the water two or\\nthree times, or, better, keeping it for some time in a vase under\\nrunning cold water. Then cut it into pieces as large as the palm of the\\nhand and dip them in flour until they are well covered. Then put a\\nkettle or a saucepan on the fire with plenty of oil and two or three\\ncloves of garlic, whole but a little crushed. When the garlic begins to\\nbrown put in the codfish and brown it on both sides, stirring it often,\\nso that it doesn't burn. Salt is not necessary, or at least only a\\nlittle after tasting, but a little pepper will not be amiss. Finally\\npour over some tomato sauce (No. 12) or tomato paste diluted in water,\\nlet it boil a little more and serve. RICE WITH SAFFRON\\n\\n(Riso alla Milanese con Zafferano)\\n\\nWash and dry the rice and put it in boiling broth (beef or chicken\\nbroth). When the rice is half cooked add half its weight of marrow of\\nbeef bone, cut into small pieces. A few minutes are sufficient for the\\ncooking of the marrow. Add grated cheese and remove the kettle from the\\nfire.\\n\\nDissolve some saffron in one or two tablespoonfuls of broth; sift it\\nthrough a sieve and mix with rice, which is to be served very hot, and\\nmakes an excellent soup. BREAD SOUP\\n\\n(Panata)\\n\\nThis excellent and nutritious soup is a godsend for using the stale\\nbread that must never again be thrown away. It is composed of bread\\ncrumbs and grated bread, eggs, grated cheese, nutmeg (in very small\\nquantity) and salt, all mixed together and put in broth previously\\nprepared, which must be warm at the moment of the immersion, but not at\\nthe boiling point. Then place it on a low fire and stir gently. Any\\nvegetable left over may be added. EGG-PLANTS IN THE OVEN\\n\\n(Melanzane al forno)\\n\\nSkin five or six egg-plants, cut them in round slices and salt them so\\nthat they throw out the water that they contain. After a few hours dip\\nin flour and frying oil.\\n\\nTake a fireproof vase or baking tin and place the slices in layers, with\\ngrated cheese between each layer, abundantly seasoned with tomato sauce\\n(No. 12).\\n\\nBeat one egg with a pinch of salt, a tablespoonful of tomato sauce, a\\nteaspoonful of grated cheese and two of crumbs of bread, and cover the\\nupper layer with this sauce. Put the vase in the oven and when the egg\\nis coagulated, serve hot.\""
      ]
     },
     "execution_count": 6,
     "metadata": {},
     "output_type": "execute_result"
    }
   ],
   "source": [
    "# cr.get_all_text()"
   ]
  },
  {
   "cell_type": "code",
   "execution_count": 7,
   "metadata": {
    "collapsed": true
   },
   "outputs": [],
   "source": [
    ""
   ]
  },
  {
   "cell_type": "code",
   "execution_count": null,
   "metadata": {},
   "outputs": [],
   "source": [
    ""
   ]
  }
 ],
 "metadata": {
  "anaconda-cloud": {},
  "kernelspec": {
   "display_name": "Python [conda root]",
   "language": "python",
   "name": "conda-root-py"
  },
  "language_info": {
   "codemirror_mode": {
    "name": "ipython",
    "version": 3.0
   },
   "file_extension": ".py",
   "mimetype": "text/x-python",
   "name": "python",
   "nbconvert_exporter": "python",
   "pygments_lexer": "ipython3",
   "version": "3.5.2"
  }
 },
 "nbformat": 4,
 "nbformat_minor": 0
}