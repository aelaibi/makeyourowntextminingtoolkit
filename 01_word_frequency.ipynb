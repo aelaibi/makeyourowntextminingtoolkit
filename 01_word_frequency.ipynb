{
 "cells": [
  {
   "cell_type": "code",
   "execution_count": 55,
   "metadata": {
    "collapsed": true
   },
   "outputs": [],
   "source": [
    "# simple notebook to take a text corpus and work out word frequencies"
   ]
  },
  {
   "cell_type": "code",
   "execution_count": 56,
   "metadata": {},
   "outputs": [
    {
     "name": "stdout",
     "output_type": "stream",
     "text": [
      "The autoreload extension is already loaded. To reload it, use:\n  %reload_ext autoreload\n"
     ]
    }
   ],
   "source": [
    "# following only used for development, reloads the modules with any code changes\n",
    "%load_ext autoreload\n",
    "%autoreload 2"
   ]
  },
  {
   "cell_type": "code",
   "execution_count": 57,
   "metadata": {
    "collapsed": true
   },
   "outputs": [],
   "source": [
    "# import our text mining toolkit\n",
    "import text_mining_toolkit as tmt"
   ]
  },
  {
   "cell_type": "code",
   "execution_count": 58,
   "metadata": {
    "collapsed": false
   },
   "outputs": [
    {
     "name": "stdout",
     "output_type": "stream",
     "text": [
      "directory of files =  data_sets/recipes/txt/\ntext_filename_pattern =  ??.txt\nself.documents populated =  22\n"
     ]
    }
   ],
   "source": [
    "cr = tmt.corpus_reader.CorpusReader(directory_of_files=\"data_sets/recipes/txt/\", text_filename_pattern=\"??.txt\")"
   ]
  },
  {
   "cell_type": "code",
   "execution_count": 59,
   "metadata": {
    "collapsed": false
   },
   "outputs": [
    {
     "name": "stdout",
     "output_type": "stream",
     "text": [
      "ARTICHOKES IN MOLD\n\n(Sformato di carciofi)\n\nRemove the outside leaves of the artichokes, the harder part of all\nleaves, and clean the stalks without removing them.\n\nCut each artichoke into four parts and put them to boil in salt water\nfor only five minutes. If left longer on the fire they become too soaked\nin water and lose their taste. Remove from the water, drain them, grind\nor pound and rub them through a sieve. Season the pulp so obtained with\ntwo or three beaten eggs, two or three tablespoonfuls of =Balsamella=\n(No. 54) grated cheese, salt and a taste of nutmeg, but taste the\nseasoning several times to see that it is correctly dosed.\n\nPlace in a mold with brown stock or meat gravy (in that case use a mold\nwith a hole) and cook in double boiler.\n"
     ]
    }
   ],
   "source": [
    "a = cr.get_text_by_document('13.txt')\n",
    "print(a)"
   ]
  },
  {
   "cell_type": "code",
   "execution_count": 71,
   "metadata": {},
   "outputs": [
    {
     "name": "stdout",
     "output_type": "stream",
     "text": [
      "['ravioli', 'bread', 'board', 'about', 'pounds', 'flour', 'hollow', 'middle', 'piece', 'butter', 'three', 'eggyolks', 'three', 'tablespoonfuls', 'lukewarm', 'water', 'paste', 'knead', 'stand', 'wrapped', 'covered', 'linen', 'cloth', 'spread', 'paste', 'sheet', 'tencent', 'piece', 'grind', 'pieces', 'roast', 'boiled', 'chicken', 'equal', 'marrow', 'bones', 'pieces', 'brains', 'three', 'yolks', 'crumbs', 'bread', 'soaked', 'broth', 'grated', 'cheese', 'parmesan', 'swiss', 'through', 'sieve', 'little', 'balls', 'hazelnut', 'which', 'placed', 'equal', 'distances', 'little', 'sheet', 'paste', 'whole', 'paste', 'brush', 'around', 'little', 'balls', 'cover', 'these', 'another', 'sheet', 'paste', 'press', 'intervals', 'between', 'separate', 'section', 'other', 'knife', 'moisten', 'edges', 'section', 'finger', 'dipped', 'water', 'stick', 'together', 'press', 'fingers', 'prongs', 'water', 'seasoned', 'better', 'still', 'broth', 'ravioli', 'served', 'seasoned', 'cheese', 'butter', 'brown', 'stock', 'tomato', 'sauce', 'saffron', 'milanese', 'zafferano', 'boiling', 'broth', 'chicken', 'broth', 'cooked', 'weight', 'marrow', 'small', 'pieces', 'minutes', 'sufficient', 'cooking', 'marrow', 'grated', 'cheese', 'remove', 'kettle', 'dissolve', 'saffron', 'tablespoonfuls', 'broth', 'through', 'sieve', 'which', 'served', 'makes', 'excellent', 'polenta', 'polenta', 'pasticciata', 'stiff', 'cornmeal', 'cooked', 'spread', 'bread', 'board', 'sheet', 'about', 'thick', 'little', 'diamonds', 'squares', 'place', 'these', 'buttered', 'baking', 'prepare', 'bolognese', 'sauce', 'according', 'following', 'recipe', 'round', 'steak', 'slice', 'bacon', 'small', 'carrot', 'onion', 'large', 'piece', 'celery', 'vegetables', 'piece', 'butter', 'browned', 'tablespoon', 'flour', 'mixture', 'water', 'broth', 'allowing', 'simmer', 'consistency', 'thick', 'gravy', 'smooth', 'white', 'sauce', 'cornstarch', 'butter', 'layer', 'polenta', 'above', 'placed', 'baking', 'sprinkle', 'grated', 'cheese', 'tablespoons', 'white', 'sauce', 'sauce', 'repeat', 'until', 'until', 'nicely', 'browned', 'seems', 'elaborate', 'delicious', 'itself', 'bolognese', 'sauce', 'season', 'macaroni', 'spaghetti', 'tomato', 'sauce', 'brown', 'stock', 'artichokes', 'sformato', 'carciofi', 'remove', 'outside', 'leaves', 'artichokes', 'harder', 'leaves', 'clean', 'stalks', 'without', 'removing', 'artichoke', 'parts', 'water', 'minutes', 'longer', 'become', 'soaked', 'water', 'their', 'taste', 'remove', 'water', 'drain', 'grind', 'pound', 'through', 'sieve', 'season', 'obtained', 'three', 'beaten', 'three', 'tablespoonfuls', 'balsamella', 'grated', 'cheese', 'taste', 'nutmeg', 'taste', 'seasoning', 'several', 'times', 'correctly', 'dosed', 'place', 'brown', 'stock', 'gravy', 'double', 'boiler', 'codfish', 'baccal', 'freshen', 'codfish', 'water', 'changing', 'water', 'three', 'times', 'better', 'keeping', 'under', 'running', 'water', 'pieces', 'large', 'flour', 'until', 'covered', 'kettle', 'saucepan', 'plenty', 'three', 'cloves', 'garlic', 'whole', 'little', 'crushed', 'garlic', 'begins', 'brown', 'codfish', 'brown', 'sides', 'stirring', 'often', 'doesnt', 'necessary', 'least', 'little', 'after', 'tasting', 'little', 'pepper', 'amiss', 'finally', 'tomato', 'sauce', 'tomato', 'paste', 'diluted', 'water', 'little', 'serve', 'stuffed', 'tomatoes', 'pomodori', 'ripieni', 'select', 'middlesized', 'tomatoes', 'equal', 'parts', 'scoop', 'inside', 'seeds', 'season', 'pepper', 'tomatoes', 'following', 'stuffing', 'tomato', 'onion', 'parsley', 'celery', 'piece', 'butter', 'browned', 'small', 'handful', 'dried', 'mushrooms', 'previously', 'softened', 'water', 'chopped', 'tablespoonful', 'bread', 'crumbs', 'soaked', 'season', 'pepper', 'compound', 'simmer', 'moistening', 'water', 'necessary', 'still', 'lukewarm', 'grated', 'cheese', 'beaten', 'seeing', 'compound', 'become', 'liquid', 'tomatoes', 'filled', 'little', 'butter', 'mixed', 'together', 'serve', 'sidedish', 'roast', 'steak', 'stuffed', 'tomatoes', 'simpler', 'garlic', 'parsley', 'mixed', 'bread', 'crumbs', 'pepper', 'seasoned', 'saucepan', 'yellow', 'sauce', 'salsa', 'gialla', 'sauce', 'especially', 'boiled', 'quantities', 'indicated', 'below', 'sufficient', 'piece', 'whole', 'weighing', 'about', 'pound', 'little', 'saucepan', 'teaspoonful', 'flour', 'ounces', 'butter', 'flour', 'begins', 'browned', 'little', 'little', 'broth', 'water', 'which', 'boiled', 'flour', 'boiling', 'water', 'sauce', 'flour', 'tablespoonfuls', 'olive', 'stirring', 'mixing', 'everything', 'squeeze', 'sauce', 'lemon', 'season', 'generously', 'pepper', 'served', 'sprig', 'parsley', 'sauce', 'appearance', 'cream', 'liquid', 'order', 'remain', 'attached', 'sidedish', 'spinach', 'spinaci', 'contorno', 'after', 'cooking', 'spinach', 'boiling', 'water', 'chopping', 'spinach', 'cooked', 'different', 'butter', 'pepper', 'adding', 'little', 'brown', 'stock', 'tablespoonfuls', 'broth', 'onion', 'sauce', 'onion', 'chopped', 'butter', 'butter', 'pepper', 'adding', 'small', 'pinch', 'grated', 'cheese', 'butter', 'olive', 'tomato', 'sauce', 'tomato', 'paste', 'diluted', 'stock', 'water', 'white', 'sauce', 'salsa', 'bianca', 'sauce', 'served', 'boiled', 'asparagus', 'cauliflower', 'ingredients', 'butter', 'tablespoonful', 'flour', 'tablespoonful', 'vinegar', 'pepper', 'broth', 'water', 'sufficient', 'quantity', 'first', 'flour', 'butter', 'begins', 'browned', 'broth', 'water', 'little', 'little', 'stirring', 'wooden', 'spoon', 'adding', 'butter', 'vinegar', 'without', 'making', 'water', 'taken', 'serve', 'codfish', 'croquettes', 'cotolette', 'baccal', 'explained', 'above', 'quantity', 'pound', 'little', 'together', 'anchovies', 'parsley', 'chopping', 'everything', 'together', 'pepper', 'tablespoonful', 'grated', 'cheese', 'three', 'tablespoonfuls', 'composed', 'bread', 'crumbs', 'large', 'pieces', 'water', 'butter', 'compound', 'several', 'cutlets', 'beaten', 'ground', 'bread', 'crumbs', 'serve', 'lemon', 'tomato', 'sauce', 'asparagus', 'sparagi', 'asparagus', 'prepared', 'different', 'simplest', 'boiling', 'serving', 'seasoned', 'olive', 'vinegar', 'lemon', 'juice', 'however', 'there', 'other', 'instance', 'following', 'whole', 'brown', 'little', 'green', 'butter', 'after', 'seasoning', 'pepper', 'pinch', 'grated', 'cheese', 'melted', 'butter', 'browned', 'divide', 'white', 'green', 'place', 'follows', 'fireproof', 'plate', 'bottom', 'grated', 'cheese', 'dispose', 'points', 'asparagus', 'other', 'season', 'pepper', 'grated', 'cheese', 'little', 'pieces', 'butter', 'another', 'layer', 'asparagus', 'seasoning', 'continue', 'until', 'moderate', 'seasoning', 'cross', 'layers', 'asparagus', 'trestle', 'until', 'seasoning', 'melted', 'serve', 'brown', 'stock', 'parboil', 'first', 'complete', 'cooking', 'brown', 'stock', 'adding', 'little', 'dusting', 'moderately', 'grated', 'cheese', 'fried', 'artichoke', 'carciofi', 'fritti', 'artichokes', 'leaves', 'stalk', 'these', 'halves', 'section', 'slices', 'eight', 'artichoke', 'according', 'throw', 'water', 'washed', 'thoroughly', 'putting', 'flour', 'latter', 'remains', 'attached', 'white', 'froth', 'white', 'whole', 'shake', 'artichokes', 'superfluous', 'flour', 'leaving', 'while', 'attached', 'throw', 'pieces', 'where', 'there', 'boiling', 'butter', 'olive', 'browned', 'serve', 'lemon', 'desired', 'artichokes', 'remain', 'white', 'better', 'squeeze', 'lemon', 'water', 'where', 'artichokes', 'soften', 'stuffed', 'italian', 'squash', 'zucchini', 'ripieni', 'description', 'zucchini', 'stuffed', 'zucchini', 'first', 'lengthwise', 'halves', 'remove', 'interior', 'leaving', 'space', 'enough', 'filling', 'quantity', 'proportion', 'squashes', 'pieces', 'place', 'saucepan', 'onion', 'parsley', 'celery', 'carrot', 'little', 'corned', 'little', 'pieces', 'little', 'pepper', 'often', 'spoon', 'brown', 'water', 'another', 'after', 'while', 'gravy', 'through', 'sieve', 'aside', 'cooked', 'grind', 'grinder', 'little', 'grated', 'cheese', 'crumb', 'bread', 'boiled', 'stock', 'taste', 'nutmeg', 'inside', 'squash', 'brown', 'butter', 'completing', 'cooking', 'gravy', 'aside', 'eggplants', 'melanzane', 'forno', 'eggplants', 'round', 'slices', 'throw', 'water', 'contain', 'after', 'hours', 'flour', 'frying', 'fireproof', 'baking', 'place', 'slices', 'layers', 'grated', 'cheese', 'between', 'layer', 'abundantly', 'seasoned', 'tomato', 'sauce', 'pinch', 'tablespoonful', 'tomato', 'sauce', 'teaspoonful', 'grated', 'cheese', 'crumbs', 'bread', 'cover', 'upper', 'layer', 'sauce', 'coagulated', 'serve', 'cakes', 'frittelle', 'adding', 'small', 'quantity', 'butter', 'teaspoon', 'sugar', 'taste', 'lemon', 'after', 'being', 'thoroughly', 'cooked', 'three', 'yolks', 'flour', 'whole', 'several', 'hours', 'about', 'white', 'froth', 'mixing', 'slowly', 'saucepan', 'ladle', 'fried', 'mushrooms', 'funghi', 'fritti', 'choose', 'middlesized', 'mushrooms', 'which', 'right', 'ripeness', 'small', 'scrape', 'stems', 'carefully', 'water', 'would', 'their', 'pleasant', 'rather', 'large', 'slices', 'flour', 'before', 'putting', 'frying', 'olive', 'frying', 'mushrooms', 'seasoning', 'composed', 'exclusively', 'pepper', 'applied', 'frying', 'dipped', 'beaten', 'after', 'being', 'sprinkled', 'flour', 'superfluous', 'fried', 'eggplants', 'melanzane', 'fritte', 'eggplant', 'called', 'madapples', 'excellent', 'vegetable', 'which', 'dressing', 'itself', 'small', 'middlesized', 'eggplants', 'preferred', 'sometimes', 'slightly', 'bitter', 'taste', 'remove', 'cubes', 'leave', 'plate', 'hours', 'remove', 'juice', 'thrown', 'flour', 'tomato', 'sauce', 'salsa', 'pomidoro', 'together', 'quarter', 'onion', 'clove', 'garlic', 'piece', 'celery', 'finger', 'leaves', 'enough', 'parsley', 'season', 'little', 'pepper', 'seven', 'eight', 'tomatoes', 'everything', 'together', 'juice', 'condensing', 'custard', 'strain', 'through', 'sieve', 'ready', 'fresh', 'tomatoes', 'available', 'tomato', 'paste', 'concentrated', 'paste', 'tomatoes', 'spices', 'which', 'italian', 'grocers', 'numerous', 'american', 'cities', 'thinned', 'water', 'ingredient', 'italian', 'recipes', 'catsup', 'concentrated', 'tomato', 'satisfactory', 'substitutes', 'sweet', 'flavor', 'course', 'canned', 'tomatoes', 'seasoned', 'always', 'instead', 'fresh', 'tomatoes', 'sauce', 'serves', 'purposes', 'boiled', 'excellent', 'dress', 'macaroni', 'spaghetti', 'other', 'pastes', 'which', 'seasoned', 'butter', 'cheese', 'boiled', 'seasoned', 'risotto', 'mushrooms', 'addition', 'using', 'concentrated', 'paste', 'following', 'recipes', 'found', 'results', 'onion', 'carrot', 'celery', 'stalk', 'little', 'bunch', 'parsley', 'other', 'aromatic', 'greens', 'everything', 'brown', 'saucepan', 'together', 'piece', 'butter', 'reasonable', 'portion', 'tomato', 'paste', 'while', 'cooking', 'until', 'sauce', 'assumes', 'necessary', 'consistency', 'green', 'sauce', 'salsa', 'verde', 'together', 'capers', 'vinegar', 'anchovy', 'small', 'slice', 'onion', 'taste', 'garlic', 'crush', 'resulting', 'blade', 'knife', 'sprig', 'parsley', 'chopped', 'together', 'leaves', 'basil', 'dissolve', 'whole', 'olive', 'lemon', 'juice', 'sauce', 'excellent', 'season', 'boiled', 'chicken', 'boiled', 'boiled', 'green', 'peppers', 'place', 'capers', 'these', 'vegetable', 'zuppa', 'vegetables', 'carrots', 'celery', 'cabbage', 'turnips', 'onions', 'potatoes', 'spinach', 'outside', 'leaves', 'lettuce', 'greens', 'variety', 'select', 'three', 'vegetables', 'shred', 'coarsely', 'cabbage', 'greens', 'slice', 'cubes', 'vegetables', 'small', 'quantity', 'cooking', 'butter', 'substitute', 'until', 'absorbed', 'broth', 'until', 'vegetables', 'tender', 'croutons', 'stale', 'bread', 'serve', 'bread', 'panata', 'excellent', 'nutritious', 'godsend', 'using', 'stale', 'bread', 'never', 'again', 'thrown', 'composed', 'bread', 'crumbs', 'grated', 'bread', 'grated', 'cheese', 'nutmeg', 'small', 'quantity', 'mixed', 'together', 'broth', 'previously', 'prepared', 'which', 'moment', 'immersion', 'boiling', 'point', 'place', 'gently', 'vegetable', 'added', 'gnocchi', 'excellent', 'requires', 'boiled', 'roast', 'breast', 'chicken', 'turkey', 'these', 'ingredients', 'handy', 'prepare', 'certain', 'quantity', 'boiled', 'potatoes', 'mealy', 'being', 'preferred', 'potatoes', 'chicken', 'turkey', 'breast', 'ground', 'grated', 'cheese', 'parmesan', 'swiss', 'yolks', 'small', 'quantity', 'nutmeg', 'compound', 'bread', 'board', 'quantity', 'flour', 'sufficient', 'paste', 'little', 'sticks', 'thick', 'small', 'finger', 'sticks', 'little', 'pieces', 'about', 'boiling', 'water', 'minutes', 'cooking', 'sufficient'] \n\n"
     ]
    }
   ],
   "source": [
    "# wordcount to wordcloud\n",
    "# pipeline\n",
    "\n",
    "# get all text from corpus\n",
    "a = cr.get_all_text()\n",
    "\n",
    "# simplify whitespace (remove newlines)\n",
    "b = tmt.text_processing_steps.simplify_whitespace(a)\n",
    "\n",
    "# only keep alphanumeric characters, removes punctuation\n",
    "c = tmt.text_processing_steps.keep_alphanumeric(b)\n",
    "\n",
    "# make lowercase\n",
    "d = tmt.text_processing_steps.to_lowercase(c)\n",
    "\n",
    "# split into words list\n",
    "dl = tmt.word_processing_steps.split_text_into_words(d)\n",
    "\n",
    "# only keep words with min length 5\n",
    "el = tmt.word_processing_steps.keep_words_min_length(dl,5)\n",
    "\n",
    "#print(b, '\\n')\n",
    "#print(c, '\\n')\n",
    "#print(dl, '\\n')\n",
    "print(el, '\\n')"
   ]
  },
  {
   "cell_type": "code",
   "execution_count": null,
   "metadata": {},
   "outputs": [],
   "source": [
    ""
   ]
  }
 ],
 "metadata": {
  "anaconda-cloud": {},
  "kernelspec": {
   "display_name": "Python [conda root]",
   "language": "python",
   "name": "conda-root-py"
  },
  "language_info": {
   "codemirror_mode": {
    "name": "ipython",
    "version": 3.0
   },
   "file_extension": ".py",
   "mimetype": "text/x-python",
   "name": "python",
   "nbconvert_exporter": "python",
   "pygments_lexer": "ipython3",
   "version": "3.5.2"
  }
 },
 "nbformat": 4,
 "nbformat_minor": 0
}