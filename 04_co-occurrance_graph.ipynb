{
 "cells": [
  {
   "cell_type": "code",
   "execution_count": 1,
   "metadata": {
    "collapsed": true
   },
   "outputs": [],
   "source": [
    "# notebook to illustrate co-occurance graphs"
   ]
  },
  {
   "cell_type": "code",
   "execution_count": 2,
   "metadata": {
    "collapsed": false
   },
   "outputs": [],
   "source": [
    "# following only used for development, reloads the modules with any code changes\n",
    "%load_ext autoreload\n",
    "%autoreload 2\n",
    "\n",
    "# inline matplotlib charts\n",
    "%matplotlib inline"
   ]
  },
  {
   "cell_type": "code",
   "execution_count": 3,
   "metadata": {
    "collapsed": false
   },
   "outputs": [],
   "source": [
    "# import our text mining toolkit\n",
    "import text_mining_toolkit as tmt"
   ]
  },
  {
   "cell_type": "code",
   "execution_count": 5,
   "metadata": {
    "collapsed": false
   },
   "outputs": [
    {
     "name": "stdout",
     "output_type": "stream",
     "text": [
      "content_directory =  data_sets/recipes/txt/\n",
      "text_filename_pattern =  ??.txt\n",
      "self.documents populated =  22\n"
     ]
    }
   ],
   "source": [
    "cr = tmt.corpus_reader.CorpusReader(content_directory=\"data_sets/recipes/txt/\", text_filename_pattern=\"??.txt\")\n",
    "#cr = tmt.corpus_reader.CorpusReader(directory_of_files=\"data_sets/mystery_corpus_01/txt/\", text_filename_pattern=\"??.txt\")\n",
    "#cr = tmt.corpus_reader.CorpusReader(content_directory=\"data_sets/iraq_inquiry/txt/\", text_filename_pattern=\"the-report*.txt\")\n",
    "#cr = tmt.corpus_reader.CorpusReader(content_directory=\"data_sets/clinton_emails/txt/\", text_filename_pattern=\"C0*\")\n",
    "#cr = tmt.corpus_reader.CorpusReader(content_directory=\"data_sets/shakespeare_macbeth/txt/\", text_filename_pattern=\"macbeth_act_0?_scene_0?.txt\")"
   ]
  },
  {
   "cell_type": "code",
   "execution_count": 39,
   "metadata": {
    "collapsed": false,
    "scrolled": true
   },
   "outputs": [
    {
     "name": "stdout",
     "output_type": "stream",
     "text": [
      "removed wordcount index file:  data_sets/recipes/txt/index.wordcount\n",
      "removed relevance index file:  data_sets/recipes/txt/index.relevance\n"
     ]
    }
   ],
   "source": [
    "# first clear index\n",
    "tmt.index_search.delete_indices(cr.content_directory)\n",
    "\n",
    "# for all documents in corpus\n",
    "for document_name in cr.get_documents():\n",
    "    #print(\"processing \", document_name)\n",
    "\n",
    "    # get document text\n",
    "    document_text = cr.get_text_by_document(document_name)\n",
    "\n",
    "    # simplify whitespace (remove newlines)\n",
    "    b = tmt.text_processing.simplify_whitespace(document_text)\n",
    "\n",
    "    # only keep alphanumeric characters, removes punctuation\n",
    "    c = tmt.text_processing.keep_alphanumeric(b)\n",
    "\n",
    "    # make lowercase\n",
    "    d = tmt.text_processing.to_lowercase(c)\n",
    "\n",
    "    # split into words list\n",
    "    dl = tmt.text_processing.split_text_into_words(d)\n",
    "    \n",
    "    # build n-grams\n",
    "    #gl = tmt.word_processing.build_ngrams_from_words(dl,2)\n",
    "\n",
    "    # remove stop words\n",
    "    #el = tmt.word_processing.remove_stop_words(dl, \"./stopwords/minimal-stop.txt\")\n",
    "    \n",
    "    # update index\n",
    "    tmt.index_search.create_co_occurance_index_for_document(cr.content_directory, document_name, dl)\n",
    "    pass\n"
   ]
  },
  {
   "cell_type": "code",
   "execution_count": 40,
   "metadata": {
    "collapsed": false
   },
   "outputs": [
    {
     "name": "stdout",
     "output_type": "stream",
     "text": [
      "saving corpus word count index ...  data_sets/recipes/txt/index.wordcount\n"
     ]
    }
   ],
   "source": [
    "# merge document indices into a corpus index\n",
    "tmt.index_search.merge_co_occurance_indices_for_corpus(cr.content_directory)"
   ]
  },
  {
   "cell_type": "code",
   "execution_count": 42,
   "metadata": {
    "collapsed": false
   },
   "outputs": [
    {
     "name": "stdout",
     "output_type": "stream",
     "text": [
      "wordcount_index_file  data_sets/recipes/txt/index.wordcount\n",
      "       00.txt  01.txt   ...    20.txt  21.txt\n",
      "1         0.0     0.0   ...       0.0     0.0\n",
      "12        0.0     0.0   ...       0.0     1.0\n",
      "14        0.0     0.0   ...       0.0     0.0\n",
      "2         0.0     0.0   ...       0.0     0.0\n",
      "3         0.0     0.0   ...       0.0     0.0\n",
      "32        0.0     0.0   ...       0.0     0.0\n",
      "4         0.0     0.0   ...       0.0     0.0\n",
      "54        0.0     0.0   ...       0.0     0.0\n",
      "a         2.0     4.0   ...       2.0     7.0\n",
      "about     0.0     1.0   ...       0.0     0.0\n",
      "\n",
      "[10 rows x 22 columns]\n",
      "relevance_index_file  data_sets/recipes/txt/index.relevance\n",
      "         00.txt    01.txt    ...       20.txt    21.txt\n",
      "1      0.000000  0.000000    ...     0.000000  0.000000\n",
      "12     0.000000  0.000000    ...     0.000000  0.002232\n",
      "14     0.000000  0.000000    ...     0.000000  0.000000\n",
      "2      0.000000  0.000000    ...     0.000000  0.000000\n",
      "3      0.000000  0.000000    ...     0.000000  0.000000\n",
      "32     0.000000  0.000000    ...     0.000000  0.000000\n",
      "4      0.000000  0.000000    ...     0.000000  0.000000\n",
      "54     0.000000  0.000000    ...     0.000000  0.000000\n",
      "a      0.000214  0.000283    ...     0.000204  0.000427\n",
      "about  0.000000  0.004634    ...     0.000000  0.000000\n",
      "\n",
      "[10 rows x 22 columns]\n"
     ]
    }
   ],
   "source": [
    "tmt.index_search.print_index(cr.content_directory)"
   ]
  },
  {
   "cell_type": "code",
   "execution_count": 44,
   "metadata": {
    "collapsed": false
   },
   "outputs": [
    {
     "data": {
      "text/plain": [
       "00.txt    0.021430\n",
       "17.txt    0.010258\n",
       "20.txt    0.010228\n",
       "03.txt    0.008027\n",
       "08.txt    0.006349\n",
       "06.txt    0.005366\n",
       "12.txt    0.005183\n",
       "13.txt    0.005180\n",
       "18.txt    0.005138\n",
       "02.txt    0.004369\n",
       "16.txt    0.004018\n",
       "01.txt    0.003544\n",
       "dtype: float64"
      ]
     },
     "execution_count": 44,
     "metadata": {},
     "output_type": "execute_result"
    }
   ],
   "source": [
    "tmt.index_search.search_co_occurance_index(cr.content_directory, \"bread\", \"milk\")"
   ]
  },
  {
   "cell_type": "code",
   "execution_count": 45,
   "metadata": {
    "collapsed": false
   },
   "outputs": [
    {
     "data": {
      "text/plain": [
       "sauce       0.072480\n",
       "them        0.070834\n",
       "little      0.062832\n",
       "rice        0.058276\n",
       "butter      0.057279\n",
       "bread       0.055933\n",
       "they        0.054794\n",
       "quantity    0.051914\n",
       "together    0.050063\n",
       "grated      0.048861\n",
       "broth       0.048693\n",
       "tomato      0.048444\n",
       "boiled      0.047588\n",
       "flour       0.047404\n",
       "water       0.046393\n",
       "then        0.046343\n",
       "pepper      0.044368\n",
       "some        0.044304\n",
       "very        0.043971\n",
       "that        0.043831\n",
       "dtype: float64"
      ]
     },
     "execution_count": 45,
     "metadata": {},
     "output_type": "execute_result"
    }
   ],
   "source": [
    "words_by_co_occurance = tmt.index_search.get_words_by_co_occurance(cr.content_directory)\n",
    "# 20 most common\n",
    "words_by_co_occurance[:20]"
   ]
  },
  {
   "cell_type": "code",
   "execution_count": 46,
   "metadata": {
    "collapsed": false
   },
   "outputs": [
    {
     "data": {
      "text/plain": [
       "heap    0.002419\n",
       "than    0.002419\n",
       "wet     0.002299\n",
       "pie     0.002299\n",
       "top     0.002299\n",
       "your    0.002224\n",
       "leaf    0.002224\n",
       "32      0.002015\n",
       "3       0.002004\n",
       "2       0.002004\n",
       "4       0.002004\n",
       "1       0.002004\n",
       "now     0.001799\n",
       "bit     0.001799\n",
       "had     0.001799\n",
       "i       0.001282\n",
       "up      0.001273\n",
       "in      0.000000\n",
       "and     0.000000\n",
       "the     0.000000\n",
       "dtype: float64"
      ]
     },
     "execution_count": 46,
     "metadata": {},
     "output_type": "execute_result"
    }
   ],
   "source": [
    "# 20 least common\n",
    "words_by_co_occurance[-20:]"
   ]
  },
  {
   "cell_type": "code",
   "execution_count": 4,
   "metadata": {
    "collapsed": false
   },
   "outputs": [
    {
     "data": {
      "text/html": [
       "<div id=\"d3-container\">Test</div>\n",
       "\n",
       "<style>\n",
       ".node {stroke: #fff; stroke-width: 1.5px;}\n",
       ".link {stroke: #999; stroke-opacity: .6;}\n",
       "\n",
       "</style>\n",
       "\n",
       "\n",
       "<script src='http://d3js.org/d3.v3.min.js'></script>\n",
       "\n",
       "<script>\n",
       "\n",
       "// Define the dimensions of the visualization. We're using\n",
       "// a size that's convenient for displaying the graphic on\n",
       "// http://jsDataV.is\n",
       "\n",
       "var width = 640,\n",
       "    height = 480;\n",
       "\n",
       "// Define the data for the example. In general, a force layout\n",
       "// requires two data arrays. The first array, here named `nodes`,\n",
       "// contains the object that are the focal point of the visualization.\n",
       "// The second array, called `links` below, identifies all the links\n",
       "// between the nodes. (The more mathematical term is \"edges.\")\n",
       "\n",
       "// For the simplest possible example we only define two nodes. As\n",
       "// far as D3 is concerned, nodes are arbitrary objects. Normally the\n",
       "// objects wouldn't be initialized with `x` and `y` properties like\n",
       "// we're doing below. When those properties are present, they tell\n",
       "// D3 where to place the nodes before the force layout starts its\n",
       "// magic. More typically, they're left out of the nodes and D3 picks\n",
       "// random locations for each node. We're defining them here so we can\n",
       "// get a consistent application of the layout which lets us see the\n",
       "// effects of different properties.\n",
       "\n",
       "var nodes = [\n",
       "    { x:   width/3, y: height/2 },\n",
       "    { x: 2*width/3, y: height/2 }\n",
       "];\n",
       "\n",
       "// The `links` array contains objects with a `source` and a `target`\n",
       "// property. The values of those properties are the indices in\n",
       "// the `nodes` array of the two endpoints of the link.\n",
       "\n",
       "var links = [\n",
       "    { source: 0, target: 1 }\n",
       "];\n",
       "\n",
       "// Here's were the code begins. We start off by creating an SVG\n",
       "// container to hold the visualization. We only need to specify\n",
       "// the dimensions for this container.\n",
       "\n",
       "var svg = d3.select(\"#d3-container\").select(\"svg\")\n",
       "        if (svg.empty()) {\n",
       "            svg = d3.select(\"#d3-container\").append(\"svg\")\n",
       "                        .attr(\"width\", width)\n",
       "                        .attr(\"height\", height);\n",
       "        }\n",
       "\n",
       "// Now we create a force layout object and define its properties.\n",
       "// Those include the dimensions of the visualization and the arrays\n",
       "// of nodes and links.\n",
       "\n",
       "var force = d3.layout.force()\n",
       "    .size([width, height])\n",
       "    .nodes(nodes)\n",
       "    .links(links);\n",
       "\n",
       "// There's one more property of the layout we need to define,\n",
       "// its `linkDistance`. That's generally a configurable value and,\n",
       "// for a first example, we'd normally leave it at its default.\n",
       "// Unfortunately, the default value results in a visualization\n",
       "// that's not especially clear. This parameter defines the\n",
       "// distance (normally in pixels) that we'd like to have between\n",
       "// nodes that are connected. (It is, thus, the length we'd\n",
       "// like our links to have.)\n",
       "\n",
       "force.linkDistance(width/2);\n",
       "\n",
       "// Next we'll add the nodes and links to the visualization.\n",
       "// Note that we're just sticking them into the SVG container\n",
       "// at this point. We start with the links. The order here is\n",
       "// important because we want the nodes to appear \"on top of\"\n",
       "// the links. SVG doesn't really have a convenient equivalent\n",
       "// to HTML's `z-index`; instead it relies on the order of the\n",
       "// elements in the markup. By adding the nodes _after_ the\n",
       "// links we ensure that nodes appear on top of links.\n",
       "\n",
       "// Links are pretty simple. They're just SVG lines, and\n",
       "// we're not even going to specify their coordinates. (We'll\n",
       "// let the force layout take care of that.) Without any\n",
       "// coordinates, the lines won't even be visible, but the\n",
       "// markup will be sitting inside the SVG container ready\n",
       "// and waiting for the force layout.\n",
       "\n",
       "var link = svg.selectAll('.link')\n",
       "    .data(links)\n",
       "    .enter().append('line')\n",
       "    .attr('class', 'link');\n",
       "\n",
       "// Now it's the nodes turn. Each node is drawn as a circle.\n",
       "\n",
       "var node = svg.selectAll('.node')\n",
       "    .data(nodes)\n",
       "    .enter().append('circle')\n",
       "    .attr('class', 'node');\n",
       "\n",
       "// We're about to tell the force layout to start its\n",
       "// calculations. We do, however, want to know when those\n",
       "// calculations are complete, so before we kick things off\n",
       "// we'll define a function that we want the layout to call\n",
       "// once the calculations are done.\n",
       "\n",
       "force.on('end', function() {\n",
       "\n",
       "    // When this function executes, the force layout\n",
       "    // calculations have concluded. The layout will\n",
       "    // have set various properties in our nodes and\n",
       "    // links objects that we can use to position them\n",
       "    // within the SVG container.\n",
       "\n",
       "    // First let's reposition the nodes. As the force\n",
       "    // layout runs it updates the `x` and `y` properties\n",
       "    // that define where the node should be centered.\n",
       "    // To move the node, we set the appropriate SVG\n",
       "    // attributes to their new values. We also have to\n",
       "    // give the node a non-zero radius so that it's visible\n",
       "    // in the container.\n",
       "\n",
       "    node.attr('r', width/25)\n",
       "        .attr('cx', function(d) { return d.x; })\n",
       "        .attr('cy', function(d) { return d.y; });\n",
       "\n",
       "    // We also need to update positions of the links.\n",
       "    // For those elements, the force layout sets the\n",
       "    // `source` and `target` properties, specifying\n",
       "    // `x` and `y` values in each case.\n",
       "\n",
       "    link.attr('x1', function(d) { return d.source.x; })\n",
       "        .attr('y1', function(d) { return d.source.y; })\n",
       "        .attr('x2', function(d) { return d.target.x; })\n",
       "        .attr('y2', function(d) { return d.target.y; });\n",
       "\n",
       "});\n",
       "\n",
       "// Okay, everything is set up now so it's time to turn\n",
       "// things over to the force layout. Here we go.\n",
       "\n",
       "force.start();\n",
       "\n",
       "// By the time you've read this far in the code, the force\n",
       "// layout has undoubtedly finished its work. Unless something\n",
       "// went horribly wrong, you should see two light grey circles\n",
       "// connected by a single dark grey line. If you have a screen\n",
       "// ruler (such as [xScope](http://xscopeapp.com) handy, measure\n",
       "// the distance between the centers of the two circles. It\n",
       "// should be somewhere close to the `linkDistance` parameter we\n",
       "// set way up in the beginning (480 pixels). That, in the most\n",
       "// basic of all nutshells, is what a force layout does. We\n",
       "// tell it how far apart we want connected nodes to be, and\n",
       "// the layout keeps moving the nodes around until they get\n",
       "// reasonably close to that value.\n",
       "\n",
       "// Of course, there's quite a bit more than that going on\n",
       "// under the hood. We'll take a closer look starting with\n",
       "// the next example.\n",
       "\n",
       "\n",
       "</script>\n"
      ],
      "text/plain": [
       "<IPython.core.display.HTML object>"
      ]
     },
     "metadata": {},
     "output_type": "display_data"
    }
   ],
   "source": [
    "# visualise most relevance words\n",
    "tmt.visualisation.plot_force_directed_graph(None)"
   ]
  },
  {
   "cell_type": "code",
   "execution_count": null,
   "metadata": {
    "collapsed": true
   },
   "outputs": [],
   "source": []
  }
 ],
 "metadata": {
  "anaconda-cloud": {},
  "kernelspec": {
   "display_name": "Python [conda root]",
   "language": "python",
   "name": "conda-root-py"
  },
  "language_info": {
   "codemirror_mode": {
    "name": "ipython",
    "version": 3
   },
   "file_extension": ".py",
   "mimetype": "text/x-python",
   "name": "python",
   "nbconvert_exporter": "python",
   "pygments_lexer": "ipython3",
   "version": "3.5.2"
  }
 },
 "nbformat": 4,
 "nbformat_minor": 0
}
