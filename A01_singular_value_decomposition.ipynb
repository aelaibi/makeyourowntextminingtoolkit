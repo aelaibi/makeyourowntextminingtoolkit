{
 "cells": [
  {
   "cell_type": "markdown",
   "metadata": {},
   "source": [
    "# Learning About SVD"
   ]
  },
  {
   "cell_type": "markdown",
   "metadata": {},
   "source": [
    "This notebook is a step by step journey to understanding the Singular Value Decomposition (SVD)"
   ]
  },
  {
   "cell_type": "code",
   "execution_count": 1,
   "metadata": {
    "collapsed": false
   },
   "outputs": [],
   "source": [
    "# import numpy for SVD function\n",
    "import numpy\n",
    "# import matplotlib.pyplot for visualising arrays\n",
    "import matplotlib.pyplot as plt"
   ]
  },
  {
   "cell_type": "markdown",
   "metadata": {
    "collapsed": true
   },
   "source": [
    "## A Simple Matrix"
   ]
  },
  {
   "cell_type": "code",
   "execution_count": 2,
   "metadata": {
    "collapsed": false
   },
   "outputs": [
    {
     "name": "stdout",
     "output_type": "stream",
     "text": [
      "A = \n",
      " [[-1  1]\n",
      " [ 1  1]]\n"
     ]
    }
   ],
   "source": [
    "# create a really simple matrix\n",
    "A = numpy.array([[-1,1], [1,1]])\n",
    "# and show it\n",
    "print(\"A = \\n\", A)"
   ]
  },
  {
   "cell_type": "code",
   "execution_count": 3,
   "metadata": {
    "collapsed": false
   },
   "outputs": [
    {
     "data": {
      "image/png": "[encoded data removed]",
      "text/plain": [
       "<matplotlib.figure.Figure at 0x10b866f60>"
      ]
     },
     "metadata": {},
     "output_type": "display_data"
    }
   ],
   "source": [
    "# plot the array\n",
    "p = plt.subplot(131)\n",
    "p.axis('scaled'); p.axis([-2, 2, -2, 2]); p.axhline(y=0, color='lightgrey'); p.axvline(x=0, color='lightgrey')\n",
    "p.set_yticklabels([]); p.set_xticklabels([])\n",
    "\n",
    "p.set_title(\"A\")\n",
    "p.plot(A[0,],A[1,],'ro')\n",
    "\n",
    "plt.show()"
   ]
  },
  {
   "cell_type": "code",
   "execution_count": null,
   "metadata": {
    "collapsed": true
   },
   "outputs": [],
   "source": []
  },
  {
   "cell_type": "markdown",
   "metadata": {},
   "source": [
    "## Now Take the SVD"
   ]
  },
  {
   "cell_type": "code",
   "execution_count": 4,
   "metadata": {
    "collapsed": false
   },
   "outputs": [],
   "source": [
    "# break it down into an SVD\n",
    "U, s, VT = numpy.linalg.svd(A, full_matrices=False)\n",
    "S = numpy.diag(s)"
   ]
  },
  {
   "cell_type": "code",
   "execution_count": 5,
   "metadata": {
    "collapsed": false
   },
   "outputs": [
    {
     "name": "stdout",
     "output_type": "stream",
     "text": [
      "U =\n",
      " [[-0.70710678  0.70710678]\n",
      " [ 0.70710678  0.70710678]] \n",
      "\n",
      "S =\n",
      " [[ 1.41421356  0.        ]\n",
      " [ 0.          1.41421356]] \n",
      "\n",
      "V^T =\n",
      " [[ 1.  0.]\n",
      " [ 0.  1.]] \n",
      "\n"
     ]
    }
   ],
   "source": [
    "# what are U, S and V\n",
    "print(\"U =\\n\", U, \"\\n\")\n",
    "print(\"S =\\n\", S, \"\\n\")\n",
    "print(\"V^T =\\n\", VT, \"\\n\")"
   ]
  },
  {
   "cell_type": "code",
   "execution_count": 6,
   "metadata": {
    "collapsed": false
   },
   "outputs": [
    {
     "data": {
      "image/png": "[encoded data removed]",
      "text/plain": [
       "<matplotlib.figure.Figure at 0x10b906438>"
      ]
     },
     "metadata": {},
     "output_type": "display_data"
    }
   ],
   "source": [
    "for px in [(131,U, \"U\"), (132,S, \"S\"), (133,VT, \"VT\")]:\n",
    "    subplot = px[0]\n",
    "    matrix = px[1]\n",
    "    matrix_name = px[2]\n",
    "    p = plt.subplot(subplot)\n",
    "    \n",
    "    p.axis('scaled'); p.axis([-2, 2, -2, 2]); p.axhline(y=0, color='lightgrey'); p.axvline(x=0, color='lightgrey')\n",
    "    p.set_yticklabels([]); p.set_xticklabels([])\n",
    "\n",
    "    p.set_title(matrix_name)\n",
    "    p.plot(matrix[0,],matrix[1,],'ro')\n",
    "    pass\n",
    "\n",
    "plt.show()"
   ]
  },
  {
   "cell_type": "markdown",
   "metadata": {},
   "source": [
    "## Check U, S and V^T Do Actually Reconstruct A"
   ]
  },
  {
   "cell_type": "code",
   "execution_count": 7,
   "metadata": {
    "collapsed": false
   },
   "outputs": [
    {
     "name": "stdout",
     "output_type": "stream",
     "text": [
      "A2 = \n",
      " [[-1.  1.]\n",
      " [ 1.  1.]]\n"
     ]
    }
   ],
   "source": [
    "# rebuild A2 from U.S.V\n",
    "A2 = numpy.dot(U,numpy.dot(S,VT))\n",
    "print(\"A2 = \\n\", A2)"
   ]
  },
  {
   "cell_type": "code",
   "execution_count": 8,
   "metadata": {
    "collapsed": false
   },
   "outputs": [
    {
     "data": {
      "image/png": "[encoded data removed]",
      "text/plain": [
       "<matplotlib.figure.Figure at 0x10b866400>"
      ]
     },
     "metadata": {},
     "output_type": "display_data"
    }
   ],
   "source": [
    "# plot the reconstructed A2\n",
    "p = plt.subplot(131)\n",
    "p.axis('scaled'); p.axis([-2, 2, -2, 2]); p.axhline(y=0, color='lightgrey'); p.axvline(x=0, color='lightgrey')\n",
    "p.set_yticklabels([]); p.set_xticklabels([])\n",
    "\n",
    "p.set_title(\"A2\")\n",
    "p.plot(A2[0,],A2[1,],'ro')\n",
    "\n",
    "plt.show()"
   ]
  },
  {
   "cell_type": "markdown",
   "metadata": {},
   "source": [
    "Yes, that worked .. the reconstructed A2 is the same as the original A"
   ]
  }
 ],
 "metadata": {
  "anaconda-cloud": {},
  "kernelspec": {
   "display_name": "Python 3",
   "language": "python",
   "name": "python3"
  },
  "language_info": {
   "codemirror_mode": {
    "name": "ipython",
    "version": 3
   },
   "file_extension": ".py",
   "mimetype": "text/x-python",
   "name": "python",
   "nbconvert_exporter": "python",
   "pygments_lexer": "ipython3",
   "version": "3.6.0"
  }
 },
 "nbformat": 4,
 "nbformat_minor": 2
}
