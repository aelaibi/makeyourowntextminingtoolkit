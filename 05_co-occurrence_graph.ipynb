{
 "cells": [
  {
   "cell_type": "code",
   "execution_count": 16,
   "metadata": {
    "collapsed": true
   },
   "outputs": [],
   "source": [
    "# notebook to illustrate co-occurrence graphs"
   ]
  },
  {
   "cell_type": "code",
   "execution_count": 17,
   "metadata": {
    "collapsed": false
   },
   "outputs": [
    {
     "name": "stdout",
     "output_type": "stream",
     "text": [
      "The autoreload extension is already loaded. To reload it, use:\n",
      "  %reload_ext autoreload\n"
     ]
    }
   ],
   "source": [
    "# following only used for development, reloads the modules with any code changes\n",
    "%load_ext autoreload\n",
    "%autoreload 2\n",
    "\n",
    "# inline matplotlib charts\n",
    "%matplotlib inline"
   ]
  },
  {
   "cell_type": "code",
   "execution_count": 18,
   "metadata": {
    "collapsed": false
   },
   "outputs": [],
   "source": [
    "# import our text mining toolkit\n",
    "import text_mining_toolkit as tmt"
   ]
  },
  {
   "cell_type": "code",
   "execution_count": 19,
   "metadata": {
    "collapsed": false
   },
   "outputs": [
    {
     "name": "stdout",
     "output_type": "stream",
     "text": [
      "content_directory =  data_sets/simple_test/txt/\n",
      "text_filename_pattern =  ??.txt\n",
      "self.documents populated =  5\n"
     ]
    }
   ],
   "source": [
    "cr = tmt.corpus_reader.CorpusReader(content_directory=\"data_sets/simple_test/txt/\", text_filename_pattern=\"??.txt\")\n",
    "#cr = tmt.corpus_reader.CorpusReader(content_directory=\"data_sets/recipes/txt/\", text_filename_pattern=\"??.txt\")\n",
    "#cr = tmt.corpus_reader.CorpusReader(directory_of_files=\"data_sets/mystery_corpus_01/txt/\", text_filename_pattern=\"??.txt\")\n",
    "#cr = tmt.corpus_reader.CorpusReader(content_directory=\"data_sets/iraq_inquiry/txt/\", text_filename_pattern=\"the-report*.txt\")\n",
    "#cr = tmt.corpus_reader.CorpusReader(content_directory=\"data_sets/clinton_emails/txt/\", text_filename_pattern=\"C0*.txt\")\n",
    "#cr = tmt.corpus_reader.CorpusReader(content_directory=\"data_sets/shakespeare_macbeth/txt/\", text_filename_pattern=\"macbeth_act_0?_scene_0?.txt\")"
   ]
  },
  {
   "cell_type": "code",
   "execution_count": 20,
   "metadata": {
    "collapsed": false
   },
   "outputs": [],
   "source": [
    "# load previously calculated relevance scores\n",
    "words_by_relevance = tmt.index_relevance.get_words_by_relevance(cr.content_directory)\n",
    "# top most relevant\n",
    "top_words_by_relevance = words_by_relevance[:100]"
   ]
  },
  {
   "cell_type": "code",
   "execution_count": 21,
   "metadata": {
    "collapsed": false,
    "scrolled": true
   },
   "outputs": [
    {
     "name": "stdout",
     "output_type": "stream",
     "text": [
      "removed co-occurrence matrix file:  data_sets/simple_test/txt/matrix.cooccurrence\n",
      "processing  01.txt\n",
      "processing  02.txt\n",
      "processing  03.txt\n",
      "processing  04.txt\n",
      "processing  05.txt\n"
     ]
    }
   ],
   "source": [
    "# first clear index\n",
    "tmt.index_cooccurrence.delete_matrix(cr.content_directory)\n",
    "\n",
    "# for all documents in corpus\n",
    "for document_name in cr.get_documents():\n",
    "    print(\"processing \", document_name)\n",
    "\n",
    "    # get document text\n",
    "    document_text = cr.get_text_by_document(document_name)\n",
    "\n",
    "    # simplify whitespace (remove newlines)\n",
    "    b = tmt.text_processing.simplify_whitespace(document_text)\n",
    "\n",
    "    # only keep alphanumeric characters, removes punctuation\n",
    "    c = tmt.text_processing.keep_only_alphanumeric(b)\n",
    "\n",
    "    # make lowercase\n",
    "    d = tmt.text_processing.to_lowercase(c)\n",
    "\n",
    "    # split into words list\n",
    "    dl = tmt.text_processing.split_text_into_words(d)\n",
    "    # build n-grams\n",
    "    #gl = tmt.word_processing.build_ngrams_from_words(dl,2)\n",
    "\n",
    "    # remove stop words\n",
    "    el = tmt.word_processing.remove_stop_words(dl, \"./stopwords/minimal-stop.txt\")\n",
    "    \n",
    "    # remove all except those in the top most relevant list\n",
    "    fl = [word for word in el if word in top_words_by_relevance]\n",
    "    \n",
    "    # update index\n",
    "    tmt.index_cooccurrence.create_cooccurrence_matrix_for_document(cr.content_directory, document_name, fl, window=4)\n",
    "    pass\n"
   ]
  },
  {
   "cell_type": "code",
   "execution_count": 22,
   "metadata": {
    "collapsed": false
   },
   "outputs": [
    {
     "name": "stdout",
     "output_type": "stream",
     "text": [
      "saving corpus co-occurrence matrix ...  data_sets/simple_test/txt/matrix.cooccurrence\n"
     ]
    }
   ],
   "source": [
    "# merge document indices into a corpus index\n",
    "tmt.index_cooccurrence.merge_cooccurrence_matrices_for_corpus(cr.content_directory)"
   ]
  },
  {
   "cell_type": "code",
   "execution_count": 23,
   "metadata": {
    "collapsed": false
   },
   "outputs": [
    {
     "name": "stdout",
     "output_type": "stream",
     "text": [
      "cooccurrence_matrix_file  data_sets/simple_test/txt/matrix.cooccurrence\n",
      "           apple    banana      kiwi    orange\n",
      "apple   2.657627  0.000000  0.000000  2.287997\n",
      "banana  0.000000  0.000000  0.000000  2.287997\n",
      "orange  0.000000  0.939413  0.939413  4.374090\n"
     ]
    }
   ],
   "source": [
    "tmt.index_cooccurrence.print_matrix(cr.content_directory)"
   ]
  },
  {
   "cell_type": "code",
   "execution_count": null,
   "metadata": {
    "collapsed": true
   },
   "outputs": [],
   "source": []
  },
  {
   "cell_type": "code",
   "execution_count": 24,
   "metadata": {
    "collapsed": false
   },
   "outputs": [
    {
     "data": {
      "text/plain": [
       "0.0"
      ]
     },
     "execution_count": 24,
     "metadata": {},
     "output_type": "execute_result"
    }
   ],
   "source": [
    "# query the co-occurrence value for a given pair of words\n",
    "tmt.index_cooccurrence.query_cooccurance_matrix(cr.content_directory, \"apple\", \"kiwi\")"
   ]
  },
  {
   "cell_type": "code",
   "execution_count": 27,
   "metadata": {
    "collapsed": false
   },
   "outputs": [
    {
     "data": {
      "text/plain": [
       "'apple'"
      ]
     },
     "execution_count": 27,
     "metadata": {},
     "output_type": "execute_result"
    }
   ],
   "source": [
    "# get the most likely next word by co-occurrence value for given word\n",
    "tmt.index_cooccurrence.most_likely_next(cr.content_directory, \"apple\")"
   ]
  },
  {
   "cell_type": "code",
   "execution_count": 28,
   "metadata": {
    "collapsed": false
   },
   "outputs": [
    {
     "name": "stdout",
     "output_type": "stream",
     "text": [
      "apple apple apple apple apple apple apple apple\n"
     ]
    }
   ],
   "source": [
    "#generate sentences based on co-occurence\n",
    "sentence_length = 7\n",
    "\n",
    "#initial words \n",
    "#for w in [\"the\", \"once\", \"then\", \"olive\", \"tomato\", \"cut\", \"cook\", \"little\", \"boiled\"]:\n",
    "for w in [\"apple\"]:\n",
    "    sentence = w\n",
    "    for i in range(sentence_length):\n",
    "        w = tmt.index_cooccurrence.most_likely_next(cr.content_directory, w)\n",
    "        sentence += (\" \" + w)\n",
    "        pass\n",
    "    print(sentence)\n",
    "    pass\n"
   ]
  },
  {
   "cell_type": "code",
   "execution_count": 29,
   "metadata": {
    "collapsed": false
   },
   "outputs": [],
   "source": [
    "words_by_co_occurrence = tmt.index_cooccurrence.get_word_pairs_by_cooccurrence(cr.content_directory)"
   ]
  },
  {
   "cell_type": "code",
   "execution_count": 30,
   "metadata": {
    "collapsed": false
   },
   "outputs": [
    {
     "data": {
      "text/html": [
       "<div>\n",
       "<table border=\"1\" class=\"dataframe\">\n",
       "  <thead>\n",
       "    <tr style=\"text-align: right;\">\n",
       "      <th></th>\n",
       "      <th>word1</th>\n",
       "      <th>word2</th>\n",
       "      <th>weight</th>\n",
       "    </tr>\n",
       "  </thead>\n",
       "  <tbody>\n",
       "    <tr>\n",
       "      <th>0</th>\n",
       "      <td>orange</td>\n",
       "      <td>orange</td>\n",
       "      <td>1.000000</td>\n",
       "    </tr>\n",
       "    <tr>\n",
       "      <th>1</th>\n",
       "      <td>apple</td>\n",
       "      <td>apple</td>\n",
       "      <td>0.607584</td>\n",
       "    </tr>\n",
       "    <tr>\n",
       "      <th>2</th>\n",
       "      <td>banana</td>\n",
       "      <td>orange</td>\n",
       "      <td>0.523079</td>\n",
       "    </tr>\n",
       "    <tr>\n",
       "      <th>3</th>\n",
       "      <td>apple</td>\n",
       "      <td>orange</td>\n",
       "      <td>0.523079</td>\n",
       "    </tr>\n",
       "    <tr>\n",
       "      <th>4</th>\n",
       "      <td>orange</td>\n",
       "      <td>kiwi</td>\n",
       "      <td>0.214768</td>\n",
       "    </tr>\n",
       "    <tr>\n",
       "      <th>5</th>\n",
       "      <td>orange</td>\n",
       "      <td>banana</td>\n",
       "      <td>0.214768</td>\n",
       "    </tr>\n",
       "  </tbody>\n",
       "</table>\n",
       "</div>"
      ],
      "text/plain": [
       "    word1   word2    weight\n",
       "0  orange  orange  1.000000\n",
       "1   apple   apple  0.607584\n",
       "2  banana  orange  0.523079\n",
       "3   apple  orange  0.523079\n",
       "4  orange    kiwi  0.214768\n",
       "5  orange  banana  0.214768"
      ]
     },
     "execution_count": 30,
     "metadata": {},
     "output_type": "execute_result"
    }
   ],
   "source": [
    "# 20 most common\n",
    "words_by_co_occurrence[:20]"
   ]
  },
  {
   "cell_type": "code",
   "execution_count": 31,
   "metadata": {
    "collapsed": false
   },
   "outputs": [
    {
     "data": {
      "text/html": [
       "<div>\n",
       "<table border=\"1\" class=\"dataframe\">\n",
       "  <thead>\n",
       "    <tr style=\"text-align: right;\">\n",
       "      <th></th>\n",
       "      <th>word1</th>\n",
       "      <th>word2</th>\n",
       "      <th>weight</th>\n",
       "    </tr>\n",
       "  </thead>\n",
       "  <tbody>\n",
       "    <tr>\n",
       "      <th>0</th>\n",
       "      <td>orange</td>\n",
       "      <td>orange</td>\n",
       "      <td>1.000000</td>\n",
       "    </tr>\n",
       "    <tr>\n",
       "      <th>1</th>\n",
       "      <td>apple</td>\n",
       "      <td>apple</td>\n",
       "      <td>0.607584</td>\n",
       "    </tr>\n",
       "    <tr>\n",
       "      <th>2</th>\n",
       "      <td>banana</td>\n",
       "      <td>orange</td>\n",
       "      <td>0.523079</td>\n",
       "    </tr>\n",
       "    <tr>\n",
       "      <th>3</th>\n",
       "      <td>apple</td>\n",
       "      <td>orange</td>\n",
       "      <td>0.523079</td>\n",
       "    </tr>\n",
       "    <tr>\n",
       "      <th>4</th>\n",
       "      <td>orange</td>\n",
       "      <td>kiwi</td>\n",
       "      <td>0.214768</td>\n",
       "    </tr>\n",
       "    <tr>\n",
       "      <th>5</th>\n",
       "      <td>orange</td>\n",
       "      <td>banana</td>\n",
       "      <td>0.214768</td>\n",
       "    </tr>\n",
       "  </tbody>\n",
       "</table>\n",
       "</div>"
      ],
      "text/plain": [
       "    word1   word2    weight\n",
       "0  orange  orange  1.000000\n",
       "1   apple   apple  0.607584\n",
       "2  banana  orange  0.523079\n",
       "3   apple  orange  0.523079\n",
       "4  orange    kiwi  0.214768\n",
       "5  orange  banana  0.214768"
      ]
     },
     "execution_count": 31,
     "metadata": {},
     "output_type": "execute_result"
    }
   ],
   "source": [
    "# 20 least common\n",
    "words_by_co_occurrence[-20:]"
   ]
  },
  {
   "cell_type": "code",
   "execution_count": 32,
   "metadata": {
    "collapsed": false
   },
   "outputs": [
    {
     "data": {
      "text/html": [
       "<div id=\"d3-container-6633830\"></div>\n",
       "<div>force-directed graph</div>\n",
       "\n",
       "<style>\n",
       "    .links line {\n",
       "        stroke: #999;\n",
       "        stroke-opacity: .1;\n",
       "    }\n",
       "\n",
       "    .nodes circle {\n",
       "        pointer-events: all;\n",
       "        stroke: #fff;\n",
       "        fill: #333;\n",
       "        stroke-width: 1.5px;\n",
       "        opacity: 0.7;\n",
       "    }\n",
       "\n",
       "    .nodes text {\n",
       "        pointer-events: none;\n",
       "        font: 10px sans-serif;\n",
       "        fill: #333;\n",
       "        opacity: .5;\n",
       "    }\n",
       "</style>\n"
      ]
     },
     "metadata": {},
     "output_type": "display_data"
    },
    {
     "data": {
      "application/javascript": [
       "// require is needed to make d3 work in jupyter notebooks from imported code\n",
       "require.config({\n",
       "    paths: {\n",
       "        d3: \"https://d3js.org/d3.v4.min\"\n",
       "    }\n",
       "});\n",
       "\n",
       "require([\"d3\"], function(d3) {\n",
       "    //console.log(d3.version);\n",
       "\n",
       "    var width = 800,\n",
       "        height = 600;\n",
       "\n",
       "    var svg = d3.select(\"#d3-container-6633830\")\n",
       "        .append(\"svg\")\n",
       "        .attr(\"width\", width)\n",
       "        .attr(\"height\", height);\n",
       "\n",
       "    var colour = d3.scaleOrdinal(d3.schemeCategory20c);\n",
       "\n",
       "    var graph = {\n",
       "        nodes: [{'id': 'apple'}, {'id': 'kiwi'}, {'id': 'orange'}, {'id': 'banana'}],\n",
       "        links: [{'weight': 0.6075839624735874, 'source': 0, 'target': 0}, {'weight': 0.5230794731605078, 'source': 0, 'target': 2}, {'weight': 0.2147676595369858, 'source': 1, 'target': 2}, {'weight': 0.2147676595369858, 'source': 2, 'target': 3}, {'weight': 1.0, 'source': 2, 'target': 2}]\n",
       "    };\n",
       "\n",
       "    var simulation = d3.forceSimulation(graph.nodes)\n",
       "        .force(\"link\", d3.forceLink(graph.links).distance(function(d){return 10 / d.weight;}))\n",
       "        .force(\"charge\", d3.forceManyBody().strength(-20))\n",
       "        .force(\"radius\", d3.forceCollide(15))\n",
       "        .force(\"center\", d3.forceCenter(width / 2.0, height / 2.0));\n",
       "\n",
       "    var link = svg.append(\"g\")\n",
       "        .attr(\"class\", \"links\")\n",
       "        .selectAll(\"line\")\n",
       "        .data(graph.links)\n",
       "        .enter().append(\"line\")\n",
       "        .style(\"stroke-linecap\", \"round\")\n",
       "        .style(\"stroke\", function(d) {return colour(d.weight);})\n",
       "        .style(\"stroke-width\", function (d) {return Math.sqrt(d.weight*10);});\n",
       "\n",
       "    var node = svg.append(\"g\")\n",
       "        .attr(\"class\", \"nodes\")\n",
       "        .selectAll(\"g\")\n",
       "        .data(graph.nodes)\n",
       "        .enter().append(\"g\");\n",
       "\n",
       "    var circle = node.append(\"circle\")\n",
       "        .attr(\"r\", 4.5)\n",
       "        .call(d3.drag()\n",
       "            .on(\"start\", dragstarted)\n",
       "            .on(\"drag\", dragged)\n",
       "            .on(\"end\", dragended));\n",
       "\n",
       "    //node.append(\"title\")\n",
       "    //    .text(function(d) { return d.id; });\n",
       "\n",
       "    var t2 = node.append(\"text\")\n",
       "      .attr(\"dx\", 10)\n",
       "      .attr(\"dy\", \".35em\")\n",
       "      .text(function(d) { return d.id; });\n",
       "\n",
       "    simulation\n",
       "        .on(\"tick\", ticked);\n",
       "\n",
       "    function ticked() {\n",
       "        link\n",
       "            .attr(\"x1\", function(d) { return d.source.x; })\n",
       "            .attr(\"y1\", function(d) { return d.source.y; })\n",
       "            .attr(\"x2\", function(d) { return d.target.x; })\n",
       "            .attr(\"y2\", function(d) { return d.target.y; });\n",
       "\n",
       "        circle\n",
       "            .attr(\"cx\", function(d) { return d.x; })\n",
       "            .attr(\"cy\", function(d) { return d.y; });\n",
       "\n",
       "        t2\n",
       "            .attr(\"x\", function(d) { return d.x; })\n",
       "            .attr(\"y\", function(d) { return d.y; });\n",
       "    };\n",
       "\n",
       "    function dragstarted(d) {\n",
       "        if (!d3.event.active) simulation.alphaTarget(0.3).restart();\n",
       "        d.fx = d.x;\n",
       "        d.fy = d.y;\n",
       "    };\n",
       "\n",
       "    function dragged(d) {\n",
       "        d.fx = d3.event.x;\n",
       "        d.fy = d3.event.y;\n",
       "    };\n",
       "\n",
       "    function dragended(d) {\n",
       "        if (!d3.event.active) simulation.alphaTarget(0);\n",
       "        d.fx = null;\n",
       "        d.fy = null;\n",
       "    };\n",
       "\n",
       "});\n",
       "\n"
      ]
     },
     "metadata": {},
     "output_type": "display_data"
    }
   ],
   "source": [
    "# visualise co-occurrence of words\n",
    "tmt.visualisation.plot_force_directed_graph(words_by_co_occurrence[:500])"
   ]
  },
  {
   "cell_type": "code",
   "execution_count": 33,
   "metadata": {
    "collapsed": false
   },
   "outputs": [
    {
     "data": {
      "text/html": [
       "<div id=\"d3-container-6398998\"></div>\n",
       "<div>force-directed graph</div>\n",
       "\n",
       "<style>\n",
       "    .links line {\n",
       "        stroke: #999;\n",
       "        stroke-opacity: .1;\n",
       "    }\n",
       "\n",
       "    .nodes circle {\n",
       "        pointer-events: all;\n",
       "        stroke: #fff;\n",
       "        fill: #333;\n",
       "        stroke-width: 1.5px;\n",
       "        opacity: 0.7;\n",
       "    }\n",
       "\n",
       "    .nodes text {\n",
       "        pointer-events: none;\n",
       "        font: 10px sans-serif;\n",
       "        fill: #333;\n",
       "        opacity: .5;\n",
       "    }\n",
       "</style>\n"
      ]
     },
     "metadata": {},
     "output_type": "display_data"
    },
    {
     "data": {
      "application/javascript": [
       "// require is needed to make d3 work in jupyter notebooks from imported code\n",
       "require.config({\n",
       "    paths: {\n",
       "        d3: \"https://d3js.org/d3.v4.min\"\n",
       "    }\n",
       "});\n",
       "\n",
       "require([\"d3\"], function(d3) {\n",
       "    //console.log(d3.version);\n",
       "\n",
       "    var width = 800,\n",
       "        height = 600;\n",
       "\n",
       "    var svg = d3.select(\"#d3-container-6398998\")\n",
       "        .append(\"svg\")\n",
       "        .attr(\"width\", width)\n",
       "        .attr(\"height\", height);\n",
       "\n",
       "    var colour = d3.scaleOrdinal(d3.schemeCategory20c);\n",
       "\n",
       "    var graph = {\n",
       "        nodes: [{'id': 'apple'}, {'id': 'kiwi'}, {'id': 'orange'}, {'id': 'banana'}],\n",
       "        links: [{'weight': 0.6075839624735874, 'source': 0, 'target': 0}, {'weight': 0.5230794731605078, 'source': 0, 'target': 2}, {'weight': 0.2147676595369858, 'source': 1, 'target': 2}, {'weight': 0.2147676595369858, 'source': 2, 'target': 3}, {'weight': 1.0, 'source': 2, 'target': 2}]\n",
       "    };\n",
       "\n",
       "    var simulation = d3.forceSimulation(graph.nodes)\n",
       "        .force(\"link\", d3.forceLink(graph.links).distance(function(d){return 10 / d.weight;}))\n",
       "        .force(\"charge\", d3.forceManyBody().strength(-20))\n",
       "        .force(\"radius\", d3.forceCollide(15))\n",
       "        .force(\"center\", d3.forceCenter(width / 2.0, height / 2.0));\n",
       "\n",
       "    var link = svg.append(\"g\")\n",
       "        .attr(\"class\", \"links\")\n",
       "        .selectAll(\"line\")\n",
       "        .data(graph.links)\n",
       "        .enter().append(\"line\")\n",
       "        .style(\"stroke-linecap\", \"round\")\n",
       "        .style(\"stroke\", function(d) {return colour(d.weight);})\n",
       "        .style(\"stroke-width\", function (d) {return Math.sqrt(d.weight*10);});\n",
       "\n",
       "    var node = svg.append(\"g\")\n",
       "        .attr(\"class\", \"nodes\")\n",
       "        .selectAll(\"g\")\n",
       "        .data(graph.nodes)\n",
       "        .enter().append(\"g\");\n",
       "\n",
       "    var circle = node.append(\"circle\")\n",
       "        .attr(\"r\", 4.5)\n",
       "        .call(d3.drag()\n",
       "            .on(\"start\", dragstarted)\n",
       "            .on(\"drag\", dragged)\n",
       "            .on(\"end\", dragended));\n",
       "\n",
       "    //node.append(\"title\")\n",
       "    //    .text(function(d) { return d.id; });\n",
       "\n",
       "    var t2 = node.append(\"text\")\n",
       "      .attr(\"dx\", 10)\n",
       "      .attr(\"dy\", \".35em\")\n",
       "      .text(function(d) { return d.id; });\n",
       "\n",
       "    simulation\n",
       "        .on(\"tick\", ticked);\n",
       "\n",
       "    function ticked() {\n",
       "        link\n",
       "            .attr(\"x1\", function(d) { return d.source.x; })\n",
       "            .attr(\"y1\", function(d) { return d.source.y; })\n",
       "            .attr(\"x2\", function(d) { return d.target.x; })\n",
       "            .attr(\"y2\", function(d) { return d.target.y; });\n",
       "\n",
       "        circle\n",
       "            .attr(\"cx\", function(d) { return d.x; })\n",
       "            .attr(\"cy\", function(d) { return d.y; });\n",
       "\n",
       "        t2\n",
       "            .attr(\"x\", function(d) { return d.x; })\n",
       "            .attr(\"y\", function(d) { return d.y; });\n",
       "    };\n",
       "\n",
       "    function dragstarted(d) {\n",
       "        if (!d3.event.active) simulation.alphaTarget(0.3).restart();\n",
       "        d.fx = d.x;\n",
       "        d.fy = d.y;\n",
       "    };\n",
       "\n",
       "    function dragged(d) {\n",
       "        d.fx = d3.event.x;\n",
       "        d.fy = d3.event.y;\n",
       "    };\n",
       "\n",
       "    function dragended(d) {\n",
       "        if (!d3.event.active) simulation.alphaTarget(0);\n",
       "        d.fx = null;\n",
       "        d.fy = null;\n",
       "    };\n",
       "\n",
       "});\n",
       "\n"
      ]
     },
     "metadata": {},
     "output_type": "display_data"
    }
   ],
   "source": [
    "# visualise co-occurrence > 1\n",
    "w = words_by_co_occurrence[words_by_co_occurrence['weight']>0.2]\n",
    "tmt.visualisation.plot_force_directed_graph(w)"
   ]
  },
  {
   "cell_type": "code",
   "execution_count": null,
   "metadata": {
    "collapsed": true
   },
   "outputs": [],
   "source": []
  }
 ],
 "metadata": {
  "anaconda-cloud": {},
  "kernelspec": {
   "display_name": "Python [conda root]",
   "language": "python",
   "name": "conda-root-py"
  },
  "language_info": {
   "codemirror_mode": {
    "name": "ipython",
    "version": 3
   },
   "file_extension": ".py",
   "mimetype": "text/x-python",
   "name": "python",
   "nbconvert_exporter": "python",
   "pygments_lexer": "ipython3",
   "version": "3.5.2"
  }
 },
 "nbformat": 4,
 "nbformat_minor": 0
}
