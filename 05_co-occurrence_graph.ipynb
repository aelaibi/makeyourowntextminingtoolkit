{
 "cells": [
  {
   "cell_type": "code",
   "execution_count": 1,
   "metadata": {
    "collapsed": true
   },
   "outputs": [],
   "source": [
    "# notebook to illustrate co-occurrence graphs"
   ]
  },
  {
   "cell_type": "code",
   "execution_count": 2,
   "metadata": {
    "collapsed": false
   },
   "outputs": [],
   "source": [
    "# following only used for development, reloads the modules with any code changes\n",
    "%load_ext autoreload\n",
    "%autoreload 2\n",
    "\n",
    "# inline matplotlib charts\n",
    "%matplotlib inline"
   ]
  },
  {
   "cell_type": "code",
   "execution_count": 3,
   "metadata": {
    "collapsed": false
   },
   "outputs": [],
   "source": [
    "# import our text mining toolkit\n",
    "import text_mining_toolkit as tmt"
   ]
  },
  {
   "cell_type": "code",
   "execution_count": 4,
   "metadata": {
    "collapsed": false
   },
   "outputs": [
    {
     "name": "stdout",
     "output_type": "stream",
     "text": [
      "content_directory =  data_sets/recipes/txt/\n",
      "text_filename_pattern =  ??.txt\n",
      "self.documents populated =  22\n"
     ]
    }
   ],
   "source": [
    "cr = tmt.corpus_reader.CorpusReader(content_directory=\"data_sets/recipes/txt/\", text_filename_pattern=\"??.txt\")\n",
    "#cr = tmt.corpus_reader.CorpusReader(directory_of_files=\"data_sets/mystery_corpus_01/txt/\", text_filename_pattern=\"??.txt\")\n",
    "#cr = tmt.corpus_reader.CorpusReader(content_directory=\"data_sets/iraq_inquiry/txt/\", text_filename_pattern=\"the-report*.txt\")\n",
    "#cr = tmt.corpus_reader.CorpusReader(content_directory=\"data_sets/clinton_emails/txt/\", text_filename_pattern=\"C0*.txt\")\n",
    "#cr = tmt.corpus_reader.CorpusReader(content_directory=\"data_sets/shakespeare_macbeth/txt/\", text_filename_pattern=\"macbeth_act_0?_scene_0?.txt\")"
   ]
  },
  {
   "cell_type": "code",
   "execution_count": 5,
   "metadata": {
    "collapsed": false
   },
   "outputs": [],
   "source": [
    "# load previously calculated relevance scores\n",
    "words_by_relevance = tmt.index_relevance.get_words_by_relevance(cr.content_directory)\n",
    "# top most relevant\n",
    "top_words_by_relevance = words_by_relevance[:100]"
   ]
  },
  {
   "cell_type": "code",
   "execution_count": 6,
   "metadata": {
    "collapsed": false,
    "scrolled": true
   },
   "outputs": [
    {
     "name": "stdout",
     "output_type": "stream",
     "text": [
      "removed co-occurrence matrix file:  data_sets/recipes/txt/matrix.cooccurrence\n",
      "processing  00.txt\n",
      "processing  01.txt\n",
      "processing  02.txt\n",
      "processing  03.txt\n",
      "processing  04.txt\n",
      "processing  05.txt\n",
      "processing  06.txt\n",
      "processing  07.txt\n",
      "processing  08.txt\n",
      "processing  09.txt\n",
      "processing  10.txt\n",
      "processing  11.txt\n",
      "processing  12.txt\n",
      "processing  13.txt\n",
      "processing  14.txt\n",
      "processing  15.txt\n",
      "processing  16.txt\n",
      "processing  17.txt\n",
      "processing  18.txt\n",
      "processing  19.txt\n",
      "processing  20.txt\n",
      "processing  21.txt\n"
     ]
    }
   ],
   "source": [
    "# first clear index\n",
    "tmt.index_cooccurrence.delete_matrix(cr.content_directory)\n",
    "\n",
    "# for all documents in corpus\n",
    "for document_name in cr.get_documents():\n",
    "    print(\"processing \", document_name)\n",
    "\n",
    "    # get document text\n",
    "    document_text = cr.get_text_by_document(document_name)\n",
    "\n",
    "    # simplify whitespace (remove newlines)\n",
    "    b = tmt.text_processing.simplify_whitespace(document_text)\n",
    "\n",
    "    # only keep alphanumeric characters, removes punctuation\n",
    "    c = tmt.text_processing.keep_only_alphanumeric(b)\n",
    "\n",
    "    # make lowercase\n",
    "    d = tmt.text_processing.to_lowercase(c)\n",
    "\n",
    "    # split into words list\n",
    "    dl = tmt.text_processing.split_text_into_words(d)\n",
    "    # build n-grams\n",
    "    #gl = tmt.word_processing.build_ngrams_from_words(dl,2)\n",
    "\n",
    "    # remove stop words\n",
    "    #el = tmt.word_processing.remove_stop_words(dl, \"./stopwords/minimal-stop.txt\")\n",
    "    \n",
    "    # remove all except those in the top most relevant list\n",
    "    el = [word for word in dl if word in top_words_by_relevance]\n",
    "    \n",
    "    # update index\n",
    "    tmt.index_cooccurrence.create_cooccurrence_matrix_for_document(cr.content_directory, document_name, el, window=4)\n",
    "    pass\n"
   ]
  },
  {
   "cell_type": "code",
   "execution_count": 7,
   "metadata": {
    "collapsed": false
   },
   "outputs": [
    {
     "name": "stdout",
     "output_type": "stream",
     "text": [
      "saving corpus co-occurrence matrix ...  data_sets/recipes/txt/matrix.cooccurrence\n"
     ]
    }
   ],
   "source": [
    "# merge document indices into a corpus index\n",
    "tmt.index_cooccurrence.merge_cooccurrence_matrices_for_corpus(cr.content_directory)"
   ]
  },
  {
   "cell_type": "code",
   "execution_count": 8,
   "metadata": {
    "collapsed": false
   },
   "outputs": [
    {
     "name": "stdout",
     "output_type": "stream",
     "text": [
      "cooccurrence_matrix_file  data_sets/recipes/txt/matrix.cooccurrence\n",
      "                 add  adding    ...        whole      with\n",
      "add         0.000000     0.0    ...     0.000000  1.139566\n",
      "adding      0.000000     0.0    ...     0.000000  0.778801\n",
      "after       0.569783     0.0    ...     0.000000  1.509196\n",
      "are         0.367879     0.0    ...     0.367879  1.875325\n",
      "artichokes  0.000000     0.0    ...     0.000000  0.000000\n",
      "as          0.000000     0.0    ...     0.569783  1.675172\n",
      "asparagus   0.000000     0.0    ...     0.000000  1.348584\n",
      "boiled      0.778801     0.0    ...     0.000000  1.348584\n",
      "boiling     0.000000     0.0    ...     0.000000  0.367879\n",
      "bread       0.000000     0.0    ...     0.000000  2.816488\n",
      "\n",
      "[10 rows x 100 columns]\n"
     ]
    }
   ],
   "source": [
    "tmt.index_cooccurrence.print_matrix(cr.content_directory)"
   ]
  },
  {
   "cell_type": "code",
   "execution_count": 9,
   "metadata": {
    "collapsed": false
   },
   "outputs": [
    {
     "data": {
      "text/plain": [
       "1.3485836078023279"
      ]
     },
     "execution_count": 9,
     "metadata": {},
     "output_type": "execute_result"
    }
   ],
   "source": [
    "# query the co-occurrence value for a given pair of words\n",
    "tmt.index_cooccurrence.query_cooccurance_matrix(cr.content_directory, \"boiled\", \"with\")"
   ]
  },
  {
   "cell_type": "code",
   "execution_count": 10,
   "metadata": {
    "collapsed": false
   },
   "outputs": [
    {
     "data": {
      "text/plain": [
       "'or'"
      ]
     },
     "execution_count": 10,
     "metadata": {},
     "output_type": "execute_result"
    }
   ],
   "source": [
    "# get the most likely next word by co-occurrence value for given word\n",
    "tmt.index_cooccurrence.most_likely_next(cr.content_directory, \"boiled\")"
   ]
  },
  {
   "cell_type": "code",
   "execution_count": 11,
   "metadata": {
    "collapsed": false
   },
   "outputs": [
    {
     "name": "stdout",
     "output_type": "stream",
     "text": [
      "olive oil or or or or or or\n"
     ]
    }
   ],
   "source": [
    "#generate sentences based on co-occurence\n",
    "sentence_length = 7\n",
    "\n",
    "#initial words \n",
    "#for w in [\"the\", \"once\", \"then\", \"olive\", \"tomato\", \"cut\", \"cook\", \"little\", \"boiled\"]:\n",
    "for w in [\"olive\"]:\n",
    "    sentence = w\n",
    "    for i in range(sentence_length):\n",
    "        w = tmt.index_cooccurrence.most_likely_next(cr.content_directory, w)\n",
    "        sentence += (\" \" + w)\n",
    "        pass\n",
    "    print(sentence)\n",
    "    pass\n"
   ]
  },
  {
   "cell_type": "code",
   "execution_count": 12,
   "metadata": {
    "collapsed": false
   },
   "outputs": [],
   "source": [
    "words_by_co_occurrence = tmt.index_cooccurrence.get_word_pairs_by_cooccurrence(cr.content_directory)"
   ]
  },
  {
   "cell_type": "code",
   "execution_count": 13,
   "metadata": {
    "collapsed": false
   },
   "outputs": [
    {
     "data": {
      "text/html": [
       "<div>\n",
       "<table border=\"1\" class=\"dataframe\">\n",
       "  <thead>\n",
       "    <tr style=\"text-align: right;\">\n",
       "      <th></th>\n",
       "      <th>word1</th>\n",
       "      <th>word2</th>\n",
       "      <th>weight</th>\n",
       "    </tr>\n",
       "  </thead>\n",
       "  <tbody>\n",
       "    <tr>\n",
       "      <th>0</th>\n",
       "      <td>it</td>\n",
       "      <td>is</td>\n",
       "      <td>1.000000</td>\n",
       "    </tr>\n",
       "    <tr>\n",
       "      <th>1</th>\n",
       "      <td>grated</td>\n",
       "      <td>cheese</td>\n",
       "      <td>0.921939</td>\n",
       "    </tr>\n",
       "    <tr>\n",
       "      <th>2</th>\n",
       "      <td>with</td>\n",
       "      <td>butter</td>\n",
       "      <td>0.739343</td>\n",
       "    </tr>\n",
       "    <tr>\n",
       "      <th>3</th>\n",
       "      <td>or</td>\n",
       "      <td>or</td>\n",
       "      <td>0.717010</td>\n",
       "    </tr>\n",
       "    <tr>\n",
       "      <th>4</th>\n",
       "      <td>cut</td>\n",
       "      <td>them</td>\n",
       "      <td>0.673378</td>\n",
       "    </tr>\n",
       "    <tr>\n",
       "      <th>5</th>\n",
       "      <td>they</td>\n",
       "      <td>are</td>\n",
       "      <td>0.665214</td>\n",
       "    </tr>\n",
       "    <tr>\n",
       "      <th>6</th>\n",
       "      <td>them</td>\n",
       "      <td>with</td>\n",
       "      <td>0.638628</td>\n",
       "    </tr>\n",
       "    <tr>\n",
       "      <th>7</th>\n",
       "      <td>to</td>\n",
       "      <td>it</td>\n",
       "      <td>0.636051</td>\n",
       "    </tr>\n",
       "    <tr>\n",
       "      <th>8</th>\n",
       "      <td>with</td>\n",
       "      <td>or</td>\n",
       "      <td>0.559827</td>\n",
       "    </tr>\n",
       "    <tr>\n",
       "      <th>9</th>\n",
       "      <td>or</td>\n",
       "      <td>with</td>\n",
       "      <td>0.555309</td>\n",
       "    </tr>\n",
       "    <tr>\n",
       "      <th>10</th>\n",
       "      <td>is</td>\n",
       "      <td>to</td>\n",
       "      <td>0.520978</td>\n",
       "    </tr>\n",
       "    <tr>\n",
       "      <th>11</th>\n",
       "      <td>them</td>\n",
       "      <td>them</td>\n",
       "      <td>0.467206</td>\n",
       "    </tr>\n",
       "    <tr>\n",
       "      <th>12</th>\n",
       "      <td>tomato</td>\n",
       "      <td>sauce</td>\n",
       "      <td>0.449957</td>\n",
       "    </tr>\n",
       "    <tr>\n",
       "      <th>13</th>\n",
       "      <td>with</td>\n",
       "      <td>pepper</td>\n",
       "      <td>0.442708</td>\n",
       "    </tr>\n",
       "    <tr>\n",
       "      <th>14</th>\n",
       "      <td>when</td>\n",
       "      <td>are</td>\n",
       "      <td>0.404669</td>\n",
       "    </tr>\n",
       "    <tr>\n",
       "      <th>15</th>\n",
       "      <td>it</td>\n",
       "      <td>to</td>\n",
       "      <td>0.395975</td>\n",
       "    </tr>\n",
       "    <tr>\n",
       "      <th>16</th>\n",
       "      <td>seasoned</td>\n",
       "      <td>with</td>\n",
       "      <td>0.393712</td>\n",
       "    </tr>\n",
       "    <tr>\n",
       "      <th>17</th>\n",
       "      <td>season</td>\n",
       "      <td>with</td>\n",
       "      <td>0.393607</td>\n",
       "    </tr>\n",
       "    <tr>\n",
       "      <th>18</th>\n",
       "      <td>it</td>\n",
       "      <td>or</td>\n",
       "      <td>0.386575</td>\n",
       "    </tr>\n",
       "    <tr>\n",
       "      <th>19</th>\n",
       "      <td>cheese</td>\n",
       "      <td>or</td>\n",
       "      <td>0.386463</td>\n",
       "    </tr>\n",
       "  </tbody>\n",
       "</table>\n",
       "</div>"
      ],
      "text/plain": [
       "       word1   word2    weight\n",
       "0         it      is  1.000000\n",
       "1     grated  cheese  0.921939\n",
       "2       with  butter  0.739343\n",
       "3         or      or  0.717010\n",
       "4        cut    them  0.673378\n",
       "5       they     are  0.665214\n",
       "6       them    with  0.638628\n",
       "7         to      it  0.636051\n",
       "8       with      or  0.559827\n",
       "9         or    with  0.555309\n",
       "10        is      to  0.520978\n",
       "11      them    them  0.467206\n",
       "12    tomato   sauce  0.449957\n",
       "13      with  pepper  0.442708\n",
       "14      when     are  0.404669\n",
       "15        it      to  0.395975\n",
       "16  seasoned    with  0.393712\n",
       "17    season    with  0.393607\n",
       "18        it      or  0.386575\n",
       "19    cheese      or  0.386463"
      ]
     },
     "execution_count": 13,
     "metadata": {},
     "output_type": "execute_result"
    }
   ],
   "source": [
    "# 20 most common\n",
    "words_by_co_occurrence[:20]"
   ]
  },
  {
   "cell_type": "code",
   "execution_count": 14,
   "metadata": {
    "collapsed": false
   },
   "outputs": [
    {
     "data": {
      "text/html": [
       "<div>\n",
       "<table border=\"1\" class=\"dataframe\">\n",
       "  <thead>\n",
       "    <tr style=\"text-align: right;\">\n",
       "      <th></th>\n",
       "      <th>word1</th>\n",
       "      <th>word2</th>\n",
       "      <th>weight</th>\n",
       "    </tr>\n",
       "  </thead>\n",
       "  <tbody>\n",
       "    <tr>\n",
       "      <th>2856</th>\n",
       "      <td>this</td>\n",
       "      <td>which</td>\n",
       "      <td>0.022026</td>\n",
       "    </tr>\n",
       "    <tr>\n",
       "      <th>2857</th>\n",
       "      <td>egg</td>\n",
       "      <td>lemon</td>\n",
       "      <td>0.022026</td>\n",
       "    </tr>\n",
       "    <tr>\n",
       "      <th>2858</th>\n",
       "      <td>onion</td>\n",
       "      <td>make</td>\n",
       "      <td>0.022026</td>\n",
       "    </tr>\n",
       "    <tr>\n",
       "      <th>2859</th>\n",
       "      <td>eggs</td>\n",
       "      <td>crumbs</td>\n",
       "      <td>0.022026</td>\n",
       "    </tr>\n",
       "    <tr>\n",
       "      <th>2860</th>\n",
       "      <td>eggs</td>\n",
       "      <td>but</td>\n",
       "      <td>0.022026</td>\n",
       "    </tr>\n",
       "    <tr>\n",
       "      <th>2861</th>\n",
       "      <td>which</td>\n",
       "      <td>then</td>\n",
       "      <td>0.022026</td>\n",
       "    </tr>\n",
       "    <tr>\n",
       "      <th>2862</th>\n",
       "      <td>eggplants</td>\n",
       "      <td>that</td>\n",
       "      <td>0.022026</td>\n",
       "    </tr>\n",
       "    <tr>\n",
       "      <th>2863</th>\n",
       "      <td>eggplants</td>\n",
       "      <td>have</td>\n",
       "      <td>0.022026</td>\n",
       "    </tr>\n",
       "    <tr>\n",
       "      <th>2864</th>\n",
       "      <td>seasoning</td>\n",
       "      <td>some</td>\n",
       "      <td>0.022026</td>\n",
       "    </tr>\n",
       "    <tr>\n",
       "      <th>2865</th>\n",
       "      <td>egg</td>\n",
       "      <td>when</td>\n",
       "      <td>0.022026</td>\n",
       "    </tr>\n",
       "    <tr>\n",
       "      <th>2866</th>\n",
       "      <td>this</td>\n",
       "      <td>or</td>\n",
       "      <td>0.022026</td>\n",
       "    </tr>\n",
       "    <tr>\n",
       "      <th>2867</th>\n",
       "      <td>egg</td>\n",
       "      <td>water</td>\n",
       "      <td>0.022026</td>\n",
       "    </tr>\n",
       "    <tr>\n",
       "      <th>2868</th>\n",
       "      <td>egg</td>\n",
       "      <td>then</td>\n",
       "      <td>0.022026</td>\n",
       "    </tr>\n",
       "    <tr>\n",
       "      <th>2869</th>\n",
       "      <td>this</td>\n",
       "      <td>that</td>\n",
       "      <td>0.022026</td>\n",
       "    </tr>\n",
       "    <tr>\n",
       "      <th>2870</th>\n",
       "      <td>which</td>\n",
       "      <td>that</td>\n",
       "      <td>0.022026</td>\n",
       "    </tr>\n",
       "    <tr>\n",
       "      <th>2871</th>\n",
       "      <td>which</td>\n",
       "      <td>small</td>\n",
       "      <td>0.022026</td>\n",
       "    </tr>\n",
       "    <tr>\n",
       "      <th>2872</th>\n",
       "      <td>egg</td>\n",
       "      <td>one</td>\n",
       "      <td>0.022026</td>\n",
       "    </tr>\n",
       "    <tr>\n",
       "      <th>2873</th>\n",
       "      <td>egg</td>\n",
       "      <td>oil</td>\n",
       "      <td>0.022026</td>\n",
       "    </tr>\n",
       "    <tr>\n",
       "      <th>2874</th>\n",
       "      <td>which</td>\n",
       "      <td>over</td>\n",
       "      <td>0.022026</td>\n",
       "    </tr>\n",
       "    <tr>\n",
       "      <th>2875</th>\n",
       "      <td>add</td>\n",
       "      <td>are</td>\n",
       "      <td>0.022026</td>\n",
       "    </tr>\n",
       "  </tbody>\n",
       "</table>\n",
       "</div>"
      ],
      "text/plain": [
       "          word1   word2    weight\n",
       "2856       this   which  0.022026\n",
       "2857        egg   lemon  0.022026\n",
       "2858      onion    make  0.022026\n",
       "2859       eggs  crumbs  0.022026\n",
       "2860       eggs     but  0.022026\n",
       "2861      which    then  0.022026\n",
       "2862  eggplants    that  0.022026\n",
       "2863  eggplants    have  0.022026\n",
       "2864  seasoning    some  0.022026\n",
       "2865        egg    when  0.022026\n",
       "2866       this      or  0.022026\n",
       "2867        egg   water  0.022026\n",
       "2868        egg    then  0.022026\n",
       "2869       this    that  0.022026\n",
       "2870      which    that  0.022026\n",
       "2871      which   small  0.022026\n",
       "2872        egg     one  0.022026\n",
       "2873        egg     oil  0.022026\n",
       "2874      which    over  0.022026\n",
       "2875        add     are  0.022026"
      ]
     },
     "execution_count": 14,
     "metadata": {},
     "output_type": "execute_result"
    }
   ],
   "source": [
    "# 20 least common\n",
    "words_by_co_occurrence[-20:]"
   ]
  },
  {
   "cell_type": "code",
   "execution_count": 15,
   "metadata": {
    "collapsed": false
   },
   "outputs": [
    {
     "data": {
      "text/html": [
       "<div id=\"d3-container-3561096\"></div>\n",
       "<div>force-directed graph</div>\n",
       "\n",
       "<style>\n",
       "    .links line {\n",
       "        stroke: #999;\n",
       "        stroke-opacity: .2;\n",
       "    }\n",
       "\n",
       "    .nodes circle {\n",
       "        pointer-events: all;\n",
       "        stroke: #fff;\n",
       "        stroke-width: 1.5px;\n",
       "    }\n",
       "\n",
       "    .nodes text {\n",
       "        pointer-events: none;\n",
       "        font: 10px sans-serif;\n",
       "        fill: #000000;\n",
       "        opacity: .7;\n",
       "    }\n",
       "</style>\n"
      ]
     },
     "metadata": {},
     "output_type": "display_data"
    },
    {
     "data": {
      "application/javascript": [
       "// require is needed to make d3 work in jupyter notebooks from imported code\n",
       "require.config({\n",
       "    paths: {\n",
       "        d3: \"https://d3js.org/d3.v4.min\"\n",
       "    }\n",
       "});\n",
       "\n",
       "require([\"d3\"], function(d3) {\n",
       "    //console.log(d3.version);\n",
       "\n",
       "    var width = 800,\n",
       "        height = 600;\n",
       "\n",
       "    var svg = d3.select(\"#d3-container-3561096\")\n",
       "        .append(\"svg\")\n",
       "        .attr(\"width\", width)\n",
       "        .attr(\"height\", height);\n",
       "\n",
       "    var colour = d3.scaleOrdinal(d3.schemeCategory20c);\n",
       "\n",
       "    var graph = {\n",
       "        nodes: [{'id': 'two'}, {'id': 'lemon'}, {'id': 'browned'}, {'id': 'tablespoonfuls'}, {'id': 'bread'}, {'id': 'cut'}, {'id': 'fine'}, {'id': 'little'}, {'id': 'three'}, {'id': 'one'}, {'id': 'to'}, {'id': 'stock'}, {'id': 'parsley'}, {'id': 'sufficient'}, {'id': 'pieces'}, {'id': 'vinegar'}, {'id': 'very'}, {'id': 'eggs'}, {'id': 'have'}, {'id': 'take'}, {'id': 'together'}, {'id': 'cheese'}, {'id': 'water'}, {'id': 'quantity'}, {'id': 'place'}, {'id': 'frying'}, {'id': 'leaves'}, {'id': 'oil'}, {'id': 'it'}, {'id': 'them'}, {'id': 'eggplants'}, {'id': 'vegetables'}, {'id': 'rice'}, {'id': 'they'}, {'id': 'asparagus'}, {'id': 'composed'}, {'id': 'for'}, {'id': 'onion'}, {'id': 'add'}, {'id': 'codfish'}, {'id': 'tomatoes'}, {'id': 'over'}, {'id': 'cooked'}, {'id': 'mushrooms'}, {'id': 'this'}, {'id': 'grated'}, {'id': 'or'}, {'id': 'whole'}, {'id': 'pour'}, {'id': 'season'}, {'id': 'seasoned'}, {'id': 'butter'}, {'id': 'as'}, {'id': 'after'}, {'id': 'boiled'}, {'id': 'paste'}, {'id': 'tomato'}, {'id': 'when'}, {'id': 'fire'}, {'id': 'olive'}, {'id': 'adding'}, {'id': 'cooking'}, {'id': 'is'}, {'id': 'half'}, {'id': 'boiling'}, {'id': 'into'}, {'id': 'are'}, {'id': 'broth'}, {'id': 'some'}, {'id': 'fish'}, {'id': 'sauce'}, {'id': 'fry'}, {'id': 'white'}, {'id': 'until'}, {'id': 'brown'}, {'id': 'taste'}, {'id': 'artichokes'}, {'id': 'but'}, {'id': 'crumbs'}, {'id': 'saucepan'}, {'id': 'remove'}, {'id': 'make'}, {'id': 'which'}, {'id': 'serve'}, {'id': 'then'}, {'id': 'chicken'}, {'id': 'small'}, {'id': 'flour'}, {'id': 'soup'}, {'id': 'excellent'}, {'id': 'well'}, {'id': 'that'}, {'id': 'egg'}, {'id': 'pepper'}, {'id': 'with'}, {'id': 'seasoning'}, {'id': 'not'}],\n",
       "        links: [{'weight': 0.14950142885779172, 'source': 0, 'target': 21}, {'weight': 0.14950142885779172, 'source': 0, 'target': 22}, {'weight': 0.11485656487980726, 'source': 0, 'target': 45}, {'weight': 0.20284788326710132, 'source': 0, 'target': 29}, {'weight': 0.11528252918259546, 'source': 0, 'target': 9}, {'weight': 0.1466032807927488, 'source': 0, 'target': 3}, {'weight': 0.18651365276687842, 'source': 0, 'target': 8}, {'weight': 0.25898766191030137, 'source': 0, 'target': 46}, {'weight': 0.11238438111755257, 'source': 0, 'target': 92}, {'weight': 0.11528252918259546, 'source': 0, 'target': 5}, {'weight': 0.10287301566607211, 'source': 0, 'target': 94}, {'weight': 0.13698709151011593, 'source': 0, 'target': 17}, {'weight': 0.158586830006484, 'source': 1, 'target': 27}, {'weight': 0.11248920494870498, 'source': 1, 'target': 94}, {'weight': 0.1591176181404246, 'source': 1, 'target': 63}, {'weight': 0.1347312243883446, 'source': 2, 'target': 51}, {'weight': 0.11248920494870498, 'source': 2, 'target': 10}, {'weight': 0.20284788326710132, 'source': 2, 'target': 62}, {'weight': 0.11248920494870498, 'source': 2, 'target': 48}, {'weight': 0.13988523957515883, 'source': 2, 'target': 28}, {'weight': 0.2147266086496841, 'source': 2, 'target': 57}, {'weight': 0.11248920494870498, 'source': 3, 'target': 67}, {'weight': 0.18361550470183552, 'source': 3, 'target': 8}, {'weight': 0.2619906338064967, 'source': 3, 'target': 46}, {'weight': 0.13441008391670883, 'source': 4, 'target': 88}, {'weight': 0.11528252918259546, 'source': 4, 'target': 45}, {'weight': 0.13451490774786123, 'source': 4, 'target': 35}, {'weight': 0.1591176181404246, 'source': 4, 'target': 78}, {'weight': 0.16862898359190506, 'source': 4, 'target': 94}, {'weight': 0.10287301566607211, 'source': 4, 'target': 46}, {'weight': 0.11238438111755257, 'source': 5, 'target': 52}, {'weight': 0.10287301566607211, 'source': 5, 'target': 40}, {'weight': 0.20284788326710132, 'source': 5, 'target': 84}, {'weight': 0.12447275416244016, 'source': 5, 'target': 76}, {'weight': 0.12489871846522835, 'source': 5, 'target': 26}, {'weight': 0.11248920494870498, 'source': 5, 'target': 28}, {'weight': 0.35234931212489295, 'source': 5, 'target': 65}, {'weight': 0.6733778726396327, 'source': 5, 'target': 29}, {'weight': 0.11238438111755257, 'source': 5, 'target': 7}, {'weight': 0.14950142885779172, 'source': 5, 'target': 46}, {'weight': 0.14950142885779172, 'source': 5, 'target': 10}, {'weight': 0.11227955728640016, 'source': 5, 'target': 36}, {'weight': 0.19559905391557073, 'source': 5, 'target': 14}, {'weight': 0.22497840989740997, 'source': 6, 'target': 16}, {'weight': 0.16873380742305746, 'source': 6, 'target': 38}, {'weight': 0.11238438111755257, 'source': 6, 'target': 51}, {'weight': 0.13698709151011595, 'source': 6, 'target': 28}, {'weight': 0.10287301566607211, 'source': 6, 'target': 20}, {'weight': 0.20574603133214422, 'source': 7, 'target': 52}, {'weight': 0.19355283445610422, 'source': 7, 'target': 93}, {'weight': 0.14950142885779172, 'source': 7, 'target': 22}, {'weight': 0.11248920494870498, 'source': 7, 'target': 77}, {'weight': 0.12737090222748304, 'source': 7, 'target': 55}, {'weight': 0.3155534048562897, 'source': 7, 'target': 28}, {'weight': 0.11485656487980726, 'source': 7, 'target': 41}, {'weight': 0.2618858099753442, 'source': 7, 'target': 7}, {'weight': 0.11238438111755257, 'source': 7, 'target': 81}, {'weight': 0.11528252918259548, 'source': 7, 'target': 10}, {'weight': 0.12447275416244016, 'source': 7, 'target': 12}, {'weight': 0.11248920494870498, 'source': 7, 'target': 60}, {'weight': 0.11528252918259548, 'source': 7, 'target': 37}, {'weight': 0.20284788326710132, 'source': 7, 'target': 14}, {'weight': 0.12447275416244016, 'source': 7, 'target': 74}, {'weight': 0.11485656487980726, 'source': 7, 'target': 47}, {'weight': 0.20564120750099177, 'source': 7, 'target': 51}, {'weight': 0.1495014288577917, 'source': 7, 'target': 9}, {'weight': 0.10287301566607211, 'source': 7, 'target': 45}, {'weight': 0.3059372155736568, 'source': 7, 'target': 46}, {'weight': 0.19323169398446843, 'source': 7, 'target': 27}, {'weight': 0.26892499166457007, 'source': 7, 'target': 94}, {'weight': 0.10287301566607211, 'source': 8, 'target': 51}, {'weight': 0.28122301237176245, 'source': 8, 'target': 46}, {'weight': 0.12737090222748304, 'source': 8, 'target': 28}, {'weight': 0.11248920494870498, 'source': 8, 'target': 17}, {'weight': 0.11248920494870498, 'source': 9, 'target': 37}, {'weight': 0.11248920494870498, 'source': 9, 'target': 86}, {'weight': 0.10287301566607211, 'source': 9, 'target': 65}, {'weight': 0.10287301566607211, 'source': 9, 'target': 14}, {'weight': 0.1806125328056402, 'source': 9, 'target': 28}, {'weight': 0.13698709151011595, 'source': 9, 'target': 9}, {'weight': 0.11248920494870498, 'source': 9, 'target': 15}, {'weight': 0.16873380742305746, 'source': 9, 'target': 92}, {'weight': 0.15654061054701748, 'source': 9, 'target': 46}, {'weight': 0.19312687015331603, 'source': 9, 'target': 10}, {'weight': 0.11238438111755257, 'source': 9, 'target': 67}, {'weight': 0.12447275416244014, 'source': 9, 'target': 70}, {'weight': 0.1373082319817517, 'source': 9, 'target': 94}, {'weight': 0.1906546863910613, 'source': 10, 'target': 52}, {'weight': 0.11238438111755257, 'source': 10, 'target': 22}, {'weight': 0.11248920494870498, 'source': 10, 'target': 49}, {'weight': 0.12737090222748304, 'source': 10, 'target': 72}, {'weight': 0.1468195974332322, 'source': 10, 'target': 62}, {'weight': 0.12489871846522835, 'source': 10, 'target': 76}, {'weight': 0.12479389463407595, 'source': 10, 'target': 67}, {'weight': 0.11485656487980726, 'source': 10, 'target': 77}, {'weight': 0.11485656487980726, 'source': 10, 'target': 55}, {'weight': 0.39597475342041727, 'source': 10, 'target': 28}, {'weight': 0.28380668894334815, 'source': 10, 'target': 29}, {'weight': 0.22734576982851226, 'source': 10, 'target': 57}, {'weight': 0.33746761484611487, 'source': 10, 'target': 81}, {'weight': 0.1813596375800642, 'source': 10, 'target': 10}, {'weight': 0.2834855484717123, 'source': 10, 'target': 36}, {'weight': 0.16148497807152687, 'source': 10, 'target': 41}, {'weight': 0.13988523957515883, 'source': 10, 'target': 82}, {'weight': 0.11248920494870498, 'source': 10, 'target': 38}, {'weight': 0.1493966050266393, 'source': 10, 'target': 14}, {'weight': 0.1373082319817517, 'source': 10, 'target': 75}, {'weight': 0.22777173413130045, 'source': 10, 'target': 84}, {'weight': 0.12489871846522835, 'source': 10, 'target': 63}, {'weight': 0.2590924857414538, 'source': 10, 'target': 74}, {'weight': 0.15901279430927218, 'source': 10, 'target': 47}, {'weight': 0.11248920494870498, 'source': 10, 'target': 89}, {'weight': 0.1368822676789635, 'source': 10, 'target': 65}, {'weight': 0.2619906338064967, 'source': 10, 'target': 66}, {'weight': 0.10287301566607211, 'source': 10, 'target': 91}, {'weight': 0.2718231397296129, 'source': 10, 'target': 46}, {'weight': 0.1495014288577917, 'source': 10, 'target': 87}, {'weight': 0.15901279430927218, 'source': 10, 'target': 18}, {'weight': 0.13698709151011595, 'source': 10, 'target': 70}, {'weight': 0.3179207647873919, 'source': 10, 'target': 94}, {'weight': 0.12489871846522835, 'source': 10, 'target': 50}, {'weight': 0.11248920494870498, 'source': 10, 'target': 71}, {'weight': 0.3374676148461149, 'source': 11, 'target': 74}, {'weight': 0.11248920494870498, 'source': 11, 'target': 88}, {'weight': 0.18651365276687842, 'source': 11, 'target': 94}, {'weight': 0.12737090222748304, 'source': 11, 'target': 46}, {'weight': 0.16862898359190506, 'source': 12, 'target': 37}, {'weight': 0.18361550470183555, 'source': 12, 'target': 94}, {'weight': 0.13451490774786123, 'source': 12, 'target': 20}, {'weight': 0.11248920494870498, 'source': 13, 'target': 36}, {'weight': 0.11248920494870498, 'source': 13, 'target': 66}, {'weight': 0.10287301566607211, 'source': 14, 'target': 52}, {'weight': 0.1591176181404246, 'source': 14, 'target': 65}, {'weight': 0.10287301566607211, 'source': 14, 'target': 51}, {'weight': 0.14950142885779172, 'source': 14, 'target': 28}, {'weight': 0.13988523957515883, 'source': 16, 'target': 38}, {'weight': 0.10287301566607211, 'source': 16, 'target': 81}, {'weight': 0.13698709151011595, 'source': 16, 'target': 62}, {'weight': 0.11248920494870498, 'source': 16, 'target': 86}, {'weight': 0.10287301566607211, 'source': 16, 'target': 28}, {'weight': 0.18361550470183555, 'source': 17, 'target': 46}, {'weight': 0.10287301566607211, 'source': 18, 'target': 91}, {'weight': 0.12489871846522835, 'source': 18, 'target': 73}, {'weight': 0.10287301566607211, 'source': 18, 'target': 46}, {'weight': 0.11248920494870498, 'source': 18, 'target': 33}, {'weight': 0.10287301566607211, 'source': 19, 'target': 24}, {'weight': 0.11485656487980726, 'source': 19, 'target': 94}, {'weight': 0.1466032807927488, 'source': 19, 'target': 29}, {'weight': 0.10287301566607211, 'source': 19, 'target': 22}, {'weight': 0.17152713165694797, 'source': 20, 'target': 68}, {'weight': 0.1591176181404246, 'source': 20, 'target': 94}, {'weight': 0.11248920494870498, 'source': 20, 'target': 70}, {'weight': 0.17110116735415978, 'source': 21, 'target': 51}, {'weight': 0.11528252918259546, 'source': 21, 'target': 68}, {'weight': 0.3864633879689368, 'source': 21, 'target': 46}, {'weight': 0.921939342388796, 'source': 21, 'target': 45}, {'weight': 0.12737090222748304, 'source': 21, 'target': 93}, {'weight': 0.15901279430927218, 'source': 21, 'target': 94}, {'weight': 0.10287301566607211, 'source': 21, 'target': 41}, {'weight': 0.1368822676789635, 'source': 22, 'target': 62}, {'weight': 0.21525739678362468, 'source': 22, 'target': 84}, {'weight': 0.11238438111755257, 'source': 22, 'target': 22}, {'weight': 0.16873380742305746, 'source': 22, 'target': 64}, {'weight': 0.1466032807927488, 'source': 22, 'target': 65}, {'weight': 0.23685713527999275, 'source': 22, 'target': 28}, {'weight': 0.22476876223510514, 'source': 22, 'target': 29}, {'weight': 0.18361550470183552, 'source': 22, 'target': 39}, {'weight': 0.16148497807152687, 'source': 22, 'target': 58}, {'weight': 0.10287301566607211, 'source': 22, 'target': 81}, {'weight': 0.29599988581938813, 'source': 22, 'target': 46}, {'weight': 0.13451490774786123, 'source': 22, 'target': 33}, {'weight': 0.11248920494870498, 'source': 22, 'target': 36}, {'weight': 0.1907595102222137, 'source': 22, 'target': 57}, {'weight': 0.37179800733064217, 'source': 22, 'target': 94}, {'weight': 0.10287301566607211, 'source': 22, 'target': 96}, {'weight': 0.22497840989740997, 'source': 23, 'target': 86}, {'weight': 0.10287301566607211, 'source': 23, 'target': 87}, {'weight': 0.10287301566607211, 'source': 23, 'target': 94}, {'weight': 0.11248920494870498, 'source': 24, 'target': 28}, {'weight': 0.16862898359190506, 'source': 24, 'target': 94}, {'weight': 0.18114332093958085, 'source': 24, 'target': 46}, {'weight': 0.11248920494870498, 'source': 25, 'target': 87}, {'weight': 0.10287301566607211, 'source': 25, 'target': 27}, {'weight': 0.15901279430927218, 'source': 26, 'target': 29}, {'weight': 0.17152713165694797, 'source': 26, 'target': 76}, {'weight': 0.13698709151011595, 'source': 27, 'target': 51}, {'weight': 0.11248920494870498, 'source': 27, 'target': 93}, {'weight': 0.1591176181404246, 'source': 27, 'target': 83}, {'weight': 0.12737090222748304, 'source': 27, 'target': 87}, {'weight': 0.11485656487980726, 'source': 27, 'target': 29}, {'weight': 0.33746761484611487, 'source': 27, 'target': 59}, {'weight': 0.13451490774786123, 'source': 27, 'target': 57}, {'weight': 0.2863836965367552, 'source': 27, 'target': 46}, {'weight': 0.11485656487980726, 'source': 27, 'target': 70}, {'weight': 0.29599988581938813, 'source': 27, 'target': 94}, {'weight': 0.2057460313321442, 'source': 27, 'target': 71}, {'weight': 0.13988523957515883, 'source': 28, 'target': 51}, {'weight': 0.13441008391670883, 'source': 28, 'target': 72}, {'weight': 0.1347312243883446, 'source': 28, 'target': 62}, {'weight': 0.11248920494870498, 'source': 28, 'target': 67}, {'weight': 0.12489871846522835, 'source': 28, 'target': 54}, {'weight': 0.21525739678362468, 'source': 28, 'target': 55}, {'weight': 0.3520348406314358, 'source': 28, 'target': 28}, {'weight': 0.1368822676789635, 'source': 28, 'target': 52}, {'weight': 0.32785142556348207, 'source': 28, 'target': 57}, {'weight': 0.16873380742305746, 'source': 28, 'target': 58}, {'weight': 0.1469244212643846, 'source': 28, 'target': 81}, {'weight': 0.18114332093958085, 'source': 28, 'target': 36}, {'weight': 0.12489871846522835, 'source': 28, 'target': 42}, {'weight': 0.1469244212643846, 'source': 28, 'target': 84}, {'weight': 0.21515257295247228, 'source': 28, 'target': 74}, {'weight': 0.11238438111755257, 'source': 28, 'target': 65}, {'weight': 0.11528252918259548, 'source': 28, 'target': 92}, {'weight': 0.1591176181404246, 'source': 28, 'target': 90}, {'weight': 0.14950142885779172, 'source': 28, 'target': 91}, {'weight': 0.1464984569615964, 'source': 28, 'target': 41}, {'weight': 0.27139717542682473, 'source': 28, 'target': 46}, {'weight': 0.10287301566607211, 'source': 28, 'target': 77}, {'weight': 0.11248920494870498, 'source': 28, 'target': 93}, {'weight': 0.11528252918259546, 'source': 28, 'target': 48}, {'weight': 0.2955739215165999, 'source': 28, 'target': 94}, {'weight': 0.11270552158918835, 'source': 28, 'target': 96}, {'weight': 0.11248920494870498, 'source': 29, 'target': 52}, {'weight': 0.13698709151011595, 'source': 29, 'target': 49}, {'weight': 0.4672058770047003, 'source': 29, 'target': 29}, {'weight': 0.12479389463407595, 'source': 29, 'target': 80}, {'weight': 0.13698709151011595, 'source': 29, 'target': 81}, {'weight': 0.11227955728640016, 'source': 29, 'target': 59}, {'weight': 0.1368822676789635, 'source': 29, 'target': 33}, {'weight': 0.12737090222748304, 'source': 29, 'target': 73}, {'weight': 0.16895012406354085, 'source': 29, 'target': 36}, {'weight': 0.11248920494870498, 'source': 29, 'target': 83}, {'weight': 0.11485656487980726, 'source': 29, 'target': 40}, {'weight': 0.12737090222748304, 'source': 29, 'target': 84}, {'weight': 0.11248920494870498, 'source': 29, 'target': 63}, {'weight': 0.14950142885779172, 'source': 29, 'target': 64}, {'weight': 0.20574603133214422, 'source': 29, 'target': 87}, {'weight': 0.1464984569615964, 'source': 29, 'target': 51}, {'weight': 0.15654061054701748, 'source': 29, 'target': 65}, {'weight': 0.2617809861441919, 'source': 29, 'target': 66}, {'weight': 0.11238438111755257, 'source': 29, 'target': 90}, {'weight': 0.11485656487980726, 'source': 29, 'target': 74}, {'weight': 0.11485656487980726, 'source': 29, 'target': 91}, {'weight': 0.10287301566607211, 'source': 29, 'target': 92}, {'weight': 0.24926664879651608, 'source': 29, 'target': 46}, {'weight': 0.11248920494870498, 'source': 29, 'target': 77}, {'weight': 0.6386281848304959, 'source': 29, 'target': 94}, {'weight': 0.10287301566607211, 'source': 29, 'target': 50}, {'weight': 0.11248920494870498, 'source': 30, 'target': 46}, {'weight': 0.13698709151011595, 'source': 31, 'target': 46}, {'weight': 0.10287301566607211, 'source': 32, 'target': 60}, {'weight': 0.11248920494870498, 'source': 32, 'target': 94}, {'weight': 0.13451490774786123, 'source': 33, 'target': 52}, {'weight': 0.12489871846522835, 'source': 33, 'target': 53}, {'weight': 0.11248920494870498, 'source': 33, 'target': 73}, {'weight': 0.13698709151011595, 'source': 33, 'target': 84}, {'weight': 0.11528252918259548, 'source': 33, 'target': 87}, {'weight': 0.24018124764782384, 'source': 33, 'target': 66}, {'weight': 0.3373627910149626, 'source': 33, 'target': 57}, {'weight': 0.13988523957515883, 'source': 33, 'target': 90}, {'weight': 0.1907595102222137, 'source': 33, 'target': 91}, {'weight': 0.1489706407238511, 'source': 33, 'target': 33}, {'weight': 0.10287301566607211, 'source': 34, 'target': 77}, {'weight': 0.10287301566607211, 'source': 34, 'target': 73}, {'weight': 0.10287301566607211, 'source': 34, 'target': 95}, {'weight': 0.11485656487980726, 'source': 34, 'target': 62}, {'weight': 0.11248920494870498, 'source': 35, 'target': 62}, {'weight': 0.13451490774786123, 'source': 36, 'target': 52}, {'weight': 0.12489871846522835, 'source': 36, 'target': 69}, {'weight': 0.22497840989740997, 'source': 36, 'target': 62}, {'weight': 0.2148314324808365, 'source': 36, 'target': 84}, {'weight': 0.13988523957515883, 'source': 36, 'target': 66}, {'weight': 0.11248920494870498, 'source': 36, 'target': 57}, {'weight': 0.10287301566607211, 'source': 36, 'target': 91}, {'weight': 0.1495014288577917, 'source': 36, 'target': 68}, {'weight': 0.1469244212643846, 'source': 36, 'target': 46}, {'weight': 0.20284788326710132, 'source': 37, 'target': 94}, {'weight': 0.11248920494870498, 'source': 37, 'target': 86}, {'weight': 0.11248920494870498, 'source': 38, 'target': 58}, {'weight': 0.11248920494870498, 'source': 38, 'target': 84}, {'weight': 0.11248920494870498, 'source': 38, 'target': 63}, {'weight': 0.10287301566607211, 'source': 38, 'target': 42}, {'weight': 0.12737090222748304, 'source': 38, 'target': 57}, {'weight': 0.11248920494870498, 'source': 40, 'target': 46}, {'weight': 0.10287301566607211, 'source': 40, 'target': 94}, {'weight': 0.11248920494870498, 'source': 40, 'target': 66}, {'weight': 0.11248920494870498, 'source': 40, 'target': 57}, {'weight': 0.16873380742305746, 'source': 41, 'target': 58}, {'weight': 0.20596234797262758, 'source': 41, 'target': 94}, {'weight': 0.11248920494870498, 'source': 41, 'target': 55}, {'weight': 0.33746761484611487, 'source': 41, 'target': 48}, {'weight': 0.13698709151011593, 'source': 43, 'target': 66}, {'weight': 0.10287301566607211, 'source': 43, 'target': 82}, {'weight': 0.13698709151011595, 'source': 44, 'target': 89}, {'weight': 0.12447275416244016, 'source': 44, 'target': 88}, {'weight': 0.11248920494870498, 'source': 44, 'target': 70}, {'weight': 0.18361550470183552, 'source': 44, 'target': 94}, {'weight': 0.37427019109289683, 'source': 44, 'target': 62}, {'weight': 0.18114332093958085, 'source': 45, 'target': 93}, {'weight': 0.1466032807927488, 'source': 45, 'target': 68}, {'weight': 0.1489706407238511, 'source': 45, 'target': 46}, {'weight': 0.30604203940480923, 'source': 45, 'target': 94}, {'weight': 0.3371531433526577, 'source': 46, 'target': 52}, {'weight': 0.11528252918259546, 'source': 46, 'target': 74}, {'weight': 0.2642531699064466, 'source': 46, 'target': 62}, {'weight': 0.24700411269656625, 'source': 46, 'target': 67}, {'weight': 0.24700411269656625, 'source': 46, 'target': 54}, {'weight': 0.1493966050266393, 'source': 46, 'target': 55}, {'weight': 0.13988523957515883, 'source': 46, 'target': 56}, {'weight': 0.1368822676789635, 'source': 46, 'target': 58}, {'weight': 0.16191094237431508, 'source': 46, 'target': 86}, {'weight': 0.1464984569615964, 'source': 46, 'target': 49}, {'weight': 0.13988523957515883, 'source': 46, 'target': 64}, {'weight': 0.12447275416244014, 'source': 46, 'target': 84}, {'weight': 0.1591176181404246, 'source': 46, 'target': 85}, {'weight': 0.10287301566607211, 'source': 46, 'target': 47}, {'weight': 0.19323169398446843, 'source': 46, 'target': 51}, {'weight': 0.2426534314100785, 'source': 46, 'target': 66}, {'weight': 0.1489706407238511, 'source': 46, 'target': 68}, {'weight': 0.7170099829133356, 'source': 46, 'target': 46}, {'weight': 0.11248920494870498, 'source': 46, 'target': 69}, {'weight': 0.22062772861092228, 'source': 46, 'target': 70}, {'weight': 0.5553086882013253, 'source': 46, 'target': 94}, {'weight': 0.11485656487980726, 'source': 48, 'target': 93}, {'weight': 0.2085393555660347, 'source': 49, 'target': 93}, {'weight': 0.393607393489315, 'source': 49, 'target': 94}, {'weight': 0.39371221732046735, 'source': 50, 'target': 94}, {'weight': 0.11238438111755257, 'source': 51, 'target': 74}, {'weight': 0.3373627910149626, 'source': 51, 'target': 57}, {'weight': 0.11528252918259548, 'source': 51, 'target': 58}, {'weight': 0.11485656487980726, 'source': 51, 'target': 87}, {'weight': 0.11528252918259546, 'source': 51, 'target': 60}, {'weight': 0.1466032807927488, 'source': 51, 'target': 93}, {'weight': 0.17152713165694794, 'source': 51, 'target': 94}, {'weight': 0.32785142556348207, 'source': 52, 'target': 52}, {'weight': 0.19323169398446843, 'source': 52, 'target': 86}, {'weight': 0.12737090222748304, 'source': 52, 'target': 65}, {'weight': 0.1368822676789635, 'source': 52, 'target': 55}, {'weight': 0.12489871846522835, 'source': 52, 'target': 66}, {'weight': 0.15901279430927218, 'source': 52, 'target': 81}, {'weight': 0.12232171087182123, 'source': 52, 'target': 94}, {'weight': 0.10287301566607211, 'source': 53, 'target': 87}, {'weight': 0.10287301566607211, 'source': 53, 'target': 84}, {'weight': 0.10287301566607211, 'source': 54, 'target': 69}, {'weight': 0.12489871846522835, 'source': 54, 'target': 62}, {'weight': 0.1932316939844684, 'source': 54, 'target': 85}, {'weight': 0.13688226767896353, 'source': 54, 'target': 70}, {'weight': 0.11270552158918835, 'source': 54, 'target': 66}, {'weight': 0.11248920494870498, 'source': 55, 'target': 81}, {'weight': 0.15901279430927218, 'source': 55, 'target': 94}, {'weight': 0.2910555182948787, 'source': 55, 'target': 56}, {'weight': 0.44995681979481983, 'source': 56, 'target': 70}, {'weight': 0.11528252918259548, 'source': 56, 'target': 94}, {'weight': 0.12489871846522835, 'source': 57, 'target': 62}, {'weight': 0.11528252918259548, 'source': 57, 'target': 74}, {'weight': 0.40466919761554604, 'source': 57, 'target': 66}, {'weight': 0.10287301566607211, 'source': 57, 'target': 58}, {'weight': 0.12489871846522835, 'source': 57, 'target': 87}, {'weight': 0.1368822676789635, 'source': 57, 'target': 93}, {'weight': 0.33301210972847484, 'source': 57, 'target': 94}, {'weight': 0.31823523628084915, 'source': 58, 'target': 94}, {'weight': 0.10287301566607211, 'source': 58, 'target': 79}, {'weight': 0.10287301566607211, 'source': 59, 'target': 94}, {'weight': 0.11248920494870498, 'source': 60, 'target': 93}, {'weight': 0.10287301566607211, 'source': 60, 'target': 86}, {'weight': 0.15858683000648396, 'source': 60, 'target': 94}, {'weight': 0.11248920494870498, 'source': 61, 'target': 94}, {'weight': 0.11485656487980726, 'source': 62, 'target': 72}, {'weight': 0.19323169398446843, 'source': 62, 'target': 73}, {'weight': 0.1368822676789635, 'source': 62, 'target': 62}, {'weight': 0.1495014288577917, 'source': 62, 'target': 77}, {'weight': 0.19323169398446843, 'source': 62, 'target': 89}, {'weight': 0.13441008391670883, 'source': 62, 'target': 81}, {'weight': 0.11248920494870498, 'source': 62, 'target': 82}, {'weight': 0.11248920494870498, 'source': 62, 'target': 83}, {'weight': 0.11238438111755257, 'source': 62, 'target': 74}, {'weight': 0.11528252918259546, 'source': 62, 'target': 88}, {'weight': 0.1466032807927488, 'source': 62, 'target': 91}, {'weight': 0.10287301566607211, 'source': 62, 'target': 65}, {'weight': 0.3863585641377844, 'source': 62, 'target': 70}, {'weight': 0.16191094237431508, 'source': 62, 'target': 94}, {'weight': 0.15654061054701748, 'source': 62, 'target': 95}, {'weight': 0.11485656487980726, 'source': 63, 'target': 94}, {'weight': 0.11248920494870498, 'source': 64, 'target': 96}, {'weight': 0.12737090222748304, 'source': 66, 'target': 86}, {'weight': 0.10287301566607211, 'source': 66, 'target': 89}, {'weight': 0.17110116735415976, 'source': 66, 'target': 66}, {'weight': 0.16873380742305746, 'source': 66, 'target': 90}, {'weight': 0.11227955728640017, 'source': 66, 'target': 94}, {'weight': 0.13451490774786123, 'source': 66, 'target': 82}, {'weight': 0.16862898359190506, 'source': 66, 'target': 96}, {'weight': 0.1466032807927488, 'source': 69, 'target': 91}, {'weight': 0.2494762964588209, 'source': 70, 'target': 72}, {'weight': 0.15901279430927218, 'source': 70, 'target': 73}, {'weight': 0.14950142885779172, 'source': 70, 'target': 70}, {'weight': 0.22476876223510514, 'source': 70, 'target': 94}, {'weight': 0.18093367327727602, 'source': 74, 'target': 94}, {'weight': 0.11248920494870498, 'source': 75, 'target': 80}, {'weight': 0.12489871846522835, 'source': 77, 'target': 91}, {'weight': 0.11248920494870498, 'source': 77, 'target': 92}, {'weight': 0.30572089893317334, 'source': 77, 'target': 96}, {'weight': 0.17142230782579554, 'source': 78, 'target': 94}, {'weight': 0.20574603133214422, 'source': 79, 'target': 94}, {'weight': 0.11238438111755257, 'source': 81, 'target': 94}, {'weight': 0.10287301566607211, 'source': 83, 'target': 92}, {'weight': 0.11248920494870498, 'source': 83, 'target': 94}, {'weight': 0.11248920494870498, 'source': 84, 'target': 90}, {'weight': 0.22766691030014802, 'source': 84, 'target': 94}, {'weight': 0.12737090222748304, 'source': 84, 'target': 96}, {'weight': 0.12447275416244016, 'source': 87, 'target': 91}, {'weight': 0.11248920494870498, 'source': 87, 'target': 94}, {'weight': 0.16873380742305746, 'source': 88, 'target': 89}, {'weight': 0.11238438111755257, 'source': 91, 'target': 94}, {'weight': 0.13698709151011595, 'source': 91, 'target': 96}, {'weight': 0.1961298420495113, 'source': 93, 'target': 94}, {'weight': 0.352460804934224, 'source': 94, 'target': 94}]\n",
       "    };\n",
       "\n",
       "    var simulation = d3.forceSimulation(graph.nodes)\n",
       "        .force(\"link\", d3.forceLink(graph.links).distance(50))\n",
       "        .force(\"charge\", d3.forceManyBody().strength(-20))\n",
       "        //.force(\"radius\", d3.forceCollide(15))\n",
       "        .force(\"center\", d3.forceCenter(width / 2.0, height / 2.0));\n",
       "\n",
       "    var link = svg.append(\"g\")\n",
       "        .attr(\"class\", \"links\")\n",
       "        .selectAll(\"line\")\n",
       "        .data(graph.links)\n",
       "        .enter().append(\"line\")\n",
       "        .style(\"stroke-linecap\", \"round\")\n",
       "        .style(\"stroke\", function(d) {return colour(d.weight);})\n",
       "        .style(\"stroke-width\", function (d) {return 0.5 + Math.sqrt(d.weight*100);});\n",
       "\n",
       "    var node = svg.append(\"g\")\n",
       "        .attr(\"class\", \"nodes\")\n",
       "        .selectAll(\"g\")\n",
       "        .data(graph.nodes)\n",
       "        .enter().append(\"g\");\n",
       "\n",
       "    var circle = node.append(\"circle\")\n",
       "        .attr(\"r\", 4.5)\n",
       "        .style(\"fill\", \"grey\")\n",
       "        .call(d3.drag()\n",
       "            .on(\"start\", dragstarted)\n",
       "            .on(\"drag\", dragged)\n",
       "            .on(\"end\", dragended));\n",
       "\n",
       "    //node.append(\"title\")\n",
       "    //    .text(function(d) { return d.id; });\n",
       "\n",
       "    var t2 = node.append(\"text\")\n",
       "      .attr(\"dx\", 10)\n",
       "      .attr(\"dy\", \".35em\")\n",
       "      .text(function(d) { return d.id; });\n",
       "\n",
       "    simulation\n",
       "        .on(\"tick\", ticked);\n",
       "\n",
       "    function ticked() {\n",
       "        link\n",
       "            .attr(\"x1\", function(d) { return d.source.x; })\n",
       "            .attr(\"y1\", function(d) { return d.source.y; })\n",
       "            .attr(\"x2\", function(d) { return d.target.x; })\n",
       "            .attr(\"y2\", function(d) { return d.target.y; });\n",
       "\n",
       "        circle\n",
       "            .attr(\"cx\", function(d) { return d.x; })\n",
       "            .attr(\"cy\", function(d) { return d.y; });\n",
       "\n",
       "        t2\n",
       "            .attr(\"x\", function(d) { return d.x; })\n",
       "            .attr(\"y\", function(d) { return d.y; });\n",
       "    };\n",
       "\n",
       "    function dragstarted(d) {\n",
       "        if (!d3.event.active) simulation.alphaTarget(0.3).restart();\n",
       "        d.fx = d.x;\n",
       "        d.fy = d.y;\n",
       "    };\n",
       "\n",
       "    function dragged(d) {\n",
       "        d.fx = d3.event.x;\n",
       "        d.fy = d3.event.y;\n",
       "    };\n",
       "\n",
       "    function dragended(d) {\n",
       "        if (!d3.event.active) simulation.alphaTarget(0);\n",
       "        d.fx = null;\n",
       "        d.fy = null;\n",
       "    };\n",
       "\n",
       "});\n",
       "\n"
      ]
     },
     "metadata": {},
     "output_type": "display_data"
    }
   ],
   "source": [
    "# visualise co-occurrence of words\n",
    "tmt.visualisation.plot_force_directed_graph(words_by_co_occurrence[:500])"
   ]
  },
  {
   "cell_type": "code",
   "execution_count": 18,
   "metadata": {
    "collapsed": false
   },
   "outputs": [
    {
     "data": {
      "text/html": [
       "<div id=\"d3-container-7738020\"></div>\n",
       "<div>force-directed graph</div>\n",
       "\n",
       "<style>\n",
       "    .links line {\n",
       "        stroke: #999;\n",
       "        stroke-opacity: .2;\n",
       "    }\n",
       "\n",
       "    .nodes circle {\n",
       "        pointer-events: all;\n",
       "        stroke: #fff;\n",
       "        stroke-width: 1.5px;\n",
       "    }\n",
       "\n",
       "    .nodes text {\n",
       "        pointer-events: none;\n",
       "        font: 10px sans-serif;\n",
       "        fill: #000000;\n",
       "        opacity: .7;\n",
       "    }\n",
       "</style>\n"
      ]
     },
     "metadata": {},
     "output_type": "display_data"
    },
    {
     "data": {
      "application/javascript": [
       "// require is needed to make d3 work in jupyter notebooks from imported code\n",
       "require.config({\n",
       "    paths: {\n",
       "        d3: \"https://d3js.org/d3.v4.min\"\n",
       "    }\n",
       "});\n",
       "\n",
       "require([\"d3\"], function(d3) {\n",
       "    //console.log(d3.version);\n",
       "\n",
       "    var width = 800,\n",
       "        height = 600;\n",
       "\n",
       "    var svg = d3.select(\"#d3-container-7738020\")\n",
       "        .append(\"svg\")\n",
       "        .attr(\"width\", width)\n",
       "        .attr(\"height\", height);\n",
       "\n",
       "    var colour = d3.scaleOrdinal(d3.schemeCategory20c);\n",
       "\n",
       "    var graph = {\n",
       "        nodes: [{'id': 'butter'}, {'id': 'fry'}, {'id': 'two'}, {'id': 'for'}, {'id': 'tablespoonfuls'}, {'id': 'small'}, {'id': 'pour'}, {'id': 'broth'}, {'id': 'tomato'}, {'id': 'as'}, {'id': 'one'}, {'id': 'into'}, {'id': 'oil'}, {'id': 'they'}, {'id': 'them'}, {'id': 'tomatoes'}, {'id': 'fine'}, {'id': 'brown'}, {'id': 'cheese'}, {'id': 'when'}, {'id': 'very'}, {'id': 'make'}, {'id': 'flour'}, {'id': 'over'}, {'id': 'sauce'}, {'id': 'it'}, {'id': 'white'}, {'id': 'are'}, {'id': 'but'}, {'id': 'browned'}, {'id': 'that'}, {'id': 'crumbs'}, {'id': 'with'}, {'id': 'fire'}, {'id': 'water'}, {'id': 'little'}, {'id': 'onion'}, {'id': 'boiled'}, {'id': 'then'}, {'id': 'pieces'}, {'id': 'quantity'}, {'id': 'to'}, {'id': 'seasoned'}, {'id': 'cut'}, {'id': 'this'}, {'id': 'season'}, {'id': 'or'}, {'id': 'saucepan'}, {'id': 'is'}, {'id': 'grated'}, {'id': 'stock'}, {'id': 'three'}, {'id': 'olive'}, {'id': 'not'}, {'id': 'bread'}, {'id': 'paste'}, {'id': 'parsley'}, {'id': 'pepper'}],\n",
       "        links: [{'weight': 0.3373627910149626, 'target': 19, 'source': 0}, {'weight': 0.7393434882277705, 'target': 32, 'source': 0}, {'weight': 0.20564120750099177, 'target': 35, 'source': 0}, {'weight': 0.2057460313321442, 'target': 12, 'source': 1}, {'weight': 0.20284788326710132, 'target': 14, 'source': 2}, {'weight': 0.25898766191030137, 'target': 46, 'source': 2}, {'weight': 0.22497840989740997, 'target': 48, 'source': 3}, {'weight': 0.2148314324808365, 'target': 38, 'source': 3}, {'weight': 0.2834855484717123, 'target': 14, 'source': 3}, {'weight': 0.2834855484717123, 'target': 41, 'source': 3}, {'weight': 0.2619906338064967, 'target': 46, 'source': 4}, {'weight': 0.22497840989740997, 'target': 40, 'source': 5}, {'weight': 0.33746761484611487, 'target': 23, 'source': 6}, {'weight': 0.24700411269656625, 'target': 46, 'source': 7}, {'weight': 0.44995681979481983, 'target': 24, 'source': 8}, {'weight': 0.2910555182948787, 'target': 55, 'source': 8}, {'weight': 0.28122301237176245, 'target': 46, 'source': 8}, {'weight': 0.23717827575162853, 'target': 32, 'source': 8}, {'weight': 0.32785142556348207, 'target': 9, 'source': 9}, {'weight': 0.20574603133214422, 'target': 35, 'source': 9}, {'weight': 0.3371531433526577, 'target': 46, 'source': 9}, {'weight': 0.2301390940624027, 'target': 27, 'source': 9}, {'weight': 0.23024391789355514, 'target': 14, 'source': 9}, {'weight': 0.21536222061477708, 'target': 41, 'source': 9}, {'weight': 0.20574603133214422, 'target': 36, 'source': 10}, {'weight': 0.2177295805458794, 'target': 35, 'source': 10}, {'weight': 0.35234931212489295, 'target': 43, 'source': 11}, {'weight': 0.2718231397296129, 'target': 14, 'source': 11}, {'weight': 0.33746761484611487, 'target': 52, 'source': 12}, {'weight': 0.29599988581938813, 'target': 32, 'source': 12}, {'weight': 0.2863836965367552, 'target': 46, 'source': 12}, {'weight': 0.3373627910149626, 'target': 19, 'source': 13}, {'weight': 0.24018124764782384, 'target': 27, 'source': 13}, {'weight': 0.2617809861441919, 'target': 30, 'source': 14}, {'weight': 0.6733778726396327, 'target': 43, 'source': 14}, {'weight': 0.24926664879651608, 'target': 46, 'source': 14}, {'weight': 0.6386281848304959, 'target': 32, 'source': 14}, {'weight': 0.4672058770047003, 'target': 14, 'source': 14}, {'weight': 0.2617809861441919, 'target': 27, 'source': 14}, {'weight': 0.24937147262766846, 'target': 38, 'source': 14}, {'weight': 0.20574603133214422, 'target': 22, 'source': 14}, {'weight': 0.22476876223510514, 'target': 34, 'source': 14}, {'weight': 0.28380668894334815, 'target': 41, 'source': 14}, {'weight': 0.23728309958278093, 'target': 32, 'source': 15}, {'weight': 0.22497840989740997, 'target': 20, 'source': 16}, {'weight': 0.20284788326710132, 'target': 32, 'source': 17}, {'weight': 0.21515257295247228, 'target': 25, 'source': 17}, {'weight': 0.3374676148461149, 'target': 50, 'source': 17}, {'weight': 0.2590924857414538, 'target': 41, 'source': 17}, {'weight': 0.921939342388796, 'target': 49, 'source': 18}, {'weight': 0.3109864069293186, 'target': 32, 'source': 18}, {'weight': 0.3864633879689368, 'target': 46, 'source': 18}, {'weight': 0.32785142556348207, 'target': 25, 'source': 19}, {'weight': 0.40466919761554604, 'target': 27, 'source': 19}, {'weight': 0.37012915746871394, 'target': 48, 'source': 19}, {'weight': 0.2147266086496841, 'target': 29, 'source': 19}, {'weight': 0.33301210972847484, 'target': 32, 'source': 19}, {'weight': 0.22734576982851226, 'target': 41, 'source': 19}, {'weight': 0.3743750149240493, 'target': 25, 'source': 21}, {'weight': 0.33746761484611487, 'target': 41, 'source': 21}, {'weight': 0.2027430594359489, 'target': 25, 'source': 23}, {'weight': 0.20596234797262758, 'target': 32, 'source': 23}, {'weight': 0.33746761484611487, 'target': 44, 'source': 24}, {'weight': 0.22062772861092228, 'target': 46, 'source': 24}, {'weight': 0.3863585641377844, 'target': 48, 'source': 24}, {'weight': 0.2494762964588209, 'target': 26, 'source': 24}, {'weight': 0.22476876223510514, 'target': 32, 'source': 24}, {'weight': 0.30572089893317334, 'target': 30, 'source': 25}, {'weight': 0.27139717542682473, 'target': 46, 'source': 25}, {'weight': 1.0, 'target': 48, 'source': 25}, {'weight': 0.2955739215165999, 'target': 32, 'source': 25}, {'weight': 0.3520348406314358, 'target': 25, 'source': 25}, {'weight': 0.3155534048562897, 'target': 35, 'source': 25}, {'weight': 0.2618858099753443, 'target': 38, 'source': 25}, {'weight': 0.21525739678362468, 'target': 55, 'source': 25}, {'weight': 0.23685713527999275, 'target': 34, 'source': 25}, {'weight': 0.39597475342041727, 'target': 41, 'source': 25}, {'weight': 0.2426534314100785, 'target': 46, 'source': 27}, {'weight': 0.2619906338064967, 'target': 41, 'source': 27}, {'weight': 0.30572089893317334, 'target': 53, 'source': 28}, {'weight': 0.20284788326710132, 'target': 48, 'source': 29}, {'weight': 0.2744001473230201, 'target': 48, 'source': 30}, {'weight': 0.24275825524123093, 'target': 41, 'source': 30}, {'weight': 0.28122301237176245, 'target': 54, 'source': 31}, {'weight': 0.352460804934224, 'target': 32, 'source': 32}, {'weight': 0.31823523628084915, 'target': 33, 'source': 32}, {'weight': 0.37179800733064217, 'target': 34, 'source': 32}, {'weight': 0.26892499166457007, 'target': 35, 'source': 32}, {'weight': 0.20284788326710132, 'target': 36, 'source': 32}, {'weight': 0.22766691030014802, 'target': 38, 'source': 32}, {'weight': 0.3179207647873919, 'target': 41, 'source': 32}, {'weight': 0.39371221732046735, 'target': 42, 'source': 32}, {'weight': 0.5553086882013253, 'target': 46, 'source': 32}, {'weight': 0.393607393489315, 'target': 45, 'source': 32}, {'weight': 0.20574603133214422, 'target': 47, 'source': 32}, {'weight': 0.30604203940480923, 'target': 49, 'source': 32}, {'weight': 0.22734576982851226, 'target': 55, 'source': 32}, {'weight': 0.20574603133214422, 'target': 56, 'source': 32}, {'weight': 0.44270799044328935, 'target': 57, 'source': 32}, {'weight': 0.29599988581938813, 'target': 46, 'source': 34}, {'weight': 0.21525739678362468, 'target': 38, 'source': 34}, {'weight': 0.23738792341393333, 'target': 41, 'source': 34}, {'weight': 0.3059372155736568, 'target': 46, 'source': 35}, {'weight': 0.2618858099753442, 'target': 35, 'source': 35}, {'weight': 0.20284788326710132, 'target': 43, 'source': 35}, {'weight': 0.20284788326710132, 'target': 39, 'source': 35}, {'weight': 0.24700411269656625, 'target': 46, 'source': 37}, {'weight': 0.20284788326710132, 'target': 43, 'source': 38}, {'weight': 0.22777173413130045, 'target': 41, 'source': 38}, {'weight': 0.2718231397296129, 'target': 46, 'source': 41}, {'weight': 0.5209782957167981, 'target': 48, 'source': 41}, {'weight': 0.2056412075009918, 'target': 46, 'source': 43}, {'weight': 0.37427019109289683, 'target': 48, 'source': 44}, {'weight': 0.2085393555660347, 'target': 57, 'source': 45}, {'weight': 0.20284788326710132, 'target': 50, 'source': 46}, {'weight': 0.7170099829133356, 'target': 46, 'source': 46}, {'weight': 0.2642531699064466, 'target': 48, 'source': 46}, {'weight': 0.2180507210175152, 'target': 49, 'source': 46}, {'weight': 0.28122301237176245, 'target': 51, 'source': 46}]\n",
       "    };\n",
       "\n",
       "    var simulation = d3.forceSimulation(graph.nodes)\n",
       "        .force(\"link\", d3.forceLink(graph.links).distance(50))\n",
       "        .force(\"charge\", d3.forceManyBody().strength(-20))\n",
       "        //.force(\"radius\", d3.forceCollide(15))\n",
       "        .force(\"center\", d3.forceCenter(width / 2.0, height / 2.0));\n",
       "\n",
       "    var link = svg.append(\"g\")\n",
       "        .attr(\"class\", \"links\")\n",
       "        .selectAll(\"line\")\n",
       "        .data(graph.links)\n",
       "        .enter().append(\"line\")\n",
       "        .style(\"stroke-linecap\", \"round\")\n",
       "        .style(\"stroke\", function(d) {return colour(d.weight);})\n",
       "        .style(\"stroke-width\", function (d) {return 0.5 + Math.sqrt(d.weight*100);});\n",
       "\n",
       "    var node = svg.append(\"g\")\n",
       "        .attr(\"class\", \"nodes\")\n",
       "        .selectAll(\"g\")\n",
       "        .data(graph.nodes)\n",
       "        .enter().append(\"g\");\n",
       "\n",
       "    var circle = node.append(\"circle\")\n",
       "        .attr(\"r\", 4.5)\n",
       "        .style(\"fill\", \"grey\")\n",
       "        .call(d3.drag()\n",
       "            .on(\"start\", dragstarted)\n",
       "            .on(\"drag\", dragged)\n",
       "            .on(\"end\", dragended));\n",
       "\n",
       "    //node.append(\"title\")\n",
       "    //    .text(function(d) { return d.id; });\n",
       "\n",
       "    var t2 = node.append(\"text\")\n",
       "      .attr(\"dx\", 10)\n",
       "      .attr(\"dy\", \".35em\")\n",
       "      .text(function(d) { return d.id; });\n",
       "\n",
       "    simulation\n",
       "        .on(\"tick\", ticked);\n",
       "\n",
       "    function ticked() {\n",
       "        link\n",
       "            .attr(\"x1\", function(d) { return d.source.x; })\n",
       "            .attr(\"y1\", function(d) { return d.source.y; })\n",
       "            .attr(\"x2\", function(d) { return d.target.x; })\n",
       "            .attr(\"y2\", function(d) { return d.target.y; });\n",
       "\n",
       "        circle\n",
       "            .attr(\"cx\", function(d) { return d.x; })\n",
       "            .attr(\"cy\", function(d) { return d.y; });\n",
       "\n",
       "        t2\n",
       "            .attr(\"x\", function(d) { return d.x; })\n",
       "            .attr(\"y\", function(d) { return d.y; });\n",
       "    };\n",
       "\n",
       "    function dragstarted(d) {\n",
       "        if (!d3.event.active) simulation.alphaTarget(0.3).restart();\n",
       "        d.fx = d.x;\n",
       "        d.fy = d.y;\n",
       "    };\n",
       "\n",
       "    function dragged(d) {\n",
       "        d.fx = d3.event.x;\n",
       "        d.fy = d3.event.y;\n",
       "    };\n",
       "\n",
       "    function dragended(d) {\n",
       "        if (!d3.event.active) simulation.alphaTarget(0);\n",
       "        d.fx = null;\n",
       "        d.fy = null;\n",
       "    };\n",
       "\n",
       "});\n",
       "\n"
      ]
     },
     "metadata": {},
     "output_type": "display_data"
    }
   ],
   "source": [
    "# visualise co-occurrence > 1\n",
    "w = words_by_co_occurrence[words_by_co_occurrence['weight']>0.2]\n",
    "tmt.visualisation.plot_force_directed_graph(w)"
   ]
  },
  {
   "cell_type": "code",
   "execution_count": null,
   "metadata": {
    "collapsed": true
   },
   "outputs": [],
   "source": []
  }
 ],
 "metadata": {
  "anaconda-cloud": {},
  "kernelspec": {
   "display_name": "Python [conda root]",
   "language": "python",
   "name": "conda-root-py"
  },
  "language_info": {
   "codemirror_mode": {
    "name": "ipython",
    "version": 3
   },
   "file_extension": ".py",
   "mimetype": "text/x-python",
   "name": "python",
   "nbconvert_exporter": "python",
   "pygments_lexer": "ipython3",
   "version": "3.5.2"
  }
 },
 "nbformat": 4,
 "nbformat_minor": 0
}
