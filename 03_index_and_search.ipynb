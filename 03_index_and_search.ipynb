{
 "cells": [
  {
   "cell_type": "code",
   "execution_count": 28,
   "metadata": {
    "collapsed": true
   },
   "outputs": [],
   "source": [
    "# notebook to illustrate text indexing and basic search"
   ]
  },
  {
   "cell_type": "code",
   "execution_count": 29,
   "metadata": {},
   "outputs": [
    {
     "name": "stdout",
     "output_type": "stream",
     "text": [
      "The autoreload extension is already loaded. To reload it, use:\n  %reload_ext autoreload\n"
     ]
    }
   ],
   "source": [
    "# following only used for development, reloads the modules with any code changes\n",
    "%load_ext autoreload\n",
    "%autoreload 2\n",
    "\n",
    "# inline matplotlib charts\n",
    "%matplotlib inline"
   ]
  },
  {
   "cell_type": "code",
   "execution_count": 30,
   "metadata": {},
   "outputs": [],
   "source": [
    "# import our text mining toolkit\n",
    "import text_mining_toolkit as tmt"
   ]
  },
  {
   "cell_type": "code",
   "execution_count": 34,
   "metadata": {},
   "outputs": [
    {
     "name": "stdout",
     "output_type": "stream",
     "text": [
      "content_directory =  data_sets/recipes/txt/\ntext_filename_pattern =  ??.txt\nself.documents populated =  22\n"
     ]
    }
   ],
   "source": [
    "cr = tmt.corpus_reader.CorpusReader(content_directory=\"data_sets/recipes/txt/\", text_filename_pattern=\"??.txt\")\n",
    "#cr = tmt.corpus_reader.CorpusReader(directory_of_files=\"data_sets/mystery_corpus_01/txt/\", text_filename_pattern=\"??.txt\")\n",
    "#cr = tmt.corpus_reader.CorpusReader(directory_of_files=\"data_sets/iraq_inquiry/txt/\", text_filename_pattern=\"the-report*.txt\")"
   ]
  },
  {
   "cell_type": "code",
   "execution_count": 62,
   "metadata": {},
   "outputs": [
    {
     "name": "stdout",
     "output_type": "stream",
     "text": [
      "removed index file:  data_sets/recipes/txt/index\nprocessing  00.txt\nsaving updated index,  data_sets/recipes/txt/index\nprocessing  00.txt\nloading existing index,  data_sets/recipes/txt/index\nsaving updated index,  data_sets/recipes/txt/index\nprocessing  00.txt\nloading existing index,  data_sets/recipes/txt/index\nsaving updated index,  data_sets/recipes/txt/index\nprocessing  00.txt\nloading existing index,  data_sets/recipes/txt/index\nsaving updated index,  data_sets/recipes/txt/index\nprocessing  00.txt\nloading existing index,  data_sets/recipes/txt/index\nsaving updated index,  data_sets/recipes/txt/index\nprocessing  00.txt\nloading existing index,  data_sets/recipes/txt/index\nsaving updated index,  data_sets/recipes/txt/index\nprocessing  00.txt\nloading existing index,  data_sets/recipes/txt/index\nsaving updated index,  data_sets/recipes/txt/index\nprocessing  00.txt\nloading existing index,  data_sets/recipes/txt/index\nsaving updated index,  data_sets/recipes/txt/index\nprocessing  00.txt\nloading existing index,  data_sets/recipes/txt/index\nsaving updated index,  data_sets/recipes/txt/index\nprocessing  00.txt\nloading existing index,  data_sets/recipes/txt/index\nsaving updated index,  data_sets/recipes/txt/index\nprocessing  00.txt\nloading existing index,  data_sets/recipes/txt/index\nsaving updated index,  data_sets/recipes/txt/index\nprocessing  00.txt\nloading existing index,  data_sets/recipes/txt/index\nsaving updated index,  data_sets/recipes/txt/index\nprocessing  00.txt\nloading existing index,  data_sets/recipes/txt/index\nsaving updated index,  data_sets/recipes/txt/index\nprocessing  00.txt\nloading existing index,  data_sets/recipes/txt/index\nsaving updated index,  data_sets/recipes/txt/index\nprocessing  00.txt\nloading existing index,  data_sets/recipes/txt/index\nsaving updated index,  data_sets/recipes/txt/index\nprocessing  00.txt\nloading existing index,  data_sets/recipes/txt/index\nsaving updated index,  data_sets/recipes/txt/index\nprocessing  00.txt\nloading existing index,  data_sets/recipes/txt/index\nsaving updated index,  data_sets/recipes/txt/index\nprocessing  00.txt\nloading existing index,  data_sets/recipes/txt/index\nsaving updated index,  data_sets/recipes/txt/index\nprocessing  00.txt\nloading existing index,  data_sets/recipes/txt/index\nsaving updated index,  data_sets/recipes/txt/index\nprocessing  00.txt\nloading existing index,  data_sets/recipes/txt/index\nsaving updated index,  data_sets/recipes/txt/index\nprocessing  00.txt\nloading existing index,  data_sets/recipes/txt/index\nsaving updated index,  data_sets/recipes/txt/index\nprocessing  00.txt\nloading existing index,  data_sets/recipes/txt/index\nsaving updated index,  data_sets/recipes/txt/index\n"
     ]
    }
   ],
   "source": [
    "# first clear index\n",
    "tmt.index_search.clear_index(cr.content_directory)\n",
    "\n",
    "# for all documents in corpus\n",
    "for document_name in cr.get_documents():\n",
    "    print(\"processing \", documents_name)\n",
    "\n",
    "    # get document text\n",
    "    document_text = cr.get_text_by_document(document_name)\n",
    "\n",
    "    # simplify whitespace (remove newlines)\n",
    "    b = tmt.text_processing.simplify_whitespace(document_text)\n",
    "\n",
    "    # only keep alphanumeric characters, removes punctuation\n",
    "    c = tmt.text_processing.keep_alphanumeric(b)\n",
    "\n",
    "    # make lowercase\n",
    "    d = tmt.text_processing.to_lowercase(c)\n",
    "\n",
    "    # split into words list\n",
    "    dl = tmt.text_processing.split_text_into_words(d)\n",
    "\n",
    "    # remove stop words\n",
    "    el = tmt.word_processing.remove_stop_words(dl, \"./stopwords/minimal-stop.txt\")\n",
    "    \n",
    "    # update index\n",
    "    tmt.index_search.update_index(cr.content_directory, document_name, el)\n",
    "    \n",
    "    pass"
   ]
  },
  {
   "cell_type": "code",
   "execution_count": 65,
   "metadata": {},
   "outputs": [
    {
     "name": "stdout",
     "output_type": "stream",
     "text": [
      "(('them', '07.txt'), 10)\n(('fish', '11.txt'), 7)\n(('them', '19.txt'), 7)\n(('is', '08.txt'), 6)\n(('it', '21.txt'), 6)\n(('it', '12.txt'), 6)\n(('they', '14.txt'), 6)\n(('sauce', '08.txt'), 6)\n(('it', '08.txt'), 5)\n(('it', '04.txt'), 5)\n(('rice', '06.txt'), 5)\n(('it', '03.txt'), 5)\n(('tomatoes', '17.txt'), 5)\n(('sauce', '11.txt'), 5)\n(('when', '17.txt'), 5)\n(('paste', '03.txt'), 5)\n(('is', '04.txt'), 5)\n(('asparagus', '19.txt'), 5)\n(('tomatoes', '04.txt'), 5)\n(('are', '14.txt'), 5)\n"
     ]
    }
   ],
   "source": [
    "tmt.index_search.print_index(cr.content_directory)"
   ]
  },
  {
   "cell_type": "code",
   "execution_count": 64,
   "metadata": {},
   "outputs": [],
   "source": [
    ""
   ]
  },
  {
   "cell_type": "code",
   "execution_count": null,
   "metadata": {},
   "outputs": [],
   "source": [
    ""
   ]
  }
 ],
 "metadata": {
  "kernelspec": {
   "display_name": "Python 2",
   "language": "python",
   "name": "python2"
  },
  "language_info": {
   "codemirror_mode": {
    "name": "ipython",
    "version": 2.0
   },
   "file_extension": ".py",
   "mimetype": "text/x-python",
   "name": "python",
   "nbconvert_exporter": "python",
   "pygments_lexer": "ipython2",
   "version": "2.7.6"
  }
 },
 "nbformat": 4,
 "nbformat_minor": 0
}