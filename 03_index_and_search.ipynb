{
 "cells": [
  {
   "cell_type": "code",
   "execution_count": 1,
   "metadata": {
    "collapsed": true
   },
   "outputs": [],
   "source": [
    "# notebook to illustrate text indexing and basic search"
   ]
  },
  {
   "cell_type": "code",
   "execution_count": 2,
   "metadata": {},
   "outputs": [],
   "source": [
    "# following only used for development, reloads the modules with any code changes\n",
    "%load_ext autoreload\n",
    "%autoreload 2\n",
    "\n",
    "# inline matplotlib charts\n",
    "%matplotlib inline"
   ]
  },
  {
   "cell_type": "code",
   "execution_count": 4,
   "metadata": {},
   "outputs": [],
   "source": [
    "# import our text mining toolkit\n",
    "import text_mining_toolkit as tmt"
   ]
  },
  {
   "cell_type": "code",
   "execution_count": 41,
   "metadata": {},
   "outputs": [
    {
     "name": "stdout",
     "output_type": "stream",
     "text": [
      "content_directory =  data_sets/recipes/txt/\ntext_filename_pattern =  ??.txt\nself.documents populated =  22\n"
     ]
    }
   ],
   "source": [
    "cr = tmt.corpus_reader.CorpusReader(content_directory=\"data_sets/recipes/txt/\", text_filename_pattern=\"??.txt\")\n",
    "#cr = tmt.corpus_reader.CorpusReader(directory_of_files=\"data_sets/mystery_corpus_01/txt/\", text_filename_pattern=\"??.txt\")\n",
    "#cr = tmt.corpus_reader.CorpusReader(content_directory=\"data_sets/iraq_inquiry/txt/\", text_filename_pattern=\"the-report*.txt\")"
   ]
  },
  {
   "cell_type": "code",
   "execution_count": 42,
   "metadata": {},
   "outputs": [
    {
     "name": "stdout",
     "output_type": "stream",
     "text": [
      "removed index file:  data_sets/recipes/txt/index\nprocessing  00.txt\nsaving updated index,  data_sets/recipes/txt/index\nprocessing  01.txt\nloading existing index,  data_sets/recipes/txt/index\nsaving updated index,  data_sets/recipes/txt/index\nprocessing  02.txt\nloading existing index,  data_sets/recipes/txt/index\nsaving updated index,  data_sets/recipes/txt/index\nprocessing  03.txt\nloading existing index,  data_sets/recipes/txt/index\nsaving updated index,  data_sets/recipes/txt/index\nprocessing  04.txt\nloading existing index,  data_sets/recipes/txt/index\nsaving updated index,  data_sets/recipes/txt/index\nprocessing  05.txt\nloading existing index,  data_sets/recipes/txt/index\nsaving updated index,  data_sets/recipes/txt/index\nprocessing  06.txt\nloading existing index,  data_sets/recipes/txt/index\nsaving updated index,  data_sets/recipes/txt/index\nprocessing  07.txt\nloading existing index,  data_sets/recipes/txt/index\nsaving updated index,  data_sets/recipes/txt/index\nprocessing  08.txt\nloading existing index,  data_sets/recipes/txt/index\nsaving updated index,  data_sets/recipes/txt/index\nprocessing  09.txt\nloading existing index,  data_sets/recipes/txt/index\nsaving updated index,  data_sets/recipes/txt/index\nprocessing  10.txt\nloading existing index,  data_sets/recipes/txt/index\nsaving updated index,  data_sets/recipes/txt/index\nprocessing  11.txt\nloading existing index,  data_sets/recipes/txt/index\nsaving updated index,  data_sets/recipes/txt/index\nprocessing  12.txt\nloading existing index,  data_sets/recipes/txt/index\nsaving updated index,  data_sets/recipes/txt/index\nprocessing  13.txt\nloading existing index,  data_sets/recipes/txt/index\nsaving updated index,  data_sets/recipes/txt/index\nprocessing  14.txt\nloading existing index,  data_sets/recipes/txt/index\nsaving updated index,  data_sets/recipes/txt/index\nprocessing  15.txt\nloading existing index,  data_sets/recipes/txt/index\nsaving updated index,  data_sets/recipes/txt/index\nprocessing  16.txt\nloading existing index,  data_sets/recipes/txt/index\nsaving updated index,  data_sets/recipes/txt/index\nprocessing  17.txt\nloading existing index,  data_sets/recipes/txt/index\nsaving updated index,  data_sets/recipes/txt/index\nprocessing  18.txt\nloading existing index,  data_sets/recipes/txt/index\nsaving updated index,  data_sets/recipes/txt/index\nprocessing  19.txt\nloading existing index,  data_sets/recipes/txt/index\nsaving updated index,  data_sets/recipes/txt/index\nprocessing  20.txt\nloading existing index,  data_sets/recipes/txt/index\nsaving updated index,  data_sets/recipes/txt/index\nprocessing  21.txt\nloading existing index,  data_sets/recipes/txt/index\nsaving updated index,  data_sets/recipes/txt/index\n"
     ]
    }
   ],
   "source": [
    "# first clear index\n",
    "tmt.index_search.clear_index(cr.content_directory)\n",
    "\n",
    "# for all documents in corpus\n",
    "for document_name in cr.get_documents():\n",
    "    print(\"processing \", document_name)\n",
    "\n",
    "    # get document text\n",
    "    document_text = cr.get_text_by_document(document_name)\n",
    "\n",
    "    # simplify whitespace (remove newlines)\n",
    "    b = tmt.text_processing.simplify_whitespace(document_text)\n",
    "\n",
    "    # only keep alphanumeric characters, removes punctuation\n",
    "    c = tmt.text_processing.keep_alphanumeric(b)\n",
    "\n",
    "    # make lowercase\n",
    "    d = tmt.text_processing.to_lowercase(c)\n",
    "\n",
    "    # split into words list\n",
    "    dl = tmt.text_processing.split_text_into_words(d)\n",
    "\n",
    "    # remove stop words\n",
    "    el = tmt.word_processing.remove_stop_words(dl, \"./stopwords/minimal-stop.txt\")\n",
    "    \n",
    "    # update index\n",
    "    tmt.index_search.update_index(cr.content_directory, document_name, el)\n",
    "    \n",
    "    pass"
   ]
  },
  {
   "cell_type": "code",
   "execution_count": 43,
   "metadata": {},
   "outputs": [
    {
     "name": "stdout",
     "output_type": "stream",
     "text": [
      "('sieve', ['03.txt', '04.txt', '05.txt', '12.txt', '13.txt'])\n('immersion', ['00.txt'])\n('fry', ['02.txt', '02.txt', '06.txt', '07.txt', '15.txt', '20.txt'])\n('instance', ['19.txt'])\n('first', ['10.txt', '12.txt', '19.txt'])\n"
     ]
    }
   ],
   "source": [
    "tmt.index_search.print_index(cr.content_directory)"
   ]
  },
  {
   "cell_type": "code",
   "execution_count": 45,
   "metadata": {},
   "outputs": [
    {
     "name": "stdout",
     "output_type": "stream",
     "text": [
      "search_index called\nloading existing index,  data_sets/recipes/txt/index\n"
     ]
    },
    {
     "data": {
      "text/plain": [
       "[('06.txt', 5), ('05.txt', 4), ('04.txt', 1)]"
      ]
     },
     "execution_count": 45,
     "metadata": {},
     "output_type": "execute_result"
    }
   ],
   "source": [
    "tmt.index_search.search_index(cr.content_directory, \"rice\")"
   ]
  },
  {
   "cell_type": "code",
   "execution_count": null,
   "metadata": {},
   "outputs": [],
   "source": [
    ""
   ]
  }
 ],
 "metadata": {
  "kernelspec": {
   "display_name": "Python 2",
   "language": "python",
   "name": "python2"
  },
  "language_info": {
   "codemirror_mode": {
    "name": "ipython",
    "version": 2.0
   },
   "file_extension": ".py",
   "mimetype": "text/x-python",
   "name": "python",
   "nbconvert_exporter": "python",
   "pygments_lexer": "ipython2",
   "version": "2.7.6"
  }
 },
 "nbformat": 4,
 "nbformat_minor": 0
}