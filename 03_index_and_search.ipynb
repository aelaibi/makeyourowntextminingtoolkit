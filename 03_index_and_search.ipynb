{
 "cells": [
  {
   "cell_type": "code",
   "execution_count": 1,
   "metadata": {
    "collapsed": true
   },
   "outputs": [],
   "source": [
    "# notebook to illustrate text indexing and basic search"
   ]
  },
  {
   "cell_type": "code",
   "execution_count": 2,
   "metadata": {},
   "outputs": [],
   "source": [
    "# following only used for development, reloads the modules with any code changes\n",
    "%load_ext autoreload\n",
    "%autoreload 2\n",
    "\n",
    "# inline matplotlib charts\n",
    "%matplotlib inline"
   ]
  },
  {
   "cell_type": "code",
   "execution_count": 3,
   "metadata": {},
   "outputs": [],
   "source": [
    "# import our text mining toolkit\n",
    "import text_mining_toolkit as tmt"
   ]
  },
  {
   "cell_type": "code",
   "execution_count": 4,
   "metadata": {},
   "outputs": [
    {
     "name": "stdout",
     "output_type": "stream",
     "text": [
      "content_directory =  data_sets/recipes/txt/\ntext_filename_pattern =  ??.txt\nself.documents populated =  22\n"
     ]
    }
   ],
   "source": [
    "cr = tmt.corpus_reader.CorpusReader(content_directory=\"data_sets/recipes/txt/\", text_filename_pattern=\"??.txt\")\n",
    "#cr = tmt.corpus_reader.CorpusReader(directory_of_files=\"data_sets/mystery_corpus_01/txt/\", text_filename_pattern=\"??.txt\")\n",
    "#cr = tmt.corpus_reader.CorpusReader(content_directory=\"data_sets/iraq_inquiry/txt/\", text_filename_pattern=\"the-report*.txt\")"
   ]
  },
  {
   "cell_type": "code",
   "execution_count": 36,
   "metadata": {},
   "outputs": [
    {
     "name": "stdout",
     "output_type": "stream",
     "text": [
      "removed wordcount index file:  data_sets/recipes/txt/index.wordcount\nremoved relevance index file:  data_sets/recipes/txt/index.relevance\nprocessing  00.txt\nprocessing  01.txt\n"
     ]
    },
    {
     "name": "stdout",
     "output_type": "stream",
     "text": [
      "processing  02.txt\nprocessing  03.txt\nprocessing  04.txt\nprocessing  05.txt\nprocessing  06.txt\n"
     ]
    },
    {
     "name": "stdout",
     "output_type": "stream",
     "text": [
      "processing  07.txt\nprocessing  08.txt\nprocessing  09.txt\nprocessing  10.txt\nprocessing  11.txt\nprocessing  12.txt\nprocessing  13.txt\n"
     ]
    },
    {
     "name": "stdout",
     "output_type": "stream",
     "text": [
      "processing  14.txt\nprocessing  15.txt\nprocessing  16.txt\nprocessing  17.txt\nprocessing  18.txt\nprocessing  19.txt\nprocessing  20.txt\nprocessing  21.txt\n"
     ]
    }
   ],
   "source": [
    "# first clear index\n",
    "tmt.index_search.delete_indices(cr.content_directory)\n",
    "\n",
    "# for all documents in corpus\n",
    "for document_name in cr.get_documents():\n",
    "    print(\"processing \", document_name)\n",
    "\n",
    "    # get document text\n",
    "    document_text = cr.get_text_by_document(document_name)\n",
    "\n",
    "    # simplify whitespace (remove newlines)\n",
    "    b = tmt.text_processing.simplify_whitespace(document_text)\n",
    "\n",
    "    # only keep alphanumeric characters, removes punctuation\n",
    "    c = tmt.text_processing.keep_alphanumeric(b)\n",
    "\n",
    "    # make lowercase\n",
    "    d = tmt.text_processing.to_lowercase(c)\n",
    "\n",
    "    # split into words list\n",
    "    dl = tmt.text_processing.split_text_into_words(d)\n",
    "\n",
    "    # remove stop words\n",
    "    #el = tmt.word_processing.remove_stop_words(dl, \"./stopwords/minimal-stop.txt\")\n",
    "    \n",
    "    # update index\n",
    "    tmt.index_search.update_wordcount_index(cr.content_directory, document_name, dl)\n",
    "    pass"
   ]
  },
  {
   "cell_type": "code",
   "execution_count": 44,
   "metadata": {},
   "outputs": [
    {
     "name": "stdout",
     "output_type": "stream",
     "text": [
      "1===                00.txt    01.txt    ...       20.txt    21.txt\nbe          0.035714  0.007874    ...     0.000000  0.006803\npreviously  0.011905  0.000000    ...     0.000000  0.000000\nusing       0.011905  0.000000    ...     0.000000  0.000000\na           0.023810  0.031496    ...     0.022727  0.047619\nbroth       0.011905  0.000000    ...     0.000000  0.000000\nnutmeg      0.011905  0.007874    ...     0.000000  0.000000\nsoup        0.023810  0.007874    ...     0.000000  0.000000\nnever       0.011905  0.000000    ...     0.000000  0.000000\nmixed       0.011905  0.000000    ...     0.000000  0.000000\nfire        0.011905  0.000000    ...     0.000000  0.006803\nstir        0.011905  0.000000    ...     0.000000  0.000000\ngently      0.011905  0.000000    ...     0.000000  0.000000\naway        0.011905  0.000000    ...     0.000000  0.000000\nthat        0.011905  0.000000    ...     0.000000  0.006803\nleft        0.011905  0.000000    ...     0.000000  0.000000\nlow         0.011905  0.000000    ...     0.000000  0.000000\nimmersion   0.011905  0.000000    ...     0.000000  0.000000\neggs        0.011905  0.007874    ...     0.011364  0.000000\nfor         0.011905  0.000000    ...     0.000000  0.006803\nadded       0.011905  0.000000    ...     0.000000  0.000000\nagain       0.011905  0.000000    ...     0.000000  0.000000\nthen        0.011905  0.000000    ...     0.000000  0.013605\nit          0.023810  0.031496    ...     0.000000  0.040816\nplace       0.011905  0.000000    ...     0.000000  0.000000\ncomposed    0.011905  0.000000    ...     0.011364  0.000000\nsmall       0.011905  0.015748    ...     0.000000  0.000000\nall         0.011905  0.000000    ...     0.000000  0.000000\nvegetable   0.011905  0.000000    ...     0.000000  0.000000\nput         0.011905  0.007874    ...     0.011364  0.013605\nis          0.023810  0.015748    ...     0.011364  0.006803\n...              ...       ...    ...          ...       ...\nhowever     0.000000  0.000000    ...     0.000000  0.000000\nbottom      0.000000  0.000000    ...     0.000000  0.000000\npap         0.000000  0.000000    ...     0.011364  0.000000\nbaccal      0.000000  0.000000    ...     0.011364  0.006803\nanchovies   0.000000  0.000000    ...     0.011364  0.000000\nexplained   0.000000  0.000000    ...     0.011364  0.000000\nflat        0.000000  0.000000    ...     0.011364  0.000000\ncodfish     0.000000  0.000000    ...     0.011364  0.020408\ncroquettes  0.000000  0.000000    ...     0.011364  0.000000\ncotolette   0.000000  0.000000    ...     0.011364  0.000000\ncutlets     0.000000  0.000000    ...     0.011364  0.000000\nsides       0.000000  0.000000    ...     0.000000  0.006803\nsoak        0.000000  0.000000    ...     0.000000  0.006803\ni           0.000000  0.000000    ...     0.000000  0.006803\nfinally     0.000000  0.000000    ...     0.000000  0.006803\ncrushed     0.000000  0.000000    ...     0.000000  0.006803\nunder       0.000000  0.000000    ...     0.000000  0.006803\nfreshen     0.000000  0.000000    ...     0.000000  0.006803\npalm        0.000000  0.000000    ...     0.000000  0.006803\namiss       0.000000  0.000000    ...     0.000000  0.006803\nrunning     0.000000  0.000000    ...     0.000000  0.006803\ntasting     0.000000  0.000000    ...     0.000000  0.006803\ndoesnt      0.000000  0.000000    ...     0.000000  0.006803\nkeeping     0.000000  0.000000    ...     0.000000  0.006803\nchanging    0.000000  0.000000    ...     0.000000  0.006803\ncloves      0.000000  0.000000    ...     0.000000  0.006803\nleast       0.000000  0.000000    ...     0.000000  0.006803\nplenty      0.000000  0.000000    ...     0.000000  0.006803\nboth        0.000000  0.000000    ...     0.000000  0.006803\nburn        0.000000  0.000000    ...     0.000000  0.006803\n\n[675 rows x 22 columns]\n"
     ]
    },
    {
     "name": "stdout",
     "output_type": "stream",
     "text": [
      "2===                00.txt    01.txt    ...       20.txt    21.txt\nbe          0.013570  0.002992    ...     0.000000  0.002585\npreviously  0.011477  0.000000    ...     0.000000  0.000000\nusing       0.009067  0.000000    ...     0.000000  0.000000\na           0.004699  0.006217    ...     0.004486  0.009399\nbroth       0.009067  0.000000    ...     0.000000  0.000000\nnutmeg      0.009924  0.006564    ...     0.000000  0.000000\nsoup        0.015810  0.005229    ...     0.000000  0.000000\nnever       0.009067  0.000000    ...     0.000000  0.000000\nmixed       0.009067  0.000000    ...     0.000000  0.000000\nfire        0.007905  0.000000    ...     0.000000  0.004517\nstir        0.007905  0.000000    ...     0.000000  0.000000\ngently      0.009924  0.000000    ...     0.000000  0.000000\naway        0.007905  0.000000    ...     0.000000  0.000000\nthat        0.007905  0.000000    ...     0.000000  0.004517\nleft        0.007905  0.000000    ...     0.000000  0.000000\nlow         0.006393  0.000000    ...     0.000000  0.000000\nimmersion   0.011272  0.000000    ...     0.000000  0.000000\neggs        0.007905  0.005229    ...     0.007546  0.000000\nfor         0.006393  0.000000    ...     0.000000  0.003653\nadded       0.009067  0.000000    ...     0.000000  0.000000\nagain       0.009067  0.000000    ...     0.000000  0.000000\nthen        0.007905  0.000000    ...     0.000000  0.009035\nit          0.009046  0.011967    ...     0.000000  0.015508\nplace       0.009067  0.000000    ...     0.000000  0.000000\ncomposed    0.010972  0.000000    ...     0.010474  0.000000\nsmall       0.009067  0.011994    ...     0.000000  0.000000\nall         0.006393  0.000000    ...     0.000000  0.000000\nvegetable   0.011272  0.000000    ...     0.000000  0.000000\nput         0.006393  0.004229    ...     0.006103  0.007307\nis          0.009046  0.005983    ...     0.004318  0.002585\n...              ...       ...    ...          ...       ...\nhowever     0.000000  0.000000    ...     0.000000  0.000000\nbottom      0.000000  0.000000    ...     0.000000  0.000000\npap         0.000000  0.000000    ...     0.006103  0.000000\nbaccal      0.000000  0.000000    ...     0.009473  0.005671\nanchovies   0.000000  0.000000    ...     0.010759  0.000000\nexplained   0.000000  0.000000    ...     0.010759  0.000000\nflat        0.000000  0.000000    ...     0.007546  0.000000\ncodfish     0.000000  0.000000    ...     0.010061  0.018068\ncroquettes  0.000000  0.000000    ...     0.010955  0.000000\ncotolette   0.000000  0.000000    ...     0.010759  0.000000\ncutlets     0.000000  0.000000    ...     0.010061  0.000000\nsides       0.000000  0.000000    ...     0.000000  0.005181\nsoak        0.000000  0.000000    ...     0.000000  0.004517\ni           0.000000  0.000000    ...     0.000000  0.001343\nfinally     0.000000  0.000000    ...     0.000000  0.006023\ncrushed     0.000000  0.000000    ...     0.000000  0.006023\nunder       0.000000  0.000000    ...     0.000000  0.005181\nfreshen     0.000000  0.000000    ...     0.000000  0.006023\npalm        0.000000  0.000000    ...     0.000000  0.004517\namiss       0.000000  0.000000    ...     0.000000  0.005181\nrunning     0.000000  0.000000    ...     0.000000  0.006023\ntasting     0.000000  0.000000    ...     0.000000  0.006023\ndoesnt      0.000000  0.000000    ...     0.000000  0.005671\nkeeping     0.000000  0.000000    ...     0.000000  0.006023\nchanging    0.000000  0.000000    ...     0.000000  0.006270\ncloves      0.000000  0.000000    ...     0.000000  0.005671\nleast       0.000000  0.000000    ...     0.000000  0.005181\nplenty      0.000000  0.000000    ...     0.000000  0.005671\nboth        0.000000  0.000000    ...     0.000000  0.004517\nburn        0.000000  0.000000    ...     0.000000  0.004517\n\n[675 rows x 22 columns]\n"
     ]
    }
   ],
   "source": [
    "# create relevance index\n",
    "tmt.index_search.calculate_relevance_index(cr.content_directory)"
   ]
  },
  {
   "cell_type": "code",
   "execution_count": 26,
   "metadata": {},
   "outputs": [
    {
     "name": "stdout",
     "output_type": "stream",
     "text": [
      "            00.txt  01.txt   ...    20.txt  21.txt\nbe             3.0     1.0   ...       0.0     1.0\npreviously     1.0     0.0   ...       0.0     0.0\nusing          1.0     0.0   ...       0.0     0.0\na              2.0     4.0   ...       2.0     7.0\nbroth          1.0     0.0   ...       0.0     0.0\nnutmeg         1.0     1.0   ...       0.0     0.0\nsoup           2.0     1.0   ...       0.0     0.0\nnever          1.0     0.0   ...       0.0     0.0\nmixed          1.0     0.0   ...       0.0     0.0\nfire           1.0     0.0   ...       0.0     1.0\n\n[10 rows x 22 columns]\n              00.txt    01.txt    ...       20.txt    21.txt\nbe          0.035714  0.007874    ...     0.000000  0.006803\npreviously  0.011905  0.000000    ...     0.000000  0.000000\nusing       0.011905  0.000000    ...     0.000000  0.000000\na           0.023810  0.031496    ...     0.022727  0.047619\nbroth       0.011905  0.000000    ...     0.000000  0.000000\nnutmeg      0.011905  0.007874    ...     0.000000  0.000000\nsoup        0.023810  0.007874    ...     0.000000  0.000000\nnever       0.011905  0.000000    ...     0.000000  0.000000\nmixed       0.011905  0.000000    ...     0.000000  0.000000\nfire        0.011905  0.000000    ...     0.000000  0.006803\n\n[10 rows x 22 columns]\n"
     ]
    }
   ],
   "source": [
    "tmt.index_search.print_index(cr.content_directory)"
   ]
  },
  {
   "cell_type": "code",
   "execution_count": 29,
   "metadata": {},
   "outputs": [
    {
     "name": "stdout",
     "output_type": "stream",
     "text": [
      "search_index called\nmatching_documents 04.txt    0.003509\n05.txt    0.042553\n06.txt    0.055556\nName: rice, dtype: float64\n"
     ]
    },
    {
     "data": {
      "text/plain": [
       "[('06.txt', 0.055555555555555552),\n ('05.txt', 0.042553191489361701),\n ('04.txt', 0.0035087719298245615)]"
      ]
     },
     "execution_count": 29,
     "metadata": {},
     "output_type": "execute_result"
    }
   ],
   "source": [
    "tmt.index_search.search_index(cr.content_directory, \"rice\")"
   ]
  },
  {
   "cell_type": "code",
   "execution_count": 8,
   "metadata": {},
   "outputs": [],
   "source": [
    ""
   ]
  },
  {
   "cell_type": "code",
   "execution_count": null,
   "metadata": {},
   "outputs": [],
   "source": [
    ""
   ]
  }
 ],
 "metadata": {
  "kernelspec": {
   "display_name": "Python 2",
   "language": "python",
   "name": "python2"
  },
  "language_info": {
   "codemirror_mode": {
    "name": "ipython",
    "version": 2.0
   },
   "file_extension": ".py",
   "mimetype": "text/x-python",
   "name": "python",
   "nbconvert_exporter": "python",
   "pygments_lexer": "ipython2",
   "version": "2.7.6"
  }
 },
 "nbformat": 4,
 "nbformat_minor": 0
}