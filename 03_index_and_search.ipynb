{
 "cells": [
  {
   "cell_type": "code",
   "execution_count": 28,
   "metadata": {
    "collapsed": true
   },
   "outputs": [],
   "source": [
    "# notebook to illustrate text indexing and basic search"
   ]
  },
  {
   "cell_type": "code",
   "execution_count": 29,
   "metadata": {},
   "outputs": [
    {
     "name": "stdout",
     "output_type": "stream",
     "text": [
      "The autoreload extension is already loaded. To reload it, use:\n  %reload_ext autoreload\n"
     ]
    }
   ],
   "source": [
    "# following only used for development, reloads the modules with any code changes\n",
    "%load_ext autoreload\n",
    "%autoreload 2\n",
    "\n",
    "# inline matplotlib charts\n",
    "%matplotlib inline"
   ]
  },
  {
   "cell_type": "code",
   "execution_count": 30,
   "metadata": {},
   "outputs": [],
   "source": [
    "# import our text mining toolkit\n",
    "import text_mining_toolkit as tmt"
   ]
  },
  {
   "cell_type": "code",
   "execution_count": 34,
   "metadata": {},
   "outputs": [
    {
     "name": "stdout",
     "output_type": "stream",
     "text": [
      "content_directory =  data_sets/recipes/txt/\ntext_filename_pattern =  ??.txt\nself.documents populated =  22\n"
     ]
    }
   ],
   "source": [
    "cr = tmt.corpus_reader.CorpusReader(content_directory=\"data_sets/recipes/txt/\", text_filename_pattern=\"??.txt\")\n",
    "#cr = tmt.corpus_reader.CorpusReader(directory_of_files=\"data_sets/mystery_corpus_01/txt/\", text_filename_pattern=\"??.txt\")\n",
    "#cr = tmt.corpus_reader.CorpusReader(directory_of_files=\"data_sets/iraq_inquiry/txt/\", text_filename_pattern=\"the-report*.txt\")"
   ]
  },
  {
   "cell_type": "code",
   "execution_count": 62,
   "metadata": {},
   "outputs": [
    {
     "name": "stdout",
     "output_type": "stream",
     "text": [
      "removed index file:  data_sets/recipes/txt/index\nprocessing  00.txt\nsaving updated index,  data_sets/recipes/txt/index\nprocessing  00.txt\nloading existing index,  data_sets/recipes/txt/index\nsaving updated index,  data_sets/recipes/txt/index\nprocessing  00.txt\nloading existing index,  data_sets/recipes/txt/index\nsaving updated index,  data_sets/recipes/txt/index\nprocessing  00.txt\nloading existing index,  data_sets/recipes/txt/index\nsaving updated index,  data_sets/recipes/txt/index\nprocessing  00.txt\nloading existing index,  data_sets/recipes/txt/index\nsaving updated index,  data_sets/recipes/txt/index\nprocessing  00.txt\nloading existing index,  data_sets/recipes/txt/index\nsaving updated index,  data_sets/recipes/txt/index\nprocessing  00.txt\nloading existing index,  data_sets/recipes/txt/index\nsaving updated index,  data_sets/recipes/txt/index\nprocessing  00.txt\nloading existing index,  data_sets/recipes/txt/index\nsaving updated index,  data_sets/recipes/txt/index\nprocessing  00.txt\nloading existing index,  data_sets/recipes/txt/index\nsaving updated index,  data_sets/recipes/txt/index\nprocessing  00.txt\nloading existing index,  data_sets/recipes/txt/index\nsaving updated index,  data_sets/recipes/txt/index\nprocessing  00.txt\nloading existing index,  data_sets/recipes/txt/index\nsaving updated index,  data_sets/recipes/txt/index\nprocessing  00.txt\nloading existing index,  data_sets/recipes/txt/index\nsaving updated index,  data_sets/recipes/txt/index\nprocessing  00.txt\nloading existing index,  data_sets/recipes/txt/index\nsaving updated index,  data_sets/recipes/txt/index\nprocessing  00.txt\nloading existing index,  data_sets/recipes/txt/index\nsaving updated index,  data_sets/recipes/txt/index\nprocessing  00.txt\nloading existing index,  data_sets/recipes/txt/index\nsaving updated index,  data_sets/recipes/txt/index\nprocessing  00.txt\nloading existing index,  data_sets/recipes/txt/index\nsaving updated index,  data_sets/recipes/txt/index\nprocessing  00.txt\nloading existing index,  data_sets/recipes/txt/index\nsaving updated index,  data_sets/recipes/txt/index\nprocessing  00.txt\nloading existing index,  data_sets/recipes/txt/index\nsaving updated index,  data_sets/recipes/txt/index\nprocessing  00.txt\nloading existing index,  data_sets/recipes/txt/index\nsaving updated index,  data_sets/recipes/txt/index\nprocessing  00.txt\nloading existing index,  data_sets/recipes/txt/index\nsaving updated index,  data_sets/recipes/txt/index\nprocessing  00.txt\nloading existing index,  data_sets/recipes/txt/index\nsaving updated index,  data_sets/recipes/txt/index\nprocessing  00.txt\nloading existing index,  data_sets/recipes/txt/index\nsaving updated index,  data_sets/recipes/txt/index\n"
     ]
    }
   ],
   "source": [
    "# first clear index\n",
    "tmt.index_search.clear_index(cr.content_directory)\n",
    "\n",
    "# for all documents in corpus\n",
    "for document_name in cr.get_documents():\n",
    "    print(\"processing \", documents_name)\n",
    "\n",
    "    # get document text\n",
    "    document_text = cr.get_text_by_document(document_name)\n",
    "\n",
    "    # simplify whitespace (remove newlines)\n",
    "    b = tmt.text_processing.simplify_whitespace(document_text)\n",
    "\n",
    "    # only keep alphanumeric characters, removes punctuation\n",
    "    c = tmt.text_processing.keep_alphanumeric(b)\n",
    "\n",
    "    # make lowercase\n",
    "    d = tmt.text_processing.to_lowercase(c)\n",
    "\n",
    "    # split into words list\n",
    "    dl = tmt.text_processing.split_text_into_words(d)\n",
    "\n",
    "    # remove stop words\n",
    "    el = tmt.word_processing.remove_stop_words(dl, \"./stopwords/minimal-stop.txt\")\n",
    "    \n",
    "    # update index\n",
    "    tmt.index_search.update_index(cr.content_directory, document_name, el)\n",
    "    \n",
    "    pass"
   ]
  },
  {
   "cell_type": "code",
   "execution_count": 63,
   "metadata": {},
   "outputs": [
    {
     "ename": "TypeError",
     "evalue": "'dict_items' object is not subscriptable",
     "traceback": [
      "\u001b[0;31m---------------------------------------------------------------------------\u001b[0m",
      "\u001b[0;31mTypeError\u001b[0m                                 Traceback (most recent call last)",
      "\u001b[0;32m<ipython-input-63-eb2de3c9a222>\u001b[0m in \u001b[0;36m<module>\u001b[0;34m()\u001b[0m\n\u001b[0;32m----> 1\u001b[0;31m \u001b[0mtmt\u001b[0m\u001b[0;34m.\u001b[0m\u001b[0mindex_search\u001b[0m\u001b[0;34m.\u001b[0m\u001b[0mprint_index\u001b[0m\u001b[0;34m(\u001b[0m\u001b[0mcr\u001b[0m\u001b[0;34m.\u001b[0m\u001b[0mcontent_directory\u001b[0m\u001b[0;34m)\u001b[0m\u001b[0;34m\u001b[0m\u001b[0m\n\u001b[0m",
      "\u001b[0;32m/Users/tariq/Desktop/work/python_notebooks/makeyourowntextminingtoolkit/text_mining_toolkit/index_search.py\u001b[0m in \u001b[0;36mprint_index\u001b[0;34m(content_directory)\u001b[0m\n\u001b[1;32m     25\u001b[0m             \u001b[0mindex\u001b[0m \u001b[0;34m=\u001b[0m \u001b[0mpickle\u001b[0m\u001b[0;34m.\u001b[0m\u001b[0mload\u001b[0m\u001b[0;34m(\u001b[0m\u001b[0mf\u001b[0m\u001b[0;34m)\u001b[0m\u001b[0;34m\u001b[0m\u001b[0m\n\u001b[1;32m     26\u001b[0m             \u001b[0;32mpass\u001b[0m\u001b[0;34m\u001b[0m\u001b[0m\n\u001b[0;32m---> 27\u001b[0;31m         \u001b[0;32mfor\u001b[0m \u001b[0mx\u001b[0m \u001b[0;32min\u001b[0m \u001b[0mindex\u001b[0m\u001b[0;34m.\u001b[0m\u001b[0mitems\u001b[0m\u001b[0;34m(\u001b[0m\u001b[0;34m)\u001b[0m\u001b[0;34m[\u001b[0m\u001b[0;34m:\u001b[0m\u001b[0;36m30\u001b[0m\u001b[0;34m]\u001b[0m\u001b[0;34m:\u001b[0m\u001b[0;34m\u001b[0m\u001b[0m\n\u001b[0m\u001b[1;32m     28\u001b[0m             \u001b[0mprint\u001b[0m\u001b[0;34m(\u001b[0m\u001b[0mx\u001b[0m\u001b[0;34m)\u001b[0m\u001b[0;34m\u001b[0m\u001b[0m\n\u001b[1;32m     29\u001b[0m     \u001b[0;32mpass\u001b[0m\u001b[0;34m\u001b[0m\u001b[0m\n",
      "\u001b[0;31mTypeError\u001b[0m: 'dict_items' object is not subscriptable"
     ],
     "output_type": "error"
    }
   ],
   "source": [
    "tmt.index_search.print_index(cr.content_directory)"
   ]
  },
  {
   "cell_type": "code",
   "execution_count": 64,
   "metadata": {},
   "outputs": [],
   "source": [
    ""
   ]
  },
  {
   "cell_type": "code",
   "execution_count": null,
   "outputs": [],
   "source": [
    ""
   ]
  }
 ],
 "metadata": {
  "kernelspec": {
   "display_name": "Python 2",
   "language": "python",
   "name": "python2"
  },
  "language_info": {
   "codemirror_mode": {
    "name": "ipython",
    "version": 2.0
   },
   "file_extension": ".py",
   "mimetype": "text/x-python",
   "name": "python",
   "nbconvert_exporter": "python",
   "pygments_lexer": "ipython2",
   "version": "2.7.6"
  }
 },
 "nbformat": 4,
 "nbformat_minor": 0
}