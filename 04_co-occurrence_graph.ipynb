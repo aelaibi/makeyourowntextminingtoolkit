{
 "cells": [
  {
   "cell_type": "code",
   "execution_count": 61,
   "metadata": {
    "collapsed": true
   },
   "outputs": [],
   "source": [
    "# notebook to illustrate co-occurrence graphs"
   ]
  },
  {
   "cell_type": "code",
   "execution_count": 62,
   "metadata": {
    "collapsed": false
   },
   "outputs": [
    {
     "name": "stdout",
     "output_type": "stream",
     "text": [
      "The autoreload extension is already loaded. To reload it, use:\n",
      "  %reload_ext autoreload\n"
     ]
    }
   ],
   "source": [
    "# following only used for development, reloads the modules with any code changes\n",
    "%load_ext autoreload\n",
    "%autoreload 2\n",
    "\n",
    "# inline matplotlib charts\n",
    "%matplotlib inline"
   ]
  },
  {
   "cell_type": "code",
   "execution_count": 63,
   "metadata": {
    "collapsed": false
   },
   "outputs": [],
   "source": [
    "# import our text mining toolkit\n",
    "import text_mining_toolkit as tmt"
   ]
  },
  {
   "cell_type": "code",
   "execution_count": 64,
   "metadata": {
    "collapsed": false
   },
   "outputs": [
    {
     "name": "stdout",
     "output_type": "stream",
     "text": [
      "content_directory =  data_sets/recipes/txt/\n",
      "text_filename_pattern =  ??.txt\n",
      "self.documents populated =  22\n"
     ]
    }
   ],
   "source": [
    "cr = tmt.corpus_reader.CorpusReader(content_directory=\"data_sets/recipes/txt/\", text_filename_pattern=\"??.txt\")\n",
    "#cr = tmt.corpus_reader.CorpusReader(directory_of_files=\"data_sets/mystery_corpus_01/txt/\", text_filename_pattern=\"??.txt\")\n",
    "#cr = tmt.corpus_reader.CorpusReader(content_directory=\"data_sets/iraq_inquiry/txt/\", text_filename_pattern=\"the-report*.txt\")\n",
    "#cr = tmt.corpus_reader.CorpusReader(content_directory=\"data_sets/clinton_emails/txt/\", text_filename_pattern=\"C0*\")\n",
    "#cr = tmt.corpus_reader.CorpusReader(content_directory=\"data_sets/shakespeare_macbeth/txt/\", text_filename_pattern=\"macbeth_act_0?_scene_0?.txt\")"
   ]
  },
  {
   "cell_type": "code",
   "execution_count": 65,
   "metadata": {
    "collapsed": false,
    "scrolled": true
   },
   "outputs": [
    {
     "name": "stdout",
     "output_type": "stream",
     "text": [
      "removed co-occurrence matrix file:  data_sets/recipes/txt/matrix.cooccurrence\n",
      "processing  00.txt\n",
      "processing  01.txt\n",
      "processing  02.txt\n",
      "processing  03.txt\n",
      "processing  04.txt\n",
      "processing  05.txt\n",
      "processing  06.txt\n",
      "processing  07.txt\n",
      "processing  08.txt\n",
      "processing  09.txt\n",
      "processing  10.txt\n",
      "processing  11.txt\n",
      "processing  12.txt\n",
      "processing  13.txt\n",
      "processing  14.txt\n",
      "processing  15.txt\n",
      "processing  16.txt\n",
      "processing  17.txt\n",
      "processing  18.txt\n",
      "processing  19.txt\n",
      "processing  20.txt\n",
      "processing  21.txt\n"
     ]
    }
   ],
   "source": [
    "# first clear index\n",
    "tmt.cooccurrence.delete_matrices(cr.content_directory)\n",
    "\n",
    "# for all documents in corpus\n",
    "for document_name in cr.get_documents():\n",
    "    print(\"processing \", document_name)\n",
    "\n",
    "    # get document text\n",
    "    document_text = cr.get_text_by_document(document_name)\n",
    "\n",
    "    # simplify whitespace (remove newlines)\n",
    "    b = tmt.text_processing.simplify_whitespace(document_text)\n",
    "\n",
    "    # only keep alphanumeric characters, removes punctuation\n",
    "    c = tmt.text_processing.keep_alphanumeric(b)\n",
    "\n",
    "    # make lowercase\n",
    "    d = tmt.text_processing.to_lowercase(c)\n",
    "\n",
    "    # split into words list\n",
    "    dl = tmt.text_processing.split_text_into_words(d)\n",
    "    # build n-grams\n",
    "    #gl = tmt.word_processing.build_ngrams_from_words(dl,2)\n",
    "\n",
    "    # remove stop words\n",
    "    #el = tmt.word_processing.remove_stop_words(dl, \"./stopwords/minimal-stop.txt\")\n",
    "    \n",
    "    # update index\n",
    "    tmt.cooccurrence.create_cooccurrence_matrix_for_document(cr.content_directory, document_name, dl, window=10)\n",
    "    pass\n"
   ]
  },
  {
   "cell_type": "code",
   "execution_count": 66,
   "metadata": {
    "collapsed": false
   },
   "outputs": [
    {
     "name": "stdout",
     "output_type": "stream",
     "text": [
      "saving corpus co-occurrence matrix ...  data_sets/recipes/txt/matrix.cooccurrence\n"
     ]
    }
   ],
   "source": [
    "# merge document indices into a corpus index\n",
    "tmt.cooccurrence.merge_cooccurrence_matrices_for_corpus(cr.content_directory)"
   ]
  },
  {
   "cell_type": "code",
   "execution_count": 67,
   "metadata": {
    "collapsed": false
   },
   "outputs": [
    {
     "name": "stdout",
     "output_type": "stream",
     "text": [
      "cooccurrence_matrix_file  data_sets/recipes/txt/matrix.cooccurrence\n",
      "         1        12  ...    zucchini  zuppa\n",
      "1      0.0  0.000000  ...    0.000000    0.0\n",
      "12     0.0  0.000000  ...    0.000000    0.0\n",
      "14     0.0  0.000000  ...    0.000000    0.0\n",
      "2      0.0  0.000000  ...    0.000000    0.0\n",
      "3      0.0  0.000000  ...    0.000000    0.0\n",
      "32     0.0  0.000000  ...    0.778801    0.0\n",
      "4      0.0  0.000000  ...    0.000000    0.0\n",
      "54     0.0  0.000000  ...    0.000000    0.0\n",
      "a      0.0  0.444858  ...    0.852144    0.0\n",
      "about  0.0  0.000000  ...    0.000000    0.0\n",
      "\n",
      "[10 rows x 672 columns]\n"
     ]
    }
   ],
   "source": [
    "tmt.cooccurrence.print_matrix(cr.content_directory)"
   ]
  },
  {
   "cell_type": "code",
   "execution_count": 68,
   "metadata": {
    "collapsed": false
   },
   "outputs": [
    {
     "data": {
      "text/plain": [
       "43.605634203091888"
      ]
     },
     "execution_count": 68,
     "metadata": {},
     "output_type": "execute_result"
    }
   ],
   "source": [
    "# query the co-occurrence value for a given pair of words\n",
    "tmt.cooccurrence.query_cooccurance_matrix(cr.content_directory, \"in\", \"the\")"
   ]
  },
  {
   "cell_type": "code",
   "execution_count": 69,
   "metadata": {
    "collapsed": false
   },
   "outputs": [
    {
     "data": {
      "text/plain": [
       "'the'"
      ]
     },
     "execution_count": 69,
     "metadata": {},
     "output_type": "execute_result"
    }
   ],
   "source": [
    "# get the most likely next word by co-occurrence value for given word\n",
    "tmt.cooccurrence.most_likely_next(cr.content_directory, \"and\")"
   ]
  },
  {
   "cell_type": "code",
   "execution_count": 70,
   "metadata": {
    "collapsed": false
   },
   "outputs": [
    {
     "name": "stdout",
     "output_type": "stream",
     "text": [
      "the the the the the the the the\n",
      "once the the the the the the the\n",
      "then the the the the the the the\n",
      "olive oil and the the the the the\n",
      "tomato sauce the the the the the the\n",
      "cut in the the the the the the\n",
      "cook the the the the the the the\n",
      "little and the the the the the the\n",
      "boiled or the the the the the the\n"
     ]
    }
   ],
   "source": [
    "#generate sentences based on co-occurence\n",
    "sentence_length = 7\n",
    "\n",
    "#initial words \n",
    "for w in [\"the\", \"once\", \"then\", \"olive\", \"tomato\", \"cut\", \"cook\", \"little\", \"boiled\"]:\n",
    "    sentence = w\n",
    "    for i in range(sentence_length):\n",
    "        w = tmt.cooccurrence.most_likely_next(cr.content_directory, w)\n",
    "        sentence += (\" \" + w)\n",
    "        pass\n",
    "    print(sentence)\n",
    "    pass\n"
   ]
  },
  {
   "cell_type": "code",
   "execution_count": 71,
   "metadata": {
    "collapsed": false
   },
   "outputs": [
    {
     "data": {
      "text/html": [
       "<div>\n",
       "<table border=\"1\" class=\"dataframe\">\n",
       "  <thead>\n",
       "    <tr style=\"text-align: right;\">\n",
       "      <th></th>\n",
       "      <th>word1</th>\n",
       "      <th>word2</th>\n",
       "      <th>weight</th>\n",
       "    </tr>\n",
       "  </thead>\n",
       "  <tbody>\n",
       "    <tr>\n",
       "      <th>0</th>\n",
       "      <td>the</td>\n",
       "      <td>the</td>\n",
       "      <td>79.932794</td>\n",
       "    </tr>\n",
       "    <tr>\n",
       "      <th>1</th>\n",
       "      <td>and</td>\n",
       "      <td>the</td>\n",
       "      <td>76.924126</td>\n",
       "    </tr>\n",
       "    <tr>\n",
       "      <th>2</th>\n",
       "      <td>a</td>\n",
       "      <td>of</td>\n",
       "      <td>59.027950</td>\n",
       "    </tr>\n",
       "    <tr>\n",
       "      <th>3</th>\n",
       "      <td>the</td>\n",
       "      <td>and</td>\n",
       "      <td>57.785656</td>\n",
       "    </tr>\n",
       "    <tr>\n",
       "      <th>4</th>\n",
       "      <td>of</td>\n",
       "      <td>the</td>\n",
       "      <td>54.526704</td>\n",
       "    </tr>\n",
       "    <tr>\n",
       "      <th>5</th>\n",
       "      <td>of</td>\n",
       "      <td>and</td>\n",
       "      <td>53.179159</td>\n",
       "    </tr>\n",
       "    <tr>\n",
       "      <th>6</th>\n",
       "      <td>the</td>\n",
       "      <td>of</td>\n",
       "      <td>51.930649</td>\n",
       "    </tr>\n",
       "    <tr>\n",
       "      <th>7</th>\n",
       "      <td>the</td>\n",
       "      <td>a</td>\n",
       "      <td>44.336639</td>\n",
       "    </tr>\n",
       "    <tr>\n",
       "      <th>8</th>\n",
       "      <td>a</td>\n",
       "      <td>and</td>\n",
       "      <td>44.028092</td>\n",
       "    </tr>\n",
       "    <tr>\n",
       "      <th>9</th>\n",
       "      <td>in</td>\n",
       "      <td>the</td>\n",
       "      <td>43.605634</td>\n",
       "    </tr>\n",
       "    <tr>\n",
       "      <th>10</th>\n",
       "      <td>and</td>\n",
       "      <td>a</td>\n",
       "      <td>42.796108</td>\n",
       "    </tr>\n",
       "    <tr>\n",
       "      <th>11</th>\n",
       "      <td>a</td>\n",
       "      <td>the</td>\n",
       "      <td>40.523090</td>\n",
       "    </tr>\n",
       "    <tr>\n",
       "      <th>12</th>\n",
       "      <td>in</td>\n",
       "      <td>and</td>\n",
       "      <td>37.695414</td>\n",
       "    </tr>\n",
       "    <tr>\n",
       "      <th>13</th>\n",
       "      <td>of</td>\n",
       "      <td>a</td>\n",
       "      <td>36.135873</td>\n",
       "    </tr>\n",
       "    <tr>\n",
       "      <th>14</th>\n",
       "      <td>and</td>\n",
       "      <td>in</td>\n",
       "      <td>35.814640</td>\n",
       "    </tr>\n",
       "    <tr>\n",
       "      <th>15</th>\n",
       "      <td>the</td>\n",
       "      <td>with</td>\n",
       "      <td>34.968352</td>\n",
       "    </tr>\n",
       "    <tr>\n",
       "      <th>16</th>\n",
       "      <td>in</td>\n",
       "      <td>a</td>\n",
       "      <td>34.941519</td>\n",
       "    </tr>\n",
       "    <tr>\n",
       "      <th>17</th>\n",
       "      <td>the</td>\n",
       "      <td>in</td>\n",
       "      <td>34.391818</td>\n",
       "    </tr>\n",
       "    <tr>\n",
       "      <th>18</th>\n",
       "      <td>with</td>\n",
       "      <td>and</td>\n",
       "      <td>31.288977</td>\n",
       "    </tr>\n",
       "    <tr>\n",
       "      <th>19</th>\n",
       "      <td>and</td>\n",
       "      <td>of</td>\n",
       "      <td>30.509619</td>\n",
       "    </tr>\n",
       "  </tbody>\n",
       "</table>\n",
       "</div>"
      ],
      "text/plain": [
       "   word1 word2     weight\n",
       "0    the   the  79.932794\n",
       "1    and   the  76.924126\n",
       "2      a    of  59.027950\n",
       "3    the   and  57.785656\n",
       "4     of   the  54.526704\n",
       "5     of   and  53.179159\n",
       "6    the    of  51.930649\n",
       "7    the     a  44.336639\n",
       "8      a   and  44.028092\n",
       "9     in   the  43.605634\n",
       "10   and     a  42.796108\n",
       "11     a   the  40.523090\n",
       "12    in   and  37.695414\n",
       "13    of     a  36.135873\n",
       "14   and    in  35.814640\n",
       "15   the  with  34.968352\n",
       "16    in     a  34.941519\n",
       "17   the    in  34.391818\n",
       "18  with   and  31.288977\n",
       "19   and    of  30.509619"
      ]
     },
     "execution_count": 71,
     "metadata": {},
     "output_type": "execute_result"
    }
   ],
   "source": [
    "words_by_co_occurrence = tmt.cooccurrence.get_word_pairs_by_cooccurrence(cr.content_directory)\n",
    "# 20 most common\n",
    "words_by_co_occurrence[:20]"
   ]
  },
  {
   "cell_type": "code",
   "execution_count": 72,
   "metadata": {
    "collapsed": false
   },
   "outputs": [
    {
     "data": {
      "text/html": [
       "<div>\n",
       "<table border=\"1\" class=\"dataframe\">\n",
       "  <thead>\n",
       "    <tr style=\"text-align: right;\">\n",
       "      <th></th>\n",
       "      <th>word1</th>\n",
       "      <th>word2</th>\n",
       "      <th>weight</th>\n",
       "    </tr>\n",
       "  </thead>\n",
       "  <tbody>\n",
       "    <tr>\n",
       "      <th>18367</th>\n",
       "      <td>they</td>\n",
       "      <td>until</td>\n",
       "      <td>0.367879</td>\n",
       "    </tr>\n",
       "    <tr>\n",
       "      <th>18368</th>\n",
       "      <td>hash</td>\n",
       "      <td>come</td>\n",
       "      <td>0.367879</td>\n",
       "    </tr>\n",
       "    <tr>\n",
       "      <th>18369</th>\n",
       "      <td>piece</td>\n",
       "      <td>pound</td>\n",
       "      <td>0.367879</td>\n",
       "    </tr>\n",
       "    <tr>\n",
       "      <th>18370</th>\n",
       "      <td>they</td>\n",
       "      <td>sprinkled</td>\n",
       "      <td>0.367879</td>\n",
       "    </tr>\n",
       "    <tr>\n",
       "      <th>18371</th>\n",
       "      <td>saucepan</td>\n",
       "      <td>portion</td>\n",
       "      <td>0.367879</td>\n",
       "    </tr>\n",
       "    <tr>\n",
       "      <th>18372</th>\n",
       "      <td>they</td>\n",
       "      <td>seasoned</td>\n",
       "      <td>0.367879</td>\n",
       "    </tr>\n",
       "    <tr>\n",
       "      <th>18373</th>\n",
       "      <td>they</td>\n",
       "      <td>remove</td>\n",
       "      <td>0.367879</td>\n",
       "    </tr>\n",
       "    <tr>\n",
       "      <th>18374</th>\n",
       "      <td>they</td>\n",
       "      <td>rather</td>\n",
       "      <td>0.367879</td>\n",
       "    </tr>\n",
       "    <tr>\n",
       "      <th>18375</th>\n",
       "      <td>asparagus</td>\n",
       "      <td>simplest</td>\n",
       "      <td>0.367879</td>\n",
       "    </tr>\n",
       "    <tr>\n",
       "      <th>18376</th>\n",
       "      <td>continue</td>\n",
       "      <td>cross</td>\n",
       "      <td>0.367879</td>\n",
       "    </tr>\n",
       "    <tr>\n",
       "      <th>18377</th>\n",
       "      <td>they</td>\n",
       "      <td>oil</td>\n",
       "      <td>0.367879</td>\n",
       "    </tr>\n",
       "    <tr>\n",
       "      <th>18378</th>\n",
       "      <td>mushrooms</td>\n",
       "      <td>paste</td>\n",
       "      <td>0.367879</td>\n",
       "    </tr>\n",
       "    <tr>\n",
       "      <th>18379</th>\n",
       "      <td>mushrooms</td>\n",
       "      <td>pepper</td>\n",
       "      <td>0.367879</td>\n",
       "    </tr>\n",
       "    <tr>\n",
       "      <th>18380</th>\n",
       "      <td>contain</td>\n",
       "      <td>oil</td>\n",
       "      <td>0.367879</td>\n",
       "    </tr>\n",
       "    <tr>\n",
       "      <th>18381</th>\n",
       "      <td>they</td>\n",
       "      <td>may</td>\n",
       "      <td>0.367879</td>\n",
       "    </tr>\n",
       "    <tr>\n",
       "      <th>18382</th>\n",
       "      <td>they</td>\n",
       "      <td>lemon</td>\n",
       "      <td>0.367879</td>\n",
       "    </tr>\n",
       "    <tr>\n",
       "      <th>18383</th>\n",
       "      <td>at</td>\n",
       "      <td>attached</td>\n",
       "      <td>0.367879</td>\n",
       "    </tr>\n",
       "    <tr>\n",
       "      <th>18384</th>\n",
       "      <td>has</td>\n",
       "      <td>not</td>\n",
       "      <td>0.367879</td>\n",
       "    </tr>\n",
       "    <tr>\n",
       "      <th>18385</th>\n",
       "      <td>say</td>\n",
       "      <td>boiled</td>\n",
       "      <td>0.367879</td>\n",
       "    </tr>\n",
       "    <tr>\n",
       "      <th>18386</th>\n",
       "      <td>sauce</td>\n",
       "      <td>pepper</td>\n",
       "      <td>0.367879</td>\n",
       "    </tr>\n",
       "  </tbody>\n",
       "</table>\n",
       "</div>"
      ],
      "text/plain": [
       "           word1      word2    weight\n",
       "18367       they      until  0.367879\n",
       "18368       hash       come  0.367879\n",
       "18369      piece      pound  0.367879\n",
       "18370       they  sprinkled  0.367879\n",
       "18371   saucepan    portion  0.367879\n",
       "18372       they   seasoned  0.367879\n",
       "18373       they     remove  0.367879\n",
       "18374       they     rather  0.367879\n",
       "18375  asparagus   simplest  0.367879\n",
       "18376   continue      cross  0.367879\n",
       "18377       they        oil  0.367879\n",
       "18378  mushrooms      paste  0.367879\n",
       "18379  mushrooms     pepper  0.367879\n",
       "18380    contain        oil  0.367879\n",
       "18381       they        may  0.367879\n",
       "18382       they      lemon  0.367879\n",
       "18383         at   attached  0.367879\n",
       "18384        has        not  0.367879\n",
       "18385        say     boiled  0.367879\n",
       "18386      sauce     pepper  0.367879"
      ]
     },
     "execution_count": 72,
     "metadata": {},
     "output_type": "execute_result"
    }
   ],
   "source": [
    "# 20 least common\n",
    "words_by_co_occurrence[-20:]"
   ]
  },
  {
   "cell_type": "code",
   "execution_count": 73,
   "metadata": {
    "collapsed": false
   },
   "outputs": [
    {
     "data": {
      "text/html": [
       "<div id=\"d3-container-6535341\"></div>\n",
       "<div>force-directed graph</div>\n",
       "\n",
       "<style>\n",
       "    .links line {\n",
       "        stroke: #999;\n",
       "        stroke-opacity: .3;\n",
       "    }\n",
       "\n",
       "    .nodes circle {\n",
       "        pointer-events: all;\n",
       "        stroke: #fff;\n",
       "        stroke-width: 1.5px;\n",
       "    }\n",
       "\n",
       "    .nodes text {\n",
       "        pointer-events: none;\n",
       "        font: 10px sans-serif;\n",
       "        fill: #000000;\n",
       "        opacity: .7;\n",
       "    }\n",
       "</style>\n"
      ]
     },
     "metadata": {},
     "output_type": "display_data"
    },
    {
     "data": {
      "application/javascript": [
       "// require is needed to make d3 work in a noebooks from imported code\n",
       "require.config({\n",
       "    paths: {\n",
       "        d3: \"https://d3js.org/d3.v4.min\"\n",
       "    }\n",
       "});\n",
       "\n",
       "require([\"d3\"], function(d3) {\n",
       "    //console.log(d3.version);\n",
       "\n",
       "    var width = 800,\n",
       "        height = 600;\n",
       "\n",
       "    var svg = d3.select(\"#d3-container-6535341\")\n",
       "        .append(\"svg\")\n",
       "        .attr(\"width\", width)\n",
       "        .attr(\"height\", height);\n",
       "\n",
       "    var colour = d3.scaleOrdinal(d3.schemeCategory20c);\n",
       "\n",
       "    var graph = {\n",
       "        nodes: [{'id': 'with'}, {'id': 'paste'}, {'id': 'too'}, {'id': 'taste'}, {'id': 'browned'}, {'id': 'brown'}, {'id': 'fine'}, {'id': 'grated'}, {'id': 'out'}, {'id': 'this'}, {'id': 'let'}, {'id': 'well'}, {'id': 'put'}, {'id': 'a'}, {'id': 'until'}, {'id': 'stock'}, {'id': 'they'}, {'id': 'meat'}, {'id': 'garlic'}, {'id': 'the'}, {'id': 'cut'}, {'id': 'at'}, {'id': 'milk'}, {'id': 'tomato'}, {'id': 'add'}, {'id': 'bread'}, {'id': 'is'}, {'id': 'that'}, {'id': 'seasoning'}, {'id': 'serve'}, {'id': 'an'}, {'id': 'it'}, {'id': 'remove'}, {'id': 'white'}, {'id': 'take'}, {'id': 'sauce'}, {'id': 'pieces'}, {'id': 'or'}, {'id': 'on'}, {'id': 'place'}, {'id': 'from'}, {'id': 'boiling'}, {'id': 'fire'}, {'id': 'saucepan'}, {'id': 'pour'}, {'id': 'oven'}, {'id': 'not'}, {'id': 'little'}, {'id': 'leaves'}, {'id': 'and'}, {'id': 'are'}, {'id': 'butter'}, {'id': 'then'}, {'id': 'whole'}, {'id': 'egg'}, {'id': 'may'}, {'id': 'of'}, {'id': 'make'}, {'id': 'half'}, {'id': 'over'}, {'id': 'adding'}, {'id': 'few'}, {'id': 'which'}, {'id': 'one'}, {'id': 'everything'}, {'id': 'boiled'}, {'id': 'part'}, {'id': 'into'}, {'id': 'to'}, {'id': 'have'}, {'id': 'them'}, {'id': 'together'}, {'id': 'salt'}, {'id': 'quantity'}, {'id': 'tablespoonfuls'}, {'id': 'sieve'}, {'id': 'as'}, {'id': 'but'}, {'id': 'two'}, {'id': 'parsley'}, {'id': 'following'}, {'id': 'pepper'}, {'id': 'tablespoonful'}, {'id': 'when'}, {'id': 'through'}, {'id': 'broth'}, {'id': 'cold'}, {'id': 'can'}, {'id': 'if'}, {'id': 'artichokes'}, {'id': 'for'}, {'id': 'seasoned'}, {'id': 'crumbs'}, {'id': 'oil'}, {'id': 'flour'}, {'id': 'lemon'}, {'id': 'be'}, {'id': 'three'}, {'id': 'in'}, {'id': 'some'}, {'id': 'dip'}, {'id': 'onion'}, {'id': 'you'}, {'id': 'water'}, {'id': 'cheese'}, {'id': 'season'}, {'id': 'rice'}, {'id': 'piece'}, {'id': 'small'}, {'id': 'olive'}, {'id': 'fish'}, {'id': 'very'}, {'id': 'hash'}],\n",
       "        links: [{'source': 0, 'target': 26, 'weight': 4.672068766702344}, {'source': 0, 'target': 0, 'weight': 6.919541405504455}, {'source': 0, 'target': 5, 'weight': 4.722410675404633}, {'source': 0, 'target': 15, 'weight': 4.90064221701665}, {'source': 0, 'target': 56, 'weight': 11.475083471403847}, {'source': 0, 'target': 31, 'weight': 5.886469203935514}, {'source': 0, 'target': 7, 'weight': 5.109333474887565}, {'source': 0, 'target': 91, 'weight': 8.07288322853815}, {'source': 0, 'target': 35, 'weight': 5.347000009284388}, {'source': 0, 'target': 37, 'weight': 8.409325460219726}, {'source': 0, 'target': 12, 'weight': 6.276975450080863}, {'source': 0, 'target': 23, 'weight': 5.068305229690029}, {'source': 0, 'target': 13, 'weight': 19.355920983400022}, {'source': 0, 'target': 42, 'weight': 5.726274309234112}, {'source': 0, 'target': 70, 'weight': 10.58491967353693}, {'source': 0, 'target': 96, 'weight': 6.055156994950138}, {'source': 0, 'target': 72, 'weight': 12.322290266718685}, {'source': 0, 'target': 98, 'weight': 8.073074365915284}, {'source': 0, 'target': 68, 'weight': 4.972192143786144}, {'source': 0, 'target': 47, 'weight': 4.961220057948367}, {'source': 0, 'target': 19, 'weight': 28.20672541283924}, {'source': 0, 'target': 104, 'weight': 6.6930779735296735}, {'source': 0, 'target': 49, 'weight': 26.694510769279372}, {'source': 0, 'target': 105, 'weight': 6.144647623443342}, {'source': 0, 'target': 81, 'weight': 7.84413712119319}, {'source': 0, 'target': 93, 'weight': 6.397713144880356}, {'source': 0, 'target': 51, 'weight': 13.283983609270134}, {'source': 0, 'target': 83, 'weight': 5.656113791641472}, {'source': 1, 'target': 56, 'weight': 5.312538081007586}, {'source': 1, 'target': 19, 'weight': 4.6675577993162705}, {'source': 1, 'target': 23, 'weight': 5.800410053361676}, {'source': 1, 'target': 49, 'weight': 5.3583598937166546}, {'source': 1, 'target': 13, 'weight': 5.332589855939882}, {'source': 2, 'target': 19, 'weight': 4.605473342342679}, {'source': 2, 'target': 16, 'weight': 5.946481588055588}, {'source': 2, 'target': 50, 'weight': 5.711150608334067}, {'source': 3, 'target': 19, 'weight': 5.8018082373247895}, {'source': 3, 'target': 49, 'weight': 5.314190506308266}, {'source': 3, 'target': 13, 'weight': 6.7928501215667705}, {'source': 4, 'target': 83, 'weight': 5.008627057617315}, {'source': 5, 'target': 49, 'weight': 6.410175973905066}, {'source': 5, 'target': 98, 'weight': 5.293105723058804}, {'source': 5, 'target': 15, 'weight': 5.940299002495008}, {'source': 5, 'target': 19, 'weight': 6.796223170014384}, {'source': 5, 'target': 13, 'weight': 5.533862429922335}, {'source': 6, 'target': 13, 'weight': 4.652015941907714}, {'source': 7, 'target': 19, 'weight': 4.886058485617225}, {'source': 7, 'target': 104, 'weight': 16.692941128952903}, {'source': 7, 'target': 49, 'weight': 7.321162106313485}, {'source': 7, 'target': 56, 'weight': 8.198884519430543}, {'source': 7, 'target': 13, 'weight': 5.032222775916812}, {'source': 8, 'target': 19, 'weight': 6.842323949514373}, {'source': 9, 'target': 26, 'weight': 6.980831882879004}, {'source': 9, 'target': 35, 'weight': 5.940299002495008}, {'source': 10, 'target': 49, 'weight': 7.546600023182323}, {'source': 11, 'target': 49, 'weight': 5.80675802669863}, {'source': 12, 'target': 70, 'weight': 7.082833394788981}, {'source': 12, 'target': 98, 'weight': 4.6976431961406595}, {'source': 12, 'target': 56, 'weight': 4.920625123073098}, {'source': 12, 'target': 31, 'weight': 5.609121101826717}, {'source': 12, 'target': 19, 'weight': 11.981723242708759}, {'source': 12, 'target': 49, 'weight': 6.043716578811242}, {'source': 12, 'target': 13, 'weight': 9.644478588055541}, {'source': 12, 'target': 37, 'weight': 4.603513014587151}, {'source': 12, 'target': 68, 'weight': 6.512158052569419}, {'source': 12, 'target': 38, 'weight': 6.202031099807598}, {'source': 12, 'target': 42, 'weight': 5.462425159363539}, {'source': 13, 'target': 52, 'weight': 6.403296694041409}, {'source': 13, 'target': 54, 'weight': 5.658896384019398}, {'source': 13, 'target': 19, 'weight': 40.523090267897985}, {'source': 13, 'target': 61, 'weight': 7.528201673804105}, {'source': 13, 'target': 63, 'weight': 5.198776500311978}, {'source': 13, 'target': 57, 'weight': 5.697261176226191}, {'source': 13, 'target': 67, 'weight': 4.879165035636438}, {'source': 13, 'target': 13, 'weight': 30.40290191229139}, {'source': 13, 'target': 70, 'weight': 10.983184233620626}, {'source': 13, 'target': 72, 'weight': 7.731704200291347}, {'source': 13, 'target': 27, 'weight': 4.754559855919776}, {'source': 13, 'target': 68, 'weight': 12.046255906901887}, {'source': 13, 'target': 75, 'weight': 6.17521791885992}, {'source': 13, 'target': 76, 'weight': 8.284209770317734}, {'source': 13, 'target': 56, 'weight': 36.1358734289271}, {'source': 13, 'target': 79, 'weight': 7.360497799147317}, {'source': 13, 'target': 81, 'weight': 4.6512189342775425}, {'source': 13, 'target': 82, 'weight': 6.507850734888651}, {'source': 13, 'target': 24, 'weight': 5.289728191893997}, {'source': 13, 'target': 84, 'weight': 5.3181286099172835}, {'source': 13, 'target': 83, 'weight': 4.826080025980833}, {'source': 13, 'target': 26, 'weight': 11.153357580562913}, {'source': 13, 'target': 60, 'weight': 4.772936842391056}, {'source': 13, 'target': 31, 'weight': 12.16253221544291}, {'source': 13, 'target': 90, 'weight': 4.726724867770848}, {'source': 13, 'target': 35, 'weight': 7.367030308403435}, {'source': 13, 'target': 93, 'weight': 5.827131528566014}, {'source': 13, 'target': 37, 'weight': 12.290725696345556}, {'source': 13, 'target': 59, 'weight': 4.662866780229198}, {'source': 13, 'target': 39, 'weight': 4.709986985060157}, {'source': 13, 'target': 98, 'weight': 18.202615291095537}, {'source': 13, 'target': 96, 'weight': 4.621988296389135}, {'source': 13, 'target': 94, 'weight': 4.887877052053561}, {'source': 13, 'target': 42, 'weight': 5.950627420004463}, {'source': 13, 'target': 43, 'weight': 5.227940795588981}, {'source': 13, 'target': 99, 'weight': 5.425683596321364}, {'source': 13, 'target': 73, 'weight': 4.833207590358461}, {'source': 13, 'target': 47, 'weight': 6.683290272197095}, {'source': 13, 'target': 101, 'weight': 5.2822412452387155}, {'source': 13, 'target': 103, 'weight': 5.350021746775046}, {'source': 13, 'target': 104, 'weight': 5.375380012362285}, {'source': 13, 'target': 49, 'weight': 42.79610846221224}, {'source': 13, 'target': 38, 'weight': 5.066895507075222}, {'source': 13, 'target': 50, 'weight': 7.38275494414238}, {'source': 13, 'target': 107, 'weight': 9.353861873004632}, {'source': 13, 'target': 108, 'weight': 7.375808791048792}, {'source': 13, 'target': 51, 'weight': 8.723545708245627}, {'source': 13, 'target': 112, 'weight': 6.122645844218331}, {'source': 14, 'target': 19, 'weight': 5.823536244724804}, {'source': 14, 'target': 49, 'weight': 5.641626953669115}, {'source': 16, 'target': 70, 'weight': 5.860246809311103}, {'source': 16, 'target': 98, 'weight': 6.252313533900902}, {'source': 16, 'target': 50, 'weight': 11.985392327677538}, {'source': 16, 'target': 19, 'weight': 4.695380446747088}, {'source': 16, 'target': 49, 'weight': 7.99262896651095}, {'source': 16, 'target': 83, 'weight': 6.581193740783457}, {'source': 17, 'target': 19, 'weight': 6.144647623443342}, {'source': 18, 'target': 56, 'weight': 6.242652545518109}, {'source': 19, 'target': 52, 'weight': 8.57744325456943}, {'source': 19, 'target': 53, 'weight': 5.826062823399201}, {'source': 19, 'target': 54, 'weight': 10.59647308711586}, {'source': 19, 'target': 56, 'weight': 51.93064884072501}, {'source': 19, 'target': 58, 'weight': 8.478971515909523}, {'source': 19, 'target': 59, 'weight': 5.6027781699997465}, {'source': 19, 'target': 65, 'weight': 5.877314170818094}, {'source': 19, 'target': 63, 'weight': 5.899889844027407}, {'source': 19, 'target': 57, 'weight': 5.110487153844991}, {'source': 19, 'target': 66, 'weight': 6.001394752689957}, {'source': 19, 'target': 67, 'weight': 5.051655133865595}, {'source': 19, 'target': 69, 'weight': 4.682296381594744}, {'source': 19, 'target': 70, 'weight': 19.11203381455485}, {'source': 19, 'target': 72, 'weight': 6.059059123959743}, {'source': 19, 'target': 27, 'weight': 8.980882867451687}, {'source': 19, 'target': 68, 'weight': 26.4225893469603}, {'source': 19, 'target': 76, 'weight': 13.245147754351613}, {'source': 19, 'target': 19, 'weight': 79.93279408271096}, {'source': 19, 'target': 78, 'weight': 7.327643668786645}, {'source': 19, 'target': 20, 'weight': 8.288568249716947}, {'source': 19, 'target': 80, 'weight': 5.510019450033915}, {'source': 19, 'target': 81, 'weight': 4.755284760496802}, {'source': 19, 'target': 24, 'weight': 6.304885608542492}, {'source': 19, 'target': 25, 'weight': 5.227940795588981}, {'source': 19, 'target': 83, 'weight': 12.485407256292067}, {'source': 19, 'target': 26, 'weight': 9.20473037972307}, {'source': 19, 'target': 48, 'weight': 5.08185667238104}, {'source': 19, 'target': 28, 'weight': 5.27050205525212}, {'source': 19, 'target': 85, 'weight': 7.284104888955252}, {'source': 19, 'target': 32, 'weight': 8.681901998163244}, {'source': 19, 'target': 31, 'weight': 17.723641685807348}, {'source': 19, 'target': 77, 'weight': 6.433180127085702}, {'source': 19, 'target': 89, 'weight': 6.814802756328634}, {'source': 19, 'target': 33, 'weight': 5.334218133297509}, {'source': 19, 'target': 34, 'weight': 5.511017566462732}, {'source': 19, 'target': 90, 'weight': 11.262470047334167}, {'source': 19, 'target': 21, 'weight': 4.803659102143133}, {'source': 19, 'target': 35, 'weight': 10.316129573394031}, {'source': 19, 'target': 106, 'weight': 5.477541592788889}, {'source': 19, 'target': 36, 'weight': 4.73982512029562}, {'source': 19, 'target': 37, 'weight': 13.912399164161751}, {'source': 19, 'target': 94, 'weight': 8.007438408594162}, {'source': 19, 'target': 98, 'weight': 34.39181758174244}, {'source': 19, 'target': 41, 'weight': 6.738295142574805}, {'source': 19, 'target': 96, 'weight': 7.36195901636907}, {'source': 19, 'target': 42, 'weight': 5.860657455452445}, {'source': 19, 'target': 99, 'weight': 4.926178875316967}, {'source': 19, 'target': 73, 'weight': 5.454636758463177}, {'source': 19, 'target': 44, 'weight': 6.347530502628275}, {'source': 19, 'target': 45, 'weight': 5.707514989177374}, {'source': 19, 'target': 46, 'weight': 5.896764057168716}, {'source': 19, 'target': 47, 'weight': 9.106325390114005}, {'source': 19, 'target': 102, 'weight': 4.743923709383135}, {'source': 19, 'target': 103, 'weight': 12.02375449349174}, {'source': 19, 'target': 104, 'weight': 5.1376305258377}, {'source': 19, 'target': 49, 'weight': 57.78565588082532}, {'source': 19, 'target': 112, 'weight': 5.842758111969266}, {'source': 19, 'target': 50, 'weight': 8.320418509611475}, {'source': 19, 'target': 51, 'weight': 9.227892569858234}, {'source': 19, 'target': 110, 'weight': 5.959023348205731}, {'source': 19, 'target': 38, 'weight': 14.209626233204215}, {'source': 19, 'target': 40, 'weight': 5.086533002107174}, {'source': 20, 'target': 70, 'weight': 9.831744150292197}, {'source': 20, 'target': 56, 'weight': 5.473250664506937}, {'source': 20, 'target': 49, 'weight': 9.250288744971755}, {'source': 20, 'target': 98, 'weight': 11.2901923792724}, {'source': 20, 'target': 67, 'weight': 7.1089771293547}, {'source': 22, 'target': 56, 'weight': 4.984922217584152}, {'source': 22, 'target': 49, 'weight': 5.500343377721351}, {'source': 22, 'target': 98, 'weight': 4.950249168745841}, {'source': 23, 'target': 56, 'weight': 6.543249324366861}, {'source': 23, 'target': 37, 'weight': 5.436676444139109}, {'source': 23, 'target': 35, 'weight': 7.920398669993345}, {'source': 24, 'target': 56, 'weight': 9.281481408411505}, {'source': 24, 'target': 49, 'weight': 5.145750977135964}, {'source': 25, 'target': 56, 'weight': 11.896185737439088}, {'source': 25, 'target': 92, 'weight': 4.95024916874584}, {'source': 25, 'target': 49, 'weight': 5.992375352141447}, {'source': 25, 'target': 98, 'weight': 9.973832313522115}, {'source': 26, 'target': 98, 'weight': 6.160252801836588}, {'source': 26, 'target': 27, 'weight': 4.944658639836144}, {'source': 26, 'target': 56, 'weight': 8.62429184432141}, {'source': 26, 'target': 31, 'weight': 17.798366933460784}, {'source': 26, 'target': 35, 'weight': 5.7514099166846595}, {'source': 26, 'target': 37, 'weight': 7.029502706763263}, {'source': 26, 'target': 49, 'weight': 9.013317425589554}, {'source': 26, 'target': 68, 'weight': 9.961973423194808}, {'source': 26, 'target': 83, 'weight': 7.029809378645918}, {'source': 27, 'target': 70, 'weight': 4.921361129908531}, {'source': 27, 'target': 49, 'weight': 4.621974471908894}, {'source': 27, 'target': 98, 'weight': 4.88263786405467}, {'source': 27, 'target': 31, 'weight': 5.059253004574357}, {'source': 27, 'target': 68, 'weight': 4.704149194561536}, {'source': 29, 'target': 49, 'weight': 8.842140013216245}, {'source': 30, 'target': 31, 'weight': 4.601501403390671}, {'source': 30, 'target': 68, 'weight': 5.093791617479008}, {'source': 31, 'target': 98, 'weight': 8.753825015612659}, {'source': 31, 'target': 56, 'weight': 8.528489600936274}, {'source': 31, 'target': 31, 'weight': 8.103085615352022}, {'source': 31, 'target': 47, 'weight': 6.150350617800875}, {'source': 31, 'target': 103, 'weight': 5.309762438424452}, {'source': 31, 'target': 49, 'weight': 13.7403752394877}, {'source': 31, 'target': 38, 'weight': 6.350607629410337}, {'source': 31, 'target': 57, 'weight': 5.724419221276181}, {'source': 31, 'target': 37, 'weight': 6.7195599704611215}, {'source': 31, 'target': 68, 'weight': 8.395504420838988}, {'source': 31, 'target': 83, 'weight': 6.449692083054878}, {'source': 35, 'target': 56, 'weight': 8.228607171709477}, {'source': 35, 'target': 49, 'weight': 6.844297194143188}, {'source': 35, 'target': 37, 'weight': 5.023670828016315}, {'source': 35, 'target': 98, 'weight': 4.703803319683393}, {'source': 36, 'target': 56, 'weight': 5.422986613796923}, {'source': 36, 'target': 49, 'weight': 5.2516106612761275}, {'source': 37, 'target': 65, 'weight': 6.794328382803845}, {'source': 37, 'target': 85, 'weight': 4.628615266470859}, {'source': 37, 'target': 56, 'weight': 15.825370392498039}, {'source': 37, 'target': 37, 'weight': 13.202280428914841}, {'source': 37, 'target': 68, 'weight': 5.644219256968334}, {'source': 37, 'target': 51, 'weight': 5.149308744983405}, {'source': 37, 'target': 70, 'weight': 5.838191927501019}, {'source': 37, 'target': 97, 'weight': 5.3555519871387345}, {'source': 37, 'target': 98, 'weight': 11.297223657832955}, {'source': 37, 'target': 74, 'weight': 5.369715336064938}, {'source': 37, 'target': 47, 'weight': 5.222665920995343}, {'source': 37, 'target': 76, 'weight': 4.92912153621152}, {'source': 37, 'target': 103, 'weight': 5.025783096836517}, {'source': 37, 'target': 78, 'weight': 4.858588662859344}, {'source': 37, 'target': 104, 'weight': 7.8517491620190825}, {'source': 37, 'target': 49, 'weight': 14.74959014253714}, {'source': 37, 'target': 50, 'weight': 5.6762724922965715}, {'source': 37, 'target': 93, 'weight': 5.685816490689882}, {'source': 38, 'target': 49, 'weight': 6.281395476597831}, {'source': 38, 'target': 42, 'weight': 7.592599005456396}, {'source': 38, 'target': 98, 'weight': 4.589634408882237}, {'source': 39, 'target': 98, 'weight': 4.863594471381778}, {'source': 40, 'target': 49, 'weight': 4.885101409470428}, {'source': 42, 'target': 56, 'weight': 6.287153631004482}, {'source': 42, 'target': 49, 'weight': 5.636080711792415}, {'source': 44, 'target': 49, 'weight': 5.7964134635264655}, {'source': 44, 'target': 59, 'weight': 5.940299002495009}, {'source': 46, 'target': 77, 'weight': 5.407416049542262}, {'source': 47, 'target': 56, 'weight': 8.50821446456219}, {'source': 47, 'target': 49, 'weight': 7.44304837484434}, {'source': 47, 'target': 98, 'weight': 7.249609672257642}, {'source': 47, 'target': 47, 'weight': 4.920404053761732}, {'source': 48, 'target': 56, 'weight': 5.322366117655648}, {'source': 49, 'target': 52, 'weight': 7.838626523662322}, {'source': 49, 'target': 54, 'weight': 5.307326051178247}, {'source': 49, 'target': 56, 'weight': 30.509618942673615}, {'source': 49, 'target': 59, 'weight': 9.394696946987462}, {'source': 49, 'target': 72, 'weight': 8.727903834120436}, {'source': 49, 'target': 63, 'weight': 5.84974753709081}, {'source': 49, 'target': 57, 'weight': 4.5964955948682364}, {'source': 49, 'target': 68, 'weight': 9.174216815703815}, {'source': 49, 'target': 67, 'weight': 4.597754860180499}, {'source': 49, 'target': 70, 'weight': 14.480300728054493}, {'source': 49, 'target': 71, 'weight': 5.19438340677418}, {'source': 49, 'target': 94, 'weight': 10.28597919659703}, {'source': 49, 'target': 79, 'weight': 5.491667460082728}, {'source': 49, 'target': 76, 'weight': 5.99345907842375}, {'source': 49, 'target': 88, 'weight': 4.784899782086396}, {'source': 49, 'target': 78, 'weight': 6.670619320263696}, {'source': 49, 'target': 81, 'weight': 6.951527097602943}, {'source': 49, 'target': 83, 'weight': 14.088040475195815}, {'source': 49, 'target': 85, 'weight': 4.597822388026936}, {'source': 49, 'target': 64, 'weight': 5.244925939888596}, {'source': 49, 'target': 58, 'weight': 6.252982012889898}, {'source': 49, 'target': 90, 'weight': 7.099094165130097}, {'source': 49, 'target': 93, 'weight': 7.535016389041313}, {'source': 49, 'target': 109, 'weight': 5.861431656168974}, {'source': 49, 'target': 95, 'weight': 6.466426285114795}, {'source': 49, 'target': 96, 'weight': 7.335128389477216}, {'source': 49, 'target': 98, 'weight': 35.81464025352012}, {'source': 49, 'target': 99, 'weight': 4.741258990853481}, {'source': 49, 'target': 101, 'weight': 5.309762438424452}, {'source': 49, 'target': 103, 'weight': 8.121679719841612}, {'source': 49, 'target': 104, 'weight': 6.355068250794573}, {'source': 49, 'target': 49, 'weight': 24.272943872837114}, {'source': 49, 'target': 105, 'weight': 6.07781844401648}, {'source': 49, 'target': 50, 'weight': 8.11319316571319}, {'source': 49, 'target': 92, 'weight': 7.545262097811368}, {'source': 49, 'target': 51, 'weight': 9.33734725561617}, {'source': 49, 'target': 111, 'weight': 5.327116594769434}, {'source': 50, 'target': 56, 'weight': 6.300226476964618}, {'source': 50, 'target': 96, 'weight': 5.292493008074169}, {'source': 50, 'target': 83, 'weight': 8.243417077646331}, {'source': 50, 'target': 68, 'weight': 4.753822334769194}, {'source': 50, 'target': 76, 'weight': 4.61393338563586}, {'source': 51, 'target': 98, 'weight': 6.521976602182488}, {'source': 51, 'target': 83, 'weight': 5.641268768026711}, {'source': 51, 'target': 56, 'weight': 7.078960138629022}, {'source': 51, 'target': 72, 'weight': 5.40464040695913}, {'source': 52, 'target': 56, 'weight': 4.675690561378795}, {'source': 52, 'target': 98, 'weight': 5.556956357290678}, {'source': 52, 'target': 68, 'weight': 4.69742008249479}, {'source': 54, 'target': 56, 'weight': 8.075289829122068}, {'source': 55, 'target': 96, 'weight': 4.950249168745841}, {'source': 56, 'target': 101, 'weight': 5.220442704850837}, {'source': 56, 'target': 56, 'weight': 29.864736623309774}, {'source': 56, 'target': 58, 'weight': 5.1904211552221104}, {'source': 56, 'target': 72, 'weight': 7.760731127825659}, {'source': 56, 'target': 63, 'weight': 9.596986614595982}, {'source': 56, 'target': 57, 'weight': 7.202015381587267}, {'source': 56, 'target': 66, 'weight': 4.8145060515613824}, {'source': 56, 'target': 68, 'weight': 6.474816864102467}, {'source': 56, 'target': 103, 'weight': 7.753624871358155}, {'source': 56, 'target': 94, 'weight': 8.78535842543366}, {'source': 56, 'target': 78, 'weight': 11.491023254912312}, {'source': 56, 'target': 73, 'weight': 5.477541592788889}, {'source': 56, 'target': 74, 'weight': 7.405069185645637}, {'source': 56, 'target': 77, 'weight': 5.031251875289773}, {'source': 56, 'target': 82, 'weight': 6.5646042981200114}, {'source': 56, 'target': 83, 'weight': 6.288512676287363}, {'source': 56, 'target': 70, 'weight': 6.261404885826202}, {'source': 56, 'target': 85, 'weight': 4.785245656964538}, {'source': 56, 'target': 92, 'weight': 7.185180503827335}, {'source': 56, 'target': 108, 'weight': 7.4726460075228145}, {'source': 56, 'target': 59, 'weight': 7.305322548190388}, {'source': 56, 'target': 98, 'weight': 12.95993927151279}, {'source': 56, 'target': 79, 'weight': 5.289728191893996}, {'source': 56, 'target': 96, 'weight': 4.762057268770591}, {'source': 56, 'target': 97, 'weight': 6.389099711798601}, {'source': 56, 'target': 99, 'weight': 4.692442268569728}, {'source': 56, 'target': 104, 'weight': 7.435850006194059}, {'source': 56, 'target': 107, 'weight': 7.33172617975083}, {'source': 56, 'target': 93, 'weight': 5.905178888738175}, {'source': 56, 'target': 111, 'weight': 4.850234119835894}, {'source': 57, 'target': 68, 'weight': 5.940299002495009}, {'source': 62, 'target': 96, 'weight': 4.663372434118331}, {'source': 67, 'target': 70, 'weight': 5.949893629712765}, {'source': 68, 'target': 70, 'weight': 5.150962170537482}, {'source': 68, 'target': 96, 'weight': 9.646207386085399}, {'source': 68, 'target': 98, 'weight': 6.140806619407566}, {'source': 68, 'target': 76, 'weight': 4.63457815114009}, {'source': 70, 'target': 70, 'weight': 7.0318395273586285}, {'source': 70, 'target': 98, 'weight': 7.922752734968977}, {'source': 70, 'target': 90, 'weight': 4.616982487866702}, {'source': 70, 'target': 103, 'weight': 4.738408522995368}, {'source': 72, 'target': 98, 'weight': 9.16137282467849}, {'source': 72, 'target': 81, 'weight': 11.587994059021568}, {'source': 75, 'target': 84, 'weight': 4.803947195761616}, {'source': 76, 'target': 76, 'weight': 5.717878381032844}, {'source': 78, 'target': 98, 'weight': 5.639241472997122}, {'source': 83, 'target': 98, 'weight': 5.419308400499607}, {'source': 85, 'target': 98, 'weight': 5.6950310102868915}, {'source': 86, 'target': 103, 'weight': 4.812343123962884}, {'source': 87, 'target': 96, 'weight': 5.8817782133013194}, {'source': 93, 'target': 98, 'weight': 10.038595519651773}, {'source': 93, 'target': 109, 'weight': 5.940299002495009}, {'source': 94, 'target': 98, 'weight': 5.506341236736598}, {'source': 96, 'target': 98, 'weight': 5.201947008103462}, {'source': 98, 'target': 98, 'weight': 9.874106109565886}, {'source': 98, 'target': 99, 'weight': 5.303474723679657}, {'source': 98, 'target': 100, 'weight': 7.036621420168773}, {'source': 98, 'target': 103, 'weight': 15.865951532846918}]\n",
       "    };\n",
       "\n",
       "    var simulation = d3.forceSimulation(graph.nodes)\n",
       "        .force(\"link\", d3.forceLink(graph.links))\n",
       "        .force(\"charge\", d3.forceManyBody())\n",
       "        .force(\"center\", d3.forceCenter(width / 2.0, height / 2.0));\n",
       "\n",
       "    var link = svg.append(\"g\")\n",
       "        .attr(\"class\", \"links\")\n",
       "        .selectAll(\"line\")\n",
       "        .data(graph.links)\n",
       "        .enter().append(\"line\")\n",
       "        .style(\"stroke-linecap\", \"round\")\n",
       "        .style(\"stroke\", function(d) {return colour(d.weight);})\n",
       "        .style(\"stroke-width\", function (d) {return Math.sqrt(d.weight);});\n",
       "\n",
       "    var node = svg.append(\"g\")\n",
       "        .attr(\"class\", \"nodes\")\n",
       "        .selectAll(\"g\")\n",
       "        .data(graph.nodes)\n",
       "        .enter().append(\"g\");\n",
       "\n",
       "    var circle = node.append(\"circle\")\n",
       "        .attr(\"r\", 4.5)\n",
       "        .style(\"fill\", \"grey\")\n",
       "        .call(d3.drag()\n",
       "            .on(\"start\", dragstarted)\n",
       "            .on(\"drag\", dragged)\n",
       "            .on(\"end\", dragended));\n",
       "\n",
       "    //node.append(\"title\")\n",
       "    //    .text(function(d) { return d.id; });\n",
       "\n",
       "    var t2 = node.append(\"text\")\n",
       "      .attr(\"dx\", 10)\n",
       "      .attr(\"dy\", \".35em\")\n",
       "      .text(function(d) { return d.id; });\n",
       "\n",
       "    simulation\n",
       "        .on(\"tick\", ticked);\n",
       "\n",
       "    function ticked() {\n",
       "        link\n",
       "            .attr(\"x1\", function(d) { return d.source.x; })\n",
       "            .attr(\"y1\", function(d) { return d.source.y; })\n",
       "            .attr(\"x2\", function(d) { return d.target.x; })\n",
       "            .attr(\"y2\", function(d) { return d.target.y; });\n",
       "\n",
       "        circle\n",
       "            .attr(\"cx\", function(d) { return d.x; })\n",
       "            .attr(\"cy\", function(d) { return d.y; });\n",
       "\n",
       "        t2\n",
       "            .attr(\"x\", function(d) { return d.x; })\n",
       "            .attr(\"y\", function(d) { return d.y; });\n",
       "    };\n",
       "\n",
       "    function dragstarted(d) {\n",
       "        if (!d3.event.active) simulation.alphaTarget(0.3).restart();\n",
       "        d.fx = d.x;\n",
       "        d.fy = d.y;\n",
       "    };\n",
       "\n",
       "    function dragged(d) {\n",
       "        d.fx = d3.event.x;\n",
       "        d.fy = d3.event.y;\n",
       "    };\n",
       "\n",
       "    function dragended(d) {\n",
       "        if (!d3.event.active) simulation.alphaTarget(0);\n",
       "        d.fx = null;\n",
       "        d.fy = null;\n",
       "    };\n",
       "\n",
       "});\n",
       "\n"
      ]
     },
     "metadata": {},
     "output_type": "display_data"
    }
   ],
   "source": [
    "# visualise co-occurrence of words\n",
    "tmt.visualisation.plot_force_directed_graph(words_by_co_occurrence[:500])"
   ]
  },
  {
   "cell_type": "code",
   "execution_count": 74,
   "metadata": {
    "collapsed": false,
    "scrolled": true
   },
   "outputs": [
    {
     "data": {
      "text/html": [
       "<div id=\"d3-container-9050021\"></div>\n",
       "<div>force-directed graph</div>\n",
       "\n",
       "<style>\n",
       "    .links line {\n",
       "        stroke: #999;\n",
       "        stroke-opacity: .3;\n",
       "    }\n",
       "\n",
       "    .nodes circle {\n",
       "        pointer-events: all;\n",
       "        stroke: #fff;\n",
       "        stroke-width: 1.5px;\n",
       "    }\n",
       "\n",
       "    .nodes text {\n",
       "        pointer-events: none;\n",
       "        font: 10px sans-serif;\n",
       "        fill: #000000;\n",
       "        opacity: .7;\n",
       "    }\n",
       "</style>\n"
      ]
     },
     "metadata": {},
     "output_type": "display_data"
    },
    {
     "data": {
      "application/javascript": [
       "// require is needed to make d3 work in a noebooks from imported code\n",
       "require.config({\n",
       "    paths: {\n",
       "        d3: \"https://d3js.org/d3.v4.min\"\n",
       "    }\n",
       "});\n",
       "\n",
       "require([\"d3\"], function(d3) {\n",
       "    //console.log(d3.version);\n",
       "\n",
       "    var width = 800,\n",
       "        height = 600;\n",
       "\n",
       "    var svg = d3.select(\"#d3-container-9050021\")\n",
       "        .append(\"svg\")\n",
       "        .attr(\"width\", width)\n",
       "        .attr(\"height\", height);\n",
       "\n",
       "    var colour = d3.scaleOrdinal(d3.schemeCategory20c);\n",
       "\n",
       "    var graph = {\n",
       "        nodes: [{'id': 'with'}, {'id': 'paste'}, {'id': 'too'}, {'id': 'taste'}, {'id': 'browned'}, {'id': 'brown'}, {'id': 'fine'}, {'id': 'grated'}, {'id': 'out'}, {'id': 'this'}, {'id': 'let'}, {'id': 'well'}, {'id': 'put'}, {'id': 'a'}, {'id': 'until'}, {'id': 'stock'}, {'id': 'they'}, {'id': 'meat'}, {'id': 'garlic'}, {'id': 'after'}, {'id': 'the'}, {'id': 'cut'}, {'id': 'at'}, {'id': 'milk'}, {'id': 'tomato'}, {'id': 'add'}, {'id': 'bread'}, {'id': 'is'}, {'id': 'that'}, {'id': 'seasoning'}, {'id': 'serve'}, {'id': 'an'}, {'id': 'pinch'}, {'id': 'it'}, {'id': 'remove'}, {'id': 'white'}, {'id': 'take'}, {'id': 'sauce'}, {'id': 'beef'}, {'id': 'pieces'}, {'id': 'or'}, {'id': 'on'}, {'id': 'place'}, {'id': 'from'}, {'id': 'boiling'}, {'id': 'each'}, {'id': 'fire'}, {'id': 'saucepan'}, {'id': 'so'}, {'id': 'pour'}, {'id': 'oven'}, {'id': 'not'}, {'id': 'little'}, {'id': 'leaves'}, {'id': 'and'}, {'id': 'yolks'}, {'id': 'are'}, {'id': 'butter'}, {'id': 'then'}, {'id': 'whole'}, {'id': 'egg'}, {'id': 'chicken'}, {'id': 'may'}, {'id': 'of'}, {'id': 'make'}, {'id': 'celery'}, {'id': 'half'}, {'id': 'over'}, {'id': 'adding'}, {'id': 'few'}, {'id': 'which'}, {'id': 'one'}, {'id': 'everything'}, {'id': 'boiled'}, {'id': 'part'}, {'id': 'into'}, {'id': 'to'}, {'id': 'have'}, {'id': 'them'}, {'id': 'together'}, {'id': 'salt'}, {'id': 'dish'}, {'id': 'quantity'}, {'id': 'fry'}, {'id': 'tablespoonfuls'}, {'id': 'sieve'}, {'id': 'as'}, {'id': 'but'}, {'id': 'two'}, {'id': 'parsley'}, {'id': 'following'}, {'id': 'pepper'}, {'id': 'tablespoonful'}, {'id': 'when'}, {'id': 'through'}, {'id': 'broth'}, {'id': 'cold'}, {'id': 'can'}, {'id': 'if'}, {'id': 'artichokes'}, {'id': 'served'}, {'id': 'for'}, {'id': 'seasoned'}, {'id': 'crumbs'}, {'id': 'oil'}, {'id': 'flour'}, {'id': 'soup'}, {'id': 'lemon'}, {'id': 'be'}, {'id': 'three'}, {'id': 'in'}, {'id': 'some'}, {'id': 'cooking'}, {'id': 'dip'}, {'id': 'onion'}, {'id': 'you'}, {'id': 'water'}, {'id': 'cheese'}, {'id': 'season'}, {'id': 'rice'}, {'id': 'piece'}, {'id': 'small'}, {'id': 'olive'}, {'id': 'fish'}, {'id': 'very'}, {'id': 'hash'}],\n",
       "        links: [{'source': 0, 'target': 27, 'weight': 4.672068766702344}, {'source': 0, 'target': 0, 'weight': 6.919541405504455}, {'source': 0, 'target': 5, 'weight': 4.722410675404633}, {'source': 0, 'target': 15, 'weight': 4.90064221701665}, {'source': 0, 'target': 63, 'weight': 11.475083471403847}, {'source': 0, 'target': 33, 'weight': 5.886469203935514}, {'source': 0, 'target': 100, 'weight': 4.2001240598840175}, {'source': 0, 'target': 7, 'weight': 5.109333474887565}, {'source': 0, 'target': 102, 'weight': 8.07288322853815}, {'source': 0, 'target': 37, 'weight': 5.347000009284388}, {'source': 0, 'target': 40, 'weight': 8.409325460219726}, {'source': 0, 'target': 12, 'weight': 6.276975450080863}, {'source': 0, 'target': 24, 'weight': 5.068305229690029}, {'source': 0, 'target': 13, 'weight': 19.355920983400022}, {'source': 0, 'target': 46, 'weight': 5.726274309234112}, {'source': 0, 'target': 78, 'weight': 10.58491967353693}, {'source': 0, 'target': 108, 'weight': 6.055156994950138}, {'source': 0, 'target': 80, 'weight': 12.322290266718685}, {'source': 0, 'target': 110, 'weight': 8.073074365915284}, {'source': 0, 'target': 76, 'weight': 4.972192143786144}, {'source': 0, 'target': 52, 'weight': 4.961220057948367}, {'source': 0, 'target': 116, 'weight': 4.490709221687902}, {'source': 0, 'target': 20, 'weight': 28.20672541283924}, {'source': 0, 'target': 117, 'weight': 6.6930779735296735}, {'source': 0, 'target': 54, 'weight': 26.694510769279372}, {'source': 0, 'target': 118, 'weight': 6.144647623443342}, {'source': 0, 'target': 91, 'weight': 7.84413712119319}, {'source': 0, 'target': 104, 'weight': 6.397713144880356}, {'source': 0, 'target': 57, 'weight': 13.283983609270134}, {'source': 0, 'target': 41, 'weight': 4.156483268651104}, {'source': 0, 'target': 93, 'weight': 5.656113791641472}, {'source': 1, 'target': 63, 'weight': 5.312538081007586}, {'source': 1, 'target': 20, 'weight': 4.6675577993162705}, {'source': 1, 'target': 24, 'weight': 5.800410053361676}, {'source': 1, 'target': 54, 'weight': 5.3583598937166546}, {'source': 1, 'target': 13, 'weight': 5.332589855939882}, {'source': 2, 'target': 20, 'weight': 4.605473342342679}, {'source': 2, 'target': 16, 'weight': 5.946481588055588}, {'source': 2, 'target': 56, 'weight': 5.711150608334067}, {'source': 3, 'target': 20, 'weight': 5.8018082373247895}, {'source': 3, 'target': 63, 'weight': 4.328078776168115}, {'source': 3, 'target': 54, 'weight': 5.314190506308266}, {'source': 3, 'target': 13, 'weight': 6.7928501215667705}, {'source': 4, 'target': 20, 'weight': 4.137723948594367}, {'source': 4, 'target': 93, 'weight': 5.008627057617315}, {'source': 5, 'target': 54, 'weight': 6.410175973905066}, {'source': 5, 'target': 110, 'weight': 5.293105723058804}, {'source': 5, 'target': 15, 'weight': 5.940299002495008}, {'source': 5, 'target': 20, 'weight': 6.796223170014384}, {'source': 5, 'target': 76, 'weight': 4.572825729181089}, {'source': 5, 'target': 13, 'weight': 5.533862429922335}, {'source': 6, 'target': 13, 'weight': 4.652015941907714}, {'source': 7, 'target': 20, 'weight': 4.886058485617225}, {'source': 7, 'target': 117, 'weight': 16.692941128952903}, {'source': 7, 'target': 54, 'weight': 7.321162106313485}, {'source': 7, 'target': 63, 'weight': 8.198884519430543}, {'source': 7, 'target': 40, 'weight': 4.582004274178688}, {'source': 7, 'target': 13, 'weight': 5.032222775916812}, {'source': 8, 'target': 20, 'weight': 6.842323949514373}, {'source': 9, 'target': 27, 'weight': 6.980831882879004}, {'source': 9, 'target': 63, 'weight': 4.381500000980301}, {'source': 9, 'target': 20, 'weight': 4.089226315097237}, {'source': 9, 'target': 54, 'weight': 4.053080544746884}, {'source': 9, 'target': 37, 'weight': 5.940299002495008}, {'source': 10, 'target': 20, 'weight': 4.195402289616337}, {'source': 10, 'target': 54, 'weight': 7.546600023182323}, {'source': 11, 'target': 54, 'weight': 5.80675802669863}, {'source': 12, 'target': 78, 'weight': 7.082833394788981}, {'source': 12, 'target': 110, 'weight': 4.6976431961406595}, {'source': 12, 'target': 63, 'weight': 4.920625123073098}, {'source': 12, 'target': 33, 'weight': 5.609121101826717}, {'source': 12, 'target': 20, 'weight': 11.981723242708759}, {'source': 12, 'target': 54, 'weight': 6.043716578811242}, {'source': 12, 'target': 13, 'weight': 9.644478588055541}, {'source': 12, 'target': 40, 'weight': 4.603513014587151}, {'source': 12, 'target': 76, 'weight': 6.512158052569419}, {'source': 12, 'target': 41, 'weight': 6.202031099807598}, {'source': 12, 'target': 46, 'weight': 5.462425159363539}, {'source': 13, 'target': 58, 'weight': 6.403296694041409}, {'source': 13, 'target': 60, 'weight': 4.568378082779706}, {'source': 13, 'target': 20, 'weight': 40.523090267897985}, {'source': 13, 'target': 65, 'weight': 4.5203769463902965}, {'source': 13, 'target': 69, 'weight': 7.528201673804105}, {'source': 13, 'target': 71, 'weight': 5.198776500311978}, {'source': 13, 'target': 64, 'weight': 5.697261176226191}, {'source': 13, 'target': 75, 'weight': 4.879165035636438}, {'source': 13, 'target': 13, 'weight': 30.40290191229139}, {'source': 13, 'target': 78, 'weight': 10.983184233620626}, {'source': 13, 'target': 79, 'weight': 4.030398777835034}, {'source': 13, 'target': 80, 'weight': 7.731704200291347}, {'source': 13, 'target': 28, 'weight': 4.754559855919776}, {'source': 13, 'target': 76, 'weight': 12.046255906901887}, {'source': 13, 'target': 31, 'weight': 4.048874059637018}, {'source': 13, 'target': 85, 'weight': 6.17521791885992}, {'source': 13, 'target': 21, 'weight': 4.081166110520528}, {'source': 13, 'target': 86, 'weight': 8.284209770317734}, {'source': 13, 'target': 63, 'weight': 36.1358734289271}, {'source': 13, 'target': 89, 'weight': 7.360497799147317}, {'source': 13, 'target': 23, 'weight': 4.126809760835315}, {'source': 13, 'target': 26, 'weight': 4.401216397183837}, {'source': 13, 'target': 91, 'weight': 4.103167889745539}, {'source': 13, 'target': 92, 'weight': 6.507850734888651}, {'source': 13, 'target': 25, 'weight': 5.289728191893997}, {'source': 13, 'target': 94, 'weight': 5.3181286099172835}, {'source': 13, 'target': 93, 'weight': 4.826080025980833}, {'source': 13, 'target': 27, 'weight': 4.277415430036373}, {'source': 13, 'target': 68, 'weight': 4.772936842391056}, {'source': 13, 'target': 33, 'weight': 12.16253221544291}, {'source': 13, 'target': 66, 'weight': 4.496707080703149}, {'source': 13, 'target': 101, 'weight': 4.726724867770848}, {'source': 13, 'target': 37, 'weight': 7.367030308403435}, {'source': 13, 'target': 104, 'weight': 5.827131528566014}, {'source': 13, 'target': 40, 'weight': 12.290725696345556}, {'source': 13, 'target': 67, 'weight': 4.662866780229198}, {'source': 13, 'target': 42, 'weight': 4.709986985060157}, {'source': 13, 'target': 110, 'weight': 18.202615291095537}, {'source': 13, 'target': 108, 'weight': 4.621988296389135}, {'source': 13, 'target': 105, 'weight': 4.21827066495612}, {'source': 13, 'target': 46, 'weight': 4.533029285698121}, {'source': 13, 'target': 47, 'weight': 5.227940795588981}, {'source': 13, 'target': 111, 'weight': 5.425683596321364}, {'source': 13, 'target': 82, 'weight': 4.833207590358461}, {'source': 13, 'target': 19, 'weight': 4.033949670997029}, {'source': 13, 'target': 52, 'weight': 6.683290272197095}, {'source': 13, 'target': 114, 'weight': 4.190419992974082}, {'source': 13, 'target': 116, 'weight': 5.350021746775046}, {'source': 13, 'target': 117, 'weight': 5.375380012362285}, {'source': 13, 'target': 54, 'weight': 42.79610846221224}, {'source': 13, 'target': 41, 'weight': 5.066895507075222}, {'source': 13, 'target': 56, 'weight': 7.38275494414238}, {'source': 13, 'target': 120, 'weight': 9.353861873004632}, {'source': 13, 'target': 121, 'weight': 7.375808791048792}, {'source': 13, 'target': 57, 'weight': 8.723545708245627}, {'source': 13, 'target': 24, 'weight': 4.116082544618208}, {'source': 13, 'target': 124, 'weight': 4.4927448291510785}, {'source': 13, 'target': 125, 'weight': 6.122645844218331}, {'source': 14, 'target': 20, 'weight': 5.823536244724804}, {'source': 14, 'target': 54, 'weight': 5.641626953669115}, {'source': 16, 'target': 78, 'weight': 5.860246809311103}, {'source': 16, 'target': 110, 'weight': 6.252313533900902}, {'source': 16, 'target': 56, 'weight': 11.985392327677538}, {'source': 16, 'target': 20, 'weight': 4.695380446747088}, {'source': 16, 'target': 54, 'weight': 4.274515817715113}, {'source': 16, 'target': 93, 'weight': 6.581193740783457}, {'source': 17, 'target': 20, 'weight': 6.144647623443342}, {'source': 18, 'target': 63, 'weight': 6.242652545518109}, {'source': 20, 'target': 73, 'weight': 5.877314170818094}, {'source': 20, 'target': 112, 'weight': 4.169224285671139}, {'source': 20, 'target': 21, 'weight': 8.288568249716947}, {'source': 20, 'target': 22, 'weight': 4.803659102143133}, {'source': 20, 'target': 42, 'weight': 4.364448266273365}, {'source': 20, 'target': 25, 'weight': 6.304885608542492}, {'source': 20, 'target': 26, 'weight': 5.227940795588981}, {'source': 20, 'target': 27, 'weight': 9.20473037972307}, {'source': 20, 'target': 29, 'weight': 5.27050205525212}, {'source': 20, 'target': 30, 'weight': 4.509087692520482}, {'source': 20, 'target': 33, 'weight': 17.723641685807348}, {'source': 20, 'target': 34, 'weight': 8.681901998163244}, {'source': 20, 'target': 35, 'weight': 5.334218133297509}, {'source': 20, 'target': 36, 'weight': 5.511017566462732}, {'source': 20, 'target': 37, 'weight': 10.316129573394031}, {'source': 20, 'target': 39, 'weight': 4.73982512029562}, {'source': 20, 'target': 40, 'weight': 13.912399164161751}, {'source': 20, 'target': 41, 'weight': 14.209626233204215}, {'source': 20, 'target': 24, 'weight': 4.164547955945006}, {'source': 20, 'target': 43, 'weight': 5.086533002107174}, {'source': 20, 'target': 44, 'weight': 6.738295142574805}, {'source': 20, 'target': 45, 'weight': 4.024981610922525}, {'source': 20, 'target': 46, 'weight': 5.860657455452445}, {'source': 20, 'target': 47, 'weight': 4.138336663579001}, {'source': 20, 'target': 49, 'weight': 6.347530502628275}, {'source': 20, 'target': 50, 'weight': 5.707514989177374}, {'source': 20, 'target': 51, 'weight': 5.896764057168716}, {'source': 20, 'target': 52, 'weight': 9.106325390114005}, {'source': 20, 'target': 53, 'weight': 4.419596381732395}, {'source': 20, 'target': 54, 'weight': 57.78565588082532}, {'source': 20, 'target': 56, 'weight': 8.320418509611475}, {'source': 20, 'target': 57, 'weight': 9.227892569858234}, {'source': 20, 'target': 58, 'weight': 8.57744325456943}, {'source': 20, 'target': 59, 'weight': 4.429424452741861}, {'source': 20, 'target': 60, 'weight': 10.59647308711586}, {'source': 20, 'target': 63, 'weight': 51.93064884072501}, {'source': 20, 'target': 64, 'weight': 5.110487153844991}, {'source': 20, 'target': 66, 'weight': 8.478971515909523}, {'source': 20, 'target': 67, 'weight': 5.6027781699997465}, {'source': 20, 'target': 71, 'weight': 5.899889844027407}, {'source': 20, 'target': 74, 'weight': 6.001394752689957}, {'source': 20, 'target': 75, 'weight': 5.051655133865595}, {'source': 20, 'target': 76, 'weight': 26.4225893469603}, {'source': 20, 'target': 77, 'weight': 4.682296381594744}, {'source': 20, 'target': 78, 'weight': 19.11203381455485}, {'source': 20, 'target': 80, 'weight': 6.059059123959743}, {'source': 20, 'target': 81, 'weight': 4.081950807386438}, {'source': 20, 'target': 119, 'weight': 5.477541592788889}, {'source': 20, 'target': 86, 'weight': 4.261940163035138}, {'source': 20, 'target': 20, 'weight': 79.93279408271096}, {'source': 20, 'target': 28, 'weight': 8.980882867451687}, {'source': 20, 'target': 90, 'weight': 5.510019450033915}, {'source': 20, 'target': 91, 'weight': 4.755284760496802}, {'source': 20, 'target': 93, 'weight': 12.485407256292067}, {'source': 20, 'target': 95, 'weight': 4.142546176719995}, {'source': 20, 'target': 87, 'weight': 6.433180127085702}, {'source': 20, 'target': 99, 'weight': 4.426235662578382}, {'source': 20, 'target': 101, 'weight': 4.141933461735361}, {'source': 20, 'target': 104, 'weight': 4.281277223730495}, {'source': 20, 'target': 88, 'weight': 7.327643668786645}, {'source': 20, 'target': 105, 'weight': 8.007438408594162}, {'source': 20, 'target': 108, 'weight': 7.36195901636907}, {'source': 20, 'target': 110, 'weight': 34.39181758174244}, {'source': 20, 'target': 111, 'weight': 4.926178875316967}, {'source': 20, 'target': 115, 'weight': 4.743923709383135}, {'source': 20, 'target': 116, 'weight': 12.02375449349174}, {'source': 20, 'target': 117, 'weight': 5.1376305258377}, {'source': 20, 'target': 118, 'weight': 4.32755773697297}, {'source': 20, 'target': 82, 'weight': 4.3852465441904735}, {'source': 20, 'target': 121, 'weight': 4.334709274945643}, {'source': 20, 'target': 123, 'weight': 5.959023348205731}, {'source': 20, 'target': 125, 'weight': 5.842758111969266}, {'source': 21, 'target': 78, 'weight': 9.831744150292197}, {'source': 21, 'target': 63, 'weight': 5.473250664506937}, {'source': 21, 'target': 54, 'weight': 4.311641297840169}, {'source': 21, 'target': 110, 'weight': 11.2901923792724}, {'source': 21, 'target': 75, 'weight': 7.1089771293547}, {'source': 21, 'target': 39, 'weight': 4.434525524156317}, {'source': 23, 'target': 63, 'weight': 4.984922217584152}, {'source': 23, 'target': 54, 'weight': 5.500343377721351}, {'source': 23, 'target': 110, 'weight': 4.950249168745841}, {'source': 24, 'target': 37, 'weight': 7.920398669993345}, {'source': 24, 'target': 54, 'weight': 4.039942776228343}, {'source': 24, 'target': 63, 'weight': 6.543249324366861}, {'source': 24, 'target': 40, 'weight': 5.436676444139109}, {'source': 25, 'target': 63, 'weight': 4.409992094793078}, {'source': 25, 'target': 54, 'weight': 5.145750977135964}, {'source': 26, 'target': 103, 'weight': 4.95024916874584}, {'source': 26, 'target': 110, 'weight': 9.973832313522115}, {'source': 26, 'target': 63, 'weight': 11.896185737439088}, {'source': 26, 'target': 54, 'weight': 5.992375352141447}, {'source': 27, 'target': 110, 'weight': 4.532771758278611}, {'source': 27, 'target': 28, 'weight': 4.944658639836144}, {'source': 27, 'target': 63, 'weight': 8.62429184432141}, {'source': 27, 'target': 33, 'weight': 17.798366933460784}, {'source': 27, 'target': 37, 'weight': 5.7514099166846595}, {'source': 27, 'target': 40, 'weight': 7.029502706763263}, {'source': 27, 'target': 54, 'weight': 9.013317425589554}, {'source': 27, 'target': 76, 'weight': 9.961973423194808}, {'source': 27, 'target': 93, 'weight': 7.029809378645918}, {'source': 28, 'target': 78, 'weight': 4.921361129908531}, {'source': 28, 'target': 54, 'weight': 4.621974471908894}, {'source': 28, 'target': 110, 'weight': 4.111962056823176}, {'source': 28, 'target': 48, 'weight': 4.572825729181089}, {'source': 28, 'target': 33, 'weight': 5.059253004574357}, {'source': 28, 'target': 76, 'weight': 4.704149194561536}, {'source': 29, 'target': 54, 'weight': 4.291064925063075}, {'source': 30, 'target': 54, 'weight': 8.842140013216245}, {'source': 31, 'target': 63, 'weight': 4.027633961654862}, {'source': 31, 'target': 33, 'weight': 4.601501403390671}, {'source': 31, 'target': 76, 'weight': 5.093791617479008}, {'source': 32, 'target': 63, 'weight': 4.561687791713292}, {'source': 33, 'target': 95, 'weight': 4.157173834944988}, {'source': 33, 'target': 110, 'weight': 8.753825015612659}, {'source': 33, 'target': 63, 'weight': 8.528489600936274}, {'source': 33, 'target': 33, 'weight': 8.103085615352022}, {'source': 33, 'target': 52, 'weight': 6.150350617800875}, {'source': 33, 'target': 116, 'weight': 5.309762438424452}, {'source': 33, 'target': 54, 'weight': 13.7403752394877}, {'source': 33, 'target': 41, 'weight': 6.350607629410337}, {'source': 33, 'target': 64, 'weight': 5.724419221276181}, {'source': 33, 'target': 40, 'weight': 6.7195599704611215}, {'source': 33, 'target': 76, 'weight': 8.395504420838988}, {'source': 33, 'target': 93, 'weight': 6.449692083054878}, {'source': 35, 'target': 37, 'weight': 4.527751067390314}, {'source': 37, 'target': 73, 'weight': 4.198268971926087}, {'source': 37, 'target': 110, 'weight': 4.703803319683393}, {'source': 37, 'target': 63, 'weight': 4.367336098448888}, {'source': 37, 'target': 54, 'weight': 6.844297194143188}, {'source': 37, 'target': 40, 'weight': 4.010682381631498}, {'source': 38, 'target': 63, 'weight': 4.118999602883644}, {'source': 39, 'target': 63, 'weight': 5.422986613796923}, {'source': 39, 'target': 54, 'weight': 5.2516106612761275}, {'source': 40, 'target': 73, 'weight': 4.570094477277168}, {'source': 40, 'target': 95, 'weight': 4.628615266470859}, {'source': 40, 'target': 61, 'weight': 4.19380835054185}, {'source': 40, 'target': 63, 'weight': 15.825370392498039}, {'source': 40, 'target': 80, 'weight': 4.30594492302385}, {'source': 40, 'target': 40, 'weight': 13.202280428914841}, {'source': 40, 'target': 76, 'weight': 5.644219256968334}, {'source': 40, 'target': 57, 'weight': 5.149308744983405}, {'source': 40, 'target': 78, 'weight': 5.838191927501019}, {'source': 40, 'target': 109, 'weight': 5.3555519871387345}, {'source': 40, 'target': 110, 'weight': 11.297223657832955}, {'source': 40, 'target': 84, 'weight': 5.369715336064938}, {'source': 40, 'target': 52, 'weight': 5.222665920995343}, {'source': 40, 'target': 86, 'weight': 4.92912153621152}, {'source': 40, 'target': 116, 'weight': 5.025783096836517}, {'source': 40, 'target': 88, 'weight': 4.858588662859344}, {'source': 40, 'target': 117, 'weight': 7.8517491620190825}, {'source': 40, 'target': 54, 'weight': 14.74959014253714}, {'source': 40, 'target': 56, 'weight': 5.6762724922965715}, {'source': 40, 'target': 104, 'weight': 5.685816490689882}, {'source': 41, 'target': 54, 'weight': 6.281395476597831}, {'source': 41, 'target': 46, 'weight': 7.592599005456396}, {'source': 41, 'target': 110, 'weight': 4.589634408882237}, {'source': 42, 'target': 110, 'weight': 4.863594471381778}, {'source': 43, 'target': 54, 'weight': 4.885101409470428}, {'source': 46, 'target': 63, 'weight': 6.287153631004482}, {'source': 46, 'target': 54, 'weight': 4.583898790322488}, {'source': 48, 'target': 78, 'weight': 4.209980803378183}, {'source': 49, 'target': 54, 'weight': 5.7964134635264655}, {'source': 49, 'target': 67, 'weight': 5.940299002495009}, {'source': 51, 'target': 87, 'weight': 5.407416049542262}, {'source': 52, 'target': 110, 'weight': 4.362401680730869}, {'source': 52, 'target': 63, 'weight': 8.50821446456219}, {'source': 52, 'target': 52, 'weight': 4.920404053761732}, {'source': 52, 'target': 86, 'weight': 4.07072452246001}, {'source': 52, 'target': 54, 'weight': 7.44304837484434}, {'source': 52, 'target': 104, 'weight': 4.191032707958717}, {'source': 52, 'target': 91, 'weight': 4.004640131937038}, {'source': 53, 'target': 63, 'weight': 5.322366117655648}, {'source': 53, 'target': 54, 'weight': 4.251960127690174}, {'source': 54, 'target': 58, 'weight': 7.838626523662322}, {'source': 54, 'target': 121, 'weight': 4.040409592813483}, {'source': 54, 'target': 60, 'weight': 4.491116551793453}, {'source': 54, 'target': 63, 'weight': 30.509618942673615}, {'source': 54, 'target': 67, 'weight': 9.394696946987462}, {'source': 54, 'target': 80, 'weight': 8.727903834120436}, {'source': 54, 'target': 71, 'weight': 5.84974753709081}, {'source': 54, 'target': 64, 'weight': 4.5964955948682364}, {'source': 54, 'target': 74, 'weight': 4.50344046216731}, {'source': 54, 'target': 76, 'weight': 9.174216815703815}, {'source': 54, 'target': 75, 'weight': 4.597754860180499}, {'source': 54, 'target': 78, 'weight': 14.480300728054493}, {'source': 54, 'target': 79, 'weight': 5.19438340677418}, {'source': 54, 'target': 105, 'weight': 4.1063006263990225}, {'source': 54, 'target': 85, 'weight': 4.328078776168114}, {'source': 54, 'target': 89, 'weight': 5.491667460082728}, {'source': 54, 'target': 86, 'weight': 5.99345907842375}, {'source': 54, 'target': 98, 'weight': 4.784899782086396}, {'source': 54, 'target': 88, 'weight': 6.670619320263696}, {'source': 54, 'target': 91, 'weight': 6.951527097602943}, {'source': 54, 'target': 93, 'weight': 14.088040475195815}, {'source': 54, 'target': 95, 'weight': 4.597822388026936}, {'source': 54, 'target': 68, 'weight': 4.05154753028128}, {'source': 54, 'target': 119, 'weight': 4.563857669106585}, {'source': 54, 'target': 72, 'weight': 5.244925939888596}, {'source': 54, 'target': 66, 'weight': 6.252982012889898}, {'source': 54, 'target': 101, 'weight': 7.099094165130097}, {'source': 54, 'target': 102, 'weight': 4.25134741270554}, {'source': 54, 'target': 104, 'weight': 7.535016389041313}, {'source': 54, 'target': 122, 'weight': 5.861431656168974}, {'source': 54, 'target': 107, 'weight': 6.466426285114795}, {'source': 54, 'target': 108, 'weight': 7.335128389477216}, {'source': 54, 'target': 110, 'weight': 35.81464025352012}, {'source': 54, 'target': 111, 'weight': 4.741258990853481}, {'source': 54, 'target': 114, 'weight': 5.309762438424452}, {'source': 54, 'target': 116, 'weight': 8.121679719841612}, {'source': 54, 'target': 117, 'weight': 6.355068250794573}, {'source': 54, 'target': 54, 'weight': 24.272943872837114}, {'source': 54, 'target': 118, 'weight': 6.07781844401648}, {'source': 54, 'target': 56, 'weight': 8.11319316571319}, {'source': 54, 'target': 103, 'weight': 7.545262097811368}, {'source': 54, 'target': 57, 'weight': 9.33734725561617}, {'source': 54, 'target': 124, 'weight': 5.327116594769434}, {'source': 55, 'target': 63, 'weight': 4.118999602883644}, {'source': 56, 'target': 78, 'weight': 4.120561289833949}, {'source': 56, 'target': 108, 'weight': 5.292493008074169}, {'source': 56, 'target': 63, 'weight': 6.300226476964618}, {'source': 56, 'target': 86, 'weight': 4.61393338563586}, {'source': 56, 'target': 76, 'weight': 4.753822334769194}, {'source': 56, 'target': 93, 'weight': 8.243417077646331}, {'source': 57, 'target': 110, 'weight': 6.521976602182488}, {'source': 57, 'target': 93, 'weight': 5.641268768026711}, {'source': 57, 'target': 63, 'weight': 7.078960138629022}, {'source': 57, 'target': 80, 'weight': 5.40464040695913}, {'source': 58, 'target': 116, 'weight': 4.4964055965042204}, {'source': 58, 'target': 63, 'weight': 4.675690561378795}, {'source': 58, 'target': 78, 'weight': 4.384710844087268}, {'source': 58, 'target': 110, 'weight': 5.556956357290678}, {'source': 58, 'target': 76, 'weight': 4.69742008249479}, {'source': 59, 'target': 63, 'weight': 4.256615307550534}, {'source': 60, 'target': 63, 'weight': 8.075289829122068}, {'source': 62, 'target': 108, 'weight': 4.950249168745841}, {'source': 63, 'target': 114, 'weight': 5.220442704850837}, {'source': 63, 'target': 63, 'weight': 29.864736623309774}, {'source': 63, 'target': 66, 'weight': 5.1904211552221104}, {'source': 63, 'target': 80, 'weight': 7.760731127825659}, {'source': 63, 'target': 71, 'weight': 4.348523075025955}, {'source': 63, 'target': 64, 'weight': 4.199795383154136}, {'source': 63, 'target': 74, 'weight': 4.8145060515613824}, {'source': 63, 'target': 76, 'weight': 6.474816864102467}, {'source': 63, 'target': 116, 'weight': 7.753624871358155}, {'source': 63, 'target': 105, 'weight': 8.78535842543366}, {'source': 63, 'target': 88, 'weight': 4.558299434145525}, {'source': 63, 'target': 82, 'weight': 5.477541592788889}, {'source': 63, 'target': 84, 'weight': 7.405069185645637}, {'source': 63, 'target': 86, 'weight': 4.258014688148897}, {'source': 63, 'target': 87, 'weight': 5.031251875289773}, {'source': 63, 'target': 92, 'weight': 6.5646042981200114}, {'source': 63, 'target': 93, 'weight': 4.066031307362076}, {'source': 63, 'target': 78, 'weight': 6.261404885826202}, {'source': 63, 'target': 95, 'weight': 4.785245656964538}, {'source': 63, 'target': 101, 'weight': 4.468462248479296}, {'source': 63, 'target': 103, 'weight': 7.185180503827335}, {'source': 63, 'target': 121, 'weight': 7.4726460075228145}, {'source': 63, 'target': 67, 'weight': 7.305322548190388}, {'source': 63, 'target': 110, 'weight': 12.95993927151279}, {'source': 63, 'target': 89, 'weight': 5.289728191893996}, {'source': 63, 'target': 108, 'weight': 4.762057268770591}, {'source': 63, 'target': 109, 'weight': 6.389099711798601}, {'source': 63, 'target': 111, 'weight': 4.692442268569728}, {'source': 63, 'target': 117, 'weight': 7.435850006194059}, {'source': 63, 'target': 120, 'weight': 7.33172617975083}, {'source': 63, 'target': 104, 'weight': 5.905178888738175}, {'source': 63, 'target': 123, 'weight': 4.206117165115332}, {'source': 63, 'target': 124, 'weight': 4.850234119835894}, {'source': 64, 'target': 110, 'weight': 4.33340360169887}, {'source': 64, 'target': 76, 'weight': 5.940299002495009}, {'source': 65, 'target': 114, 'weight': 4.032957620504216}, {'source': 70, 'target': 108, 'weight': 4.663372434118331}, {'source': 71, 'target': 110, 'weight': 4.023006292005356}, {'source': 75, 'target': 78, 'weight': 5.949893629712765}, {'source': 75, 'target': 76, 'weight': 4.1108933217025125}, {'source': 76, 'target': 101, 'weight': 4.036814308972275}, {'source': 76, 'target': 78, 'weight': 5.150962170537482}, {'source': 76, 'target': 108, 'weight': 9.646207386085399}, {'source': 76, 'target': 110, 'weight': 6.140806619407566}, {'source': 76, 'target': 86, 'weight': 4.63457815114009}, {'source': 76, 'target': 116, 'weight': 4.051653971617567}, {'source': 76, 'target': 93, 'weight': 4.314767084698858}, {'source': 78, 'target': 78, 'weight': 7.0318395273586285}, {'source': 78, 'target': 110, 'weight': 7.922752734968977}, {'source': 78, 'target': 101, 'weight': 4.616982487866702}, {'source': 78, 'target': 116, 'weight': 4.738408522995368}, {'source': 80, 'target': 110, 'weight': 9.16137282467849}, {'source': 80, 'target': 91, 'weight': 11.587994059021568}, {'source': 80, 'target': 118, 'weight': 4.575100285799603}, {'source': 83, 'target': 110, 'weight': 4.087569330893507}, {'source': 84, 'target': 109, 'weight': 4.128214924547072}, {'source': 85, 'target': 94, 'weight': 4.803947195761616}, {'source': 86, 'target': 110, 'weight': 4.0940765378202375}, {'source': 86, 'target': 86, 'weight': 5.717878381032844}, {'source': 88, 'target': 110, 'weight': 5.639241472997122}, {'source': 88, 'target': 109, 'weight': 4.455784150793709}, {'source': 91, 'target': 118, 'weight': 4.009645940459472}, {'source': 93, 'target': 110, 'weight': 5.419308400499607}, {'source': 95, 'target': 110, 'weight': 5.6950310102868915}, {'source': 96, 'target': 116, 'weight': 4.812343123962884}, {'source': 97, 'target': 108, 'weight': 5.8817782133013194}, {'source': 101, 'target': 110, 'weight': 4.094745016809233}, {'source': 103, 'target': 110, 'weight': 4.291064925063075}, {'source': 104, 'target': 110, 'weight': 10.038595519651773}, {'source': 104, 'target': 122, 'weight': 5.940299002495009}, {'source': 105, 'target': 110, 'weight': 5.506341236736598}, {'source': 106, 'target': 110, 'weight': 4.028235850236535}, {'source': 108, 'target': 110, 'weight': 5.201947008103462}, {'source': 110, 'target': 121, 'weight': 4.165149844526679}, {'source': 110, 'target': 110, 'weight': 9.874106109565886}, {'source': 110, 'target': 111, 'weight': 5.303474723679657}, {'source': 110, 'target': 113, 'weight': 7.036621420168773}, {'source': 110, 'target': 116, 'weight': 4.018089963261552}]\n",
       "    };\n",
       "\n",
       "    var simulation = d3.forceSimulation(graph.nodes)\n",
       "        .force(\"link\", d3.forceLink(graph.links))\n",
       "        .force(\"charge\", d3.forceManyBody())\n",
       "        .force(\"center\", d3.forceCenter(width / 2.0, height / 2.0));\n",
       "\n",
       "    var link = svg.append(\"g\")\n",
       "        .attr(\"class\", \"links\")\n",
       "        .selectAll(\"line\")\n",
       "        .data(graph.links)\n",
       "        .enter().append(\"line\")\n",
       "        .style(\"stroke-linecap\", \"round\")\n",
       "        .style(\"stroke\", function(d) {return colour(d.weight);})\n",
       "        .style(\"stroke-width\", function (d) {return Math.sqrt(d.weight);});\n",
       "\n",
       "    var node = svg.append(\"g\")\n",
       "        .attr(\"class\", \"nodes\")\n",
       "        .selectAll(\"g\")\n",
       "        .data(graph.nodes)\n",
       "        .enter().append(\"g\");\n",
       "\n",
       "    var circle = node.append(\"circle\")\n",
       "        .attr(\"r\", 4.5)\n",
       "        .style(\"fill\", \"grey\")\n",
       "        .call(d3.drag()\n",
       "            .on(\"start\", dragstarted)\n",
       "            .on(\"drag\", dragged)\n",
       "            .on(\"end\", dragended));\n",
       "\n",
       "    //node.append(\"title\")\n",
       "    //    .text(function(d) { return d.id; });\n",
       "\n",
       "    var t2 = node.append(\"text\")\n",
       "      .attr(\"dx\", 10)\n",
       "      .attr(\"dy\", \".35em\")\n",
       "      .text(function(d) { return d.id; });\n",
       "\n",
       "    simulation\n",
       "        .on(\"tick\", ticked);\n",
       "\n",
       "    function ticked() {\n",
       "        link\n",
       "            .attr(\"x1\", function(d) { return d.source.x; })\n",
       "            .attr(\"y1\", function(d) { return d.source.y; })\n",
       "            .attr(\"x2\", function(d) { return d.target.x; })\n",
       "            .attr(\"y2\", function(d) { return d.target.y; });\n",
       "\n",
       "        circle\n",
       "            .attr(\"cx\", function(d) { return d.x; })\n",
       "            .attr(\"cy\", function(d) { return d.y; });\n",
       "\n",
       "        t2\n",
       "            .attr(\"x\", function(d) { return d.x; })\n",
       "            .attr(\"y\", function(d) { return d.y; });\n",
       "    };\n",
       "\n",
       "    function dragstarted(d) {\n",
       "        if (!d3.event.active) simulation.alphaTarget(0.3).restart();\n",
       "        d.fx = d.x;\n",
       "        d.fy = d.y;\n",
       "    };\n",
       "\n",
       "    function dragged(d) {\n",
       "        d.fx = d3.event.x;\n",
       "        d.fy = d3.event.y;\n",
       "    };\n",
       "\n",
       "    function dragended(d) {\n",
       "        if (!d3.event.active) simulation.alphaTarget(0);\n",
       "        d.fx = null;\n",
       "        d.fy = null;\n",
       "    };\n",
       "\n",
       "});\n",
       "\n"
      ]
     },
     "metadata": {},
     "output_type": "display_data"
    }
   ],
   "source": [
    "# visualise co-occurrence > 1\n",
    "w = words_by_co_occurrence[words_by_co_occurrence['weight']>4]\n",
    "tmt.visualisation.plot_force_directed_graph(w)"
   ]
  },
  {
   "cell_type": "code",
   "execution_count": null,
   "metadata": {
    "collapsed": true
   },
   "outputs": [],
   "source": []
  }
 ],
 "metadata": {
  "anaconda-cloud": {},
  "kernelspec": {
   "display_name": "Python [conda root]",
   "language": "python",
   "name": "conda-root-py"
  },
  "language_info": {
   "codemirror_mode": {
    "name": "ipython",
    "version": 3
   },
   "file_extension": ".py",
   "mimetype": "text/x-python",
   "name": "python",
   "nbconvert_exporter": "python",
   "pygments_lexer": "ipython3",
   "version": "3.5.2"
  }
 },
 "nbformat": 4,
 "nbformat_minor": 0
}
