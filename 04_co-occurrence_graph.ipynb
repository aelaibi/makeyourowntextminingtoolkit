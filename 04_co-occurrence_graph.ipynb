{
 "cells": [
  {
   "cell_type": "code",
   "execution_count": 1,
   "metadata": {
    "collapsed": true
   },
   "outputs": [],
   "source": [
    "# notebook to illustrate co-occurrence graphs"
   ]
  },
  {
   "cell_type": "code",
   "execution_count": 2,
   "metadata": {
    "collapsed": false
   },
   "outputs": [],
   "source": [
    "# following only used for development, reloads the modules with any code changes\n",
    "%load_ext autoreload\n",
    "%autoreload 2\n",
    "\n",
    "# inline matplotlib charts\n",
    "%matplotlib inline"
   ]
  },
  {
   "cell_type": "code",
   "execution_count": 3,
   "metadata": {
    "collapsed": false
   },
   "outputs": [],
   "source": [
    "# import our text mining toolkit\n",
    "import text_mining_toolkit as tmt"
   ]
  },
  {
   "cell_type": "code",
   "execution_count": 4,
   "metadata": {
    "collapsed": false
   },
   "outputs": [
    {
     "name": "stdout",
     "output_type": "stream",
     "text": [
      "content_directory =  data_sets/recipes/txt/\n",
      "text_filename_pattern =  ??.txt\n",
      "self.documents populated =  22\n"
     ]
    }
   ],
   "source": [
    "cr = tmt.corpus_reader.CorpusReader(content_directory=\"data_sets/recipes/txt/\", text_filename_pattern=\"??.txt\")\n",
    "#cr = tmt.corpus_reader.CorpusReader(directory_of_files=\"data_sets/mystery_corpus_01/txt/\", text_filename_pattern=\"??.txt\")\n",
    "#cr = tmt.corpus_reader.CorpusReader(content_directory=\"data_sets/iraq_inquiry/txt/\", text_filename_pattern=\"the-report*.txt\")\n",
    "#cr = tmt.corpus_reader.CorpusReader(content_directory=\"data_sets/clinton_emails/txt/\", text_filename_pattern=\"C0*\")\n",
    "#cr = tmt.corpus_reader.CorpusReader(content_directory=\"data_sets/shakespeare_macbeth/txt/\", text_filename_pattern=\"macbeth_act_0?_scene_0?.txt\")"
   ]
  },
  {
   "cell_type": "code",
   "execution_count": 5,
   "metadata": {
    "collapsed": false,
    "scrolled": true
   },
   "outputs": [
    {
     "name": "stdout",
     "output_type": "stream",
     "text": [
      "removed co-occurrence matrix file:  data_sets/recipes/txt/matrix.cooccurrence\n",
      "processing  00.txt\n",
      "processing  01.txt\n",
      "processing  02.txt\n",
      "processing  03.txt\n",
      "processing  04.txt\n",
      "processing  05.txt\n",
      "processing  06.txt\n",
      "processing  07.txt\n",
      "processing  08.txt\n",
      "processing  09.txt\n",
      "processing  10.txt\n",
      "processing  11.txt\n",
      "processing  12.txt\n",
      "processing  13.txt\n",
      "processing  14.txt\n",
      "processing  15.txt\n",
      "processing  16.txt\n",
      "processing  17.txt\n",
      "processing  18.txt\n",
      "processing  19.txt\n",
      "processing  20.txt\n",
      "processing  21.txt\n"
     ]
    }
   ],
   "source": [
    "# first clear index\n",
    "tmt.cooccurrence.delete_matrices(cr.content_directory)\n",
    "\n",
    "# for all documents in corpus\n",
    "for document_name in cr.get_documents():\n",
    "    print(\"processing \", document_name)\n",
    "\n",
    "    # get document text\n",
    "    document_text = cr.get_text_by_document(document_name)\n",
    "\n",
    "    # simplify whitespace (remove newlines)\n",
    "    b = tmt.text_processing.simplify_whitespace(document_text)\n",
    "\n",
    "    # only keep alphanumeric characters, removes punctuation\n",
    "    c = tmt.text_processing.keep_alphanumeric(b)\n",
    "\n",
    "    # make lowercase\n",
    "    d = tmt.text_processing.to_lowercase(c)\n",
    "\n",
    "    # split into words list\n",
    "    dl = tmt.text_processing.split_text_into_words(d)\n",
    "    # build n-grams\n",
    "    #gl = tmt.word_processing.build_ngrams_from_words(dl,2)\n",
    "\n",
    "    # remove stop words\n",
    "    #el = tmt.word_processing.remove_stop_words(dl, \"./stopwords/minimal-stop.txt\")\n",
    "    \n",
    "    # update index\n",
    "    tmt.cooccurrence.create_cooccurrence_matrix_for_document(cr.content_directory, document_name, dl)\n",
    "    pass\n"
   ]
  },
  {
   "cell_type": "code",
   "execution_count": 6,
   "metadata": {
    "collapsed": false
   },
   "outputs": [
    {
     "name": "stdout",
     "output_type": "stream",
     "text": [
      "saving corpus co-occurrence matrix ...  data_sets/recipes/txt/matrix.cooccurrence\n"
     ]
    }
   ],
   "source": [
    "# merge document indices into a corpus index\n",
    "tmt.cooccurrence.merge_cooccurrence_matrices_for_corpus(cr.content_directory)"
   ]
  },
  {
   "cell_type": "code",
   "execution_count": 7,
   "metadata": {
    "collapsed": false
   },
   "outputs": [
    {
     "name": "stdout",
     "output_type": "stream",
     "text": [
      "cooccurrence_matrix_file  data_sets/recipes/txt/matrix.cooccurrence\n",
      "         1   12  ...    zucchini  zuppa\n",
      "1      0.0  0.0  ...         0.0    0.0\n",
      "12     0.0  0.0  ...         0.0    0.0\n",
      "14     0.0  0.0  ...         0.0    0.0\n",
      "2      0.0  0.0  ...         0.0    0.0\n",
      "3      0.0  0.0  ...         0.0    0.0\n",
      "32     0.0  0.0  ...         0.0    0.0\n",
      "4      0.0  0.0  ...         0.0    0.0\n",
      "54     0.0  0.0  ...         0.0    0.0\n",
      "a      0.0  0.0  ...         0.0    0.0\n",
      "about  0.0  0.0  ...         0.0    0.0\n",
      "\n",
      "[10 rows x 672 columns]\n"
     ]
    }
   ],
   "source": [
    "tmt.cooccurrence.print_matrix(cr.content_directory)"
   ]
  },
  {
   "cell_type": "code",
   "execution_count": 8,
   "metadata": {
    "collapsed": false
   },
   "outputs": [
    {
     "data": {
      "text/plain": [
       "16.0"
      ]
     },
     "execution_count": 8,
     "metadata": {},
     "output_type": "execute_result"
    }
   ],
   "source": [
    "# query the co-occurrence value for a given pair of words\n",
    "tmt.cooccurrence.query_cooccurance_matrix(cr.content_directory, \"in\", \"the\")"
   ]
  },
  {
   "cell_type": "code",
   "execution_count": 36,
   "metadata": {
    "collapsed": false
   },
   "outputs": [
    {
     "data": {
      "text/plain": [
       "'pepper'"
      ]
     },
     "execution_count": 36,
     "metadata": {},
     "output_type": "execute_result"
    }
   ],
   "source": [
    "# get the most likely next word by co-occurrence value for given word\n",
    "tmt.cooccurrence.most_likely_next(cr.content_directory, \"and\")"
   ]
  },
  {
   "cell_type": "code",
   "execution_count": 37,
   "metadata": {
    "collapsed": false
   },
   "outputs": [
    {
     "name": "stdout",
     "output_type": "stream",
     "text": [
      "the fire with a little more and pepper\n",
      "once into the fire with a little more\n",
      "then cut them in the fire with a\n",
      "olive oil and pepper and pepper and pepper\n",
      "tomato sauce salsa bianca this sauce salsa bianca\n",
      "cut them in the fire with a little\n",
      "cook in the fire with a little more\n",
      "little more and pepper and pepper and pepper\n",
      "boiled chicken or a little more and pepper\n"
     ]
    }
   ],
   "source": [
    "#generate sentences based on co-occurence\n",
    "sentence_length = 7\n",
    "\n",
    "#initial words \n",
    "for w in [\"the\", \"once\", \"then\", \"olive\", \"tomato\", \"cut\", \"cook\", \"little\", \"boiled\"]:\n",
    "    sentence = w\n",
    "    for i in range(sentence_length):\n",
    "        w = tmt.cooccurrence.most_likely_next(cr.content_directory, w)\n",
    "        sentence += (\" \" + w)\n",
    "        pass\n",
    "    print(sentence)\n",
    "    pass\n"
   ]
  },
  {
   "cell_type": "code",
   "execution_count": 11,
   "metadata": {
    "collapsed": false
   },
   "outputs": [
    {
     "data": {
      "text/html": [
       "<div>\n",
       "<table border=\"1\" class=\"dataframe\">\n",
       "  <thead>\n",
       "    <tr style=\"text-align: right;\">\n",
       "      <th></th>\n",
       "      <th>word1</th>\n",
       "      <th>word2</th>\n",
       "      <th>weight</th>\n",
       "    </tr>\n",
       "  </thead>\n",
       "  <tbody>\n",
       "    <tr>\n",
       "      <th>0</th>\n",
       "      <td>of</td>\n",
       "      <td>the</td>\n",
       "      <td>19.0</td>\n",
       "    </tr>\n",
       "    <tr>\n",
       "      <th>1</th>\n",
       "      <td>with</td>\n",
       "      <td>a</td>\n",
       "      <td>17.0</td>\n",
       "    </tr>\n",
       "    <tr>\n",
       "      <th>2</th>\n",
       "      <td>in</td>\n",
       "      <td>the</td>\n",
       "      <td>16.0</td>\n",
       "    </tr>\n",
       "    <tr>\n",
       "      <th>3</th>\n",
       "      <td>a</td>\n",
       "      <td>little</td>\n",
       "      <td>16.0</td>\n",
       "    </tr>\n",
       "    <tr>\n",
       "      <th>4</th>\n",
       "      <td>grated</td>\n",
       "      <td>cheese</td>\n",
       "      <td>16.0</td>\n",
       "    </tr>\n",
       "    <tr>\n",
       "      <th>5</th>\n",
       "      <td>salt</td>\n",
       "      <td>and</td>\n",
       "      <td>15.0</td>\n",
       "    </tr>\n",
       "    <tr>\n",
       "      <th>6</th>\n",
       "      <td>it</td>\n",
       "      <td>is</td>\n",
       "      <td>14.0</td>\n",
       "    </tr>\n",
       "    <tr>\n",
       "      <th>7</th>\n",
       "      <td>in</td>\n",
       "      <td>a</td>\n",
       "      <td>13.0</td>\n",
       "    </tr>\n",
       "    <tr>\n",
       "      <th>8</th>\n",
       "      <td>them</td>\n",
       "      <td>in</td>\n",
       "      <td>13.0</td>\n",
       "    </tr>\n",
       "    <tr>\n",
       "      <th>9</th>\n",
       "      <td>the</td>\n",
       "      <td>fire</td>\n",
       "      <td>12.0</td>\n",
       "    </tr>\n",
       "    <tr>\n",
       "      <th>10</th>\n",
       "      <td>and</td>\n",
       "      <td>pepper</td>\n",
       "      <td>10.0</td>\n",
       "    </tr>\n",
       "    <tr>\n",
       "      <th>11</th>\n",
       "      <td>and</td>\n",
       "      <td>put</td>\n",
       "      <td>10.0</td>\n",
       "    </tr>\n",
       "    <tr>\n",
       "      <th>12</th>\n",
       "      <td>on</td>\n",
       "      <td>the</td>\n",
       "      <td>10.0</td>\n",
       "    </tr>\n",
       "    <tr>\n",
       "      <th>13</th>\n",
       "      <td>they</td>\n",
       "      <td>are</td>\n",
       "      <td>10.0</td>\n",
       "    </tr>\n",
       "    <tr>\n",
       "      <th>14</th>\n",
       "      <td>oil</td>\n",
       "      <td>and</td>\n",
       "      <td>9.0</td>\n",
       "    </tr>\n",
       "    <tr>\n",
       "      <th>15</th>\n",
       "      <td>to</td>\n",
       "      <td>be</td>\n",
       "      <td>9.0</td>\n",
       "    </tr>\n",
       "    <tr>\n",
       "      <th>16</th>\n",
       "      <td>over</td>\n",
       "      <td>the</td>\n",
       "      <td>9.0</td>\n",
       "    </tr>\n",
       "    <tr>\n",
       "      <th>17</th>\n",
       "      <td>tomato</td>\n",
       "      <td>sauce</td>\n",
       "      <td>8.0</td>\n",
       "    </tr>\n",
       "    <tr>\n",
       "      <th>18</th>\n",
       "      <td>with</td>\n",
       "      <td>the</td>\n",
       "      <td>8.0</td>\n",
       "    </tr>\n",
       "    <tr>\n",
       "      <th>19</th>\n",
       "      <td>butter</td>\n",
       "      <td>and</td>\n",
       "      <td>8.0</td>\n",
       "    </tr>\n",
       "  </tbody>\n",
       "</table>\n",
       "</div>"
      ],
      "text/plain": [
       "     word1   word2  weight\n",
       "0       of     the    19.0\n",
       "1     with       a    17.0\n",
       "2       in     the    16.0\n",
       "3        a  little    16.0\n",
       "4   grated  cheese    16.0\n",
       "5     salt     and    15.0\n",
       "6       it      is    14.0\n",
       "7       in       a    13.0\n",
       "8     them      in    13.0\n",
       "9      the    fire    12.0\n",
       "10     and  pepper    10.0\n",
       "11     and     put    10.0\n",
       "12      on     the    10.0\n",
       "13    they     are    10.0\n",
       "14     oil     and     9.0\n",
       "15      to      be     9.0\n",
       "16    over     the     9.0\n",
       "17  tomato   sauce     8.0\n",
       "18    with     the     8.0\n",
       "19  butter     and     8.0"
      ]
     },
     "execution_count": 11,
     "metadata": {},
     "output_type": "execute_result"
    }
   ],
   "source": [
    "words_by_co_occurrence = tmt.cooccurrence.get_word_pairs_by_cooccurrence(cr.content_directory)\n",
    "# 20 most common\n",
    "words_by_co_occurrence[:20]"
   ]
  },
  {
   "cell_type": "code",
   "execution_count": 12,
   "metadata": {
    "collapsed": false
   },
   "outputs": [
    {
     "data": {
      "text/html": [
       "<div>\n",
       "<table border=\"1\" class=\"dataframe\">\n",
       "  <thead>\n",
       "    <tr style=\"text-align: right;\">\n",
       "      <th></th>\n",
       "      <th>word1</th>\n",
       "      <th>word2</th>\n",
       "      <th>weight</th>\n",
       "    </tr>\n",
       "  </thead>\n",
       "  <tbody>\n",
       "    <tr>\n",
       "      <th>2183</th>\n",
       "      <td>paste</td>\n",
       "      <td>with</td>\n",
       "      <td>1.0</td>\n",
       "    </tr>\n",
       "    <tr>\n",
       "      <th>2184</th>\n",
       "      <td>pastes</td>\n",
       "      <td>which</td>\n",
       "      <td>1.0</td>\n",
       "    </tr>\n",
       "    <tr>\n",
       "      <th>2185</th>\n",
       "      <td>pasticciata</td>\n",
       "      <td>make</td>\n",
       "      <td>1.0</td>\n",
       "    </tr>\n",
       "    <tr>\n",
       "      <th>2186</th>\n",
       "      <td>peel</td>\n",
       "      <td>let</td>\n",
       "      <td>1.0</td>\n",
       "    </tr>\n",
       "    <tr>\n",
       "      <th>2187</th>\n",
       "      <td>pepper</td>\n",
       "      <td>a</td>\n",
       "      <td>1.0</td>\n",
       "    </tr>\n",
       "    <tr>\n",
       "      <th>2188</th>\n",
       "      <td>pepper</td>\n",
       "      <td>cut</td>\n",
       "      <td>1.0</td>\n",
       "    </tr>\n",
       "    <tr>\n",
       "      <th>2189</th>\n",
       "      <td>pieces</td>\n",
       "      <td>as</td>\n",
       "      <td>1.0</td>\n",
       "    </tr>\n",
       "    <tr>\n",
       "      <th>2190</th>\n",
       "      <td>pepper</td>\n",
       "      <td>grated</td>\n",
       "      <td>1.0</td>\n",
       "    </tr>\n",
       "    <tr>\n",
       "      <th>2191</th>\n",
       "      <td>pepper</td>\n",
       "      <td>let</td>\n",
       "      <td>1.0</td>\n",
       "    </tr>\n",
       "    <tr>\n",
       "      <th>2192</th>\n",
       "      <td>pepper</td>\n",
       "      <td>stir</td>\n",
       "      <td>1.0</td>\n",
       "    </tr>\n",
       "    <tr>\n",
       "      <th>2193</th>\n",
       "      <td>pepper</td>\n",
       "      <td>to</td>\n",
       "      <td>1.0</td>\n",
       "    </tr>\n",
       "    <tr>\n",
       "      <th>2194</th>\n",
       "      <td>pepper</td>\n",
       "      <td>will</td>\n",
       "      <td>1.0</td>\n",
       "    </tr>\n",
       "    <tr>\n",
       "      <th>2195</th>\n",
       "      <td>peppers</td>\n",
       "      <td>can</td>\n",
       "      <td>1.0</td>\n",
       "    </tr>\n",
       "    <tr>\n",
       "      <th>2196</th>\n",
       "      <td>per</td>\n",
       "      <td>contorno</td>\n",
       "      <td>1.0</td>\n",
       "    </tr>\n",
       "    <tr>\n",
       "      <th>2197</th>\n",
       "      <td>pie</td>\n",
       "      <td>polenta</td>\n",
       "      <td>1.0</td>\n",
       "    </tr>\n",
       "    <tr>\n",
       "      <th>2198</th>\n",
       "      <td>piece</td>\n",
       "      <td>celery</td>\n",
       "      <td>1.0</td>\n",
       "    </tr>\n",
       "    <tr>\n",
       "      <th>2199</th>\n",
       "      <td>piece</td>\n",
       "      <td>chop</td>\n",
       "      <td>1.0</td>\n",
       "    </tr>\n",
       "    <tr>\n",
       "      <th>2200</th>\n",
       "      <td>pieces</td>\n",
       "      <td>about</td>\n",
       "      <td>1.0</td>\n",
       "    </tr>\n",
       "    <tr>\n",
       "      <th>2201</th>\n",
       "      <td>pieces</td>\n",
       "      <td>and</td>\n",
       "      <td>1.0</td>\n",
       "    </tr>\n",
       "    <tr>\n",
       "      <th>2202</th>\n",
       "      <td>1</td>\n",
       "      <td>with</td>\n",
       "      <td>1.0</td>\n",
       "    </tr>\n",
       "  </tbody>\n",
       "</table>\n",
       "</div>"
      ],
      "text/plain": [
       "            word1     word2  weight\n",
       "2183        paste      with     1.0\n",
       "2184       pastes     which     1.0\n",
       "2185  pasticciata      make     1.0\n",
       "2186         peel       let     1.0\n",
       "2187       pepper         a     1.0\n",
       "2188       pepper       cut     1.0\n",
       "2189       pieces        as     1.0\n",
       "2190       pepper    grated     1.0\n",
       "2191       pepper       let     1.0\n",
       "2192       pepper      stir     1.0\n",
       "2193       pepper        to     1.0\n",
       "2194       pepper      will     1.0\n",
       "2195      peppers       can     1.0\n",
       "2196          per  contorno     1.0\n",
       "2197          pie   polenta     1.0\n",
       "2198        piece    celery     1.0\n",
       "2199        piece      chop     1.0\n",
       "2200       pieces     about     1.0\n",
       "2201       pieces       and     1.0\n",
       "2202            1      with     1.0"
      ]
     },
     "execution_count": 12,
     "metadata": {},
     "output_type": "execute_result"
    }
   ],
   "source": [
    "# 20 least common\n",
    "words_by_co_occurrence[-20:]"
   ]
  },
  {
   "cell_type": "code",
   "execution_count": 31,
   "metadata": {
    "collapsed": false
   },
   "outputs": [
    {
     "data": {
      "text/html": [
       "<div id=\"d3-container-5674191\"></div>\n",
       "<div>force-directed graph</div>\n",
       "\n",
       "<style>\n",
       "    .links line {\n",
       "        stroke: #999;\n",
       "        stroke-opacity: .3;\n",
       "    }\n",
       "\n",
       "    .nodes circle {\n",
       "        pointer-events: all;\n",
       "        stroke: #fff;\n",
       "        stroke-width: 1.5px;\n",
       "    }\n",
       "\n",
       "    .nodes text {\n",
       "        pointer-events: none;\n",
       "        font: 10px sans-serif;\n",
       "        fill: #000000;\n",
       "        opacity: .7;\n",
       "    }\n",
       "</style>\n"
      ]
     },
     "metadata": {},
     "output_type": "display_data"
    },
    {
     "data": {
      "application/javascript": [
       "// require is needed to make d3 work in a noebooks from imported code\n",
       "require.config({\n",
       "    paths: {\n",
       "        d3: \"https://d3js.org/d3.v4.min\"\n",
       "    }\n",
       "});\n",
       "\n",
       "require([\"d3\"], function(d3) {\n",
       "    //console.log(d3.version);\n",
       "\n",
       "    var width = 800,\n",
       "        height = 600;\n",
       "\n",
       "    var svg = d3.select(\"#d3-container-5674191\")\n",
       "        .append(\"svg\")\n",
       "        .attr(\"width\", width)\n",
       "        .attr(\"height\", height);\n",
       "\n",
       "    var colour = d3.scaleOrdinal(d3.schemeCategory20c);\n",
       "\n",
       "    var graph = {\n",
       "        nodes: [{'id': 'finally'}, {'id': 'ground'}, {'id': 'pulp'}, {'id': 'artichoke'}, {'id': 'nutmeg'}, {'id': 'cool'}, {'id': 'then'}, {'id': 'do'}, {'id': 'lieu'}, {'id': 'sufficient'}, {'id': 'parmesan'}, {'id': 'stir'}, {'id': 'bread'}, {'id': 'spinach'}, {'id': 'lose'}, {'id': 'as'}, {'id': 'marrow'}, {'id': 'while'}, {'id': 'crumbs'}, {'id': 'away'}, {'id': 'see'}, {'id': 'pieces'}, {'id': 'knife'}, {'id': 'beaten'}, {'id': 'paste'}, {'id': 'if'}, {'id': 'no'}, {'id': 'is'}, {'id': 'instance'}, {'id': 'spoon'}, {'id': 'compound'}, {'id': 'baking'}, {'id': 'hour'}, {'id': 'different'}, {'id': 'together'}, {'id': 'the'}, {'id': 'stuffed'}, {'id': 'finger'}, {'id': 'hours'}, {'id': 'teaspoonful'}, {'id': 'more'}, {'id': 'also'}, {'id': 'codfish'}, {'id': 'cold'}, {'id': 'each'}, {'id': 'cut'}, {'id': 'make'}, {'id': 'over'}, {'id': 'out'}, {'id': 'you'}, {'id': 'ball'}, {'id': 'dish'}, {'id': 'until'}, {'id': 'oven'}, {'id': 'gravy'}, {'id': 'be'}, {'id': 'lb'}, {'id': 'dipped'}, {'id': 'liquid'}, {'id': 'three'}, {'id': 'sprig'}, {'id': 'fire'}, {'id': 'tablespoonfuls'}, {'id': 'cheese'}, {'id': 'leaves'}, {'id': 'which'}, {'id': 'double'}, {'id': 'asparagus'}, {'id': 'plate'}, {'id': 'olive'}, {'id': 'mold'}, {'id': 'often'}, {'id': 'but'}, {'id': 'kind'}, {'id': 'or'}, {'id': 'grated'}, {'id': 'keep'}, {'id': 'will'}, {'id': 'soup'}, {'id': 'seasoned'}, {'id': '12'}, {'id': 'balls'}, {'id': 'beef'}, {'id': 'serve'}, {'id': 'add'}, {'id': 'served'}, {'id': 'green'}, {'id': 'does'}, {'id': 'cooked'}, {'id': 'well'}, {'id': 'proportion'}, {'id': 'one'}, {'id': 'not'}, {'id': 'from'}, {'id': 'boiled'}, {'id': 'lemon'}, {'id': 'become'}, {'id': 'layer'}, {'id': 'five'}, {'id': 'diluted'}, {'id': 'seasoning'}, {'id': 'by'}, {'id': 'flour'}, {'id': 'section'}, {'id': 'vase'}, {'id': 'boil'}, {'id': 'parts'}, {'id': 'burn'}, {'id': 'inch'}, {'id': 'pour'}, {'id': 'after'}, {'id': 'ingredients'}, {'id': 'down'}, {'id': 'stale'}, {'id': 'a'}, {'id': 'sheet'}, {'id': 'composed'}, {'id': 'fingers'}, {'id': 'following'}, {'id': 'small'}, {'id': 'grind'}, {'id': 'swiss'}, {'id': 'rice'}, {'id': 'four'}, {'id': 'white'}, {'id': 'way'}, {'id': 'take'}, {'id': 'parsley'}, {'id': 'outside'}, {'id': 'doesnt'}, {'id': 'soaked'}, {'id': 'remove'}, {'id': 'mixed'}, {'id': 'between'}, {'id': 'piece'}, {'id': 'concentrated'}, {'id': 'cook'}, {'id': 'chopped'}, {'id': 'done'}, {'id': 'divide'}, {'id': 'are'}, {'id': 'few'}, {'id': 'place'}, {'id': 'them'}, {'id': 'saucepan'}, {'id': 'fish'}, {'id': 'itself'}, {'id': 'dissolve'}, {'id': 'above'}, {'id': 'brown'}, {'id': 'addition'}, {'id': 'through'}, {'id': 'excellent'}, {'id': 'been'}, {'id': 'this'}, {'id': 'fill'}, {'id': 'hash'}, {'id': 'chicken'}, {'id': 'sieve'}, {'id': 'slice'}, {'id': 'when'}, {'id': 'their'}, {'id': 'they'}, {'id': 'to'}, {'id': 'large'}, {'id': 'italian'}, {'id': 'onion'}, {'id': 'same'}, {'id': 'some'}, {'id': 'put'}, {'id': 'better'}, {'id': 'season'}, {'id': 'according'}, {'id': 'on'}, {'id': 'instead'}, {'id': 'begins'}, {'id': 'fine'}, {'id': 'into'}, {'id': 'being'}, {'id': 'filling'}, {'id': 'quantity'}, {'id': 'oil'}, {'id': 'dip'}, {'id': 'salt'}, {'id': 'fry'}, {'id': 'egg'}, {'id': 'an'}, {'id': 'artichokes'}, {'id': 'flavor'}, {'id': 'ways'}, {'id': 'milk'}, {'id': 'order'}, {'id': 'may'}, {'id': 'fireproof'}, {'id': 'taste'}, {'id': 'part'}, {'id': 'cubes'}, {'id': 'yolks'}, {'id': 'yolk'}, {'id': 'adding'}, {'id': 'thin'}, {'id': 'dosed'}, {'id': 'whole'}, {'id': 'slices'}, {'id': 'have'}, {'id': 'salsa'}, {'id': 'broth'}, {'id': 'sauce'}, {'id': 'six'}, {'id': 'froth'}, {'id': 'intervals'}, {'id': 'distances'}, {'id': 'just'}, {'id': 'very'}, {'id': 'cooking'}, {'id': 'everything'}, {'id': 'two'}, {'id': 'give'}, {'id': 'stock'}, {'id': 'at'}, {'id': 'for'}, {'id': 'throw'}, {'id': 'attached'}, {'id': 'celery'}, {'id': 'and'}, {'id': 'juice'}, {'id': 'can'}, {'id': 'fat'}, {'id': 'used'}, {'id': 'tomatoes'}, {'id': 'layers'}, {'id': 'low'}, {'id': 'boiling'}, {'id': 'inside'}, {'id': 'that'}, {'id': 'little'}, {'id': 'it'}, {'id': 'cup'}, {'id': 'greens'}, {'id': 'other'}, {'id': 'minutes'}, {'id': 'tablespoons'}, {'id': 'vinegar'}, {'id': 'board'}, {'id': 'bolognese'}, {'id': 'fresh'}, {'id': 'tomato'}, {'id': 'bay'}, {'id': 'turkey'}, {'id': 'half'}, {'id': 'interior'}, {'id': 'of'}, {'id': 'long'}, {'id': '14'}, {'id': 'beat'}, {'id': 'so'}, {'id': 'hot'}, {'id': 'many'}, {'id': 'too'}, {'id': 'butter'}, {'id': 'with'}, {'id': 'eggs'}, {'id': 'let'}, {'id': 'mix'}, {'id': 'in'}, {'id': 'pinch'}, {'id': 'tablespoonful'}, {'id': 'garlic'}, {'id': 'meat'}, {'id': 'filled'}, {'id': 'vegetables'}, {'id': 'water'}, {'id': 'browned'}, {'id': 'pepper'}, {'id': 'boiler'}],\n",
       "        links: [{'weight': 1.0, 'source': 0, 'target': 109}, {'weight': 1.0, 'source': 1, 'target': 264}, {'weight': 1.0, 'source': 2, 'target': 250}, {'weight': 2.0, 'source': 3, 'target': 44}, {'weight': 3.0, 'source': 4, 'target': 251}, {'weight': 1.0, 'source': 5, 'target': 236}, {'weight': 3.0, 'source': 6, 'target': 45}, {'weight': 1.0, 'source': 6, 'target': 227}, {'weight': 3.0, 'source': 6, 'target': 169}, {'weight': 2.0, 'source': 6, 'target': 84}, {'weight': 4.0, 'source': 6, 'target': 224}, {'weight': 2.0, 'source': 7, 'target': 92}, {'weight': 1.0, 'source': 8, 'target': 264}, {'weight': 2.0, 'source': 9, 'target': 140}, {'weight': 2.0, 'source': 9, 'target': 220}, {'weight': 2.0, 'source': 10, 'target': 74}, {'weight': 2.0, 'source': 10, 'target': 63}, {'weight': 2.0, 'source': 11, 'target': 236}, {'weight': 2.0, 'source': 11, 'target': 224}, {'weight': 3.0, 'source': 12, 'target': 243}, {'weight': 2.0, 'source': 12, 'target': 113}, {'weight': 5.0, 'source': 12, 'target': 18}, {'weight': 6.0, 'source': 12, 'target': 251}, {'weight': 3.0, 'source': 12, 'target': 35}, {'weight': 2.0, 'source': 13, 'target': 35}, {'weight': 2.0, 'source': 14, 'target': 161}, {'weight': 2.0, 'source': 15, 'target': 163}, {'weight': 2.0, 'source': 15, 'target': 162}, {'weight': 4.0, 'source': 15, 'target': 114}, {'weight': 2.0, 'source': 15, 'target': 74}, {'weight': 2.0, 'source': 15, 'target': 143}, {'weight': 3.0, 'source': 15, 'target': 35}, {'weight': 2.0, 'source': 16, 'target': 251}, {'weight': 2.0, 'source': 17, 'target': 114}, {'weight': 2.0, 'source': 18, 'target': 251}, {'weight': 2.0, 'source': 19, 'target': 126}, {'weight': 2.0, 'source': 19, 'target': 35}, {'weight': 2.0, 'source': 20, 'target': 234}, {'weight': 2.0, 'source': 20, 'target': 49}, {'weight': 2.0, 'source': 21, 'target': 177}, {'weight': 2.0, 'source': 21, 'target': 114}, {'weight': 3.0, 'source': 21, 'target': 235}, {'weight': 3.0, 'source': 21, 'target': 251}, {'weight': 2.0, 'source': 22, 'target': 114}, {'weight': 2.0, 'source': 23, 'target': 264}, {'weight': 2.0, 'source': 23, 'target': 261}, {'weight': 2.0, 'source': 24, 'target': 135}, {'weight': 2.0, 'source': 24, 'target': 224}, {'weight': 4.0, 'source': 24, 'target': 246}, {'weight': 2.0, 'source': 24, 'target': 114}, {'weight': 2.0, 'source': 24, 'target': 99}, {'weight': 2.0, 'source': 24, 'target': 251}, {'weight': 2.0, 'source': 24, 'target': 35}, {'weight': 2.0, 'source': 25, 'target': 49}, {'weight': 2.0, 'source': 25, 'target': 224}, {'weight': 3.0, 'source': 26, 'target': 207}, {'weight': 3.0, 'source': 26, 'target': 80}, {'weight': 4.0, 'source': 27, 'target': 163}, {'weight': 3.0, 'source': 27, 'target': 207}, {'weight': 2.0, 'source': 27, 'target': 272}, {'weight': 3.0, 'source': 27, 'target': 154}, {'weight': 2.0, 'source': 27, 'target': 100}, {'weight': 14.0, 'source': 27, 'target': 236}, {'weight': 1.0, 'source': 27, 'target': 186}, {'weight': 2.0, 'source': 27, 'target': 234}, {'weight': 3.0, 'source': 27, 'target': 114}, {'weight': 1.0, 'source': 27, 'target': 41}, {'weight': 2.0, 'source': 27, 'target': 116}, {'weight': 2.0, 'source': 27, 'target': 65}, {'weight': 1.0, 'source': 28, 'target': 35}, {'weight': 2.0, 'source': 29, 'target': 224}, {'weight': 4.0, 'source': 30, 'target': 35}, {'weight': 2.0, 'source': 31, 'target': 51}, {'weight': 3.0, 'source': 32, 'target': 186}, {'weight': 2.0, 'source': 33, 'target': 189}, {'weight': 2.0, 'source': 34, 'target': 260}, {'weight': 1.0, 'source': 34, 'target': 61}, {'weight': 3.0, 'source': 34, 'target': 224}, {'weight': 2.0, 'source': 34, 'target': 132}, {'weight': 3.0, 'source': 35, 'target': 202}, {'weight': 4.0, 'source': 35, 'target': 187}, {'weight': 2.0, 'source': 35, 'target': 246}, {'weight': 2.0, 'source': 35, 'target': 46}, {'weight': 5.0, 'source': 35, 'target': 131}, {'weight': 2.0, 'source': 35, 'target': 206}, {'weight': 3.0, 'source': 35, 'target': 207}, {'weight': 3.0, 'source': 35, 'target': 74}, {'weight': 7.0, 'source': 35, 'target': 271}, {'weight': 3.0, 'source': 35, 'target': 214}, {'weight': 1.0, 'source': 35, 'target': 139}, {'weight': 2.0, 'source': 35, 'target': 219}, {'weight': 2.0, 'source': 35, 'target': 144}, {'weight': 4.0, 'source': 35, 'target': 145}, {'weight': 2.0, 'source': 35, 'target': 229}, {'weight': 2.0, 'source': 35, 'target': 225}, {'weight': 1.0, 'source': 35, 'target': 155}, {'weight': 7.0, 'source': 35, 'target': 160}, {'weight': 2.0, 'source': 35, 'target': 232}, {'weight': 5.0, 'source': 35, 'target': 234}, {'weight': 7.0, 'source': 35, 'target': 93}, {'weight': 3.0, 'source': 35, 'target': 198}, {'weight': 2.0, 'source': 35, 'target': 239}, {'weight': 2.0, 'source': 35, 'target': 167}, {'weight': 2.0, 'source': 35, 'target': 244}, {'weight': 2.0, 'source': 35, 'target': 169}, {'weight': 5.0, 'source': 35, 'target': 102}, {'weight': 19.0, 'source': 35, 'target': 251}, {'weight': 4.0, 'source': 35, 'target': 100}, {'weight': 10.0, 'source': 35, 'target': 173}, {'weight': 2.0, 'source': 35, 'target': 36}, {'weight': 1.0, 'source': 35, 'target': 147}, {'weight': 2.0, 'source': 35, 'target': 128}, {'weight': 1.0, 'source': 35, 'target': 176}, {'weight': 4.0, 'source': 35, 'target': 177}, {'weight': 9.0, 'source': 35, 'target': 47}, {'weight': 2.0, 'source': 35, 'target': 254}, {'weight': 2.0, 'source': 35, 'target': 42}, {'weight': 2.0, 'source': 35, 'target': 220}, {'weight': 1.0, 'source': 35, 'target': 112}, {'weight': 2.0, 'source': 35, 'target': 259}, {'weight': 8.0, 'source': 35, 'target': 260}, {'weight': 4.0, 'source': 35, 'target': 163}, {'weight': 4.0, 'source': 35, 'target': 185}, {'weight': 5.0, 'source': 35, 'target': 224}, {'weight': 4.0, 'source': 35, 'target': 48}, {'weight': 3.0, 'source': 35, 'target': 262}, {'weight': 16.0, 'source': 35, 'target': 264}, {'weight': 5.0, 'source': 35, 'target': 52}, {'weight': 4.0, 'source': 35, 'target': 53}, {'weight': 2.0, 'source': 35, 'target': 54}, {'weight': 2.0, 'source': 35, 'target': 86}, {'weight': 4.0, 'source': 35, 'target': 268}, {'weight': 5.0, 'source': 35, 'target': 122}, {'weight': 5.0, 'source': 35, 'target': 124}, {'weight': 1.0, 'source': 35, 'target': 61}, {'weight': 4.0, 'source': 35, 'target': 118}, {'weight': 2.0, 'source': 36, 'target': 229}, {'weight': 1.0, 'source': 37, 'target': 45}, {'weight': 1.0, 'source': 37, 'target': 114}, {'weight': 1.0, 'source': 37, 'target': 57}, {'weight': 2.0, 'source': 38, 'target': 141}, {'weight': 2.0, 'source': 39, 'target': 251}, {'weight': 3.0, 'source': 40, 'target': 235}, {'weight': 2.0, 'source': 41, 'target': 140}, {'weight': 1.0, 'source': 43, 'target': 177}, {'weight': 2.0, 'source': 43, 'target': 264}, {'weight': 4.0, 'source': 43, 'target': 271}, {'weight': 2.0, 'source': 44, 'target': 103}, {'weight': 1.0, 'source': 44, 'target': 249}, {'weight': 1.0, 'source': 44, 'target': 233}, {'weight': 1.0, 'source': 44, 'target': 50}, {'weight': 2.0, 'source': 44, 'target': 133}, {'weight': 3.0, 'source': 45, 'target': 264}, {'weight': 2.0, 'source': 45, 'target': 177}, {'weight': 2.0, 'source': 45, 'target': 236}, {'weight': 6.0, 'source': 45, 'target': 143}, {'weight': 6.0, 'source': 46, 'target': 163}, {'weight': 7.0, 'source': 46, 'target': 114}, {'weight': 2.0, 'source': 46, 'target': 236}, {'weight': 2.0, 'source': 46, 'target': 224}, {'weight': 6.0, 'source': 47, 'target': 109}, {'weight': 2.0, 'source': 47, 'target': 236}, {'weight': 3.0, 'source': 49, 'target': 160}, {'weight': 3.0, 'source': 49, 'target': 204}, {'weight': 2.0, 'source': 52, 'target': 162}, {'weight': 1.0, 'source': 52, 'target': 61}, {'weight': 2.0, 'source': 53, 'target': 224}, {'weight': 5.0, 'source': 55, 'target': 192}, {'weight': 2.0, 'source': 55, 'target': 77}, {'weight': 4.0, 'source': 55, 'target': 226}, {'weight': 9.0, 'source': 55, 'target': 163}, {'weight': 2.0, 'source': 55, 'target': 92}, {'weight': 4.0, 'source': 55, 'target': 85}, {'weight': 4.0, 'source': 55, 'target': 228}, {'weight': 2.0, 'source': 55, 'target': 272}, {'weight': 3.0, 'source': 56, 'target': 253}, {'weight': 2.0, 'source': 56, 'target': 251}, {'weight': 2.0, 'source': 57, 'target': 264}, {'weight': 2.0, 'source': 58, 'target': 258}, {'weight': 2.0, 'source': 59, 'target': 197}, {'weight': 3.0, 'source': 59, 'target': 74}, {'weight': 2.0, 'source': 60, 'target': 114}, {'weight': 2.0, 'source': 60, 'target': 251}, {'weight': 4.0, 'source': 61, 'target': 260}, {'weight': 1.0, 'source': 61, 'target': 147}, {'weight': 2.0, 'source': 61, 'target': 231}, {'weight': 1.0, 'source': 61, 'target': 224}, {'weight': 2.0, 'source': 61, 'target': 264}, {'weight': 1.0, 'source': 61, 'target': 162}, {'weight': 2.0, 'source': 61, 'target': 84}, {'weight': 2.0, 'source': 62, 'target': 216}, {'weight': 1.0, 'source': 62, 'target': 141}, {'weight': 6.0, 'source': 62, 'target': 251}, {'weight': 2.0, 'source': 62, 'target': 123}, {'weight': 7.0, 'source': 63, 'target': 224}, {'weight': 16.0, 'source': 63, 'target': 75}, {'weight': 3.0, 'source': 64, 'target': 224}, {'weight': 3.0, 'source': 64, 'target': 251}, {'weight': 2.0, 'source': 64, 'target': 128}, {'weight': 2.0, 'source': 65, 'target': 140}, {'weight': 1.0, 'source': 66, 'target': 274}, {'weight': 1.0, 'source': 66, 'target': 264}, {'weight': 2.0, 'source': 67, 'target': 251}, {'weight': 1.0, 'source': 68, 'target': 193}, {'weight': 2.0, 'source': 69, 'target': 251}, {'weight': 6.0, 'source': 69, 'target': 181}, {'weight': 2.0, 'source': 70, 'target': 260}, {'weight': 2.0, 'source': 70, 'target': 114}, {'weight': 1.0, 'source': 70, 'target': 264}, {'weight': 2.0, 'source': 71, 'target': 236}, {'weight': 2.0, 'source': 72, 'target': 185}, {'weight': 2.0, 'source': 72, 'target': 114}, {'weight': 3.0, 'source': 72, 'target': 92}, {'weight': 2.0, 'source': 73, 'target': 251}, {'weight': 2.0, 'source': 74, 'target': 206}, {'weight': 2.0, 'source': 74, 'target': 208}, {'weight': 4.0, 'source': 74, 'target': 246}, {'weight': 2.0, 'source': 74, 'target': 260}, {'weight': 2.0, 'source': 74, 'target': 248}, {'weight': 2.0, 'source': 74, 'target': 216}, {'weight': 3.0, 'source': 74, 'target': 218}, {'weight': 2.0, 'source': 74, 'target': 80}, {'weight': 2.0, 'source': 74, 'target': 145}, {'weight': 2.0, 'source': 74, 'target': 259}, {'weight': 2.0, 'source': 74, 'target': 170}, {'weight': 4.0, 'source': 74, 'target': 114}, {'weight': 1.0, 'source': 74, 'target': 117}, {'weight': 2.0, 'source': 74, 'target': 82}, {'weight': 2.0, 'source': 74, 'target': 190}, {'weight': 3.0, 'source': 74, 'target': 157}, {'weight': 2.0, 'source': 74, 'target': 121}, {'weight': 2.0, 'source': 74, 'target': 98}, {'weight': 3.0, 'source': 74, 'target': 123}, {'weight': 2.0, 'source': 74, 'target': 238}, {'weight': 2.0, 'source': 74, 'target': 271}, {'weight': 3.0, 'source': 75, 'target': 260}, {'weight': 2.0, 'source': 75, 'target': 168}, {'weight': 4.0, 'source': 75, 'target': 251}, {'weight': 1.0, 'source': 75, 'target': 261}, {'weight': 2.0, 'source': 76, 'target': 224}, {'weight': 2.0, 'source': 78, 'target': 152}, {'weight': 2.0, 'source': 78, 'target': 218}, {'weight': 7.0, 'source': 79, 'target': 260}, {'weight': 2.0, 'source': 81, 'target': 235}, {'weight': 2.0, 'source': 82, 'target': 251}, {'weight': 2.0, 'source': 83, 'target': 260}, {'weight': 2.0, 'source': 83, 'target': 143}, {'weight': 2.0, 'source': 83, 'target': 256}, {'weight': 6.0, 'source': 83, 'target': 224}, {'weight': 3.0, 'source': 84, 'target': 114}, {'weight': 3.0, 'source': 84, 'target': 176}, {'weight': 2.0, 'source': 84, 'target': 163}, {'weight': 2.0, 'source': 84, 'target': 249}, {'weight': 2.0, 'source': 85, 'target': 260}, {'weight': 1.0, 'source': 86, 'target': 261}, {'weight': 2.0, 'source': 86, 'target': 195}, {'weight': 2.0, 'source': 87, 'target': 92}, {'weight': 2.0, 'source': 88, 'target': 264}, {'weight': 2.0, 'source': 89, 'target': 236}, {'weight': 2.0, 'source': 89, 'target': 224}, {'weight': 3.0, 'source': 89, 'target': 140}, {'weight': 1.0, 'source': 90, 'target': 264}, {'weight': 2.0, 'source': 91, 'target': 166}, {'weight': 1.0, 'source': 91, 'target': 176}, {'weight': 1.0, 'source': 91, 'target': 264}, {'weight': 2.0, 'source': 91, 'target': 185}, {'weight': 2.0, 'source': 91, 'target': 242}, {'weight': 2.0, 'source': 92, 'target': 219}, {'weight': 2.0, 'source': 92, 'target': 140}, {'weight': 2.0, 'source': 94, 'target': 145}, {'weight': 2.0, 'source': 94, 'target': 173}, {'weight': 2.0, 'source': 94, 'target': 157}, {'weight': 2.0, 'source': 95, 'target': 260}, {'weight': 2.0, 'source': 95, 'target': 225}, {'weight': 2.0, 'source': 96, 'target': 258}, {'weight': 2.0, 'source': 97, 'target': 251}, {'weight': 2.0, 'source': 101, 'target': 235}, {'weight': 4.0, 'source': 102, 'target': 264}, {'weight': 5.0, 'source': 102, 'target': 251}, {'weight': 6.0, 'source': 102, 'target': 224}, {'weight': 1.0, 'source': 104, 'target': 193}, {'weight': 2.0, 'source': 105, 'target': 163}, {'weight': 1.0, 'source': 105, 'target': 236}, {'weight': 2.0, 'source': 105, 'target': 264}, {'weight': 2.0, 'source': 106, 'target': 224}, {'weight': 1.0, 'source': 107, 'target': 129}, {'weight': 2.0, 'source': 108, 'target': 186}, {'weight': 1.0, 'source': 108, 'target': 252}, {'weight': 1.0, 'source': 108, 'target': 264}, {'weight': 2.0, 'source': 109, 'target': 272}, {'weight': 2.0, 'source': 110, 'target': 178}, {'weight': 2.0, 'source': 110, 'target': 114}, {'weight': 1.0, 'source': 110, 'target': 112}, {'weight': 2.0, 'source': 111, 'target': 140}, {'weight': 1.0, 'source': 112, 'target': 260}, {'weight': 2.0, 'source': 114, 'target': 202}, {'weight': 6.0, 'source': 114, 'target': 134}, {'weight': 3.0, 'source': 114, 'target': 212}, {'weight': 2.0, 'source': 114, 'target': 213}, {'weight': 2.0, 'source': 114, 'target': 200}, {'weight': 6.0, 'source': 114, 'target': 141}, {'weight': 3.0, 'source': 114, 'target': 144}, {'weight': 8.0, 'source': 114, 'target': 224}, {'weight': 4.0, 'source': 114, 'target': 220}, {'weight': 5.0, 'source': 114, 'target': 151}, {'weight': 4.0, 'source': 114, 'target': 156}, {'weight': 5.0, 'source': 114, 'target': 158}, {'weight': 2.0, 'source': 114, 'target': 193}, {'weight': 2.0, 'source': 114, 'target': 231}, {'weight': 16.0, 'source': 114, 'target': 235}, {'weight': 1.0, 'source': 114, 'target': 211}, {'weight': 17.0, 'source': 114, 'target': 260}, {'weight': 4.0, 'source': 114, 'target': 251}, {'weight': 2.0, 'source': 114, 'target': 209}, {'weight': 2.0, 'source': 114, 'target': 173}, {'weight': 1.0, 'source': 114, 'target': 177}, {'weight': 2.0, 'source': 114, 'target': 259}, {'weight': 3.0, 'source': 114, 'target': 163}, {'weight': 1.0, 'source': 114, 'target': 185}, {'weight': 13.0, 'source': 114, 'target': 264}, {'weight': 5.0, 'source': 114, 'target': 119}, {'weight': 2.0, 'source': 114, 'target': 265}, {'weight': 5.0, 'source': 114, 'target': 266}, {'weight': 3.0, 'source': 114, 'target': 249}, {'weight': 4.0, 'source': 114, 'target': 194}, {'weight': 4.0, 'source': 114, 'target': 199}, {'weight': 2.0, 'source': 115, 'target': 251}, {'weight': 2.0, 'source': 116, 'target': 251}, {'weight': 1.0, 'source': 119, 'target': 177}, {'weight': 2.0, 'source': 119, 'target': 213}, {'weight': 4.0, 'source': 119, 'target': 180}, {'weight': 2.0, 'source': 120, 'target': 224}, {'weight': 2.0, 'source': 122, 'target': 224}, {'weight': 1.0, 'source': 123, 'target': 177}, {'weight': 3.0, 'source': 124, 'target': 207}, {'weight': 2.0, 'source': 124, 'target': 251}, {'weight': 2.0, 'source': 125, 'target': 167}, {'weight': 1.0, 'source': 126, 'target': 269}, {'weight': 2.0, 'source': 126, 'target': 143}, {'weight': 1.0, 'source': 126, 'target': 179}, {'weight': 2.0, 'source': 127, 'target': 166}, {'weight': 2.0, 'source': 127, 'target': 224}, {'weight': 3.0, 'source': 127, 'target': 251}, {'weight': 1.0, 'source': 129, 'target': 236}, {'weight': 3.0, 'source': 130, 'target': 264}, {'weight': 2.0, 'source': 131, 'target': 194}, {'weight': 2.0, 'source': 131, 'target': 224}, {'weight': 1.0, 'source': 133, 'target': 210}, {'weight': 6.0, 'source': 134, 'target': 251}, {'weight': 2.0, 'source': 136, 'target': 224}, {'weight': 2.0, 'source': 137, 'target': 213}, {'weight': 1.0, 'source': 138, 'target': 160}, {'weight': 4.0, 'source': 140, 'target': 258}, {'weight': 2.0, 'source': 140, 'target': 229}, {'weight': 10.0, 'source': 140, 'target': 162}, {'weight': 2.0, 'source': 140, 'target': 163}, {'weight': 1.0, 'source': 141, 'target': 247}, {'weight': 1.0, 'source': 141, 'target': 240}, {'weight': 1.0, 'source': 141, 'target': 241}, {'weight': 1.0, 'source': 142, 'target': 201}, {'weight': 2.0, 'source': 142, 'target': 236}, {'weight': 4.0, 'source': 142, 'target': 224}, {'weight': 2.0, 'source': 143, 'target': 260}, {'weight': 13.0, 'source': 143, 'target': 264}, {'weight': 3.0, 'source': 143, 'target': 182}, {'weight': 2.0, 'source': 143, 'target': 221}, {'weight': 3.0, 'source': 143, 'target': 163}, {'weight': 6.0, 'source': 143, 'target': 169}, {'weight': 2.0, 'source': 144, 'target': 260}, {'weight': 2.0, 'source': 145, 'target': 234}, {'weight': 1.0, 'source': 146, 'target': 264}, {'weight': 2.0, 'source': 148, 'target': 224}, {'weight': 3.0, 'source': 149, 'target': 260}, {'weight': 4.0, 'source': 149, 'target': 163}, {'weight': 6.0, 'source': 149, 'target': 218}, {'weight': 2.0, 'source': 149, 'target': 264}, {'weight': 1.0, 'source': 150, 'target': 176}, {'weight': 3.0, 'source': 152, 'target': 186}, {'weight': 2.0, 'source': 152, 'target': 163}, {'weight': 2.0, 'source': 153, 'target': 204}, {'weight': 6.0, 'source': 154, 'target': 207}, {'weight': 2.0, 'source': 156, 'target': 260}, {'weight': 3.0, 'source': 156, 'target': 251}, {'weight': 4.0, 'source': 158, 'target': 224}, {'weight': 2.0, 'source': 159, 'target': 251}, {'weight': 2.0, 'source': 160, 'target': 259}, {'weight': 8.0, 'source': 160, 'target': 224}, {'weight': 5.0, 'source': 160, 'target': 162}, {'weight': 5.0, 'source': 160, 'target': 236}, {'weight': 2.0, 'source': 162, 'target': 204}, {'weight': 3.0, 'source': 162, 'target': 234}, {'weight': 2.0, 'source': 163, 'target': 184}, {'weight': 3.0, 'source': 163, 'target': 222}, {'weight': 2.0, 'source': 163, 'target': 169}, {'weight': 2.0, 'source': 163, 'target': 172}, {'weight': 2.0, 'source': 163, 'target': 171}, {'weight': 3.0, 'source': 163, 'target': 175}, {'weight': 3.0, 'source': 163, 'target': 236}, {'weight': 1.0, 'source': 164, 'target': 264}, {'weight': 1.0, 'source': 165, 'target': 264}, {'weight': 2.0, 'source': 166, 'target': 260}, {'weight': 2.0, 'source': 166, 'target': 251}, {'weight': 3.0, 'source': 168, 'target': 224}, {'weight': 3.0, 'source': 169, 'target': 173}, {'weight': 2.0, 'source': 169, 'target': 215}, {'weight': 10.0, 'source': 169, 'target': 224}, {'weight': 4.0, 'source': 169, 'target': 264}, {'weight': 2.0, 'source': 169, 'target': 223}, {'weight': 3.0, 'source': 169, 'target': 236}, {'weight': 4.0, 'source': 171, 'target': 260}, {'weight': 4.0, 'source': 173, 'target': 236}, {'weight': 1.0, 'source': 174, 'target': 251}, {'weight': 1.0, 'source': 175, 'target': 236}, {'weight': 4.0, 'source': 176, 'target': 213}, {'weight': 2.0, 'source': 176, 'target': 224}, {'weight': 1.0, 'source': 177, 'target': 196}, {'weight': 2.0, 'source': 177, 'target': 236}, {'weight': 5.0, 'source': 180, 'target': 251}, {'weight': 2.0, 'source': 181, 'target': 183}, {'weight': 2.0, 'source': 181, 'target': 235}, {'weight': 9.0, 'source': 181, 'target': 224}, {'weight': 4.0, 'source': 181, 'target': 264}, {'weight': 2.0, 'source': 182, 'target': 224}, {'weight': 2.0, 'source': 182, 'target': 264}, {'weight': 2.0, 'source': 183, 'target': 259}, {'weight': 7.0, 'source': 183, 'target': 260}, {'weight': 2.0, 'source': 183, 'target': 251}, {'weight': 3.0, 'source': 183, 'target': 224}, {'weight': 2.0, 'source': 183, 'target': 273}, {'weight': 2.0, 'source': 184, 'target': 264}, {'weight': 2.0, 'source': 185, 'target': 224}, {'weight': 2.0, 'source': 185, 'target': 186}, {'weight': 2.0, 'source': 185, 'target': 251}, {'weight': 2.0, 'source': 186, 'target': 249}, {'weight': 3.0, 'source': 186, 'target': 251}, {'weight': 1.0, 'source': 188, 'target': 264}, {'weight': 5.0, 'source': 190, 'target': 264}, {'weight': 1.0, 'source': 191, 'target': 264}, {'weight': 4.0, 'source': 194, 'target': 251}, {'weight': 3.0, 'source': 195, 'target': 251}, {'weight': 2.0, 'source': 197, 'target': 251}, {'weight': 3.0, 'source': 198, 'target': 251}, {'weight': 2.0, 'source': 199, 'target': 273}, {'weight': 2.0, 'source': 203, 'target': 224}, {'weight': 4.0, 'source': 205, 'target': 207}, {'weight': 2.0, 'source': 206, 'target': 264}, {'weight': 2.0, 'source': 206, 'target': 224}, {'weight': 2.0, 'source': 206, 'target': 251}, {'weight': 2.0, 'source': 207, 'target': 244}, {'weight': 8.0, 'source': 207, 'target': 246}, {'weight': 4.0, 'source': 212, 'target': 224}, {'weight': 2.0, 'source': 213, 'target': 264}, {'weight': 2.0, 'source': 214, 'target': 260}, {'weight': 2.0, 'source': 216, 'target': 251}, {'weight': 4.0, 'source': 216, 'target': 224}, {'weight': 3.0, 'source': 216, 'target': 264}, {'weight': 1.0, 'source': 217, 'target': 261}, {'weight': 1.0, 'source': 220, 'target': 261}, {'weight': 1.0, 'source': 220, 'target': 236}, {'weight': 2.0, 'source': 220, 'target': 271}, {'weight': 2.0, 'source': 224, 'target': 229}, {'weight': 2.0, 'source': 224, 'target': 238}, {'weight': 4.0, 'source': 224, 'target': 259}, {'weight': 3.0, 'source': 224, 'target': 262}, {'weight': 2.0, 'source': 224, 'target': 263}, {'weight': 4.0, 'source': 224, 'target': 273}, {'weight': 6.0, 'source': 224, 'target': 271}, {'weight': 2.0, 'source': 229, 'target': 245}, {'weight': 1.0, 'source': 230, 'target': 264}, {'weight': 3.0, 'source': 232, 'target': 264}, {'weight': 3.0, 'source': 232, 'target': 271}, {'weight': 4.0, 'source': 234, 'target': 255}, {'weight': 3.0, 'source': 234, 'target': 236}, {'weight': 4.0, 'source': 235, 'target': 264}, {'weight': 1.0, 'source': 236, 'target': 254}, {'weight': 1.0, 'source': 236, 'target': 264}, {'weight': 3.0, 'source': 236, 'target': 262}, {'weight': 2.0, 'source': 237, 'target': 251}, {'weight': 2.0, 'source': 246, 'target': 251}, {'weight': 4.0, 'source': 251, 'target': 266}, {'weight': 8.0, 'source': 251, 'target': 259}, {'weight': 2.0, 'source': 251, 'target': 261}, {'weight': 3.0, 'source': 251, 'target': 265}, {'weight': 4.0, 'source': 251, 'target': 267}, {'weight': 2.0, 'source': 251, 'target': 270}, {'weight': 1.0, 'source': 257, 'target': 264}, {'weight': 4.0, 'source': 259, 'target': 260}, {'weight': 2.0, 'source': 259, 'target': 264}, {'weight': 2.0, 'source': 260, 'target': 271}, {'weight': 2.0, 'source': 264, 'target': 271}]\n",
       "    };\n",
       "\n",
       "    var simulation = d3.forceSimulation(graph.nodes)\n",
       "        .force(\"link\", d3.forceLink(graph.links))\n",
       "        .force(\"charge\", d3.forceManyBody())\n",
       "        .force(\"center\", d3.forceCenter(width / 2.0, height / 2.0));\n",
       "\n",
       "    var link = svg.append(\"g\")\n",
       "        .attr(\"class\", \"links\")\n",
       "        .selectAll(\"line\")\n",
       "        .data(graph.links)\n",
       "        .enter().append(\"line\")\n",
       "        .style(\"stroke-linecap\", \"round\")\n",
       "        .style(\"stroke\", function(d) {return colour(d.weight);})\n",
       "        .style(\"stroke-width\", function (d) {return Math.sqrt(d.weight);});\n",
       "\n",
       "    var node = svg.append(\"g\")\n",
       "        .attr(\"class\", \"nodes\")\n",
       "        .selectAll(\"g\")\n",
       "        .data(graph.nodes)\n",
       "        .enter().append(\"g\");\n",
       "\n",
       "    var circle = node.append(\"circle\")\n",
       "        .attr(\"r\", 4.5)\n",
       "        .style(\"fill\", \"grey\")\n",
       "        .call(d3.drag()\n",
       "            .on(\"start\", dragstarted)\n",
       "            .on(\"drag\", dragged)\n",
       "            .on(\"end\", dragended));\n",
       "\n",
       "    //node.append(\"title\")\n",
       "    //    .text(function(d) { return d.id; });\n",
       "\n",
       "    var t2 = node.append(\"text\")\n",
       "      .attr(\"dx\", 10)\n",
       "      .attr(\"dy\", \".35em\")\n",
       "      .text(function(d) { return d.id; });\n",
       "\n",
       "    simulation\n",
       "        .on(\"tick\", ticked);\n",
       "\n",
       "    function ticked() {\n",
       "        link\n",
       "            .attr(\"x1\", function(d) { return d.source.x; })\n",
       "            .attr(\"y1\", function(d) { return d.source.y; })\n",
       "            .attr(\"x2\", function(d) { return d.target.x; })\n",
       "            .attr(\"y2\", function(d) { return d.target.y; });\n",
       "\n",
       "        circle\n",
       "            .attr(\"cx\", function(d) { return d.x; })\n",
       "            .attr(\"cy\", function(d) { return d.y; });\n",
       "\n",
       "        t2\n",
       "            .attr(\"x\", function(d) { return d.x; })\n",
       "            .attr(\"y\", function(d) { return d.y; });\n",
       "    };\n",
       "\n",
       "    function dragstarted(d) {\n",
       "        if (!d3.event.active) simulation.alphaTarget(0.3).restart();\n",
       "        d.fx = d.x;\n",
       "        d.fy = d.y;\n",
       "    };\n",
       "\n",
       "    function dragged(d) {\n",
       "        d.fx = d3.event.x;\n",
       "        d.fy = d3.event.y;\n",
       "    };\n",
       "\n",
       "    function dragended(d) {\n",
       "        if (!d3.event.active) simulation.alphaTarget(0);\n",
       "        d.fx = null;\n",
       "        d.fy = null;\n",
       "    };\n",
       "\n",
       "});\n",
       "\n"
      ]
     },
     "metadata": {},
     "output_type": "display_data"
    }
   ],
   "source": [
    "# visualise co-occurrence of words\n",
    "tmt.visualisation.plot_force_directed_graph(words_by_co_occurrence[:500])"
   ]
  },
  {
   "cell_type": "code",
   "execution_count": 45,
   "metadata": {
    "collapsed": false
   },
   "outputs": [
    {
     "data": {
      "text/html": [
       "<div id=\"d3-container-5247365\"></div>\n",
       "<div>force-directed graph</div>\n",
       "\n",
       "<style>\n",
       "    .links line {\n",
       "        stroke: #999;\n",
       "        stroke-opacity: .3;\n",
       "    }\n",
       "\n",
       "    .nodes circle {\n",
       "        pointer-events: all;\n",
       "        stroke: #fff;\n",
       "        stroke-width: 1.5px;\n",
       "    }\n",
       "\n",
       "    .nodes text {\n",
       "        pointer-events: none;\n",
       "        font: 10px sans-serif;\n",
       "        fill: #000000;\n",
       "        opacity: .7;\n",
       "    }\n",
       "</style>\n"
      ]
     },
     "metadata": {},
     "output_type": "display_data"
    },
    {
     "data": {
      "application/javascript": [
       "// require is needed to make d3 work in a noebooks from imported code\n",
       "require.config({\n",
       "    paths: {\n",
       "        d3: \"https://d3js.org/d3.v4.min\"\n",
       "    }\n",
       "});\n",
       "\n",
       "require([\"d3\"], function(d3) {\n",
       "    //console.log(d3.version);\n",
       "\n",
       "    var width = 800,\n",
       "        height = 600;\n",
       "\n",
       "    var svg = d3.select(\"#d3-container-5247365\")\n",
       "        .append(\"svg\")\n",
       "        .attr(\"width\", width)\n",
       "        .attr(\"height\", height);\n",
       "\n",
       "    var colour = d3.scaleOrdinal(d3.schemeCategory20c);\n",
       "\n",
       "    var graph = {\n",
       "        nodes: [{'id': 'remove'}, {'id': 'piece'}, {'id': 'then'}, {'id': 'used'}, {'id': 'few'}, {'id': 'place'}, {'id': 'them'}, {'id': 'fish'}, {'id': 'brown'}, {'id': 'as'}, {'id': 'through'}, {'id': 'this'}, {'id': 'crumbs'}, {'id': 'hash'}, {'id': 'are'}, {'id': 'sieve'}, {'id': 'when'}, {'id': 'they'}, {'id': 'to'}, {'id': 'is'}, {'id': 'compound'}, {'id': 'put'}, {'id': 'make'}, {'id': 'of'}, {'id': 'the'}, {'id': 'on'}, {'id': 'oil'}, {'id': 'fine'}, {'id': 'into'}, {'id': 'over'}, {'id': 'quantity'}, {'id': 'cold'}, {'id': 'cut'}, {'id': 'salt'}, {'id': 'paste'}, {'id': 'egg'}, {'id': 'out'}, {'id': 'artichokes'}, {'id': 'until'}, {'id': 'milk'}, {'id': 'may'}, {'id': 'taste'}, {'id': 'three'}, {'id': 'fire'}, {'id': 'tablespoonfuls'}, {'id': 'cheese'}, {'id': 'olive'}, {'id': 'salsa'}, {'id': 'sauce'}, {'id': 'or'}, {'id': 'grated'}, {'id': 'just'}, {'id': 'very'}, {'id': 'oven'}, {'id': 'two'}, {'id': 'stock'}, {'id': 'seasoned'}, {'id': 'and'}, {'id': 'in'}, {'id': 'can'}, {'id': 'be'}, {'id': 'serve'}, {'id': 'bread'}, {'id': 'served'}, {'id': 'that'}, {'id': 'little'}, {'id': 'it'}, {'id': 'from'}, {'id': 'tomato'}, {'id': 'seasoning'}, {'id': 'flour'}, {'id': 'season'}, {'id': 'pour'}, {'id': 'so'}, {'id': 'too'}, {'id': 'butter'}, {'id': 'with'}, {'id': 'a'}, {'id': 'adding'}, {'id': 'for'}, {'id': 'small'}, {'id': 'tablespoonful'}, {'id': 'garlic'}, {'id': 'meat'}, {'id': 'rice'}, {'id': 'white'}, {'id': 'water'}, {'id': 'pepper'}, {'id': 'following'}],\n",
       "        links: [{'weight': 5.0, 'source': 0, 'target': 24}, {'weight': 6.0, 'source': 1, 'target': 77}, {'weight': 6.0, 'source': 1, 'target': 23}, {'weight': 4.0, 'source': 2, 'target': 57}, {'weight': 4.0, 'source': 3, 'target': 60}, {'weight': 6.0, 'source': 4, 'target': 77}, {'weight': 4.0, 'source': 5, 'target': 57}, {'weight': 6.0, 'source': 6, 'target': 32}, {'weight': 6.0, 'source': 6, 'target': 21}, {'weight': 13.0, 'source': 6, 'target': 58}, {'weight': 4.0, 'source': 7, 'target': 24}, {'weight': 4.0, 'source': 8, 'target': 18}, {'weight': 6.0, 'source': 8, 'target': 55}, {'weight': 4.0, 'source': 9, 'target': 77}, {'weight': 5.0, 'source': 10, 'target': 77}, {'weight': 6.0, 'source': 11, 'target': 48}, {'weight': 5.0, 'source': 12, 'target': 62}, {'weight': 4.0, 'source': 13, 'target': 77}, {'weight': 4.0, 'source': 14, 'target': 74}, {'weight': 10.0, 'source': 14, 'target': 17}, {'weight': 5.0, 'source': 15, 'target': 77}, {'weight': 4.0, 'source': 15, 'target': 57}, {'weight': 5.0, 'source': 16, 'target': 17}, {'weight': 5.0, 'source': 16, 'target': 66}, {'weight': 8.0, 'source': 16, 'target': 57}, {'weight': 7.0, 'source': 16, 'target': 24}, {'weight': 4.0, 'source': 18, 'target': 19}, {'weight': 9.0, 'source': 18, 'target': 60}, {'weight': 6.0, 'source': 18, 'target': 22}, {'weight': 4.0, 'source': 18, 'target': 24}, {'weight': 14.0, 'source': 19, 'target': 66}, {'weight': 4.0, 'source': 20, 'target': 24}, {'weight': 10.0, 'source': 21, 'target': 57}, {'weight': 4.0, 'source': 21, 'target': 58}, {'weight': 7.0, 'source': 22, 'target': 77}, {'weight': 8.0, 'source': 23, 'target': 75}, {'weight': 4.0, 'source': 23, 'target': 77}, {'weight': 5.0, 'source': 23, 'target': 70}, {'weight': 4.0, 'source': 23, 'target': 50}, {'weight': 6.0, 'source': 23, 'target': 62}, {'weight': 4.0, 'source': 23, 'target': 81}, {'weight': 4.0, 'source': 23, 'target': 82}, {'weight': 4.0, 'source': 23, 'target': 41}, {'weight': 19.0, 'source': 23, 'target': 24}, {'weight': 6.0, 'source': 23, 'target': 44}, {'weight': 5.0, 'source': 23, 'target': 30}, {'weight': 5.0, 'source': 24, 'target': 70}, {'weight': 4.0, 'source': 24, 'target': 69}, {'weight': 10.0, 'source': 24, 'target': 25}, {'weight': 4.0, 'source': 24, 'target': 28}, {'weight': 4.0, 'source': 24, 'target': 35}, {'weight': 8.0, 'source': 24, 'target': 76}, {'weight': 12.0, 'source': 24, 'target': 43}, {'weight': 9.0, 'source': 24, 'target': 29}, {'weight': 4.0, 'source': 24, 'target': 36}, {'weight': 5.0, 'source': 24, 'target': 57}, {'weight': 16.0, 'source': 24, 'target': 58}, {'weight': 4.0, 'source': 24, 'target': 37}, {'weight': 5.0, 'source': 24, 'target': 38}, {'weight': 4.0, 'source': 24, 'target': 53}, {'weight': 4.0, 'source': 24, 'target': 88}, {'weight': 4.0, 'source': 24, 'target': 83}, {'weight': 5.0, 'source': 24, 'target': 84}, {'weight': 5.0, 'source': 24, 'target': 64}, {'weight': 5.0, 'source': 24, 'target': 85}, {'weight': 7.0, 'source': 24, 'target': 67}, {'weight': 7.0, 'source': 24, 'target': 86}, {'weight': 4.0, 'source': 25, 'target': 66}, {'weight': 6.0, 'source': 26, 'target': 46}, {'weight': 9.0, 'source': 26, 'target': 57}, {'weight': 4.0, 'source': 26, 'target': 58}, {'weight': 4.0, 'source': 27, 'target': 52}, {'weight': 6.0, 'source': 29, 'target': 72}, {'weight': 4.0, 'source': 30, 'target': 80}, {'weight': 4.0, 'source': 31, 'target': 86}, {'weight': 7.0, 'source': 33, 'target': 76}, {'weight': 15.0, 'source': 33, 'target': 57}, {'weight': 4.0, 'source': 34, 'target': 68}, {'weight': 5.0, 'source': 39, 'target': 58}, {'weight': 5.0, 'source': 40, 'target': 60}, {'weight': 4.0, 'source': 41, 'target': 77}, {'weight': 4.0, 'source': 42, 'target': 49}, {'weight': 4.0, 'source': 43, 'target': 76}, {'weight': 7.0, 'source': 45, 'target': 57}, {'weight': 16.0, 'source': 45, 'target': 50}, {'weight': 4.0, 'source': 47, 'target': 48}, {'weight': 8.0, 'source': 48, 'target': 68}, {'weight': 5.0, 'source': 49, 'target': 54}, {'weight': 4.0, 'source': 49, 'target': 77}, {'weight': 4.0, 'source': 49, 'target': 68}, {'weight': 4.0, 'source': 51, 'target': 57}, {'weight': 4.0, 'source': 54, 'target': 57}, {'weight': 7.0, 'source': 56, 'target': 76}, {'weight': 4.0, 'source': 57, 'target': 75}, {'weight': 6.0, 'source': 57, 'target': 70}, {'weight': 6.0, 'source': 57, 'target': 61}, {'weight': 8.0, 'source': 57, 'target': 77}, {'weight': 4.0, 'source': 57, 'target': 87}, {'weight': 6.0, 'source': 57, 'target': 86}, {'weight': 13.0, 'source': 58, 'target': 77}, {'weight': 4.0, 'source': 58, 'target': 65}, {'weight': 4.0, 'source': 58, 'target': 70}, {'weight': 5.0, 'source': 58, 'target': 86}, {'weight': 4.0, 'source': 59, 'target': 60}, {'weight': 4.0, 'source': 60, 'target': 63}, {'weight': 4.0, 'source': 64, 'target': 73}, {'weight': 16.0, 'source': 65, 'target': 77}, {'weight': 4.0, 'source': 71, 'target': 76}, {'weight': 4.0, 'source': 75, 'target': 76}, {'weight': 17.0, 'source': 76, 'target': 77}, {'weight': 4.0, 'source': 77, 'target': 79}, {'weight': 5.0, 'source': 77, 'target': 80}, {'weight': 5.0, 'source': 77, 'target': 81}, {'weight': 4.0, 'source': 77, 'target': 78}]\n",
       "    };\n",
       "\n",
       "    var simulation = d3.forceSimulation(graph.nodes)\n",
       "        .force(\"link\", d3.forceLink(graph.links))\n",
       "        .force(\"charge\", d3.forceManyBody())\n",
       "        .force(\"center\", d3.forceCenter(width / 2.0, height / 2.0));\n",
       "\n",
       "    var link = svg.append(\"g\")\n",
       "        .attr(\"class\", \"links\")\n",
       "        .selectAll(\"line\")\n",
       "        .data(graph.links)\n",
       "        .enter().append(\"line\")\n",
       "        .style(\"stroke-linecap\", \"round\")\n",
       "        .style(\"stroke\", function(d) {return colour(d.weight);})\n",
       "        .style(\"stroke-width\", function (d) {return Math.sqrt(d.weight);});\n",
       "\n",
       "    var node = svg.append(\"g\")\n",
       "        .attr(\"class\", \"nodes\")\n",
       "        .selectAll(\"g\")\n",
       "        .data(graph.nodes)\n",
       "        .enter().append(\"g\");\n",
       "\n",
       "    var circle = node.append(\"circle\")\n",
       "        .attr(\"r\", 4.5)\n",
       "        .style(\"fill\", \"grey\")\n",
       "        .call(d3.drag()\n",
       "            .on(\"start\", dragstarted)\n",
       "            .on(\"drag\", dragged)\n",
       "            .on(\"end\", dragended));\n",
       "\n",
       "    //node.append(\"title\")\n",
       "    //    .text(function(d) { return d.id; });\n",
       "\n",
       "    var t2 = node.append(\"text\")\n",
       "      .attr(\"dx\", 10)\n",
       "      .attr(\"dy\", \".35em\")\n",
       "      .text(function(d) { return d.id; });\n",
       "\n",
       "    simulation\n",
       "        .on(\"tick\", ticked);\n",
       "\n",
       "    function ticked() {\n",
       "        link\n",
       "            .attr(\"x1\", function(d) { return d.source.x; })\n",
       "            .attr(\"y1\", function(d) { return d.source.y; })\n",
       "            .attr(\"x2\", function(d) { return d.target.x; })\n",
       "            .attr(\"y2\", function(d) { return d.target.y; });\n",
       "\n",
       "        circle\n",
       "            .attr(\"cx\", function(d) { return d.x; })\n",
       "            .attr(\"cy\", function(d) { return d.y; });\n",
       "\n",
       "        t2\n",
       "            .attr(\"x\", function(d) { return d.x; })\n",
       "            .attr(\"y\", function(d) { return d.y; });\n",
       "    };\n",
       "\n",
       "    function dragstarted(d) {\n",
       "        if (!d3.event.active) simulation.alphaTarget(0.3).restart();\n",
       "        d.fx = d.x;\n",
       "        d.fy = d.y;\n",
       "    };\n",
       "\n",
       "    function dragged(d) {\n",
       "        d.fx = d3.event.x;\n",
       "        d.fy = d3.event.y;\n",
       "    };\n",
       "\n",
       "    function dragended(d) {\n",
       "        if (!d3.event.active) simulation.alphaTarget(0);\n",
       "        d.fx = null;\n",
       "        d.fy = null;\n",
       "    };\n",
       "\n",
       "});\n",
       "\n"
      ]
     },
     "metadata": {},
     "output_type": "display_data"
    }
   ],
   "source": [
    "# visualise co-occurrence > 1\n",
    "w = words_by_co_occurrence[words_by_co_occurrence['weight']>3]\n",
    "tmt.visualisation.plot_force_directed_graph(w)"
   ]
  }
 ],
 "metadata": {
  "anaconda-cloud": {},
  "kernelspec": {
   "display_name": "Python [conda root]",
   "language": "python",
   "name": "conda-root-py"
  },
  "language_info": {
   "codemirror_mode": {
    "name": "ipython",
    "version": 3
   },
   "file_extension": ".py",
   "mimetype": "text/x-python",
   "name": "python",
   "nbconvert_exporter": "python",
   "pygments_lexer": "ipython3",
   "version": "3.5.2"
  }
 },
 "nbformat": 4,
 "nbformat_minor": 0
}
