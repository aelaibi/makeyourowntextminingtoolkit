{
 "cells": [
  {
   "cell_type": "code",
   "execution_count": 1,
   "metadata": {
    "collapsed": true
   },
   "outputs": [],
   "source": [
    "# notebook to illustrate co-occurrence graphs"
   ]
  },
  {
   "cell_type": "code",
   "execution_count": 2,
   "metadata": {
    "collapsed": false
   },
   "outputs": [],
   "source": [
    "# following only used for development, reloads the modules with any code changes\n",
    "%load_ext autoreload\n",
    "%autoreload 2\n",
    "\n",
    "# inline matplotlib charts\n",
    "%matplotlib inline"
   ]
  },
  {
   "cell_type": "code",
   "execution_count": 3,
   "metadata": {
    "collapsed": false
   },
   "outputs": [],
   "source": [
    "# import our text mining toolkit\n",
    "import text_mining_toolkit as tmt"
   ]
  },
  {
   "cell_type": "code",
   "execution_count": 4,
   "metadata": {
    "collapsed": false
   },
   "outputs": [
    {
     "name": "stdout",
     "output_type": "stream",
     "text": [
      "content_directory =  data_sets/recipes/txt/\n",
      "text_filename_pattern =  ??.txt\n",
      "self.documents populated =  22\n"
     ]
    }
   ],
   "source": [
    "cr = tmt.corpus_reader.CorpusReader(content_directory=\"data_sets/recipes/txt/\", text_filename_pattern=\"??.txt\")\n",
    "#cr = tmt.corpus_reader.CorpusReader(directory_of_files=\"data_sets/mystery_corpus_01/txt/\", text_filename_pattern=\"??.txt\")\n",
    "#cr = tmt.corpus_reader.CorpusReader(content_directory=\"data_sets/iraq_inquiry/txt/\", text_filename_pattern=\"the-report*.txt\")\n",
    "#cr = tmt.corpus_reader.CorpusReader(content_directory=\"data_sets/clinton_emails/txt/\", text_filename_pattern=\"C0*\")\n",
    "#cr = tmt.corpus_reader.CorpusReader(content_directory=\"data_sets/shakespeare_macbeth/txt/\", text_filename_pattern=\"macbeth_act_0?_scene_0?.txt\")"
   ]
  },
  {
   "cell_type": "code",
   "execution_count": 5,
   "metadata": {
    "collapsed": false,
    "scrolled": true
   },
   "outputs": [
    {
     "name": "stdout",
     "output_type": "stream",
     "text": [
      "processing  00.txt\n",
      "processing  01.txt\n",
      "processing  02.txt\n",
      "processing  03.txt\n",
      "processing  04.txt\n",
      "processing  05.txt\n",
      "processing  06.txt\n",
      "processing  07.txt\n",
      "processing  08.txt\n",
      "processing  09.txt\n",
      "processing  10.txt\n",
      "processing  11.txt\n",
      "processing  12.txt\n",
      "processing  13.txt\n",
      "processing  14.txt\n",
      "processing  15.txt\n",
      "processing  16.txt\n",
      "processing  17.txt\n",
      "processing  18.txt\n",
      "processing  19.txt\n",
      "processing  20.txt\n",
      "processing  21.txt\n"
     ]
    }
   ],
   "source": [
    "# first clear index\n",
    "tmt.cooccurrence.delete_matrices(cr.content_directory)\n",
    "\n",
    "# for all documents in corpus\n",
    "for document_name in cr.get_documents():\n",
    "    print(\"processing \", document_name)\n",
    "\n",
    "    # get document text\n",
    "    document_text = cr.get_text_by_document(document_name)\n",
    "\n",
    "    # simplify whitespace (remove newlines)\n",
    "    b = tmt.text_processing.simplify_whitespace(document_text)\n",
    "\n",
    "    # only keep alphanumeric characters, removes punctuation\n",
    "    c = tmt.text_processing.keep_alphanumeric(b)\n",
    "\n",
    "    # make lowercase\n",
    "    d = tmt.text_processing.to_lowercase(c)\n",
    "\n",
    "    # split into words list\n",
    "    dl = tmt.text_processing.split_text_into_words(d)\n",
    "    # build n-grams\n",
    "    #gl = tmt.word_processing.build_ngrams_from_words(dl,2)\n",
    "\n",
    "    # remove stop words\n",
    "    #el = tmt.word_processing.remove_stop_words(dl, \"./stopwords/minimal-stop.txt\")\n",
    "    \n",
    "    # update index\n",
    "    tmt.cooccurrence.create_cooccurrence_matrix_for_document(cr.content_directory, document_name, dl)\n",
    "    pass\n"
   ]
  },
  {
   "cell_type": "code",
   "execution_count": 6,
   "metadata": {
    "collapsed": false
   },
   "outputs": [
    {
     "name": "stdout",
     "output_type": "stream",
     "text": [
      "saving corpus co-occurrence matrix ...  data_sets/recipes/txt/matrix.cooccurrence\n"
     ]
    }
   ],
   "source": [
    "# merge document indices into a corpus index\n",
    "tmt.cooccurrence.merge_cooccurrence_matrices_for_corpus(cr.content_directory)"
   ]
  },
  {
   "cell_type": "code",
   "execution_count": 7,
   "metadata": {
    "collapsed": false
   },
   "outputs": [
    {
     "name": "stdout",
     "output_type": "stream",
     "text": [
      "cooccurrence_matrix_file  data_sets/recipes/txt/matrix.cooccurrence\n",
      "         1   12  ...    zucchini  zuppa\n",
      "1      0.0  0.0  ...         0.0    0.0\n",
      "12     0.0  0.0  ...         0.0    0.0\n",
      "14     0.0  0.0  ...         0.0    0.0\n",
      "2      0.0  0.0  ...         0.0    0.0\n",
      "3      0.0  0.0  ...         0.0    0.0\n",
      "32     0.0  0.0  ...         0.0    0.0\n",
      "4      0.0  0.0  ...         0.0    0.0\n",
      "54     0.0  0.0  ...         0.0    0.0\n",
      "a      0.0  0.0  ...         0.0    0.0\n",
      "about  0.0  0.0  ...         0.0    0.0\n",
      "\n",
      "[10 rows x 672 columns]\n"
     ]
    }
   ],
   "source": [
    "tmt.cooccurrence.print_matrix(cr.content_directory)"
   ]
  },
  {
   "cell_type": "code",
   "execution_count": 8,
   "metadata": {
    "collapsed": false
   },
   "outputs": [
    {
     "data": {
      "text/plain": [
       "16.0"
      ]
     },
     "execution_count": 8,
     "metadata": {},
     "output_type": "execute_result"
    }
   ],
   "source": [
    "# query the co-occurrence value for a given pair of words\n",
    "tmt.cooccurrence.query_cooccurance_matrix(cr.content_directory, \"in\", \"the\")"
   ]
  },
  {
   "cell_type": "code",
   "execution_count": 9,
   "metadata": {
    "collapsed": false
   },
   "outputs": [
    {
     "data": {
      "text/plain": [
       "'pepper'"
      ]
     },
     "execution_count": 9,
     "metadata": {},
     "output_type": "execute_result"
    }
   ],
   "source": [
    "# get the most likely next word by co-occurrence value for given word\n",
    "tmt.cooccurrence.most_likely_next(cr.content_directory, \"and\")"
   ]
  },
  {
   "cell_type": "code",
   "execution_count": 10,
   "metadata": {
    "collapsed": false
   },
   "outputs": [
    {
     "name": "stdout",
     "output_type": "stream",
     "text": [
      "the fire with a little more and pepper\n",
      "once into the fire with a little more\n",
      "then cut them in the fire with a\n",
      "olive oil and pepper and pepper and pepper\n",
      "tomato sauce salsa bianca this sauce salsa bianca\n",
      "cut them in the fire with a little\n",
      "cook in the fire with a little more\n",
      "little more and pepper and pepper and pepper\n"
     ]
    }
   ],
   "source": [
    "#generate sentences based on co-occurence\n",
    "sentence_length = 7\n",
    "\n",
    "#initial words \n",
    "for w in [\"the\", \"once\", \"then\", \"olive\", \"tomato\", \"cut\", \"cook\", \"little\"]:\n",
    "    sentence = w\n",
    "    for i in range(sentence_length):\n",
    "        w = tmt.cooccurrence.most_likely_next(cr.content_directory, w)\n",
    "        sentence += (\" \" + w)\n",
    "        pass\n",
    "    print(sentence)\n",
    "    pass\n"
   ]
  },
  {
   "cell_type": "code",
   "execution_count": 11,
   "metadata": {
    "collapsed": false
   },
   "outputs": [
    {
     "data": {
      "text/html": [
       "<div>\n",
       "<table border=\"1\" class=\"dataframe\">\n",
       "  <thead>\n",
       "    <tr style=\"text-align: right;\">\n",
       "      <th></th>\n",
       "      <th>word1</th>\n",
       "      <th>word2</th>\n",
       "      <th>weight</th>\n",
       "    </tr>\n",
       "  </thead>\n",
       "  <tbody>\n",
       "    <tr>\n",
       "      <th>0</th>\n",
       "      <td>of</td>\n",
       "      <td>the</td>\n",
       "      <td>19.0</td>\n",
       "    </tr>\n",
       "    <tr>\n",
       "      <th>1</th>\n",
       "      <td>with</td>\n",
       "      <td>a</td>\n",
       "      <td>17.0</td>\n",
       "    </tr>\n",
       "    <tr>\n",
       "      <th>2</th>\n",
       "      <td>in</td>\n",
       "      <td>the</td>\n",
       "      <td>16.0</td>\n",
       "    </tr>\n",
       "    <tr>\n",
       "      <th>3</th>\n",
       "      <td>a</td>\n",
       "      <td>little</td>\n",
       "      <td>16.0</td>\n",
       "    </tr>\n",
       "    <tr>\n",
       "      <th>4</th>\n",
       "      <td>grated</td>\n",
       "      <td>cheese</td>\n",
       "      <td>16.0</td>\n",
       "    </tr>\n",
       "    <tr>\n",
       "      <th>5</th>\n",
       "      <td>salt</td>\n",
       "      <td>and</td>\n",
       "      <td>15.0</td>\n",
       "    </tr>\n",
       "    <tr>\n",
       "      <th>6</th>\n",
       "      <td>it</td>\n",
       "      <td>is</td>\n",
       "      <td>14.0</td>\n",
       "    </tr>\n",
       "    <tr>\n",
       "      <th>7</th>\n",
       "      <td>in</td>\n",
       "      <td>a</td>\n",
       "      <td>13.0</td>\n",
       "    </tr>\n",
       "    <tr>\n",
       "      <th>8</th>\n",
       "      <td>them</td>\n",
       "      <td>in</td>\n",
       "      <td>13.0</td>\n",
       "    </tr>\n",
       "    <tr>\n",
       "      <th>9</th>\n",
       "      <td>the</td>\n",
       "      <td>fire</td>\n",
       "      <td>12.0</td>\n",
       "    </tr>\n",
       "    <tr>\n",
       "      <th>10</th>\n",
       "      <td>and</td>\n",
       "      <td>pepper</td>\n",
       "      <td>10.0</td>\n",
       "    </tr>\n",
       "    <tr>\n",
       "      <th>11</th>\n",
       "      <td>and</td>\n",
       "      <td>put</td>\n",
       "      <td>10.0</td>\n",
       "    </tr>\n",
       "    <tr>\n",
       "      <th>12</th>\n",
       "      <td>on</td>\n",
       "      <td>the</td>\n",
       "      <td>10.0</td>\n",
       "    </tr>\n",
       "    <tr>\n",
       "      <th>13</th>\n",
       "      <td>they</td>\n",
       "      <td>are</td>\n",
       "      <td>10.0</td>\n",
       "    </tr>\n",
       "    <tr>\n",
       "      <th>14</th>\n",
       "      <td>oil</td>\n",
       "      <td>and</td>\n",
       "      <td>9.0</td>\n",
       "    </tr>\n",
       "    <tr>\n",
       "      <th>15</th>\n",
       "      <td>to</td>\n",
       "      <td>be</td>\n",
       "      <td>9.0</td>\n",
       "    </tr>\n",
       "    <tr>\n",
       "      <th>16</th>\n",
       "      <td>over</td>\n",
       "      <td>the</td>\n",
       "      <td>9.0</td>\n",
       "    </tr>\n",
       "    <tr>\n",
       "      <th>17</th>\n",
       "      <td>tomato</td>\n",
       "      <td>sauce</td>\n",
       "      <td>8.0</td>\n",
       "    </tr>\n",
       "    <tr>\n",
       "      <th>18</th>\n",
       "      <td>with</td>\n",
       "      <td>the</td>\n",
       "      <td>8.0</td>\n",
       "    </tr>\n",
       "    <tr>\n",
       "      <th>19</th>\n",
       "      <td>butter</td>\n",
       "      <td>and</td>\n",
       "      <td>8.0</td>\n",
       "    </tr>\n",
       "  </tbody>\n",
       "</table>\n",
       "</div>"
      ],
      "text/plain": [
       "     word1   word2  weight\n",
       "0       of     the    19.0\n",
       "1     with       a    17.0\n",
       "2       in     the    16.0\n",
       "3        a  little    16.0\n",
       "4   grated  cheese    16.0\n",
       "5     salt     and    15.0\n",
       "6       it      is    14.0\n",
       "7       in       a    13.0\n",
       "8     them      in    13.0\n",
       "9      the    fire    12.0\n",
       "10     and  pepper    10.0\n",
       "11     and     put    10.0\n",
       "12      on     the    10.0\n",
       "13    they     are    10.0\n",
       "14     oil     and     9.0\n",
       "15      to      be     9.0\n",
       "16    over     the     9.0\n",
       "17  tomato   sauce     8.0\n",
       "18    with     the     8.0\n",
       "19  butter     and     8.0"
      ]
     },
     "execution_count": 11,
     "metadata": {},
     "output_type": "execute_result"
    }
   ],
   "source": [
    "words_by_co_occurrence = tmt.cooccurrence.get_word_pairs_by_cooccurrence(cr.content_directory)\n",
    "# 20 most common\n",
    "words_by_co_occurrence[:20]"
   ]
  },
  {
   "cell_type": "code",
   "execution_count": 12,
   "metadata": {
    "collapsed": false
   },
   "outputs": [
    {
     "data": {
      "text/html": [
       "<div>\n",
       "<table border=\"1\" class=\"dataframe\">\n",
       "  <thead>\n",
       "    <tr style=\"text-align: right;\">\n",
       "      <th></th>\n",
       "      <th>word1</th>\n",
       "      <th>word2</th>\n",
       "      <th>weight</th>\n",
       "    </tr>\n",
       "  </thead>\n",
       "  <tbody>\n",
       "    <tr>\n",
       "      <th>2183</th>\n",
       "      <td>paste</td>\n",
       "      <td>with</td>\n",
       "      <td>1.0</td>\n",
       "    </tr>\n",
       "    <tr>\n",
       "      <th>2184</th>\n",
       "      <td>pastes</td>\n",
       "      <td>which</td>\n",
       "      <td>1.0</td>\n",
       "    </tr>\n",
       "    <tr>\n",
       "      <th>2185</th>\n",
       "      <td>pasticciata</td>\n",
       "      <td>make</td>\n",
       "      <td>1.0</td>\n",
       "    </tr>\n",
       "    <tr>\n",
       "      <th>2186</th>\n",
       "      <td>peel</td>\n",
       "      <td>let</td>\n",
       "      <td>1.0</td>\n",
       "    </tr>\n",
       "    <tr>\n",
       "      <th>2187</th>\n",
       "      <td>pepper</td>\n",
       "      <td>a</td>\n",
       "      <td>1.0</td>\n",
       "    </tr>\n",
       "    <tr>\n",
       "      <th>2188</th>\n",
       "      <td>pepper</td>\n",
       "      <td>cut</td>\n",
       "      <td>1.0</td>\n",
       "    </tr>\n",
       "    <tr>\n",
       "      <th>2189</th>\n",
       "      <td>pieces</td>\n",
       "      <td>as</td>\n",
       "      <td>1.0</td>\n",
       "    </tr>\n",
       "    <tr>\n",
       "      <th>2190</th>\n",
       "      <td>pepper</td>\n",
       "      <td>grated</td>\n",
       "      <td>1.0</td>\n",
       "    </tr>\n",
       "    <tr>\n",
       "      <th>2191</th>\n",
       "      <td>pepper</td>\n",
       "      <td>let</td>\n",
       "      <td>1.0</td>\n",
       "    </tr>\n",
       "    <tr>\n",
       "      <th>2192</th>\n",
       "      <td>pepper</td>\n",
       "      <td>stir</td>\n",
       "      <td>1.0</td>\n",
       "    </tr>\n",
       "    <tr>\n",
       "      <th>2193</th>\n",
       "      <td>pepper</td>\n",
       "      <td>to</td>\n",
       "      <td>1.0</td>\n",
       "    </tr>\n",
       "    <tr>\n",
       "      <th>2194</th>\n",
       "      <td>pepper</td>\n",
       "      <td>will</td>\n",
       "      <td>1.0</td>\n",
       "    </tr>\n",
       "    <tr>\n",
       "      <th>2195</th>\n",
       "      <td>peppers</td>\n",
       "      <td>can</td>\n",
       "      <td>1.0</td>\n",
       "    </tr>\n",
       "    <tr>\n",
       "      <th>2196</th>\n",
       "      <td>per</td>\n",
       "      <td>contorno</td>\n",
       "      <td>1.0</td>\n",
       "    </tr>\n",
       "    <tr>\n",
       "      <th>2197</th>\n",
       "      <td>pie</td>\n",
       "      <td>polenta</td>\n",
       "      <td>1.0</td>\n",
       "    </tr>\n",
       "    <tr>\n",
       "      <th>2198</th>\n",
       "      <td>piece</td>\n",
       "      <td>celery</td>\n",
       "      <td>1.0</td>\n",
       "    </tr>\n",
       "    <tr>\n",
       "      <th>2199</th>\n",
       "      <td>piece</td>\n",
       "      <td>chop</td>\n",
       "      <td>1.0</td>\n",
       "    </tr>\n",
       "    <tr>\n",
       "      <th>2200</th>\n",
       "      <td>pieces</td>\n",
       "      <td>about</td>\n",
       "      <td>1.0</td>\n",
       "    </tr>\n",
       "    <tr>\n",
       "      <th>2201</th>\n",
       "      <td>pieces</td>\n",
       "      <td>and</td>\n",
       "      <td>1.0</td>\n",
       "    </tr>\n",
       "    <tr>\n",
       "      <th>2202</th>\n",
       "      <td>1</td>\n",
       "      <td>with</td>\n",
       "      <td>1.0</td>\n",
       "    </tr>\n",
       "  </tbody>\n",
       "</table>\n",
       "</div>"
      ],
      "text/plain": [
       "            word1     word2  weight\n",
       "2183        paste      with     1.0\n",
       "2184       pastes     which     1.0\n",
       "2185  pasticciata      make     1.0\n",
       "2186         peel       let     1.0\n",
       "2187       pepper         a     1.0\n",
       "2188       pepper       cut     1.0\n",
       "2189       pieces        as     1.0\n",
       "2190       pepper    grated     1.0\n",
       "2191       pepper       let     1.0\n",
       "2192       pepper      stir     1.0\n",
       "2193       pepper        to     1.0\n",
       "2194       pepper      will     1.0\n",
       "2195      peppers       can     1.0\n",
       "2196          per  contorno     1.0\n",
       "2197          pie   polenta     1.0\n",
       "2198        piece    celery     1.0\n",
       "2199        piece      chop     1.0\n",
       "2200       pieces     about     1.0\n",
       "2201       pieces       and     1.0\n",
       "2202            1      with     1.0"
      ]
     },
     "execution_count": 12,
     "metadata": {},
     "output_type": "execute_result"
    }
   ],
   "source": [
    "# 20 least common\n",
    "words_by_co_occurrence[-20:]"
   ]
  },
  {
   "cell_type": "code",
   "execution_count": 33,
   "metadata": {
    "collapsed": false,
    "scrolled": true
   },
   "outputs": [
    {
     "data": {
      "text/html": [
       "<div id=\"d3-container-2386268\"></div>\n",
       "<div>force-directed graph</div>\n",
       "\n",
       "<style>\n",
       "    .links line {\n",
       "        stroke: #999;\n",
       "        stroke-opacity: .3;\n",
       "    }\n",
       "    .nodes circle {\n",
       "        pointer-events: all;\n",
       "        stroke: #fff;\n",
       "        stroke-width: 1.5px;\n",
       "    }\n",
       "\n",
       "    .node text {\n",
       "        pointer-events: none;\n",
       "        font: 10px sans-serif;\n",
       "    }\n",
       "</style>\n"
      ]
     },
     "metadata": {},
     "output_type": "display_data"
    },
    {
     "data": {
      "application/javascript": [
       "// require is needed to make d3 work in a noebooks from imported code\n",
       "require.config({\n",
       "    paths: {\n",
       "        d3: \"https://d3js.org/d3.v4.min\"\n",
       "    }\n",
       "});\n",
       "\n",
       "require([\"d3\"], function(d3) {\n",
       "    //console.log(d3.version);\n",
       "\n",
       "    var width = 640,\n",
       "        height = 480;\n",
       "\n",
       "    var svg = d3.select(\"#d3-container-2386268\")\n",
       "        .append(\"svg\")\n",
       "        .attr(\"width\", width)\n",
       "        .attr(\"height\", height);\n",
       "\n",
       "    var colour = d3.scaleOrdinal(d3.schemeCategory20c);\n",
       "\n",
       "    var graph = {\n",
       "        nodes: [{'id': 'chicken'}, {'id': 'bolognese'}, {'id': 'knife'}, {'id': 'brown'}, {'id': 'dish'}, {'id': 'broth'}, {'id': 'addition'}, {'id': 'layer'}, {'id': 'tomatoes'}, {'id': 'grated'}, {'id': 'boiler'}, {'id': 'order'}, {'id': 'can'}, {'id': 'adding'}, {'id': 'greens'}, {'id': 'hours'}, {'id': 'rice'}, {'id': 'small'}, {'id': 'burn'}, {'id': 'let'}, {'id': 'itself'}, {'id': 'lieu'}, {'id': 'white'}, {'id': 'fine'}, {'id': 'intervals'}, {'id': 'and'}, {'id': 'liquid'}, {'id': 'low'}, {'id': 'some'}, {'id': 'pour'}, {'id': 'do'}, {'id': 'ground'}, {'id': 'three'}, {'id': 'eggs'}, {'id': 'seasoned'}, {'id': 'fresh'}, {'id': 'finally'}, {'id': 'will'}, {'id': 'flavor'}, {'id': 'kind'}, {'id': 'soaked'}, {'id': 'fry'}, {'id': 'down'}, {'id': 'cut'}, {'id': 'while'}, {'id': 'sieve'}, {'id': 'green'}, {'id': 'cooked'}, {'id': 'board'}, {'id': 'vegetables'}, {'id': 'stir'}, {'id': 'fill'}, {'id': 'oven'}, {'id': 'from'}, {'id': 'better'}, {'id': 'instead'}, {'id': 'inside'}, {'id': 'milk'}, {'id': 'this'}, {'id': 'garlic'}, {'id': 'interior'}, {'id': 'fat'}, {'id': 'spinach'}, {'id': 'cubes'}, {'id': 'celery'}, {'id': 'pepper'}, {'id': 'yolks'}, {'id': 'composed'}, {'id': 'four'}, {'id': 'swiss'}, {'id': 'artichokes'}, {'id': 'away'}, {'id': 'dip'}, {'id': 'olive'}, {'id': 'sprig'}, {'id': 'done'}, {'id': 'seasoning'}, {'id': 'cool'}, {'id': 'often'}, {'id': 'codfish'}, {'id': 'froth'}, {'id': 'with'}, {'id': 'when'}, {'id': 'which'}, {'id': 'section'}, {'id': 'artichoke'}, {'id': 'lose'}, {'id': 'an'}, {'id': 'of'}, {'id': 'two'}, {'id': 'whole'}, {'id': 'they'}, {'id': 'boiled'}, {'id': 'on'}, {'id': 'six'}, {'id': 'the'}, {'id': 'cold'}, {'id': 'take'}, {'id': 'minutes'}, {'id': 'cooking'}, {'id': 'ball'}, {'id': 'compound'}, {'id': 'also'}, {'id': 'outside'}, {'id': 'large'}, {'id': 'doesnt'}, {'id': 'fire'}, {'id': 'inch'}, {'id': 'no'}, {'id': 'bread'}, {'id': 'but'}, {'id': 'marrow'}, {'id': 'asparagus'}, {'id': 'you'}, {'id': 'egg'}, {'id': 'finger'}, {'id': 'boiling'}, {'id': 'to'}, {'id': 'piece'}, {'id': 'parmesan'}, {'id': 'beat'}, {'id': 'five'}, {'id': 'be'}, {'id': 'boil'}, {'id': 'parsley'}, {'id': 'thin'}, {'id': 'one'}, {'id': 'paste'}, {'id': 'used'}, {'id': 'yolk'}, {'id': 'dipped'}, {'id': 'double'}, {'id': 'meat'}, {'id': 'bay'}, {'id': 'may'}, {'id': 'well'}, {'id': 'throw'}, {'id': 'different'}, {'id': 'spoon'}, {'id': 'pulp'}, {'id': 'distances'}, {'id': 'onion'}, {'id': 'by'}, {'id': 'or'}, {'id': 'after'}, {'id': 'lemon'}, {'id': 'instance'}, {'id': 'cheese'}, {'id': 'then'}, {'id': 'concentrated'}, {'id': 'turkey'}, {'id': 'together'}, {'id': 'until'}, {'id': 'attached'}, {'id': 'begins'}, {'id': 'parts'}, {'id': '14'}, {'id': '12'}, {'id': 'dissolve'}, {'id': 'according'}, {'id': 'into'}, {'id': 'filling'}, {'id': 'many'}, {'id': 'served'}, {'id': 'through'}, {'id': 'nutmeg'}, {'id': 'serve'}, {'id': 'been'}, {'id': 'hot'}, {'id': 'diluted'}, {'id': 'cook'}, {'id': 'pieces'}, {'id': 'give'}, {'id': 'so'}, {'id': 'season'}, {'id': 'few'}, {'id': 'hour'}, {'id': 'excellent'}, {'id': 'vase'}, {'id': 'stock'}, {'id': 'water'}, {'id': 'oil'}, {'id': 'part'}, {'id': 'add'}, {'id': 'plate'}, {'id': 'slices'}, {'id': 'place'}, {'id': 'baking'}, {'id': 'taste'}, {'id': 'ingredients'}, {'id': 'juice'}, {'id': 'fingers'}, {'id': 'italian'}, {'id': 'everything'}, {'id': 'not'}, {'id': 'balls'}, {'id': 'layers'}, {'id': 'make'}, {'id': 'put'}, {'id': 'grind'}, {'id': 'out'}, {'id': 'saucepan'}, {'id': 'long'}, {'id': 'following'}, {'id': 'sauce'}, {'id': 'a'}, {'id': 'salsa'}, {'id': 'it'}, {'id': 'gravy'}, {'id': 'just'}, {'id': 'tomato'}, {'id': 'proportion'}, {'id': 'fireproof'}, {'id': 'quantity'}, {'id': 'fish'}, {'id': 'more'}, {'id': 'flour'}, {'id': 'vinegar'}, {'id': 'tablespoonfuls'}, {'id': 'salt'}, {'id': 'become'}, {'id': 'tablespoons'}, {'id': 'butter'}, {'id': 'dosed'}, {'id': 'mix'}, {'id': 'way'}, {'id': 'them'}, {'id': 'lb'}, {'id': 'sheet'}, {'id': 'for'}, {'id': 'as'}, {'id': 'browned'}, {'id': 'hash'}, {'id': 'see'}, {'id': 'pinch'}, {'id': 'their'}, {'id': 'divide'}, {'id': 'same'}, {'id': 'soup'}, {'id': 'cup'}, {'id': 'sufficient'}, {'id': 'mixed'}, {'id': 'in'}, {'id': 'each'}, {'id': 'little'}, {'id': 'half'}, {'id': 'filled'}, {'id': 'have'}, {'id': 'too'}, {'id': 'keep'}, {'id': 'if'}, {'id': 'are'}, {'id': 'chopped'}, {'id': 'does'}, {'id': 'other'}, {'id': 'over'}, {'id': 'beaten'}, {'id': 'slice'}, {'id': 'stuffed'}, {'id': 'mold'}, {'id': 'above'}, {'id': 'teaspoonful'}, {'id': 'at'}, {'id': 'ways'}, {'id': 'tablespoonful'}, {'id': 'remove'}, {'id': 'very'}, {'id': 'being'}, {'id': 'is'}, {'id': 'leaves'}, {'id': 'stale'}, {'id': 'between'}, {'id': 'crumbs'}, {'id': 'that'}, {'id': 'beef'}],\n",
       "        links: [{'target': 92, 'weight': 2.0, 'source': 0}, {'target': 143, 'weight': 3.0, 'source': 0}, {'target': 95, 'weight': 2.0, 'source': 1}, {'target': 204, 'weight': 2.0, 'source': 1}, {'target': 205, 'weight': 2.0, 'source': 2}, {'target': 81, 'weight': 3.0, 'source': 3}, {'target': 117, 'weight': 4.0, 'source': 3}, {'target': 242, 'weight': 2.0, 'source': 3}, {'target': 179, 'weight': 6.0, 'source': 3}, {'target': 187, 'weight': 2.0, 'source': 4}, {'target': 95, 'weight': 2.0, 'source': 5}, {'target': 88, 'weight': 2.0, 'source': 5}, {'target': 242, 'weight': 2.0, 'source': 5}, {'target': 25, 'weight': 2.0, 'source': 5}, {'target': 143, 'weight': 2.0, 'source': 5}, {'target': 23, 'weight': 1.0, 'source': 6}, {'target': 88, 'weight': 2.0, 'source': 7}, {'target': 251, 'weight': 2.0, 'source': 8}, {'target': 95, 'weight': 2.0, 'source': 8}, {'target': 35, 'weight': 2.0, 'source': 8}, {'target': 25, 'weight': 2.0, 'source': 8}, {'target': 258, 'weight': 2.0, 'source': 8}, {'target': 88, 'weight': 4.0, 'source': 9}, {'target': 33, 'weight': 1.0, 'source': 9}, {'target': 28, 'weight': 2.0, 'source': 9}, {'target': 147, 'weight': 16.0, 'source': 9}, {'target': 81, 'weight': 3.0, 'source': 9}, {'target': 131, 'weight': 1.0, 'source': 10}, {'target': 242, 'weight': 1.0, 'source': 11}, {'target': 122, 'weight': 4.0, 'source': 12}, {'target': 205, 'weight': 4.0, 'source': 13}, {'target': 65, 'weight': 2.0, 'source': 13}, {'target': 25, 'weight': 2.0, 'source': 14}, {'target': 143, 'weight': 2.0, 'source': 14}, {'target': 175, 'weight': 2.0, 'source': 15}, {'target': 95, 'weight': 5.0, 'source': 16}, {'target': 25, 'weight': 2.0, 'source': 16}, {'target': 205, 'weight': 5.0, 'source': 17}, {'target': 266, 'weight': 2.0, 'source': 17}, {'target': 160, 'weight': 1.0, 'source': 17}, {'target': 213, 'weight': 4.0, 'source': 17}, {'target': 105, 'weight': 1.0, 'source': 18}, {'target': 95, 'weight': 3.0, 'source': 19}, {'target': 25, 'weight': 3.0, 'source': 19}, {'target': 207, 'weight': 3.0, 'source': 19}, {'target': 242, 'weight': 1.0, 'source': 20}, {'target': 242, 'weight': 1.0, 'source': 21}, {'target': 95, 'weight': 5.0, 'source': 22}, {'target': 88, 'weight': 2.0, 'source': 22}, {'target': 204, 'weight': 3.0, 'source': 22}, {'target': 183, 'weight': 3.0, 'source': 23}, {'target': 95, 'weight': 1.0, 'source': 23}, {'target': 266, 'weight': 4.0, 'source': 23}, {'target': 126, 'weight': 1.0, 'source': 23}, {'target': 25, 'weight': 2.0, 'source': 23}, {'target': 271, 'weight': 1.0, 'source': 24}, {'target': 151, 'weight': 3.0, 'source': 25}, {'target': 216, 'weight': 6.0, 'source': 25}, {'target': 147, 'weight': 7.0, 'source': 25}, {'target': 197, 'weight': 2.0, 'source': 25}, {'target': 219, 'weight': 3.0, 'source': 25}, {'target': 72, 'weight': 2.0, 'source': 25}, {'target': 155, 'weight': 2.0, 'source': 25}, {'target': 224, 'weight': 2.0, 'source': 25}, {'target': 82, 'weight': 8.0, 'source': 25}, {'target': 260, 'weight': 2.0, 'source': 25}, {'target': 166, 'weight': 6.0, 'source': 25}, {'target': 89, 'weight': 4.0, 'source': 25}, {'target': 250, 'weight': 2.0, 'source': 25}, {'target': 28, 'weight': 3.0, 'source': 25}, {'target': 249, 'weight': 2.0, 'source': 25}, {'target': 148, 'weight': 4.0, 'source': 25}, {'target': 65, 'weight': 4.0, 'source': 25}, {'target': 181, 'weight': 9.0, 'source': 25}, {'target': 106, 'weight': 1.0, 'source': 25}, {'target': 186, 'weight': 4.0, 'source': 25}, {'target': 95, 'weight': 5.0, 'source': 25}, {'target': 269, 'weight': 3.0, 'source': 25}, {'target': 127, 'weight': 2.0, 'source': 25}, {'target': 135, 'weight': 2.0, 'source': 25}, {'target': 45, 'weight': 4.0, 'source': 25}, {'target': 114, 'weight': 2.0, 'source': 25}, {'target': 50, 'weight': 2.0, 'source': 25}, {'target': 170, 'weight': 2.0, 'source': 25}, {'target': 198, 'weight': 10.0, 'source': 25}, {'target': 265, 'weight': 2.0, 'source': 25}, {'target': 199, 'weight': 2.0, 'source': 25}, {'target': 124, 'weight': 2.0, 'source': 25}, {'target': 185, 'weight': 2.0, 'source': 25}, {'target': 205, 'weight': 8.0, 'source': 25}, {'target': 222, 'weight': 4.0, 'source': 25}, {'target': 52, 'weight': 2.0, 'source': 25}, {'target': 180, 'weight': 6.0, 'source': 25}, {'target': 209, 'weight': 4.0, 'source': 25}, {'target': 138, 'weight': 2.0, 'source': 25}, {'target': 248, 'weight': 2.0, 'source': 26}, {'target': 205, 'weight': 2.0, 'source': 27}, {'target': 106, 'weight': 2.0, 'source': 27}, {'target': 36, 'weight': 1.0, 'source': 29}, {'target': 231, 'weight': 2.0, 'source': 29}, {'target': 255, 'weight': 6.0, 'source': 29}, {'target': 194, 'weight': 2.0, 'source': 30}, {'target': 242, 'weight': 1.0, 'source': 31}, {'target': 66, 'weight': 2.0, 'source': 32}, {'target': 143, 'weight': 3.0, 'source': 32}, {'target': 229, 'weight': 1.0, 'source': 33}, {'target': 256, 'weight': 2.0, 'source': 33}, {'target': 46, 'weight': 1.0, 'source': 33}, {'target': 88, 'weight': 2.0, 'source': 33}, {'target': 172, 'weight': 1.0, 'source': 33}, {'target': 81, 'weight': 7.0, 'source': 34}, {'target': 122, 'weight': 2.0, 'source': 37}, {'target': 242, 'weight': 1.0, 'source': 38}, {'target': 88, 'weight': 2.0, 'source': 39}, {'target': 242, 'weight': 3.0, 'source': 40}, {'target': 117, 'weight': 2.0, 'source': 41}, {'target': 242, 'weight': 2.0, 'source': 41}, {'target': 95, 'weight': 1.0, 'source': 42}, {'target': 81, 'weight': 1.0, 'source': 42}, {'target': 144, 'weight': 1.0, 'source': 42}, {'target': 242, 'weight': 3.0, 'source': 43}, {'target': 207, 'weight': 2.0, 'source': 43}, {'target': 115, 'weight': 1.0, 'source': 43}, {'target': 226, 'weight': 6.0, 'source': 43}, {'target': 148, 'weight': 3.0, 'source': 43}, {'target': 160, 'weight': 2.0, 'source': 43}, {'target': 205, 'weight': 2.0, 'source': 44}, {'target': 205, 'weight': 5.0, 'source': 45}, {'target': 95, 'weight': 2.0, 'source': 46}, {'target': 182, 'weight': 2.0, 'source': 46}, {'target': 242, 'weight': 2.0, 'source': 47}, {'target': 109, 'weight': 3.0, 'source': 48}, {'target': 88, 'weight': 2.0, 'source': 49}, {'target': 207, 'weight': 2.0, 'source': 50}, {'target': 95, 'weight': 1.0, 'source': 51}, {'target': 95, 'weight': 4.0, 'source': 52}, {'target': 95, 'weight': 7.0, 'source': 53}, {'target': 143, 'weight': 2.0, 'source': 54}, {'target': 88, 'weight': 1.0, 'source': 55}, {'target': 243, 'weight': 1.0, 'source': 56}, {'target': 242, 'weight': 5.0, 'source': 57}, {'target': 143, 'weight': 2.0, 'source': 57}, {'target': 204, 'weight': 6.0, 'source': 58}, {'target': 268, 'weight': 3.0, 'source': 58}, {'target': 88, 'weight': 4.0, 'source': 59}, {'target': 139, 'weight': 1.0, 'source': 60}, {'target': 148, 'weight': 1.0, 'source': 61}, {'target': 95, 'weight': 2.0, 'source': 62}, {'target': 160, 'weight': 1.0, 'source': 63}, {'target': 198, 'weight': 2.0, 'source': 64}, {'target': 219, 'weight': 2.0, 'source': 65}, {'target': 88, 'weight': 2.0, 'source': 66}, {'target': 88, 'weight': 2.0, 'source': 67}, {'target': 268, 'weight': 2.0, 'source': 67}, {'target': 218, 'weight': 2.0, 'source': 68}, {'target': 160, 'weight': 1.0, 'source': 68}, {'target': 143, 'weight': 3.0, 'source': 68}, {'target': 143, 'weight': 2.0, 'source': 69}, {'target': 95, 'weight': 4.0, 'source': 70}, {'target': 95, 'weight': 2.0, 'source': 71}, {'target': 97, 'weight': 2.0, 'source': 71}, {'target': 242, 'weight': 2.0, 'source': 72}, {'target': 226, 'weight': 3.0, 'source': 72}, {'target': 181, 'weight': 6.0, 'source': 73}, {'target': 88, 'weight': 2.0, 'source': 73}, {'target': 88, 'weight': 2.0, 'source': 74}, {'target': 205, 'weight': 2.0, 'source': 74}, {'target': 82, 'weight': 1.0, 'source': 75}, {'target': 95, 'weight': 4.0, 'source': 76}, {'target': 268, 'weight': 2.0, 'source': 76}, {'target': 207, 'weight': 1.0, 'source': 77}, {'target': 207, 'weight': 2.0, 'source': 78}, {'target': 95, 'weight': 2.0, 'source': 79}, {'target': 205, 'weight': 2.0, 'source': 80}, {'target': 151, 'weight': 2.0, 'source': 81}, {'target': 141, 'weight': 2.0, 'source': 81}, {'target': 143, 'weight': 2.0, 'source': 81}, {'target': 95, 'weight': 8.0, 'source': 81}, {'target': 145, 'weight': 2.0, 'source': 81}, {'target': 106, 'weight': 4.0, 'source': 81}, {'target': 219, 'weight': 7.0, 'source': 81}, {'target': 201, 'weight': 2.0, 'source': 81}, {'target': 99, 'weight': 2.0, 'source': 81}, {'target': 259, 'weight': 2.0, 'source': 81}, {'target': 226, 'weight': 2.0, 'source': 81}, {'target': 163, 'weight': 2.0, 'source': 81}, {'target': 232, 'weight': 2.0, 'source': 81}, {'target': 166, 'weight': 2.0, 'source': 81}, {'target': 205, 'weight': 17.0, 'source': 81}, {'target': 222, 'weight': 4.0, 'source': 81}, {'target': 174, 'weight': 4.0, 'source': 81}, {'target': 180, 'weight': 2.0, 'source': 81}, {'target': 222, 'weight': 2.0, 'source': 82}, {'target': 207, 'weight': 5.0, 'source': 82}, {'target': 95, 'weight': 7.0, 'source': 82}, {'target': 91, 'weight': 5.0, 'source': 82}, {'target': 113, 'weight': 3.0, 'source': 82}, {'target': 251, 'weight': 2.0, 'source': 83}, {'target': 268, 'weight': 2.0, 'source': 83}, {'target': 243, 'weight': 2.0, 'source': 84}, {'target': 243, 'weight': 2.0, 'source': 85}, {'target': 235, 'weight': 2.0, 'source': 86}, {'target': 245, 'weight': 2.0, 'source': 87}, {'target': 268, 'weight': 1.0, 'source': 87}, {'target': 114, 'weight': 2.0, 'source': 87}, {'target': 88, 'weight': 3.0, 'source': 87}, {'target': 176, 'weight': 3.0, 'source': 87}, {'target': 177, 'weight': 3.0, 'source': 87}, {'target': 107, 'weight': 2.0, 'source': 87}, {'target': 141, 'weight': 2.0, 'source': 88}, {'target': 213, 'weight': 5.0, 'source': 88}, {'target': 216, 'weight': 5.0, 'source': 88}, {'target': 218, 'weight': 6.0, 'source': 88}, {'target': 219, 'weight': 2.0, 'source': 88}, {'target': 264, 'weight': 4.0, 'source': 88}, {'target': 228, 'weight': 2.0, 'source': 88}, {'target': 112, 'weight': 2.0, 'source': 88}, {'target': 232, 'weight': 3.0, 'source': 88}, {'target': 234, 'weight': 3.0, 'source': 88}, {'target': 89, 'weight': 2.0, 'source': 88}, {'target': 274, 'weight': 2.0, 'source': 88}, {'target': 171, 'weight': 3.0, 'source': 88}, {'target': 239, 'weight': 2.0, 'source': 88}, {'target': 227, 'weight': 2.0, 'source': 88}, {'target': 182, 'weight': 3.0, 'source': 88}, {'target': 95, 'weight': 19.0, 'source': 88}, {'target': 188, 'weight': 4.0, 'source': 88}, {'target': 111, 'weight': 2.0, 'source': 88}, {'target': 257, 'weight': 2.0, 'source': 88}, {'target': 114, 'weight': 2.0, 'source': 88}, {'target': 261, 'weight': 2.0, 'source': 88}, {'target': 118, 'weight': 6.0, 'source': 88}, {'target': 109, 'weight': 6.0, 'source': 88}, {'target': 165, 'weight': 3.0, 'source': 88}, {'target': 124, 'weight': 3.0, 'source': 88}, {'target': 127, 'weight': 2.0, 'source': 88}, {'target': 129, 'weight': 3.0, 'source': 88}, {'target': 205, 'weight': 4.0, 'source': 88}, {'target': 222, 'weight': 8.0, 'source': 88}, {'target': 269, 'weight': 3.0, 'source': 88}, {'target': 272, 'weight': 2.0, 'source': 88}, {'target': 210, 'weight': 2.0, 'source': 88}, {'target': 218, 'weight': 2.0, 'source': 89}, {'target': 242, 'weight': 3.0, 'source': 89}, {'target': 143, 'weight': 2.0, 'source': 89}, {'target': 95, 'weight': 3.0, 'source': 90}, {'target': 205, 'weight': 2.0, 'source': 90}, {'target': 247, 'weight': 2.0, 'source': 91}, {'target': 230, 'weight': 2.0, 'source': 91}, {'target': 152, 'weight': 2.0, 'source': 91}, {'target': 251, 'weight': 10.0, 'source': 91}, {'target': 106, 'weight': 1.0, 'source': 91}, {'target': 273, 'weight': 3.0, 'source': 91}, {'target': 214, 'weight': 2.0, 'source': 92}, {'target': 93, 'weight': 2.0, 'source': 92}, {'target': 95, 'weight': 10.0, 'source': 93}, {'target': 198, 'weight': 3.0, 'source': 93}, {'target': 205, 'weight': 2.0, 'source': 93}, {'target': 207, 'weight': 4.0, 'source': 93}, {'target': 143, 'weight': 2.0, 'source': 94}, {'target': 208, 'weight': 2.0, 'source': 95}, {'target': 210, 'weight': 2.0, 'source': 95}, {'target': 114, 'weight': 4.0, 'source': 95}, {'target': 143, 'weight': 3.0, 'source': 95}, {'target': 214, 'weight': 4.0, 'source': 95}, {'target': 216, 'weight': 5.0, 'source': 95}, {'target': 190, 'weight': 2.0, 'source': 95}, {'target': 197, 'weight': 2.0, 'source': 95}, {'target': 201, 'weight': 2.0, 'source': 95}, {'target': 152, 'weight': 5.0, 'source': 95}, {'target': 222, 'weight': 2.0, 'source': 95}, {'target': 158, 'weight': 1.0, 'source': 95}, {'target': 160, 'weight': 4.0, 'source': 95}, {'target': 229, 'weight': 2.0, 'source': 95}, {'target': 230, 'weight': 3.0, 'source': 95}, {'target': 237, 'weight': 2.0, 'source': 95}, {'target': 132, 'weight': 4.0, 'source': 95}, {'target': 101, 'weight': 4.0, 'source': 95}, {'target': 103, 'weight': 2.0, 'source': 95}, {'target': 146, 'weight': 1.0, 'source': 95}, {'target': 106, 'weight': 1.0, 'source': 95}, {'target': 109, 'weight': 3.0, 'source': 95}, {'target': 127, 'weight': 2.0, 'source': 95}, {'target': 255, 'weight': 9.0, 'source': 95}, {'target': 258, 'weight': 2.0, 'source': 95}, {'target': 236, 'weight': 1.0, 'source': 95}, {'target': 116, 'weight': 2.0, 'source': 95}, {'target': 117, 'weight': 4.0, 'source': 95}, {'target': 262, 'weight': 2.0, 'source': 95}, {'target': 120, 'weight': 2.0, 'source': 95}, {'target': 198, 'weight': 2.0, 'source': 95}, {'target': 265, 'weight': 5.0, 'source': 95}, {'target': 200, 'weight': 4.0, 'source': 95}, {'target': 254, 'weight': 2.0, 'source': 95}, {'target': 203, 'weight': 4.0, 'source': 95}, {'target': 129, 'weight': 3.0, 'source': 95}, {'target': 204, 'weight': 3.0, 'source': 95}, {'target': 242, 'weight': 16.0, 'source': 95}, {'target': 99, 'weight': 3.0, 'source': 95}, {'target': 180, 'weight': 7.0, 'source': 95}, {'target': 273, 'weight': 5.0, 'source': 95}, {'target': 242, 'weight': 2.0, 'source': 96}, {'target': 160, 'weight': 1.0, 'source': 96}, {'target': 180, 'weight': 4.0, 'source': 96}, {'target': 226, 'weight': 2.0, 'source': 97}, {'target': 161, 'weight': 1.0, 'source': 97}, {'target': 246, 'weight': 1.0, 'source': 97}, {'target': 175, 'weight': 1.0, 'source': 98}, {'target': 243, 'weight': 1.0, 'source': 100}, {'target': 251, 'weight': 2.0, 'source': 102}, {'target': 268, 'weight': 1.0, 'source': 102}, {'target': 269, 'weight': 2.0, 'source': 103}, {'target': 242, 'weight': 1.0, 'source': 104}, {'target': 207, 'weight': 1.0, 'source': 105}, {'target': 183, 'weight': 2.0, 'source': 106}, {'target': 151, 'weight': 1.0, 'source': 106}, {'target': 242, 'weight': 2.0, 'source': 106}, {'target': 152, 'weight': 1.0, 'source': 106}, {'target': 158, 'weight': 1.0, 'source': 106}, {'target': 202, 'weight': 1.0, 'source': 107}, {'target': 242, 'weight': 1.0, 'source': 107}, {'target': 157, 'weight': 3.0, 'source': 108}, {'target': 204, 'weight': 3.0, 'source': 108}, {'target': 272, 'weight': 5.0, 'source': 109}, {'target': 270, 'weight': 2.0, 'source': 109}, {'target': 205, 'weight': 2.0, 'source': 110}, {'target': 194, 'weight': 3.0, 'source': 110}, {'target': 114, 'weight': 2.0, 'source': 110}, {'target': 247, 'weight': 3.0, 'source': 113}, {'target': 250, 'weight': 2.0, 'source': 113}, {'target': 233, 'weight': 2.0, 'source': 113}, {'target': 205, 'weight': 1.0, 'source': 114}, {'target': 126, 'weight': 2.0, 'source': 114}, {'target': 130, 'weight': 1.0, 'source': 115}, {'target': 205, 'weight': 1.0, 'source': 115}, {'target': 242, 'weight': 3.0, 'source': 116}, {'target': 180, 'weight': 3.0, 'source': 116}, {'target': 198, 'weight': 2.0, 'source': 117}, {'target': 230, 'weight': 2.0, 'source': 117}, {'target': 122, 'weight': 9.0, 'source': 117}, {'target': 226, 'weight': 3.0, 'source': 117}, {'target': 207, 'weight': 3.0, 'source': 117}, {'target': 183, 'weight': 2.0, 'source': 117}, {'target': 197, 'weight': 6.0, 'source': 117}, {'target': 251, 'weight': 2.0, 'source': 117}, {'target': 268, 'weight': 4.0, 'source': 117}, {'target': 153, 'weight': 3.0, 'source': 117}, {'target': 159, 'weight': 2.0, 'source': 117}, {'target': 154, 'weight': 3.0, 'source': 117}, {'target': 177, 'weight': 2.0, 'source': 117}, {'target': 205, 'weight': 3.0, 'source': 117}, {'target': 123, 'weight': 2.0, 'source': 117}, {'target': 174, 'weight': 2.0, 'source': 117}, {'target': 205, 'weight': 6.0, 'source': 118}, {'target': 147, 'weight': 2.0, 'source': 119}, {'target': 143, 'weight': 2.0, 'source': 119}, {'target': 207, 'weight': 1.0, 'source': 120}, {'target': 143, 'weight': 2.0, 'source': 121}, {'target': 128, 'weight': 4.0, 'source': 122}, {'target': 163, 'weight': 4.0, 'source': 122}, {'target': 231, 'weight': 2.0, 'source': 122}, {'target': 134, 'weight': 5.0, 'source': 122}, {'target': 194, 'weight': 2.0, 'source': 122}, {'target': 242, 'weight': 2.0, 'source': 123}, {'target': 207, 'weight': 1.0, 'source': 123}, {'target': 141, 'weight': 2.0, 'source': 124}, {'target': 205, 'weight': 2.0, 'source': 125}, {'target': 242, 'weight': 1.0, 'source': 126}, {'target': 141, 'weight': 2.0, 'source': 126}, {'target': 217, 'weight': 2.0, 'source': 126}, {'target': 149, 'weight': 2.0, 'source': 127}, {'target': 205, 'weight': 2.0, 'source': 127}, {'target': 169, 'weight': 2.0, 'source': 127}, {'target': 210, 'weight': 4.0, 'source': 127}, {'target': 242, 'weight': 2.0, 'source': 130}, {'target': 242, 'weight': 1.0, 'source': 131}, {'target': 175, 'weight': 1.0, 'source': 133}, {'target': 251, 'weight': 3.0, 'source': 135}, {'target': 207, 'weight': 2.0, 'source': 135}, {'target': 226, 'weight': 2.0, 'source': 136}, {'target': 263, 'weight': 2.0, 'source': 137}, {'target': 205, 'weight': 1.0, 'source': 140}, {'target': 244, 'weight': 2.0, 'source': 142}, {'target': 191, 'weight': 1.0, 'source': 143}, {'target': 150, 'weight': 2.0, 'source': 143}, {'target': 274, 'weight': 2.0, 'source': 143}, {'target': 157, 'weight': 2.0, 'source': 143}, {'target': 230, 'weight': 2.0, 'source': 143}, {'target': 214, 'weight': 2.0, 'source': 143}, {'target': 205, 'weight': 4.0, 'source': 143}, {'target': 222, 'weight': 2.0, 'source': 143}, {'target': 210, 'weight': 4.0, 'source': 143}, {'target': 179, 'weight': 3.0, 'source': 143}, {'target': 180, 'weight': 2.0, 'source': 143}, {'target': 267, 'weight': 2.0, 'source': 144}, {'target': 205, 'weight': 2.0, 'source': 144}, {'target': 190, 'weight': 2.0, 'source': 145}, {'target': 198, 'weight': 3.0, 'source': 148}, {'target': 183, 'weight': 2.0, 'source': 148}, {'target': 241, 'weight': 2.0, 'source': 151}, {'target': 207, 'weight': 1.0, 'source': 154}, {'target': 227, 'weight': 3.0, 'source': 156}, {'target': 171, 'weight': 2.0, 'source': 160}, {'target': 205, 'weight': 1.0, 'source': 160}, {'target': 207, 'weight': 2.0, 'source': 160}, {'target': 242, 'weight': 1.0, 'source': 162}, {'target': 205, 'weight': 5.0, 'source': 164}, {'target': 168, 'weight': 2.0, 'source': 166}, {'target': 226, 'weight': 2.0, 'source': 166}, {'target': 247, 'weight': 2.0, 'source': 167}, {'target': 205, 'weight': 2.0, 'source': 171}, {'target': 244, 'weight': 3.0, 'source': 171}, {'target': 273, 'weight': 4.0, 'source': 173}, {'target': 218, 'weight': 1.0, 'source': 175}, {'target': 205, 'weight': 6.0, 'source': 175}, {'target': 221, 'weight': 1.0, 'source': 175}, {'target': 238, 'weight': 2.0, 'source': 177}, {'target': 212, 'weight': 1.0, 'source': 178}, {'target': 238, 'weight': 2.0, 'source': 179}, {'target': 229, 'weight': 2.0, 'source': 180}, {'target': 242, 'weight': 2.0, 'source': 180}, {'target': 219, 'weight': 2.0, 'source': 181}, {'target': 244, 'weight': 2.0, 'source': 181}, {'target': 242, 'weight': 4.0, 'source': 181}, {'target': 245, 'weight': 2.0, 'source': 183}, {'target': 205, 'weight': 3.0, 'source': 183}, {'target': 212, 'weight': 1.0, 'source': 184}, {'target': 223, 'weight': 1.0, 'source': 186}, {'target': 207, 'weight': 2.0, 'source': 186}, {'target': 205, 'weight': 4.0, 'source': 188}, {'target': 265, 'weight': 2.0, 'source': 188}, {'target': 251, 'weight': 2.0, 'source': 189}, {'target': 242, 'weight': 1.0, 'source': 192}, {'target': 198, 'weight': 2.0, 'source': 193}, {'target': 253, 'weight': 2.0, 'source': 194}, {'target': 251, 'weight': 2.0, 'source': 194}, {'target': 262, 'weight': 2.0, 'source': 194}, {'target': 244, 'weight': 2.0, 'source': 195}, {'target': 242, 'weight': 1.0, 'source': 196}, {'target': 205, 'weight': 7.0, 'source': 197}, {'target': 207, 'weight': 2.0, 'source': 197}, {'target': 242, 'weight': 4.0, 'source': 198}, {'target': 207, 'weight': 3.0, 'source': 198}, {'target': 226, 'weight': 6.0, 'source': 198}, {'target': 205, 'weight': 3.0, 'source': 201}, {'target': 268, 'weight': 3.0, 'source': 204}, {'target': 206, 'weight': 4.0, 'source': 204}, {'target': 210, 'weight': 8.0, 'source': 204}, {'target': 212, 'weight': 2.0, 'source': 205}, {'target': 229, 'weight': 4.0, 'source': 205}, {'target': 230, 'weight': 4.0, 'source': 205}, {'target': 232, 'weight': 4.0, 'source': 205}, {'target': 234, 'weight': 2.0, 'source': 205}, {'target': 245, 'weight': 3.0, 'source': 205}, {'target': 242, 'weight': 13.0, 'source': 205}, {'target': 244, 'weight': 16.0, 'source': 205}, {'target': 259, 'weight': 2.0, 'source': 205}, {'target': 264, 'weight': 5.0, 'source': 205}, {'target': 209, 'weight': 3.0, 'source': 205}, {'target': 268, 'weight': 3.0, 'source': 205}, {'target': 222, 'weight': 2.0, 'source': 205}, {'target': 266, 'weight': 2.0, 'source': 205}, {'target': 229, 'weight': 1.0, 'source': 207}, {'target': 268, 'weight': 14.0, 'source': 207}, {'target': 242, 'weight': 1.0, 'source': 207}, {'target': 255, 'weight': 2.0, 'source': 207}, {'target': 273, 'weight': 3.0, 'source': 207}, {'target': 242, 'weight': 1.0, 'source': 211}, {'target': 273, 'weight': 2.0, 'source': 214}, {'target': 244, 'weight': 3.0, 'source': 215}, {'target': 242, 'weight': 4.0, 'source': 216}, {'target': 222, 'weight': 2.0, 'source': 219}, {'target': 248, 'weight': 2.0, 'source': 220}, {'target': 242, 'weight': 2.0, 'source': 222}, {'target': 237, 'weight': 2.0, 'source': 225}, {'target': 242, 'weight': 13.0, 'source': 226}, {'target': 230, 'weight': 2.0, 'source': 226}, {'target': 240, 'weight': 2.0, 'source': 229}, {'target': 268, 'weight': 2.0, 'source': 231}, {'target': 273, 'weight': 2.0, 'source': 233}, {'target': 251, 'weight': 2.0, 'source': 240}, {'target': 256, 'weight': 2.0, 'source': 242}, {'target': 259, 'weight': 1.0, 'source': 242}, {'target': 266, 'weight': 2.0, 'source': 242}, {'target': 244, 'weight': 4.0, 'source': 242}, {'target': 245, 'weight': 1.0, 'source': 243}, {'target': 271, 'weight': 2.0, 'source': 243}, {'target': 251, 'weight': 4.0, 'source': 248}, {'target': 266, 'weight': 2.0, 'source': 252}, {'target': 273, 'weight': 2.0, 'source': 268}]\n",
       "    };\n",
       "\n",
       "    var simulation = d3.forceSimulation(graph.nodes)\n",
       "        .force(\"link\", d3.forceLink(graph.links))\n",
       "        .force(\"charge\", d3.forceManyBody())\n",
       "        .force(\"center\", d3.forceCenter(width / 2.0, height / 2.0));\n",
       "\n",
       "    var link = svg.append(\"g\")\n",
       "        .attr(\"class\", \"links\")\n",
       "        .selectAll(\"line\")\n",
       "        .data(graph.links)\n",
       "        .enter().append(\"line\")\n",
       "        .style(\"stroke-linecap\", \"round\")\n",
       "        .style(\"stroke\", function(d) {return colour(d.weight);})\n",
       "        //.style(\"stroke-width\", \"4\");\n",
       "        .style(\"stroke-width\", function (d) {return d.weight;});\n",
       "\n",
       "    var node = svg.append(\"g\")\n",
       "        .attr(\"class\", \"nodes\")\n",
       "        .selectAll(\"circle\")\n",
       "        .data(graph.nodes)\n",
       "        .enter().append(\"circle\")\n",
       "        .attr(\"r\", 4.5)\n",
       "        .style(\"fill\", \"grey\")\n",
       "        .call(d3.drag()\n",
       "            .on(\"start\", dragstarted)\n",
       "            .on(\"drag\", dragged)\n",
       "            .on(\"end\", dragended));\n",
       "\n",
       "    node.append(\"title\")\n",
       "        .text(function(d) { return d.id; });\n",
       "\n",
       "    /* node.append(\"text\")\n",
       "      .attr(\"dx\", 12)\n",
       "      .attr(\"dy\", \".35em\")\n",
       "      .text(function(d) { return d.id }); */\n",
       "\n",
       "    simulation\n",
       "        .on(\"tick\", ticked);\n",
       "\n",
       "    function ticked() {\n",
       "        link\n",
       "            .attr(\"x1\", function(d) { return d.source.x; })\n",
       "            .attr(\"y1\", function(d) { return d.source.y; })\n",
       "            .attr(\"x2\", function(d) { return d.target.x; })\n",
       "            .attr(\"y2\", function(d) { return d.target.y; });\n",
       "\n",
       "        node\n",
       "            .attr(\"cx\", function(d) { return d.x; })\n",
       "            .attr(\"cy\", function(d) { return d.y; });\n",
       "    };\n",
       "\n",
       "    function dragstarted(d) {\n",
       "        if (!d3.event.active) simulation.alphaTarget(0.3).restart();\n",
       "        d.fx = d.x;\n",
       "        d.fy = d.y;\n",
       "    };\n",
       "\n",
       "    function dragged(d) {\n",
       "        d.fx = d3.event.x;\n",
       "        d.fy = d3.event.y;\n",
       "    };\n",
       "\n",
       "    function dragended(d) {\n",
       "        if (!d3.event.active) simulation.alphaTarget(0);\n",
       "        d.fx = null;\n",
       "        d.fy = null;\n",
       "    };\n",
       "\n",
       "});\n",
       "\n"
      ]
     },
     "metadata": {},
     "output_type": "display_data"
    }
   ],
   "source": [
    "# visualise most relevance words\n",
    "tmt.visualisation.plot_force_directed_graph(words_by_co_occurrence[:500])"
   ]
  },
  {
   "cell_type": "code",
   "execution_count": null,
   "metadata": {
    "collapsed": true
   },
   "outputs": [],
   "source": []
  }
 ],
 "metadata": {
  "anaconda-cloud": {},
  "kernelspec": {
   "display_name": "Python [conda root]",
   "language": "python",
   "name": "conda-root-py"
  },
  "language_info": {
   "codemirror_mode": {
    "name": "ipython",
    "version": 3
   },
   "file_extension": ".py",
   "mimetype": "text/x-python",
   "name": "python",
   "nbconvert_exporter": "python",
   "pygments_lexer": "ipython3",
   "version": "3.5.2"
  }
 },
 "nbformat": 4,
 "nbformat_minor": 0
}
