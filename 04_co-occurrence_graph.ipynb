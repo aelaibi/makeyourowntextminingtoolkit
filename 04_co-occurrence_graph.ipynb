{
 "cells": [
  {
   "cell_type": "code",
   "execution_count": 56,
   "metadata": {
    "collapsed": true
   },
   "outputs": [],
   "source": [
    "# notebook to illustrate co-occurrence graphs"
   ]
  },
  {
   "cell_type": "code",
   "execution_count": 57,
   "metadata": {
    "collapsed": false
   },
   "outputs": [
    {
     "name": "stdout",
     "output_type": "stream",
     "text": [
      "The autoreload extension is already loaded. To reload it, use:\n",
      "  %reload_ext autoreload\n"
     ]
    }
   ],
   "source": [
    "# following only used for development, reloads the modules with any code changes\n",
    "%load_ext autoreload\n",
    "%autoreload 2\n",
    "\n",
    "# inline matplotlib charts\n",
    "%matplotlib inline"
   ]
  },
  {
   "cell_type": "code",
   "execution_count": 58,
   "metadata": {
    "collapsed": false
   },
   "outputs": [],
   "source": [
    "# import our text mining toolkit\n",
    "import text_mining_toolkit as tmt"
   ]
  },
  {
   "cell_type": "code",
   "execution_count": 59,
   "metadata": {
    "collapsed": false
   },
   "outputs": [
    {
     "name": "stdout",
     "output_type": "stream",
     "text": [
      "content_directory =  data_sets/recipes/txt/\n",
      "text_filename_pattern =  ??.txt\n",
      "self.documents populated =  22\n"
     ]
    }
   ],
   "source": [
    "cr = tmt.corpus_reader.CorpusReader(content_directory=\"data_sets/recipes/txt/\", text_filename_pattern=\"??.txt\")\n",
    "#cr = tmt.corpus_reader.CorpusReader(directory_of_files=\"data_sets/mystery_corpus_01/txt/\", text_filename_pattern=\"??.txt\")\n",
    "#cr = tmt.corpus_reader.CorpusReader(content_directory=\"data_sets/iraq_inquiry/txt/\", text_filename_pattern=\"the-report*.txt\")\n",
    "#cr = tmt.corpus_reader.CorpusReader(content_directory=\"data_sets/clinton_emails/txt/\", text_filename_pattern=\"C0*\")\n",
    "#cr = tmt.corpus_reader.CorpusReader(content_directory=\"data_sets/shakespeare_macbeth/txt/\", text_filename_pattern=\"macbeth_act_0?_scene_0?.txt\")"
   ]
  },
  {
   "cell_type": "code",
   "execution_count": 60,
   "metadata": {
    "collapsed": false,
    "scrolled": true
   },
   "outputs": [
    {
     "name": "stdout",
     "output_type": "stream",
     "text": [
      "removed co-occurrence matrix file:  data_sets/recipes/txt/matrix.cooccurrence\n",
      "processing  00.txt\n",
      "processing  01.txt\n",
      "processing  02.txt\n",
      "processing  03.txt\n",
      "processing  04.txt\n",
      "processing  05.txt\n",
      "processing  06.txt\n",
      "processing  07.txt\n",
      "processing  08.txt\n",
      "processing  09.txt\n",
      "processing  10.txt\n",
      "processing  11.txt\n",
      "processing  12.txt\n",
      "processing  13.txt\n",
      "processing  14.txt\n",
      "processing  15.txt\n",
      "processing  16.txt\n",
      "processing  17.txt\n",
      "processing  18.txt\n",
      "processing  19.txt\n",
      "processing  20.txt\n",
      "processing  21.txt\n"
     ]
    }
   ],
   "source": [
    "# first clear index\n",
    "tmt.cooccurrence.delete_matrices(cr.content_directory)\n",
    "\n",
    "# for all documents in corpus\n",
    "for document_name in cr.get_documents():\n",
    "    print(\"processing \", document_name)\n",
    "\n",
    "    # get document text\n",
    "    document_text = cr.get_text_by_document(document_name)\n",
    "\n",
    "    # simplify whitespace (remove newlines)\n",
    "    b = tmt.text_processing.simplify_whitespace(document_text)\n",
    "\n",
    "    # only keep alphanumeric characters, removes punctuation\n",
    "    c = tmt.text_processing.keep_alphanumeric(b)\n",
    "\n",
    "    # make lowercase\n",
    "    d = tmt.text_processing.to_lowercase(c)\n",
    "\n",
    "    # split into words list\n",
    "    dl = tmt.text_processing.split_text_into_words(d)\n",
    "    # build n-grams\n",
    "    #gl = tmt.word_processing.build_ngrams_from_words(dl,2)\n",
    "\n",
    "    # remove stop words\n",
    "    #el = tmt.word_processing.remove_stop_words(dl, \"./stopwords/minimal-stop.txt\")\n",
    "    \n",
    "    # update index\n",
    "    tmt.cooccurrence.create_cooccurrence_matrix_for_document(cr.content_directory, document_name, dl, window=3)\n",
    "    pass\n"
   ]
  },
  {
   "cell_type": "code",
   "execution_count": 61,
   "metadata": {
    "collapsed": false
   },
   "outputs": [
    {
     "name": "stdout",
     "output_type": "stream",
     "text": [
      "saving corpus co-occurrence matrix ...  data_sets/recipes/txt/matrix.cooccurrence\n"
     ]
    }
   ],
   "source": [
    "# merge document indices into a corpus index\n",
    "tmt.cooccurrence.merge_cooccurrence_matrices_for_corpus(cr.content_directory)"
   ]
  },
  {
   "cell_type": "code",
   "execution_count": 62,
   "metadata": {
    "collapsed": false
   },
   "outputs": [
    {
     "name": "stdout",
     "output_type": "stream",
     "text": [
      "cooccurrence_matrix_file  data_sets/recipes/txt/matrix.cooccurrence\n",
      "         1   12  ...    zucchini  zuppa\n",
      "1      0.0  0.0  ...         0.0    0.0\n",
      "12     0.0  0.0  ...         0.0    0.0\n",
      "14     0.0  0.0  ...         0.0    0.0\n",
      "2      0.0  0.0  ...         0.0    0.0\n",
      "3      0.0  0.0  ...         0.0    0.0\n",
      "32     0.0  0.0  ...         0.0    0.0\n",
      "4      0.0  0.0  ...         0.0    0.0\n",
      "54     0.0  0.0  ...         0.0    0.0\n",
      "a      0.0  0.0  ...         0.0    0.0\n",
      "about  0.0  0.0  ...         0.0    0.0\n",
      "\n",
      "[10 rows x 672 columns]\n"
     ]
    }
   ],
   "source": [
    "tmt.cooccurrence.print_matrix(cr.content_directory)"
   ]
  },
  {
   "cell_type": "code",
   "execution_count": 63,
   "metadata": {
    "collapsed": false
   },
   "outputs": [
    {
     "data": {
      "text/plain": [
       "14.621807768825324"
      ]
     },
     "execution_count": 63,
     "metadata": {},
     "output_type": "execute_result"
    }
   ],
   "source": [
    "# query the co-occurrence value for a given pair of words\n",
    "tmt.cooccurrence.query_cooccurance_matrix(cr.content_directory, \"in\", \"the\")"
   ]
  },
  {
   "cell_type": "code",
   "execution_count": 64,
   "metadata": {
    "collapsed": false
   },
   "outputs": [
    {
     "data": {
      "text/plain": [
       "'the'"
      ]
     },
     "execution_count": 64,
     "metadata": {},
     "output_type": "execute_result"
    }
   ],
   "source": [
    "# get the most likely next word by co-occurrence value for given word\n",
    "tmt.cooccurrence.most_likely_next(cr.content_directory, \"and\")"
   ]
  },
  {
   "cell_type": "code",
   "execution_count": 65,
   "metadata": {
    "collapsed": false
   },
   "outputs": [
    {
     "name": "stdout",
     "output_type": "stream",
     "text": [
      "the of the of the of the of\n",
      "once into the of the of the of\n",
      "then cut in the of the of the\n",
      "olive oil and the of the of the\n",
      "tomato sauce the of the of the of\n",
      "cut in the of the of the of\n",
      "cook the of the of the of the\n",
      "little and the of the of the of\n",
      "boiled or of the of the of the\n"
     ]
    }
   ],
   "source": [
    "#generate sentences based on co-occurence\n",
    "sentence_length = 7\n",
    "\n",
    "#initial words \n",
    "for w in [\"the\", \"once\", \"then\", \"olive\", \"tomato\", \"cut\", \"cook\", \"little\", \"boiled\"]:\n",
    "    sentence = w\n",
    "    for i in range(sentence_length):\n",
    "        w = tmt.cooccurrence.most_likely_next(cr.content_directory, w)\n",
    "        sentence += (\" \" + w)\n",
    "        pass\n",
    "    print(sentence)\n",
    "    pass\n"
   ]
  },
  {
   "cell_type": "code",
   "execution_count": 66,
   "metadata": {
    "collapsed": false
   },
   "outputs": [
    {
     "data": {
      "text/html": [
       "<div>\n",
       "<table border=\"1\" class=\"dataframe\">\n",
       "  <thead>\n",
       "    <tr style=\"text-align: right;\">\n",
       "      <th></th>\n",
       "      <th>word1</th>\n",
       "      <th>word2</th>\n",
       "      <th>weight</th>\n",
       "    </tr>\n",
       "  </thead>\n",
       "  <tbody>\n",
       "    <tr>\n",
       "      <th>0</th>\n",
       "      <td>a</td>\n",
       "      <td>of</td>\n",
       "      <td>20.253680</td>\n",
       "    </tr>\n",
       "    <tr>\n",
       "      <th>1</th>\n",
       "      <td>and</td>\n",
       "      <td>the</td>\n",
       "      <td>16.794034</td>\n",
       "    </tr>\n",
       "    <tr>\n",
       "      <th>2</th>\n",
       "      <td>of</td>\n",
       "      <td>the</td>\n",
       "      <td>15.821372</td>\n",
       "    </tr>\n",
       "    <tr>\n",
       "      <th>3</th>\n",
       "      <td>in</td>\n",
       "      <td>the</td>\n",
       "      <td>14.621808</td>\n",
       "    </tr>\n",
       "    <tr>\n",
       "      <th>4</th>\n",
       "      <td>of</td>\n",
       "      <td>and</td>\n",
       "      <td>13.142644</td>\n",
       "    </tr>\n",
       "    <tr>\n",
       "      <th>5</th>\n",
       "      <td>with</td>\n",
       "      <td>a</td>\n",
       "      <td>13.062329</td>\n",
       "    </tr>\n",
       "    <tr>\n",
       "      <th>6</th>\n",
       "      <td>salt</td>\n",
       "      <td>and</td>\n",
       "      <td>12.732905</td>\n",
       "    </tr>\n",
       "    <tr>\n",
       "      <th>7</th>\n",
       "      <td>the</td>\n",
       "      <td>of</td>\n",
       "      <td>12.621157</td>\n",
       "    </tr>\n",
       "    <tr>\n",
       "      <th>8</th>\n",
       "      <td>a</td>\n",
       "      <td>little</td>\n",
       "      <td>11.464501</td>\n",
       "    </tr>\n",
       "    <tr>\n",
       "      <th>9</th>\n",
       "      <td>grated</td>\n",
       "      <td>cheese</td>\n",
       "      <td>11.464501</td>\n",
       "    </tr>\n",
       "    <tr>\n",
       "      <th>10</th>\n",
       "      <td>them</td>\n",
       "      <td>in</td>\n",
       "      <td>11.299842</td>\n",
       "    </tr>\n",
       "    <tr>\n",
       "      <th>11</th>\n",
       "      <td>in</td>\n",
       "      <td>a</td>\n",
       "      <td>11.077500</td>\n",
       "    </tr>\n",
       "    <tr>\n",
       "      <th>12</th>\n",
       "      <td>the</td>\n",
       "      <td>the</td>\n",
       "      <td>10.369358</td>\n",
       "    </tr>\n",
       "    <tr>\n",
       "      <th>13</th>\n",
       "      <td>it</td>\n",
       "      <td>is</td>\n",
       "      <td>10.031438</td>\n",
       "    </tr>\n",
       "    <tr>\n",
       "      <th>14</th>\n",
       "      <td>and</td>\n",
       "      <td>a</td>\n",
       "      <td>9.625316</td>\n",
       "    </tr>\n",
       "    <tr>\n",
       "      <th>15</th>\n",
       "      <td>the</td>\n",
       "      <td>and</td>\n",
       "      <td>9.540654</td>\n",
       "    </tr>\n",
       "    <tr>\n",
       "      <th>16</th>\n",
       "      <td>the</td>\n",
       "      <td>with</td>\n",
       "      <td>9.172775</td>\n",
       "    </tr>\n",
       "    <tr>\n",
       "      <th>17</th>\n",
       "      <td>and</td>\n",
       "      <td>them</td>\n",
       "      <td>8.950433</td>\n",
       "    </tr>\n",
       "    <tr>\n",
       "      <th>18</th>\n",
       "      <td>the</td>\n",
       "      <td>fire</td>\n",
       "      <td>8.598376</td>\n",
       "    </tr>\n",
       "    <tr>\n",
       "      <th>19</th>\n",
       "      <td>and</td>\n",
       "      <td>put</td>\n",
       "      <td>8.192147</td>\n",
       "    </tr>\n",
       "  </tbody>\n",
       "</table>\n",
       "</div>"
      ],
      "text/plain": [
       "     word1   word2     weight\n",
       "0        a      of  20.253680\n",
       "1      and     the  16.794034\n",
       "2       of     the  15.821372\n",
       "3       in     the  14.621808\n",
       "4       of     and  13.142644\n",
       "5     with       a  13.062329\n",
       "6     salt     and  12.732905\n",
       "7      the      of  12.621157\n",
       "8        a  little  11.464501\n",
       "9   grated  cheese  11.464501\n",
       "10    them      in  11.299842\n",
       "11      in       a  11.077500\n",
       "12     the     the  10.369358\n",
       "13      it      is  10.031438\n",
       "14     and       a   9.625316\n",
       "15     the     and   9.540654\n",
       "16     the    with   9.172775\n",
       "17     and    them   8.950433\n",
       "18     the    fire   8.598376\n",
       "19     and     put   8.192147"
      ]
     },
     "execution_count": 66,
     "metadata": {},
     "output_type": "execute_result"
    }
   ],
   "source": [
    "words_by_co_occurrence = tmt.cooccurrence.get_word_pairs_by_cooccurrence(cr.content_directory)\n",
    "# 20 most common\n",
    "words_by_co_occurrence[:20]"
   ]
  },
  {
   "cell_type": "code",
   "execution_count": 67,
   "metadata": {
    "collapsed": false
   },
   "outputs": [
    {
     "data": {
      "text/html": [
       "<div>\n",
       "<table border=\"1\" class=\"dataframe\">\n",
       "  <thead>\n",
       "    <tr style=\"text-align: right;\">\n",
       "      <th></th>\n",
       "      <th>word1</th>\n",
       "      <th>word2</th>\n",
       "      <th>weight</th>\n",
       "    </tr>\n",
       "  </thead>\n",
       "  <tbody>\n",
       "    <tr>\n",
       "      <th>6583</th>\n",
       "      <td>cold</td>\n",
       "      <td>the</td>\n",
       "      <td>0.367879</td>\n",
       "    </tr>\n",
       "    <tr>\n",
       "      <th>6584</th>\n",
       "      <td>several</td>\n",
       "      <td>see</td>\n",
       "      <td>0.367879</td>\n",
       "    </tr>\n",
       "    <tr>\n",
       "      <th>6585</th>\n",
       "      <td>several</td>\n",
       "      <td>dip</td>\n",
       "      <td>0.367879</td>\n",
       "    </tr>\n",
       "    <tr>\n",
       "      <th>6586</th>\n",
       "      <td>hot</td>\n",
       "      <td>an</td>\n",
       "      <td>0.367879</td>\n",
       "    </tr>\n",
       "    <tr>\n",
       "      <th>6587</th>\n",
       "      <td>come</td>\n",
       "      <td>edge</td>\n",
       "      <td>0.367879</td>\n",
       "    </tr>\n",
       "    <tr>\n",
       "      <th>6588</th>\n",
       "      <td>compound</td>\n",
       "      <td>become</td>\n",
       "      <td>0.367879</td>\n",
       "    </tr>\n",
       "    <tr>\n",
       "      <th>6589</th>\n",
       "      <td>several</td>\n",
       "      <td>about</td>\n",
       "      <td>0.367879</td>\n",
       "    </tr>\n",
       "    <tr>\n",
       "      <th>6590</th>\n",
       "      <td>seven</td>\n",
       "      <td>tomatoes</td>\n",
       "      <td>0.367879</td>\n",
       "    </tr>\n",
       "    <tr>\n",
       "      <th>6591</th>\n",
       "      <td>of</td>\n",
       "      <td>cutlets</td>\n",
       "      <td>0.367879</td>\n",
       "    </tr>\n",
       "    <tr>\n",
       "      <th>6592</th>\n",
       "      <td>serving</td>\n",
       "      <td>with</td>\n",
       "      <td>0.367879</td>\n",
       "    </tr>\n",
       "    <tr>\n",
       "      <th>6593</th>\n",
       "      <td>complete</td>\n",
       "      <td>with</td>\n",
       "      <td>0.367879</td>\n",
       "    </tr>\n",
       "    <tr>\n",
       "      <th>6594</th>\n",
       "      <td>hollow</td>\n",
       "      <td>middle</td>\n",
       "      <td>0.367879</td>\n",
       "    </tr>\n",
       "    <tr>\n",
       "      <th>6595</th>\n",
       "      <td>of</td>\n",
       "      <td>dissolve</td>\n",
       "      <td>0.367879</td>\n",
       "    </tr>\n",
       "    <tr>\n",
       "      <th>6596</th>\n",
       "      <td>completing</td>\n",
       "      <td>with</td>\n",
       "      <td>0.367879</td>\n",
       "    </tr>\n",
       "    <tr>\n",
       "      <th>6597</th>\n",
       "      <td>serves</td>\n",
       "      <td>it</td>\n",
       "      <td>0.367879</td>\n",
       "    </tr>\n",
       "    <tr>\n",
       "      <th>6598</th>\n",
       "      <td>served</td>\n",
       "      <td>sprig</td>\n",
       "      <td>0.367879</td>\n",
       "    </tr>\n",
       "    <tr>\n",
       "      <th>6599</th>\n",
       "      <td>hole</td>\n",
       "      <td>in</td>\n",
       "      <td>0.367879</td>\n",
       "    </tr>\n",
       "    <tr>\n",
       "      <th>6600</th>\n",
       "      <td>of</td>\n",
       "      <td>down</td>\n",
       "      <td>0.367879</td>\n",
       "    </tr>\n",
       "    <tr>\n",
       "      <th>6601</th>\n",
       "      <td>composed</td>\n",
       "      <td>salt</td>\n",
       "      <td>0.367879</td>\n",
       "    </tr>\n",
       "    <tr>\n",
       "      <th>6602</th>\n",
       "      <td>meat</td>\n",
       "      <td>until</td>\n",
       "      <td>0.367879</td>\n",
       "    </tr>\n",
       "  </tbody>\n",
       "</table>\n",
       "</div>"
      ],
      "text/plain": [
       "           word1     word2    weight\n",
       "6583        cold       the  0.367879\n",
       "6584     several       see  0.367879\n",
       "6585     several       dip  0.367879\n",
       "6586         hot        an  0.367879\n",
       "6587        come      edge  0.367879\n",
       "6588    compound    become  0.367879\n",
       "6589     several     about  0.367879\n",
       "6590       seven  tomatoes  0.367879\n",
       "6591          of   cutlets  0.367879\n",
       "6592     serving      with  0.367879\n",
       "6593    complete      with  0.367879\n",
       "6594      hollow    middle  0.367879\n",
       "6595          of  dissolve  0.367879\n",
       "6596  completing      with  0.367879\n",
       "6597      serves        it  0.367879\n",
       "6598      served     sprig  0.367879\n",
       "6599        hole        in  0.367879\n",
       "6600          of      down  0.367879\n",
       "6601    composed      salt  0.367879\n",
       "6602        meat     until  0.367879"
      ]
     },
     "execution_count": 67,
     "metadata": {},
     "output_type": "execute_result"
    }
   ],
   "source": [
    "# 20 least common\n",
    "words_by_co_occurrence[-20:]"
   ]
  },
  {
   "cell_type": "code",
   "execution_count": 70,
   "metadata": {
    "collapsed": false
   },
   "outputs": [
    {
     "data": {
      "text/html": [
       "<div id=\"d3-container-4806872\"></div>\n",
       "<div>force-directed graph</div>\n",
       "\n",
       "<style>\n",
       "    .links line {\n",
       "        stroke: #999;\n",
       "        stroke-opacity: .3;\n",
       "    }\n",
       "\n",
       "    .nodes circle {\n",
       "        pointer-events: all;\n",
       "        stroke: #fff;\n",
       "        stroke-width: 1.5px;\n",
       "    }\n",
       "\n",
       "    .nodes text {\n",
       "        pointer-events: none;\n",
       "        font: 10px sans-serif;\n",
       "        fill: #000000;\n",
       "        opacity: .7;\n",
       "    }\n",
       "</style>\n"
      ]
     },
     "metadata": {},
     "output_type": "display_data"
    },
    {
     "data": {
      "application/javascript": [
       "// require is needed to make d3 work in a noebooks from imported code\n",
       "require.config({\n",
       "    paths: {\n",
       "        d3: \"https://d3js.org/d3.v4.min\"\n",
       "    }\n",
       "});\n",
       "\n",
       "require([\"d3\"], function(d3) {\n",
       "    //console.log(d3.version);\n",
       "\n",
       "    var width = 800,\n",
       "        height = 600;\n",
       "\n",
       "    var svg = d3.select(\"#d3-container-4806872\")\n",
       "        .append(\"svg\")\n",
       "        .attr(\"width\", width)\n",
       "        .attr(\"height\", height);\n",
       "\n",
       "    var colour = d3.scaleOrdinal(d3.schemeCategory20c);\n",
       "\n",
       "    var graph = {\n",
       "        nodes: [{'id': 'gravy'}, {'id': 'they'}, {'id': 'you'}, {'id': 'from'}, {'id': 'soaked'}, {'id': 'fish'}, {'id': 'not'}, {'id': 'artichokes'}, {'id': 'well'}, {'id': '12'}, {'id': 'hours'}, {'id': 'stock'}, {'id': 'soup'}, {'id': 'is'}, {'id': 'so'}, {'id': 'with'}, {'id': 'on'}, {'id': 'at'}, {'id': 'do'}, {'id': 'four'}, {'id': 'cook'}, {'id': 'of'}, {'id': 'over'}, {'id': 'yolks'}, {'id': 'just'}, {'id': 'more'}, {'id': 'knife'}, {'id': 'board'}, {'id': 'crumbs'}, {'id': 'this'}, {'id': 'excellent'}, {'id': 'have'}, {'id': 'it'}, {'id': 'until'}, {'id': 'paste'}, {'id': 'pinch'}, {'id': 'composed'}, {'id': 'yolk'}, {'id': 'kind'}, {'id': 'everything'}, {'id': '14'}, {'id': 'often'}, {'id': 'garlic'}, {'id': 'mix'}, {'id': 'chopped'}, {'id': 'pepper'}, {'id': 'taste'}, {'id': 'adding'}, {'id': 'cut'}, {'id': 'if'}, {'id': 'liquid'}, {'id': 'chop'}, {'id': 'may'}, {'id': 'bread'}, {'id': 'a'}, {'id': 'juice'}, {'id': 'broth'}, {'id': 'but'}, {'id': 'make'}, {'id': 'section'}, {'id': 'grated'}, {'id': 'rice'}, {'id': 'serve'}, {'id': 'cheese'}, {'id': 'two'}, {'id': 'oil'}, {'id': 'parsley'}, {'id': 'whole'}, {'id': 'an'}, {'id': 'away'}, {'id': 'when'}, {'id': 'sprig'}, {'id': 'sufficient'}, {'id': 'add'}, {'id': 'layer'}, {'id': 'sauce'}, {'id': 'leaves'}, {'id': 'milk'}, {'id': 'the'}, {'id': 'pieces'}, {'id': 'stuffed'}, {'id': 'low'}, {'id': 'lemon'}, {'id': 'slice'}, {'id': 'little'}, {'id': 'small'}, {'id': 'one'}, {'id': 'piece'}, {'id': 'oven'}, {'id': 'must'}, {'id': 'take'}, {'id': 'stir'}, {'id': 'together'}, {'id': 'them'}, {'id': 'part'}, {'id': 'balls'}, {'id': 'olive'}, {'id': 'each'}, {'id': 'hour'}, {'id': 'attached'}, {'id': 'then'}, {'id': 'tablespoonful'}, {'id': 'boiled'}, {'id': 'marrow'}, {'id': 'onion'}, {'id': 'artichoke'}, {'id': 'as'}, {'id': 'rub'}, {'id': 'let'}, {'id': 'water'}, {'id': 'which'}, {'id': 'some'}, {'id': 'dip'}, {'id': 'remove'}, {'id': 'chicken'}, {'id': 'seasoning'}, {'id': 'tomato'}, {'id': 'in'}, {'id': 'eggs'}, {'id': 'half'}, {'id': 'salt'}, {'id': 'green'}, {'id': 'too'}, {'id': 'by'}, {'id': 'flour'}, {'id': 'through'}, {'id': 'fine'}, {'id': 'put'}, {'id': 'out'}, {'id': 'fry'}, {'id': 'nutmeg'}, {'id': 'place'}, {'id': 'celery'}, {'id': 'quantity'}, {'id': 'beaten'}, {'id': 'used'}, {'id': 'or'}, {'id': 'tablespoonfuls'}, {'id': 'pour'}, {'id': 'sieve'}, {'id': 'are'}, {'id': 'can'}, {'id': 'mixed'}, {'id': 'keep'}, {'id': 'meat'}, {'id': 'seasoned'}, {'id': 'same'}, {'id': 'saucepan'}, {'id': 'fire'}, {'id': 'egg'}, {'id': 'three'}, {'id': 'following'}, {'id': 'spinach'}, {'id': 'cooking'}, {'id': 'and'}, {'id': 'lb'}, {'id': 'no'}, {'id': 'butter'}, {'id': 'into'}, {'id': 'cold'}, {'id': 'dipped'}, {'id': 'served'}, {'id': 'that'}, {'id': 'white'}, {'id': 'hash'}, {'id': 'be'}, {'id': 'for'}, {'id': 'browned'}, {'id': 'after'}, {'id': 'bolognese'}, {'id': 'salsa'}, {'id': 'season'}, {'id': 'to'}, {'id': 'carrot'}, {'id': 'brown'}, {'id': 'asparagus'}, {'id': 'beef'}, {'id': 'vegetables'}, {'id': 'boiling'}, {'id': 'tomatoes'}, {'id': 'will'}, {'id': 'very'}, {'id': 'few'}, {'id': 'compound'}, {'id': 'begins'}],\n",
       "        links: [{'source': 0, 'weight': 1.4330626211475785, 'target': 78}, {'source': 1, 'weight': 1.540251357097776, 'target': 8}, {'source': 1, 'weight': 2.5670855951629603, 'target': 122}, {'source': 1, 'weight': 7.165313105737893, 'target': 140}, {'source': 1, 'weight': 3.5826565528689462, 'target': 70}, {'source': 1, 'weight': 1.4330626211475785, 'target': 31}, {'source': 1, 'weight': 2.149593931721368, 'target': 162}, {'source': 2, 'weight': 1.8009420623190207, 'target': 49}, {'source': 2, 'weight': 2.149593931721368, 'target': 31}, {'source': 2, 'weight': 2.149593931721368, 'target': 70}, {'source': 3, 'weight': 1.540251357097776, 'target': 78}, {'source': 4, 'weight': 2.149593931721368, 'target': 117}, {'source': 5, 'weight': 1.4330626211475785, 'target': 162}, {'source': 5, 'weight': 2.866125242295157, 'target': 78}, {'source': 6, 'weight': 1.8009420623190209, 'target': 17}, {'source': 6, 'weight': 1.4330626211475785, 'target': 18}, {'source': 6, 'weight': 1.4330626211475785, 'target': 165}, {'source': 6, 'weight': 2.66301105075396, 'target': 57}, {'source': 7, 'weight': 2.866125242295157, 'target': 78}, {'source': 8, 'weight': 2.149593931721368, 'target': 140}, {'source': 8, 'weight': 1.9464797401801706, 'target': 32}, {'source': 9, 'weight': 2.149593931721368, 'target': 156}, {'source': 9, 'weight': 1.540251357097776, 'target': 75}, {'source': 9, 'weight': 1.4330626211475785, 'target': 136}, {'source': 10, 'weight': 1.4330626211475785, 'target': 182}, {'source': 11, 'weight': 2.053668476130368, 'target': 15}, {'source': 11, 'weight': 4.299187863442736, 'target': 174}, {'source': 11, 'weight': 2.149593931721368, 'target': 136}, {'source': 12, 'weight': 1.8009420623190207, 'target': 30}, {'source': 13, 'weight': 2.149593931721368, 'target': 54}, {'source': 13, 'weight': 1.540251357097776, 'target': 165}, {'source': 13, 'weight': 4.774256040564375, 'target': 172}, {'source': 13, 'weight': 5.2109752757750645, 'target': 78}, {'source': 13, 'weight': 3.176428169786552, 'target': 29}, {'source': 13, 'weight': 1.9464797401801706, 'target': 162}, {'source': 13, 'weight': 10.03143834803305, 'target': 32}, {'source': 13, 'weight': 2.130472561579511, 'target': 21}, {'source': 13, 'weight': 2.4983520027509534, 'target': 154}, {'source': 13, 'weight': 2.149593931721368, 'target': 75}, {'source': 13, 'weight': 3.1573067996446955, 'target': 70}, {'source': 13, 'weight': 1.7625931204080687, 'target': 166}, {'source': 13, 'weight': 1.4330626211475785, 'target': 110}, {'source': 13, 'weight': 1.9464797401801706, 'target': 167}, {'source': 14, 'weight': 2.866125242295157, 'target': 162}, {'source': 15, 'weight': 6.410432853253151, 'target': 120}, {'source': 15, 'weight': 2.6246621088430073, 'target': 63}, {'source': 15, 'weight': 4.260945123159022, 'target': 154}, {'source': 15, 'weight': 6.759084722655499, 'target': 78}, {'source': 15, 'weight': 1.8009420623190207, 'target': 161}, {'source': 15, 'weight': 2.934965036334402, 'target': 54}, {'source': 15, 'weight': 3.969763565809484, 'target': 157}, {'source': 15, 'weight': 2.5174733728928103, 'target': 60}, {'source': 15, 'weight': 5.0157191740165255, 'target': 145}, {'source': 15, 'weight': 1.9464797401801706, 'target': 147}, {'source': 15, 'weight': 1.540251357097776, 'target': 87}, {'source': 15, 'weight': 1.9657073119492658, 'target': 65}, {'source': 15, 'weight': 3.2340046834665994, 'target': 148}, {'source': 15, 'weight': 2.149593931721368, 'target': 174}, {'source': 15, 'weight': 1.4330626211475785, 'target': 92}, {'source': 15, 'weight': 1.8009420623190207, 'target': 104}, {'source': 15, 'weight': 2.459896859212763, 'target': 93}, {'source': 15, 'weight': 2.3528143248898035, 'target': 117}, {'source': 15, 'weight': 1.5978278707778237, 'target': 43}, {'source': 15, 'weight': 4.5600909719184575, 'target': 21}, {'source': 15, 'weight': 1.9464797401801706, 'target': 109}, {'source': 15, 'weight': 2.130472561579511, 'target': 45}, {'source': 15, 'weight': 1.540251357097776, 'target': 75}, {'source': 15, 'weight': 3.3795423613277493, 'target': 171}, {'source': 15, 'weight': 2.314359181351613, 'target': 136}, {'source': 16, 'weight': 3.234004683466599, 'target': 32}, {'source': 16, 'weight': 3.816261596538437, 'target': 148}, {'source': 16, 'weight': 1.9849348837183614, 'target': 154}, {'source': 16, 'weight': 7.533192546909336, 'target': 78}, {'source': 16, 'weight': 3.176428169786552, 'target': 127}, {'source': 16, 'weight': 1.540251357097776, 'target': 53}, {'source': 17, 'weight': 1.540251357097776, 'target': 165}, {'source': 17, 'weight': 1.8009420623190209, 'target': 78}, {'source': 19, 'weight': 1.540251357097776, 'target': 21}, {'source': 19, 'weight': 1.540251357097776, 'target': 150}, {'source': 19, 'weight': 2.149593931721368, 'target': 136}, {'source': 20, 'weight': 1.4330626211475785, 'target': 154}, {'source': 21, 'weight': 4.299187863442736, 'target': 137}, {'source': 21, 'weight': 2.866125242295157, 'target': 101}, {'source': 21, 'weight': 1.5978278707778235, 'target': 102}, {'source': 21, 'weight': 1.9464797401801706, 'target': 103}, {'source': 21, 'weight': 5.18048442364677, 'target': 53}, {'source': 21, 'weight': 2.866125242295157, 'target': 42}, {'source': 21, 'weight': 7.49494980662562, 'target': 54}, {'source': 21, 'weight': 1.9464797401801706, 'target': 56}, {'source': 21, 'weight': 6.245667603622907, 'target': 157}, {'source': 21, 'weight': 2.149593931721368, 'target': 164}, {'source': 21, 'weight': 1.4715177646857693, 'target': 73}, {'source': 21, 'weight': 1.4330626211475785, 'target': 38}, {'source': 21, 'weight': 3.8546105384493887, 'target': 64}, {'source': 21, 'weight': 2.2567826676715654, 'target': 65}, {'source': 21, 'weight': 2.149593931721368, 'target': 130}, {'source': 21, 'weight': 3.0308904919254025, 'target': 66}, {'source': 21, 'weight': 1.540251357097776, 'target': 150}, {'source': 21, 'weight': 2.149593931721368, 'target': 68}, {'source': 21, 'weight': 1.9464797401801706, 'target': 104}, {'source': 21, 'weight': 2.314359181351613, 'target': 116}, {'source': 21, 'weight': 2.720693766061246, 'target': 117}, {'source': 21, 'weight': 1.7433655486389732, 'target': 109}, {'source': 21, 'weight': 1.9464797401801706, 'target': 118}, {'source': 21, 'weight': 1.7625931204080687, 'target': 21}, {'source': 21, 'weight': 2.053668476130368, 'target': 63}, {'source': 21, 'weight': 4.31852163683907, 'target': 154}, {'source': 21, 'weight': 1.4330626211475785, 'target': 74}, {'source': 21, 'weight': 1.617055442546919, 'target': 75}, {'source': 21, 'weight': 2.2567826676715654, 'target': 28}, {'source': 21, 'weight': 1.8009420623190207, 'target': 23}, {'source': 21, 'weight': 2.6630110507539597, 'target': 76}, {'source': 21, 'weight': 2.8277763003842047, 'target': 120}, {'source': 21, 'weight': 2.9733139782453546, 'target': 149}, {'source': 21, 'weight': 12.621156705541647, 'target': 78}, {'source': 21, 'weight': 2.866125242295157, 'target': 46}, {'source': 21, 'weight': 3.5826565528689462, 'target': 124}, {'source': 21, 'weight': 1.4330626211475785, 'target': 163}, {'source': 21, 'weight': 1.4330626211475785, 'target': 83}, {'source': 21, 'weight': 1.9464797401801706, 'target': 34}, {'source': 21, 'weight': 2.149593931721368, 'target': 35}, {'source': 21, 'weight': 3.0805027141955525, 'target': 85}, {'source': 21, 'weight': 2.053668476130368, 'target': 86}, {'source': 21, 'weight': 1.9464797401801706, 'target': 36}, {'source': 21, 'weight': 2.5174733728928103, 'target': 37}, {'source': 21, 'weight': 2.866125242295157, 'target': 60}, {'source': 21, 'weight': 1.4715177646857693, 'target': 166}, {'source': 21, 'weight': 1.8393972058572117, 'target': 22}, {'source': 21, 'weight': 4.299187863442736, 'target': 87}, {'source': 21, 'weight': 1.9464797401801706, 'target': 175}, {'source': 21, 'weight': 3.5826565528689462, 'target': 133}, {'source': 21, 'weight': 1.8009420623190207, 'target': 176}, {'source': 21, 'weight': 2.149593931721368, 'target': 94}, {'source': 21, 'weight': 2.149593931721368, 'target': 79}, {'source': 21, 'weight': 3.816261596538437, 'target': 136}, {'source': 21, 'weight': 2.130472561579511, 'target': 57}, {'source': 22, 'weight': 4.299187863442736, 'target': 138}, {'source': 22, 'weight': 1.540251357097776, 'target': 148}, {'source': 22, 'weight': 3.1573067996446955, 'target': 154}, {'source': 22, 'weight': 6.962198914196696, 'target': 78}, {'source': 24, 'weight': 2.149593931721368, 'target': 54}, {'source': 24, 'weight': 2.866125242295157, 'target': 154}, {'source': 24, 'weight': 1.540251357097776, 'target': 46}, {'source': 25, 'weight': 1.540251357097776, 'target': 54}, {'source': 25, 'weight': 2.149593931721368, 'target': 84}, {'source': 26, 'weight': 1.4330626211475785, 'target': 54}, {'source': 27, 'weight': 2.149593931721368, 'target': 53}, {'source': 27, 'weight': 1.540251357097776, 'target': 78}, {'source': 28, 'weight': 1.7433655486389734, 'target': 117}, {'source': 28, 'weight': 1.5978278707778235, 'target': 154}, {'source': 28, 'weight': 3.5826565528689462, 'target': 53}, {'source': 29, 'weight': 4.299187863442736, 'target': 75}, {'source': 29, 'weight': 1.4522901929166738, 'target': 30}, {'source': 30, 'weight': 2.149593931721368, 'target': 68}, {'source': 30, 'weight': 1.4330626211475785, 'target': 172}, {'source': 32, 'weight': 1.4330626211475785, 'target': 131}, {'source': 32, 'weight': 2.3335867531207084, 'target': 172}, {'source': 32, 'weight': 1.4330626211475785, 'target': 158}, {'source': 32, 'weight': 1.540251357097776, 'target': 100}, {'source': 32, 'weight': 4.164913465940784, 'target': 78}, {'source': 32, 'weight': 1.4330626211475785, 'target': 41}, {'source': 32, 'weight': 1.4330626211475785, 'target': 91}, {'source': 32, 'weight': 2.149593931721368, 'target': 162}, {'source': 32, 'weight': 3.651496346908192, 'target': 54}, {'source': 32, 'weight': 1.8201696340881162, 'target': 117}, {'source': 32, 'weight': 1.5978278707778237, 'target': 109}, {'source': 32, 'weight': 1.9657073119492658, 'target': 84}, {'source': 32, 'weight': 2.1112449898104155, 'target': 154}, {'source': 32, 'weight': 2.6630110507539597, 'target': 127}, {'source': 32, 'weight': 2.149593931721368, 'target': 108}, {'source': 32, 'weight': 1.5978278707778237, 'target': 166}, {'source': 32, 'weight': 1.5978278707778237, 'target': 70}, {'source': 32, 'weight': 1.8201696340881162, 'target': 136}, {'source': 33, 'weight': 3.5826565528689462, 'target': 78}, {'source': 34, 'weight': 1.540251357097776, 'target': 54}, {'source': 34, 'weight': 2.314359181351613, 'target': 78}, {'source': 34, 'weight': 2.866125242295157, 'target': 116}, {'source': 35, 'weight': 1.8009420623190207, 'target': 54}, {'source': 37, 'weight': 2.149593931721368, 'target': 78}, {'source': 39, 'weight': 1.540251357097776, 'target': 154}, {'source': 40, 'weight': 2.149593931721368, 'target': 155}, {'source': 43, 'weight': 1.8009420623190209, 'target': 154}, {'source': 44, 'weight': 1.4330626211475785, 'target': 181}, {'source': 45, 'weight': 2.2567826676715654, 'target': 54}, {'source': 45, 'weight': 6.567233811473499, 'target': 120}, {'source': 45, 'weight': 3.2340046834665994, 'target': 154}, {'source': 46, 'weight': 3.2340046834665994, 'target': 54}, {'source': 46, 'weight': 1.9849348837183614, 'target': 154}, {'source': 46, 'weight': 1.5978278707778235, 'target': 78}, {'source': 47, 'weight': 2.866125242295157, 'target': 54}, {'source': 47, 'weight': 1.7433655486389732, 'target': 154}, {'source': 48, 'weight': 4.939021290194621, 'target': 117}, {'source': 48, 'weight': 3.1956557415556475, 'target': 158}, {'source': 48, 'weight': 2.149593931721368, 'target': 100}, {'source': 48, 'weight': 1.5978278707778235, 'target': 78}, {'source': 48, 'weight': 1.4715177646857693, 'target': 79}, {'source': 48, 'weight': 4.667067304614178, 'target': 93}, {'source': 50, 'weight': 1.4330626211475785, 'target': 122}, {'source': 51, 'weight': 1.4522901929166738, 'target': 86}, {'source': 52, 'weight': 3.5826565528689462, 'target': 165}, {'source': 52, 'weight': 1.540251357097776, 'target': 135}, {'source': 53, 'weight': 3.5059586690470423, 'target': 117}, {'source': 53, 'weight': 2.6630110507539597, 'target': 78}, {'source': 53, 'weight': 1.965707311949266, 'target': 154}, {'source': 54, 'weight': 3.5826565528689462, 'target': 139}, {'source': 54, 'weight': 2.2760102394406605, 'target': 100}, {'source': 54, 'weight': 3.5826565528689462, 'target': 101}, {'source': 54, 'weight': 1.8393972058572117, 'target': 54}, {'source': 54, 'weight': 1.5978278707778237, 'target': 127}, {'source': 54, 'weight': 1.4522901929166738, 'target': 140}, {'source': 54, 'weight': 4.337643006980926, 'target': 106}, {'source': 54, 'weight': 1.9849348837183614, 'target': 157}, {'source': 54, 'weight': 1.617055442546919, 'target': 58}, {'source': 54, 'weight': 2.111244989810416, 'target': 63}, {'source': 54, 'weight': 2.5670855951629603, 'target': 148}, {'source': 54, 'weight': 1.8009420623190209, 'target': 168}, {'source': 54, 'weight': 11.077500157867329, 'target': 117}, {'source': 54, 'weight': 1.4330626211475785, 'target': 71}, {'source': 54, 'weight': 2.7701997867041577, 'target': 133}, {'source': 54, 'weight': 6.9735683961831345, 'target': 154}, {'source': 54, 'weight': 2.5174733728928103, 'target': 119}, {'source': 54, 'weight': 3.030890491925402, 'target': 73}, {'source': 54, 'weight': 3.1380792278755996, 'target': 120}, {'source': 54, 'weight': 2.9430355293715387, 'target': 78}, {'source': 54, 'weight': 1.4330626211475785, 'target': 79}, {'source': 54, 'weight': 1.4330626211475785, 'target': 81}, {'source': 54, 'weight': 4.299187863442736, 'target': 182}, {'source': 54, 'weight': 11.464500969180628, 'target': 84}, {'source': 54, 'weight': 4.0960736719015385, 'target': 85}, {'source': 54, 'weight': 2.130472561579511, 'target': 86}, {'source': 54, 'weight': 2.866125242295157, 'target': 164}, {'source': 54, 'weight': 1.617055442546919, 'target': 60}, {'source': 54, 'weight': 1.540251357097776, 'target': 166}, {'source': 54, 'weight': 4.812604982475328, 'target': 87}, {'source': 54, 'weight': 3.5826565528689462, 'target': 125}, {'source': 54, 'weight': 1.617055442546919, 'target': 172}, {'source': 54, 'weight': 2.6630110507539597, 'target': 147}, {'source': 54, 'weight': 1.9657073119492658, 'target': 174}, {'source': 54, 'weight': 2.053668476130368, 'target': 93}, {'source': 54, 'weight': 3.747421802499191, 'target': 136}, {'source': 54, 'weight': 1.8009420623190209, 'target': 57}, {'source': 55, 'weight': 1.4330626211475785, 'target': 78}, {'source': 56, 'weight': 2.3143591813516124, 'target': 117}, {'source': 56, 'weight': 2.2567826676715654, 'target': 78}, {'source': 56, 'weight': 1.4330626211475785, 'target': 154}, {'source': 56, 'weight': 1.9464797401801706, 'target': 136}, {'source': 57, 'weight': 1.965707311949266, 'target': 78}, {'source': 57, 'weight': 1.4330626211475785, 'target': 149}, {'source': 58, 'weight': 4.299187863442736, 'target': 172}, {'source': 58, 'weight': 1.4330626211475785, 'target': 154}, {'source': 59, 'weight': 1.4330626211475785, 'target': 97}, {'source': 60, 'weight': 3.4483821553669944, 'target': 154}, {'source': 60, 'weight': 11.464500969180628, 'target': 63}, {'source': 61, 'weight': 1.8009420623190207, 'target': 154}, {'source': 61, 'weight': 3.5826565528689462, 'target': 78}, {'source': 62, 'weight': 4.299187863442736, 'target': 154}, {'source': 63, 'weight': 5.529136293049117, 'target': 154}, {'source': 63, 'weight': 2.6246621088430073, 'target': 136}, {'source': 64, 'weight': 2.51747337289281, 'target': 117}, {'source': 64, 'weight': 3.6018841246380413, 'target': 154}, {'source': 64, 'weight': 2.053668476130368, 'target': 150}, {'source': 64, 'weight': 1.8009420623190209, 'target': 137}, {'source': 64, 'weight': 1.9464797401801706, 'target': 136}, {'source': 65, 'weight': 1.8009420623190209, 'target': 84}, {'source': 65, 'weight': 1.9657073119492658, 'target': 154}, {'source': 65, 'weight': 2.866125242295157, 'target': 117}, {'source': 65, 'weight': 4.299187863442736, 'target': 96}, {'source': 65, 'weight': 1.4330626211475785, 'target': 120}, {'source': 65, 'weight': 1.4522901929166738, 'target': 136}, {'source': 66, 'weight': 1.5978278707778235, 'target': 154}, {'source': 67, 'weight': 2.149593931721368, 'target': 78}, {'source': 68, 'weight': 2.149593931721368, 'target': 98}, {'source': 69, 'weight': 1.9464797401801706, 'target': 90}, {'source': 69, 'weight': 1.4330626211475785, 'target': 78}, {'source': 70, 'weight': 2.9733139782453546, 'target': 157}, {'source': 70, 'weight': 5.732250484590315, 'target': 154}, {'source': 70, 'weight': 1.8393972058572117, 'target': 78}, {'source': 70, 'weight': 3.670723918677287, 'target': 140}, {'source': 72, 'weight': 1.4330626211475785, 'target': 166}, {'source': 73, 'weight': 2.149593931721368, 'target': 126}, {'source': 73, 'weight': 1.4330626211475785, 'target': 148}, {'source': 73, 'weight': 1.9081307982692184, 'target': 78}, {'source': 73, 'weight': 1.540251357097776, 'target': 181}, {'source': 75, 'weight': 2.866125242295157, 'target': 170}, {'source': 75, 'weight': 3.670723918677287, 'target': 78}, {'source': 75, 'weight': 5.732250484590315, 'target': 116}, {'source': 75, 'weight': 1.4330626211475785, 'target': 169}, {'source': 75, 'weight': 2.149593931721368, 'target': 163}, {'source': 75, 'weight': 2.149593931721368, 'target': 156}, {'source': 75, 'weight': 1.4522901929166738, 'target': 136}, {'source': 76, 'weight': 2.5174733728928103, 'target': 154}, {'source': 76, 'weight': 1.7433655486389734, 'target': 78}, {'source': 77, 'weight': 3.5826565528689462, 'target': 117}, {'source': 77, 'weight': 1.4330626211475785, 'target': 136}, {'source': 78, 'weight': 2.1112449898104155, 'target': 138}, {'source': 78, 'weight': 1.5978278707778237, 'target': 177}, {'source': 78, 'weight': 1.9081307982692184, 'target': 100}, {'source': 78, 'weight': 1.617055442546919, 'target': 140}, {'source': 78, 'weight': 3.621111696407137, 'target': 106}, {'source': 78, 'weight': 3.3795423613277493, 'target': 144}, {'source': 78, 'weight': 1.4330626211475785, 'target': 146}, {'source': 78, 'weight': 1.7625931204080687, 'target': 109}, {'source': 78, 'weight': 2.866125242295157, 'target': 151}, {'source': 78, 'weight': 4.0960736719015385, 'target': 113}, {'source': 78, 'weight': 1.4330626211475785, 'target': 152}, {'source': 78, 'weight': 2.866125242295157, 'target': 115}, {'source': 78, 'weight': 2.866125242295157, 'target': 88}, {'source': 78, 'weight': 6.60568895501169, 'target': 117}, {'source': 78, 'weight': 2.053668476130368, 'target': 94}, {'source': 78, 'weight': 9.540653991346094, 'target': 154}, {'source': 78, 'weight': 1.4330626211475785, 'target': 121}, {'source': 78, 'weight': 1.9464797401801706, 'target': 116}, {'source': 78, 'weight': 1.965707311949266, 'target': 119}, {'source': 78, 'weight': 1.7433655486389732, 'target': 153}, {'source': 78, 'weight': 1.9081307982692184, 'target': 157}, {'source': 78, 'weight': 2.866125242295157, 'target': 158}, {'source': 78, 'weight': 2.866125242295157, 'target': 149}, {'source': 78, 'weight': 10.369357945212391, 'target': 78}, {'source': 78, 'weight': 4.46395311307298, 'target': 124}, {'source': 78, 'weight': 1.4330626211475785, 'target': 80}, {'source': 78, 'weight': 2.7894273584732527, 'target': 162}, {'source': 78, 'weight': 1.7625931204080687, 'target': 163}, {'source': 78, 'weight': 1.5978278707778235, 'target': 84}, {'source': 78, 'weight': 1.9849348837183614, 'target': 127}, {'source': 78, 'weight': 2.2760102394406605, 'target': 172}, {'source': 78, 'weight': 2.459896859212763, 'target': 166}, {'source': 78, 'weight': 2.866125242295157, 'target': 183}, {'source': 78, 'weight': 3.379542361327749, 'target': 128}, {'source': 78, 'weight': 2.6246621088430078, 'target': 90}, {'source': 78, 'weight': 1.8201696340881162, 'target': 174}, {'source': 78, 'weight': 1.8393972058572117, 'target': 93}, {'source': 78, 'weight': 2.149593931721368, 'target': 108}, {'source': 78, 'weight': 1.8009420623190209, 'target': 178}, {'source': 78, 'weight': 1.9464797401801706, 'target': 179}, {'source': 78, 'weight': 1.7433655486389734, 'target': 148}, {'source': 78, 'weight': 1.7625931204080687, 'target': 136}, {'source': 79, 'weight': 1.540251357097776, 'target': 117}, {'source': 79, 'weight': 2.149593931721368, 'target': 84}, {'source': 79, 'weight': 1.7433655486389734, 'target': 154}, {'source': 79, 'weight': 1.9464797401801706, 'target': 158}, {'source': 80, 'weight': 1.4330626211475785, 'target': 179}, {'source': 82, 'weight': 1.8201696340881162, 'target': 154}, {'source': 84, 'weight': 3.3795423613277493, 'target': 117}, {'source': 84, 'weight': 1.4330626211475785, 'target': 95}, {'source': 84, 'weight': 2.2760102394406605, 'target': 154}, {'source': 84, 'weight': 1.4330626211475785, 'target': 123}, {'source': 84, 'weight': 1.5978278707778237, 'target': 86}, {'source': 85, 'weight': 2.866125242295157, 'target': 133}, {'source': 86, 'weight': 1.5978278707778235, 'target': 173}, {'source': 86, 'weight': 1.8009420623190207, 'target': 149}, {'source': 87, 'weight': 2.053668476130368, 'target': 157}, {'source': 88, 'weight': 1.540251357097776, 'target': 117}, {'source': 89, 'weight': 1.5978278707778235, 'target': 165}, {'source': 91, 'weight': 1.4330626211475785, 'target': 154}, {'source': 92, 'weight': 1.4330626211475785, 'target': 142}, {'source': 92, 'weight': 2.5174733728928103, 'target': 154}, {'source': 93, 'weight': 11.29984192117762, 'target': 117}, {'source': 93, 'weight': 1.540251357097776, 'target': 100}, {'source': 93, 'weight': 1.7433655486389734, 'target': 172}, {'source': 93, 'weight': 2.479124430981858, 'target': 154}, {'source': 93, 'weight': 4.299187863442736, 'target': 127}, {'source': 93, 'weight': 2.149593931721368, 'target': 112}, {'source': 93, 'weight': 1.4522901929166738, 'target': 158}, {'source': 96, 'weight': 2.5670855951629603, 'target': 154}, {'source': 97, 'weight': 1.4330626211475785, 'target': 105}, {'source': 99, 'weight': 2.149593931721368, 'target': 172}, {'source': 100, 'weight': 1.5978278707778237, 'target': 172}, {'source': 100, 'weight': 2.866125242295157, 'target': 154}, {'source': 100, 'weight': 2.149593931721368, 'target': 127}, {'source': 100, 'weight': 1.7433655486389732, 'target': 109}, {'source': 102, 'weight': 2.2567826676715654, 'target': 136}, {'source': 104, 'weight': 1.5978278707778235, 'target': 154}, {'source': 106, 'weight': 1.8009420623190209, 'target': 136}, {'source': 106, 'weight': 2.934965036334402, 'target': 106}, {'source': 107, 'weight': 1.5978278707778235, 'target': 125}, {'source': 108, 'weight': 3.030890491925402, 'target': 154}, {'source': 109, 'weight': 6.885501030374792, 'target': 117}, {'source': 109, 'weight': 2.149593931721368, 'target': 178}, {'source': 109, 'weight': 4.667067304614178, 'target': 154}, {'source': 109, 'weight': 2.866125242295157, 'target': 159}, {'source': 109, 'weight': 1.7433655486389734, 'target': 136}, {'source': 110, 'weight': 1.4330626211475785, 'target': 140}, {'source': 110, 'weight': 2.130472561579511, 'target': 165}, {'source': 110, 'weight': 1.540251357097776, 'target': 172}, {'source': 111, 'weight': 2.149593931721368, 'target': 154}, {'source': 112, 'weight': 2.973313978245355, 'target': 117}, {'source': 112, 'weight': 1.7625931204080687, 'target': 124}, {'source': 112, 'weight': 1.4330626211475785, 'target': 154}, {'source': 114, 'weight': 2.149593931721368, 'target': 136}, {'source': 115, 'weight': 1.7433655486389734, 'target': 154}, {'source': 116, 'weight': 1.540251357097776, 'target': 156}, {'source': 116, 'weight': 2.866125242295157, 'target': 136}, {'source': 117, 'weight': 1.4330626211475785, 'target': 157}, {'source': 117, 'weight': 1.4330626211475785, 'target': 160}, {'source': 117, 'weight': 1.4522901929166738, 'target': 124}, {'source': 117, 'weight': 1.5978278707778237, 'target': 131}, {'source': 117, 'weight': 1.4330626211475785, 'target': 181}, {'source': 117, 'weight': 5.142135481735818, 'target': 127}, {'source': 117, 'weight': 1.9464797401801706, 'target': 129}, {'source': 117, 'weight': 2.4215479173018104, 'target': 165}, {'source': 117, 'weight': 1.4330626211475785, 'target': 148}, {'source': 117, 'weight': 2.7894273584732527, 'target': 172}, {'source': 117, 'weight': 1.540251357097776, 'target': 122}, {'source': 117, 'weight': 2.459896859212763, 'target': 174}, {'source': 117, 'weight': 1.4330626211475785, 'target': 159}, {'source': 117, 'weight': 1.4330626211475785, 'target': 134}, {'source': 117, 'weight': 1.9081307982692184, 'target': 147}, {'source': 117, 'weight': 7.418251922803718, 'target': 154}, {'source': 117, 'weight': 2.6630110507539597, 'target': 178}, {'source': 117, 'weight': 1.9081307982692184, 'target': 136}, {'source': 120, 'weight': 2.149593931721368, 'target': 154}, {'source': 120, 'weight': 1.9081307982692184, 'target': 171}, {'source': 120, 'weight': 2.314359181351613, 'target': 157}, {'source': 122, 'weight': 2.866125242295157, 'target': 140}, {'source': 124, 'weight': 4.667067304614178, 'target': 154}, {'source': 125, 'weight': 2.5670855951629603, 'target': 139}, {'source': 125, 'weight': 1.4715177646857693, 'target': 154}, {'source': 126, 'weight': 2.866125242295157, 'target': 181}, {'source': 126, 'weight': 1.4330626211475785, 'target': 154}, {'source': 127, 'weight': 3.3411934194167974, 'target': 172}, {'source': 127, 'weight': 8.192147343803077, 'target': 154}, {'source': 127, 'weight': 1.4330626211475785, 'target': 132}, {'source': 131, 'weight': 2.866125242295157, 'target': 154}, {'source': 135, 'weight': 2.866125242295157, 'target': 165}, {'source': 136, 'weight': 2.4215479173018104, 'target': 137}, {'source': 136, 'weight': 1.8009420623190207, 'target': 157}, {'source': 136, 'weight': 2.66301105075396, 'target': 150}, {'source': 136, 'weight': 3.4483821553669944, 'target': 154}, {'source': 137, 'weight': 1.4522901929166738, 'target': 150}, {'source': 139, 'weight': 2.866125242295157, 'target': 154}, {'source': 140, 'weight': 2.459896859212763, 'target': 172}, {'source': 140, 'weight': 1.4330626211475785, 'target': 179}, {'source': 141, 'weight': 3.892959480360341, 'target': 165}, {'source': 143, 'weight': 1.4330626211475785, 'target': 154}, {'source': 145, 'weight': 1.4522901929166738, 'target': 154}, {'source': 149, 'weight': 2.9733139782453546, 'target': 154}, {'source': 154, 'weight': 2.866125242295157, 'target': 157}, {'source': 154, 'weight': 2.053668476130368, 'target': 154}, {'source': 154, 'weight': 1.617055442546919, 'target': 158}, {'source': 154, 'weight': 2.3335867531207084, 'target': 172}, {'source': 154, 'weight': 1.4330626211475785, 'target': 179}, {'source': 154, 'weight': 1.9081307982692184, 'target': 181}, {'source': 161, 'weight': 2.866125242295157, 'target': 165}, {'source': 161, 'weight': 1.540251357097776, 'target': 172}, {'source': 165, 'weight': 6.448781795164104, 'target': 172}, {'source': 165, 'weight': 1.9464797401801706, 'target': 180}, {'source': 172, 'weight': 2.866125242295157, 'target': 174}, {'source': 172, 'weight': 2.149593931721368, 'target': 184}]\n",
       "    };\n",
       "\n",
       "    var simulation = d3.forceSimulation(graph.nodes)\n",
       "        .force(\"link\", d3.forceLink(graph.links))\n",
       "        .force(\"charge\", d3.forceManyBody())\n",
       "        .force(\"center\", d3.forceCenter(width / 2.0, height / 2.0));\n",
       "\n",
       "    var link = svg.append(\"g\")\n",
       "        .attr(\"class\", \"links\")\n",
       "        .selectAll(\"line\")\n",
       "        .data(graph.links)\n",
       "        .enter().append(\"line\")\n",
       "        .style(\"stroke-linecap\", \"round\")\n",
       "        .style(\"stroke\", function(d) {return colour(d.weight);})\n",
       "        .style(\"stroke-width\", function (d) {return Math.sqrt(d.weight);});\n",
       "\n",
       "    var node = svg.append(\"g\")\n",
       "        .attr(\"class\", \"nodes\")\n",
       "        .selectAll(\"g\")\n",
       "        .data(graph.nodes)\n",
       "        .enter().append(\"g\");\n",
       "\n",
       "    var circle = node.append(\"circle\")\n",
       "        .attr(\"r\", 4.5)\n",
       "        .style(\"fill\", \"grey\")\n",
       "        .call(d3.drag()\n",
       "            .on(\"start\", dragstarted)\n",
       "            .on(\"drag\", dragged)\n",
       "            .on(\"end\", dragended));\n",
       "\n",
       "    //node.append(\"title\")\n",
       "    //    .text(function(d) { return d.id; });\n",
       "\n",
       "    var t2 = node.append(\"text\")\n",
       "      .attr(\"dx\", 10)\n",
       "      .attr(\"dy\", \".35em\")\n",
       "      .text(function(d) { return d.id; });\n",
       "\n",
       "    simulation\n",
       "        .on(\"tick\", ticked);\n",
       "\n",
       "    function ticked() {\n",
       "        link\n",
       "            .attr(\"x1\", function(d) { return d.source.x; })\n",
       "            .attr(\"y1\", function(d) { return d.source.y; })\n",
       "            .attr(\"x2\", function(d) { return d.target.x; })\n",
       "            .attr(\"y2\", function(d) { return d.target.y; });\n",
       "\n",
       "        circle\n",
       "            .attr(\"cx\", function(d) { return d.x; })\n",
       "            .attr(\"cy\", function(d) { return d.y; });\n",
       "\n",
       "        t2\n",
       "            .attr(\"x\", function(d) { return d.x; })\n",
       "            .attr(\"y\", function(d) { return d.y; });\n",
       "    };\n",
       "\n",
       "    function dragstarted(d) {\n",
       "        if (!d3.event.active) simulation.alphaTarget(0.3).restart();\n",
       "        d.fx = d.x;\n",
       "        d.fy = d.y;\n",
       "    };\n",
       "\n",
       "    function dragged(d) {\n",
       "        d.fx = d3.event.x;\n",
       "        d.fy = d3.event.y;\n",
       "    };\n",
       "\n",
       "    function dragended(d) {\n",
       "        if (!d3.event.active) simulation.alphaTarget(0);\n",
       "        d.fx = null;\n",
       "        d.fy = null;\n",
       "    };\n",
       "\n",
       "});\n",
       "\n"
      ]
     },
     "metadata": {},
     "output_type": "display_data"
    }
   ],
   "source": [
    "# visualise co-occurrence of words\n",
    "tmt.visualisation.plot_force_directed_graph(words_by_co_occurrence[:500])"
   ]
  },
  {
   "cell_type": "code",
   "execution_count": 71,
   "metadata": {
    "collapsed": false
   },
   "outputs": [
    {
     "data": {
      "text/html": [
       "<div id=\"d3-container-2872879\"></div>\n",
       "<div>force-directed graph</div>\n",
       "\n",
       "<style>\n",
       "    .links line {\n",
       "        stroke: #999;\n",
       "        stroke-opacity: .3;\n",
       "    }\n",
       "\n",
       "    .nodes circle {\n",
       "        pointer-events: all;\n",
       "        stroke: #fff;\n",
       "        stroke-width: 1.5px;\n",
       "    }\n",
       "\n",
       "    .nodes text {\n",
       "        pointer-events: none;\n",
       "        font: 10px sans-serif;\n",
       "        fill: #000000;\n",
       "        opacity: .7;\n",
       "    }\n",
       "</style>\n"
      ]
     },
     "metadata": {},
     "output_type": "display_data"
    },
    {
     "data": {
      "application/javascript": [
       "// require is needed to make d3 work in a noebooks from imported code\n",
       "require.config({\n",
       "    paths: {\n",
       "        d3: \"https://d3js.org/d3.v4.min\"\n",
       "    }\n",
       "});\n",
       "\n",
       "require([\"d3\"], function(d3) {\n",
       "    //console.log(d3.version);\n",
       "\n",
       "    var width = 800,\n",
       "        height = 600;\n",
       "\n",
       "    var svg = d3.select(\"#d3-container-2872879\")\n",
       "        .append(\"svg\")\n",
       "        .attr(\"width\", width)\n",
       "        .attr(\"height\", height);\n",
       "\n",
       "    var colour = d3.scaleOrdinal(d3.schemeCategory20c);\n",
       "\n",
       "    var graph = {\n",
       "        nodes: [{'id': 'tablespoonfuls'}, {'id': 'they'}, {'id': 'sieve'}, {'id': 'are'}, {'id': 'can'}, {'id': 'from'}, {'id': 'pour'}, {'id': 'bread'}, {'id': 'a'}, {'id': 'as'}, {'id': 'butter'}, {'id': 'make'}, {'id': 'meat'}, {'id': 'seasoned'}, {'id': 'rice'}, {'id': 'serve'}, {'id': 'grated'}, {'id': 'two'}, {'id': 'with'}, {'id': 'oil'}, {'id': 'on'}, {'id': 'parsley'}, {'id': 'let'}, {'id': 'remove'}, {'id': 'cheese'}, {'id': 'tomato'}, {'id': 'in'}, {'id': 'water'}, {'id': 'of'}, {'id': 'is'}, {'id': 'and'}, {'id': 'sauce'}, {'id': 'add'}, {'id': 'salt'}, {'id': 'milk'}, {'id': 'into'}, {'id': 'crumbs'}, {'id': 'the'}, {'id': 'quantity'}, {'id': 'this'}, {'id': 'flour'}, {'id': 'tablespoonful'}, {'id': 'that'}, {'id': 'it'}, {'id': 'white'}, {'id': 'fire'}, {'id': 'few'}, {'id': 'little'}, {'id': 'small'}, {'id': 'put'}, {'id': 'stock'}, {'id': 'may'}, {'id': 'be'}, {'id': 'out'}, {'id': 'over'}, {'id': 'piece'}, {'id': 'through'}, {'id': 'season'}, {'id': 'to'}, {'id': 'brown'}, {'id': 'them'}, {'id': 'until'}, {'id': 'pepper'}, {'id': 'taste'}, {'id': 'olive'}, {'id': 'cut'}, {'id': 'when'}, {'id': 'or'}],\n",
       "        links: [{'source': 0, 'weight': 4.299187863442736, 'target': 28}, {'source': 1, 'weight': 7.165313105737893, 'target': 3}, {'source': 1, 'weight': 3.5826565528689462, 'target': 66}, {'source': 2, 'weight': 3.5826565528689462, 'target': 8}, {'source': 3, 'weight': 3.670723918677287, 'target': 66}, {'source': 4, 'weight': 3.892959480360341, 'target': 52}, {'source': 5, 'weight': 5.0157191740165255, 'target': 37}, {'source': 6, 'weight': 4.299187863442736, 'target': 54}, {'source': 7, 'weight': 3.5059586690470423, 'target': 26}, {'source': 7, 'weight': 5.18048442364677, 'target': 28}, {'source': 7, 'weight': 3.5826565528689462, 'target': 36}, {'source': 8, 'weight': 4.812604982475328, 'target': 55}, {'source': 8, 'weight': 13.062328839958452, 'target': 18}, {'source': 8, 'weight': 3.5826565528689462, 'target': 56}, {'source': 8, 'weight': 3.5443076109579943, 'target': 58}, {'source': 8, 'weight': 5.0157191740165255, 'target': 11}, {'source': 8, 'weight': 3.030890491925402, 'target': 32}, {'source': 8, 'weight': 6.25395049991452, 'target': 37}, {'source': 8, 'weight': 3.2340046834665994, 'target': 63}, {'source': 8, 'weight': 3.5826565528689462, 'target': 41}, {'source': 8, 'weight': 3.651496346908192, 'target': 43}, {'source': 8, 'weight': 11.077500157867329, 'target': 26}, {'source': 8, 'weight': 4.337643006980926, 'target': 9}, {'source': 8, 'weight': 7.49494980662562, 'target': 28}, {'source': 8, 'weight': 11.464500969180628, 'target': 47}, {'source': 8, 'weight': 6.9735683961831345, 'target': 30}, {'source': 8, 'weight': 4.0960736719015385, 'target': 48}, {'source': 8, 'weight': 4.299187863442736, 'target': 46}, {'source': 8, 'weight': 3.1380792278755996, 'target': 33}, {'source': 8, 'weight': 3.747421802499191, 'target': 67}, {'source': 9, 'weight': 3.621111696407137, 'target': 37}, {'source': 10, 'weight': 3.969763565809484, 'target': 18}, {'source': 10, 'weight': 6.245667603622907, 'target': 28}, {'source': 10, 'weight': 7.272501841688092, 'target': 30}, {'source': 11, 'weight': 4.299187863442736, 'target': 58}, {'source': 12, 'weight': 3.3795423613277493, 'target': 37}, {'source': 13, 'weight': 5.0157191740165255, 'target': 18}, {'source': 14, 'weight': 3.5826565528689462, 'target': 37}, {'source': 15, 'weight': 4.299187863442736, 'target': 30}, {'source': 16, 'weight': 3.4483821553669944, 'target': 30}, {'source': 16, 'weight': 11.464500969180628, 'target': 24}, {'source': 17, 'weight': 3.8546105384493887, 'target': 28}, {'source': 17, 'weight': 3.6018841246380413, 'target': 30}, {'source': 17, 'weight': 3.5826565528689462, 'target': 67}, {'source': 18, 'weight': 6.410432853253151, 'target': 33}, {'source': 18, 'weight': 3.3795423613277493, 'target': 57}, {'source': 18, 'weight': 4.5600909719184575, 'target': 28}, {'source': 18, 'weight': 4.260945123159022, 'target': 30}, {'source': 18, 'weight': 6.759084722655499, 'target': 37}, {'source': 18, 'weight': 3.2340046834665994, 'target': 45}, {'source': 18, 'weight': 4.260945123159022, 'target': 67}, {'source': 19, 'weight': 4.299187863442736, 'target': 64}, {'source': 19, 'weight': 7.843495474400731, 'target': 30}, {'source': 20, 'weight': 3.234004683466599, 'target': 43}, {'source': 20, 'weight': 3.176428169786552, 'target': 49}, {'source': 20, 'weight': 3.816261596538437, 'target': 45}, {'source': 20, 'weight': 7.533192546909336, 'target': 37}, {'source': 21, 'weight': 3.0308904919254025, 'target': 28}, {'source': 22, 'weight': 3.030890491925402, 'target': 30}, {'source': 23, 'weight': 4.0960736719015385, 'target': 37}, {'source': 24, 'weight': 5.529136293049117, 'target': 30}, {'source': 25, 'weight': 5.732250484590315, 'target': 31}, {'source': 26, 'weight': 3.5826565528689462, 'target': 34}, {'source': 26, 'weight': 11.29984192117762, 'target': 60}, {'source': 26, 'weight': 7.418251922803718, 'target': 30}, {'source': 26, 'weight': 6.60568895501169, 'target': 37}, {'source': 26, 'weight': 5.142135481735818, 'target': 49}, {'source': 26, 'weight': 4.939021290194621, 'target': 65}, {'source': 26, 'weight': 6.885501030374792, 'target': 27}, {'source': 26, 'weight': 3.3795423613277493, 'target': 47}, {'source': 27, 'weight': 4.667067304614178, 'target': 30}, {'source': 27, 'weight': 5.529136293049118, 'target': 37}, {'source': 28, 'weight': 4.299187863442736, 'target': 55}, {'source': 28, 'weight': 12.621156705541647, 'target': 37}, {'source': 28, 'weight': 3.5826565528689462, 'target': 40}, {'source': 28, 'weight': 3.5826565528689462, 'target': 38}, {'source': 28, 'weight': 4.31852163683907, 'target': 30}, {'source': 28, 'weight': 3.0805027141955525, 'target': 48}, {'source': 28, 'weight': 3.816261596538437, 'target': 67}, {'source': 29, 'weight': 10.03143834803305, 'target': 43}, {'source': 29, 'weight': 3.176428169786552, 'target': 39}, {'source': 29, 'weight': 3.1573067996446955, 'target': 66}, {'source': 29, 'weight': 4.774256040564375, 'target': 58}, {'source': 29, 'weight': 5.2109752757750645, 'target': 37}, {'source': 30, 'weight': 12.732904542325203, 'target': 33}, {'source': 30, 'weight': 9.540653991346094, 'target': 37}, {'source': 30, 'weight': 4.667067304614178, 'target': 40}, {'source': 30, 'weight': 8.192147343803077, 'target': 49}, {'source': 30, 'weight': 8.950432786864358, 'target': 60}, {'source': 30, 'weight': 5.732250484590315, 'target': 66}, {'source': 30, 'weight': 3.1573067996446955, 'target': 54}, {'source': 30, 'weight': 3.2340046834665994, 'target': 62}, {'source': 30, 'weight': 7.322220265585479, 'target': 43}, {'source': 30, 'weight': 3.4483821553669944, 'target': 67}, {'source': 31, 'weight': 4.299187863442736, 'target': 39}, {'source': 31, 'weight': 3.670723918677287, 'target': 37}, {'source': 33, 'weight': 6.567233811473499, 'target': 62}, {'source': 35, 'weight': 3.1956557415556475, 'target': 65}, {'source': 37, 'weight': 3.5826565528689462, 'target': 61}, {'source': 37, 'weight': 10.369357945212391, 'target': 37}, {'source': 37, 'weight': 4.46395311307298, 'target': 40}, {'source': 37, 'weight': 3.5826565528689462, 'target': 42}, {'source': 37, 'weight': 4.164913465940784, 'target': 43}, {'source': 37, 'weight': 3.9505359940403886, 'target': 44}, {'source': 37, 'weight': 5.839545422167751, 'target': 49}, {'source': 37, 'weight': 3.379542361327749, 'target': 53}, {'source': 37, 'weight': 8.598375726885472, 'target': 45}, {'source': 37, 'weight': 6.2457738052501455, 'target': 58}, {'source': 37, 'weight': 3.816261596538437, 'target': 60}, {'source': 37, 'weight': 6.119357497530852, 'target': 66}, {'source': 37, 'weight': 6.962198914196696, 'target': 54}, {'source': 37, 'weight': 3.3987699330968444, 'target': 67}, {'source': 43, 'weight': 3.9121870521294366, 'target': 58}, {'source': 43, 'weight': 3.5826565528689462, 'target': 66}, {'source': 49, 'weight': 3.3411934194167974, 'target': 58}, {'source': 49, 'weight': 4.299187863442736, 'target': 60}, {'source': 50, 'weight': 4.299187863442736, 'target': 59}, {'source': 51, 'weight': 3.5826565528689462, 'target': 52}, {'source': 52, 'weight': 6.448781795164104, 'target': 58}, {'source': 60, 'weight': 4.667067304614178, 'target': 65}]\n",
       "    };\n",
       "\n",
       "    var simulation = d3.forceSimulation(graph.nodes)\n",
       "        .force(\"link\", d3.forceLink(graph.links))\n",
       "        .force(\"charge\", d3.forceManyBody())\n",
       "        .force(\"center\", d3.forceCenter(width / 2.0, height / 2.0));\n",
       "\n",
       "    var link = svg.append(\"g\")\n",
       "        .attr(\"class\", \"links\")\n",
       "        .selectAll(\"line\")\n",
       "        .data(graph.links)\n",
       "        .enter().append(\"line\")\n",
       "        .style(\"stroke-linecap\", \"round\")\n",
       "        .style(\"stroke\", function(d) {return colour(d.weight);})\n",
       "        .style(\"stroke-width\", function (d) {return Math.sqrt(d.weight);});\n",
       "\n",
       "    var node = svg.append(\"g\")\n",
       "        .attr(\"class\", \"nodes\")\n",
       "        .selectAll(\"g\")\n",
       "        .data(graph.nodes)\n",
       "        .enter().append(\"g\");\n",
       "\n",
       "    var circle = node.append(\"circle\")\n",
       "        .attr(\"r\", 4.5)\n",
       "        .style(\"fill\", \"grey\")\n",
       "        .call(d3.drag()\n",
       "            .on(\"start\", dragstarted)\n",
       "            .on(\"drag\", dragged)\n",
       "            .on(\"end\", dragended));\n",
       "\n",
       "    //node.append(\"title\")\n",
       "    //    .text(function(d) { return d.id; });\n",
       "\n",
       "    var t2 = node.append(\"text\")\n",
       "      .attr(\"dx\", 10)\n",
       "      .attr(\"dy\", \".35em\")\n",
       "      .text(function(d) { return d.id; });\n",
       "\n",
       "    simulation\n",
       "        .on(\"tick\", ticked);\n",
       "\n",
       "    function ticked() {\n",
       "        link\n",
       "            .attr(\"x1\", function(d) { return d.source.x; })\n",
       "            .attr(\"y1\", function(d) { return d.source.y; })\n",
       "            .attr(\"x2\", function(d) { return d.target.x; })\n",
       "            .attr(\"y2\", function(d) { return d.target.y; });\n",
       "\n",
       "        circle\n",
       "            .attr(\"cx\", function(d) { return d.x; })\n",
       "            .attr(\"cy\", function(d) { return d.y; });\n",
       "\n",
       "        t2\n",
       "            .attr(\"x\", function(d) { return d.x; })\n",
       "            .attr(\"y\", function(d) { return d.y; });\n",
       "    };\n",
       "\n",
       "    function dragstarted(d) {\n",
       "        if (!d3.event.active) simulation.alphaTarget(0.3).restart();\n",
       "        d.fx = d.x;\n",
       "        d.fy = d.y;\n",
       "    };\n",
       "\n",
       "    function dragged(d) {\n",
       "        d.fx = d3.event.x;\n",
       "        d.fy = d3.event.y;\n",
       "    };\n",
       "\n",
       "    function dragended(d) {\n",
       "        if (!d3.event.active) simulation.alphaTarget(0);\n",
       "        d.fx = null;\n",
       "        d.fy = null;\n",
       "    };\n",
       "\n",
       "});\n",
       "\n"
      ]
     },
     "metadata": {},
     "output_type": "display_data"
    }
   ],
   "source": [
    "# visualise co-occurrence > 1\n",
    "w = words_by_co_occurrence[words_by_co_occurrence['weight']>3]\n",
    "tmt.visualisation.plot_force_directed_graph(w)"
   ]
  },
  {
   "cell_type": "code",
   "execution_count": null,
   "metadata": {
    "collapsed": true
   },
   "outputs": [],
   "source": []
  }
 ],
 "metadata": {
  "anaconda-cloud": {},
  "kernelspec": {
   "display_name": "Python [conda root]",
   "language": "python",
   "name": "conda-root-py"
  },
  "language_info": {
   "codemirror_mode": {
    "name": "ipython",
    "version": 3
   },
   "file_extension": ".py",
   "mimetype": "text/x-python",
   "name": "python",
   "nbconvert_exporter": "python",
   "pygments_lexer": "ipython3",
   "version": "3.5.2"
  }
 },
 "nbformat": 4,
 "nbformat_minor": 0
}
