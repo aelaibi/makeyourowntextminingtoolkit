{
 "cells": [
  {
   "cell_type": "code",
   "execution_count": 1,
   "metadata": {
    "collapsed": true
   },
   "outputs": [],
   "source": [
    "# notebook to illustrate extracting topics using SVD"
   ]
  },
  {
   "cell_type": "code",
   "execution_count": 1,
   "metadata": {
    "collapsed": true
   },
   "outputs": [],
   "source": [
    "# following only used for development, reloads the modules with any code changes\n",
    "%load_ext autoreload\n",
    "%autoreload 2\n",
    "\n",
    "# inline matplotlib charts\n",
    "%matplotlib inline"
   ]
  },
  {
   "cell_type": "code",
   "execution_count": 2,
   "metadata": {
    "collapsed": true
   },
   "outputs": [],
   "source": [
    "# import our text mining toolkit\n",
    "import text_mining_toolkit as tmt"
   ]
  },
  {
   "cell_type": "code",
   "execution_count": 3,
   "metadata": {},
   "outputs": [
    {
     "name": "stdout",
     "output_type": "stream",
     "text": [
      "content_directory =  data_sets/hillsborough/txt/\n",
      "text_filename_pattern =  HOM*.txt\n",
      "self.documents populated =  3816\n"
     ]
    }
   ],
   "source": [
    "#cr = tmt.corpus_reader.CorpusReader(content_directory=\"data_sets/simple_test/txt/\", text_filename_pattern=\"??.txt\")\n",
    "#cr = tmt.corpus_reader.CorpusReader(content_directory=\"data_sets/recipes/txt/\", text_filename_pattern=\"??.txt\")\n",
    "#cr = tmt.corpus_reader.CorpusReader(directory_of_files=\"data_sets/mystery_corpus_01/txt/\", text_filename_pattern=\"??.txt\")\n",
    "#cr = tmt.corpus_reader.CorpusReader(content_directory=\"data_sets/iraq_inquiry/txt/\", text_filename_pattern=\"the-report*.txt\")\n",
    "#cr = tmt.corpus_reader.CorpusReader(content_directory=\"data_sets/clinton_emails/txt/\", text_filename_pattern=\"C0*.txt\")\n",
    "#cr = tmt.corpus_reader.CorpusReader(content_directory=\"data_sets/shakespeare_macbeth/txt/\", text_filename_pattern=\"macbeth_act_0?_scene_0?.txt\")\n",
    "#cr = tmt.corpus_reader.CorpusReader(content_directory=\"data_sets/mixed/txt/\", text_filename_pattern=\"*.txt\")\n",
    "cr = tmt.corpus_reader.CorpusReader(content_directory=\"data_sets/hillsborough/txt/\", text_filename_pattern=\"*.txt\")"
   ]
  },
  {
   "cell_type": "code",
   "execution_count": 4,
   "metadata": {
    "scrolled": false
   },
   "outputs": [
    {
     "name": "stdout",
     "output_type": "stream",
     "text": [
      "removed wordcount index file:  data_sets/hillsborough/txt/index_wordcount.hdf5\n"
     ]
    }
   ],
   "source": [
    "# first clear index\n",
    "tmt.index_wordcount.delete_index(cr.content_directory)\n",
    "\n",
    "# for all documents in corpus\n",
    "for document_name in cr.get_documents():\n",
    "    #print(\"processing \", document_name)\n",
    "\n",
    "    # get document text\n",
    "    document_text = cr.get_text_by_document(document_name)\n",
    "\n",
    "    # simplify whitespace (remove newlines)\n",
    "    b = tmt.text_processing.simplify_whitespace(document_text)\n",
    "\n",
    "    # only keep alphanumeric characters, removes punctuation\n",
    "    c = tmt.text_processing.keep_only_alphanumeric(b)\n",
    "\n",
    "    # make lowercase\n",
    "    d = tmt.text_processing.to_lowercase(c)\n",
    "\n",
    "    # split into words list\n",
    "    dl = tmt.text_processing.split_text_into_words(d)\n",
    "    \n",
    "    # build n-grams\n",
    "    #gl = tmt.word_processing.build_ngrams_from_words(dl,2)\n",
    "\n",
    "    # remove stop words\n",
    "    el = tmt.word_processing.remove_stop_words(dl, \"./stopwords/minimal-stop.txt\")\n",
    "    \n",
    "    # only keep words with min length 5\n",
    "    fl = tmt.word_processing.keep_words_min_length(el,5)\n",
    "    \n",
    "    # update index\n",
    "    tmt.index_wordcount.create_wordcount_index_for_document(cr.content_directory, document_name, fl)\n",
    "    \n",
    "    pass"
   ]
  },
  {
   "cell_type": "code",
   "execution_count": 5,
   "metadata": {},
   "outputs": [
    {
     "name": "stdout",
     "output_type": "stream",
     "text": [
      "saving corpus word count index ...  data_sets/hillsborough/txt/index_wordcount.hdf5\n"
     ]
    }
   ],
   "source": [
    "# merge document indices into a corpus index\n",
    "tmt.index_wordcount.merge_wordcount_indices_for_corpus(cr.content_directory)"
   ]
  },
  {
   "cell_type": "code",
   "execution_count": 4,
   "metadata": {},
   "outputs": [
    {
     "name": "stdout",
     "output_type": "stream",
     "text": [
      "removed relevance index file:  data_sets/hillsborough/txt/index_relevance.hdf5\n",
      "saving corpus relevance index ...  data_sets/hillsborough/txt/index_relevance.hdf5\n"
     ]
    }
   ],
   "source": [
    "# delete and build relevance index\n",
    "tmt.index_relevance.delete_index(cr.content_directory)\n",
    "tmt.index_relevance.calculate_relevance_index(cr.content_directory)"
   ]
  },
  {
   "cell_type": "code",
   "execution_count": 5,
   "metadata": {
    "collapsed": true
   },
   "outputs": [],
   "source": [
    "# start here if you have already built the relevance index"
   ]
  },
  {
   "cell_type": "code",
   "execution_count": 6,
   "metadata": {},
   "outputs": [
    {
     "name": "stdout",
     "output_type": "stream",
     "text": [
      "saving singular value decomposition ...  data_sets/hillsborough/txt/svd.hdf5\n"
     ]
    }
   ],
   "source": [
    "# delete and rebuild SVD of doc-term matrix\n",
    "tmt.svd.delete_svd(cr.content_directory)\n",
    "tmt.svd.calculate_singular_value_decomposition(cr.content_directory)"
   ]
  },
  {
   "cell_type": "code",
   "execution_count": null,
   "metadata": {
    "collapsed": true
   },
   "outputs": [],
   "source": []
  },
  {
   "cell_type": "code",
   "execution_count": 7,
   "metadata": {
    "collapsed": true
   },
   "outputs": [],
   "source": [
    "# get SVD eigenvalues\n",
    "eigenvalues = tmt.svd.get_svd_eigenvalues(cr.content_directory)"
   ]
  },
  {
   "cell_type": "code",
   "execution_count": null,
   "metadata": {
    "collapsed": true
   },
   "outputs": [],
   "source": []
  },
  {
   "cell_type": "code",
   "execution_count": 11,
   "metadata": {
    "scrolled": false
   },
   "outputs": [
    {
     "data": {
      "image/png": "[encoded data removed]",
      "text/plain": [
       "<matplotlib.figure.Figure at 0x10f3154a8>"
      ]
     },
     "metadata": {},
     "output_type": "display_data"
    }
   ],
   "source": [
    "# visualise the SVD eigenvalues as a barchart to see most significant\n",
    "tmt.visualisation.plot_bar_chart(eigenvalues)"
   ]
  },
  {
   "cell_type": "code",
   "execution_count": 12,
   "metadata": {},
   "outputs": [
    {
     "data": {
      "image/png": "[encoded data removed]",
      "text/plain": [
       "<matplotlib.figure.Figure at 0x2ae948080>"
      ]
     },
     "metadata": {},
     "output_type": "display_data"
    }
   ],
   "source": [
    "# get document-view projection onto 2 dimensions\n",
    "document_view = tmt.svd.get_document_view(cr.content_directory)\n",
    "\n",
    "# plot documents in reduced dimension space with a 2-d scatter \n",
    "tmt.visualisation.plot_scatter_chart(document_view)"
   ]
  },
  {
   "cell_type": "code",
   "execution_count": null,
   "metadata": {
    "collapsed": true
   },
   "outputs": [],
   "source": []
  },
  {
   "cell_type": "code",
   "execution_count": 13,
   "metadata": {},
   "outputs": [
    {
     "data": {
      "text/html": [
       "<div>\n",
       "<table border=\"1\" class=\"dataframe\">\n",
       "  <thead>\n",
       "    <tr style=\"text-align: right;\">\n",
       "      <th></th>\n",
       "      <th>0</th>\n",
       "      <th>1</th>\n",
       "    </tr>\n",
       "  </thead>\n",
       "  <tbody>\n",
       "  </tbody>\n",
       "</table>\n",
       "</div>"
      ],
      "text/plain": [
       "Empty DataFrame\n",
       "Columns: [0, 1]\n",
       "Index: []"
      ]
     },
     "execution_count": 13,
     "metadata": {},
     "output_type": "execute_result"
    }
   ],
   "source": [
    "document_view.T[document_view.T[1] < -0.006]"
   ]
  },
  {
   "cell_type": "code",
   "execution_count": null,
   "metadata": {
    "collapsed": true
   },
   "outputs": [],
   "source": []
  },
  {
   "cell_type": "code",
   "execution_count": 15,
   "metadata": {
    "collapsed": true,
    "scrolled": false
   },
   "outputs": [],
   "source": [
    "# get top n topics, n is usually the same as key dimensions identified by the eigenvalue bar chart above\n",
    "number_of_topics = 10\n",
    "# how many words in each topic (the most significant)\n",
    "topic_length = 10\n",
    "\n",
    "topics_list = tmt.svd.get_topics(cr.content_directory, number_of_topics, topic_length)"
   ]
  },
  {
   "cell_type": "code",
   "execution_count": 16,
   "metadata": {
    "scrolled": false
   },
   "outputs": [
    {
     "name": "stdout",
     "output_type": "stream",
     "text": [
      " topic # 0\n",
      "inquiry         0.238646\n",
      "police          0.233339\n",
      "secretary       0.228070\n",
      "justice         0.213491\n",
      "letter          0.200483\n",
      "scrutiny        0.198494\n",
      "yorkshire       0.195255\n",
      "london          0.186311\n",
      "reference       0.180697\n",
      "hillsborough    0.175345\n",
      "Name: 0, dtype: float64 \n",
      "\n",
      " topic # 1\n",
      "rfctr6fltyj        9.754874e-01\n",
      "statement          9.668067e-17\n",
      "stand              9.368396e-17\n",
      "report             7.629219e-17\n",
      "people             6.985798e-17\n",
      "private            6.167880e-17\n",
      "ground             5.815512e-17\n",
      "recommendations    5.815209e-17\n",
      "recommendation     5.489136e-17\n",
      "yorkshire          5.228198e-17\n",
      "Name: 1, dtype: float64 \n",
      "\n",
      " topic # 2\n",
      "chevf             7.613946e-01\n",
      "superintendent    1.157154e-16\n",
      "rover             1.024354e-16\n",
      "leppings          8.931737e-17\n",
      "aoorv             7.558747e-17\n",
      "dspys             7.558747e-17\n",
      "cuxjo             7.558747e-17\n",
      "chapman           6.959515e-17\n",
      "football          6.090088e-17\n",
      "trapped           5.805032e-17\n",
      "Name: 2, dtype: float64 \n",
      "\n",
      " topic # 3\n",
      "cecic         7.613946e-01\n",
      "submission    1.025629e-16\n",
      "psl4310       8.894763e-17\n",
      "heard         8.755130e-17\n",
      "tickets       8.643075e-17\n",
      "dated         7.646144e-17\n",
      "april         7.373294e-17\n",
      "tragedy       7.347410e-17\n",
      "early         7.005352e-17\n",
      "thank         6.976673e-17\n",
      "Name: 3, dtype: float64 \n",
      "\n",
      " topic # 4\n",
      "reference      0.268700\n",
      "scrutiny       0.239448\n",
      "midlands       0.193232\n",
      "authority      0.158826\n",
      "police         0.158758\n",
      "costs          0.146980\n",
      "yorkshire      0.136030\n",
      "london         0.127953\n",
      "stuartsmith    0.124732\n",
      "south          0.113730\n",
      "Name: 4, dtype: float64 \n",
      "\n",
      " topic # 5\n",
      "reference    0.215533\n",
      "midlands     0.204680\n",
      "yorkshire    0.185533\n",
      "costs        0.145715\n",
      "south        0.136164\n",
      "football     0.130660\n",
      "authority    0.125776\n",
      "scrutiny     0.106040\n",
      "ground       0.101162\n",
      "safety       0.084994\n",
      "Name: 5, dtype: float64 \n",
      "\n",
      " topic # 6\n",
      "ikwmmiwr      4.607135e-01\n",
      "jmnmiir       4.425598e-01\n",
      "liverpool     1.023169e-16\n",
      "semifinal     7.846477e-17\n",
      "manchester    7.286901e-17\n",
      "paragraph     7.279151e-17\n",
      "meeting       7.272110e-17\n",
      "taylor        7.171484e-17\n",
      "authority     7.121209e-17\n",
      "submission    6.293662e-17\n",
      "Name: 6, dtype: float64 \n",
      "\n",
      " topic # 7\n",
      "reference    0.212675\n",
      "inquiry      0.158190\n",
      "secretary    0.134060\n",
      "whalley      0.127025\n",
      "scrutiny     0.116281\n",
      "private      0.100031\n",
      "london       0.094764\n",
      "ground       0.092146\n",
      "people       0.088364\n",
      "letter       0.086487\n",
      "Name: 7, dtype: float64 \n",
      "\n",
      " topic # 8\n",
      "18aug1989       4.732789e-01\n",
      "ifcrl           3.806973e-01\n",
      "provide         3.862433e-17\n",
      "stuartsmiths    3.757920e-17\n",
      "states          3.699572e-17\n",
      "bodies          3.634809e-17\n",
      "central         3.534114e-17\n",
      "community       3.329393e-17\n",
      "lloyd           3.059613e-17\n",
      "constabulary    3.041726e-17\n",
      "Name: 8, dtype: float64 \n",
      "\n",
      " topic # 9\n",
      "reference      0.252258\n",
      "private        0.118237\n",
      "football       0.117194\n",
      "evidence       0.111125\n",
      "extension      0.102815\n",
      "scrutiny       0.091190\n",
      "safety         0.087857\n",
      "stuartsmith    0.085739\n",
      "telephone      0.084538\n",
      "memorandum     0.075057\n",
      "Name: 9, dtype: float64 \n",
      "\n"
     ]
    }
   ],
   "source": [
    "for i, topic in enumerate(topics_list):\n",
    "    print(\" topic #\", i)\n",
    "    print(topic, \"\\n\")\n",
    "    pass"
   ]
  },
  {
   "cell_type": "code",
   "execution_count": 17,
   "metadata": {
    "scrolled": true
   },
   "outputs": [
    {
     "data": {
      "text/plain": [
       "<matplotlib.axes._subplots.AxesSubplot at 0x12cfe2da0>"
      ]
     },
     "execution_count": 17,
     "metadata": {},
     "output_type": "execute_result"
    },
    {
     "data": {
      "image/png": "[encoded data removed]",
      "text/plain": [
       "<matplotlib.figure.Figure at 0x1286c9f98>"
      ]
     },
     "metadata": {},
     "output_type": "display_data"
    }
   ],
   "source": [
    "# indicator of topic significance by visualising the magnitude of the topic elements\n",
    "x = tmt.svd.get_word_view(cr.content_directory,10)\n",
    "x.abs().sum().plot()"
   ]
  },
  {
   "cell_type": "code",
   "execution_count": null,
   "metadata": {
    "collapsed": true
   },
   "outputs": [],
   "source": []
  }
 ],
 "metadata": {
  "anaconda-cloud": {},
  "kernelspec": {
   "display_name": "Python 3",
   "language": "python",
   "name": "python3"
  },
  "language_info": {
   "codemirror_mode": {
    "name": "ipython",
    "version": 3
   },
   "file_extension": ".py",
   "mimetype": "text/x-python",
   "name": "python",
   "nbconvert_exporter": "python",
   "pygments_lexer": "ipython3",
   "version": "3.6.1"
  }
 },
 "nbformat": 4,
 "nbformat_minor": 1
}
