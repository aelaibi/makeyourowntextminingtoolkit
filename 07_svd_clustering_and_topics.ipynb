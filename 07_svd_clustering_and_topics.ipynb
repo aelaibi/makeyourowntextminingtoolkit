{
 "cells": [
  {
   "cell_type": "code",
   "execution_count": 1,
   "metadata": {
    "collapsed": true
   },
   "outputs": [],
   "source": [
    "# notebook to illustrate extracting topics using SVD"
   ]
  },
  {
   "cell_type": "code",
   "execution_count": 9,
   "metadata": {},
   "outputs": [
    {
     "name": "stdout",
     "output_type": "stream",
     "text": [
      "The autoreload extension is already loaded. To reload it, use:\n",
      "  %reload_ext autoreload\n"
     ]
    }
   ],
   "source": [
    "# following only used for development, reloads the modules with any code changes\n",
    "%load_ext autoreload\n",
    "%autoreload 2\n",
    "\n",
    "# inline matplotlib charts\n",
    "%matplotlib inline"
   ]
  },
  {
   "cell_type": "code",
   "execution_count": 10,
   "metadata": {
    "collapsed": true
   },
   "outputs": [],
   "source": [
    "# import our text mining toolkit\n",
    "import text_mining_toolkit as tmt"
   ]
  },
  {
   "cell_type": "code",
   "execution_count": 11,
   "metadata": {},
   "outputs": [
    {
     "name": "stdout",
     "output_type": "stream",
     "text": [
      "content_directory =  data_sets/hillsborough/txt/\n",
      "text_filename_pattern =  *.txt\n",
      "self.documents populated =  19217\n"
     ]
    }
   ],
   "source": [
    "#cr = tmt.corpus_reader.CorpusReader(content_directory=\"data_sets/simple_test/txt/\", text_filename_pattern=\"??.txt\")\n",
    "#cr = tmt.corpus_reader.CorpusReader(content_directory=\"data_sets/recipes/txt/\", text_filename_pattern=\"??.txt\")\n",
    "#cr = tmt.corpus_reader.CorpusReader(directory_of_files=\"data_sets/mystery_corpus_01/txt/\", text_filename_pattern=\"??.txt\")\n",
    "#cr = tmt.corpus_reader.CorpusReader(content_directory=\"data_sets/iraq_inquiry/txt/\", text_filename_pattern=\"the-report*.txt\")\n",
    "#cr = tmt.corpus_reader.CorpusReader(content_directory=\"data_sets/clinton_emails/txt/\", text_filename_pattern=\"C0*.txt\")\n",
    "#cr = tmt.corpus_reader.CorpusReader(content_directory=\"data_sets/shakespeare_macbeth/txt/\", text_filename_pattern=\"macbeth_act_0?_scene_0?.txt\")\n",
    "#cr = tmt.corpus_reader.CorpusReader(content_directory=\"data_sets/mixed/txt/\", text_filename_pattern=\"*.txt\")\n",
    "cr = tmt.corpus_reader.CorpusReader(content_directory=\"data_sets/hillsborough/txt/\", text_filename_pattern=\"*.txt\")"
   ]
  },
  {
   "cell_type": "code",
   "execution_count": 14,
   "metadata": {
    "collapsed": true
   },
   "outputs": [],
   "source": [
    "# load Englsh dictionary\n",
    "dictionary_df = tmt.dictionary.get_dictionary_words(\"words.txt\")\n",
    "# a set is more efficient when checking for membership\n",
    "dictionary_set = set(dictionary_df['words'].values.tolist())"
   ]
  },
  {
   "cell_type": "code",
   "execution_count": 15,
   "metadata": {
    "collapsed": true,
    "scrolled": false
   },
   "outputs": [],
   "source": [
    "# first clear index\n",
    "tmt.index_wordcount.delete_index(cr.content_directory)\n",
    "\n",
    "# for all documents in corpus\n",
    "for document_name in cr.get_documents():\n",
    "    #print(\"processing \", document_name)\n",
    "\n",
    "    # get document text\n",
    "    document_text = cr.get_text_by_document(document_name)\n",
    "\n",
    "    # simplify whitespace (remove newlines)\n",
    "    b = tmt.text_processing.simplify_whitespace(document_text)\n",
    "\n",
    "    # only keep alphanumeric characters, removes punctuation\n",
    "    #c = tmt.text_processing.keep_only_alphanumeric(b)\n",
    "    \n",
    "    # only keep alpha (not numeric) characters, removes punctuation\n",
    "    c = tmt.text_processing.keep_only_alpha(b)\n",
    "\n",
    "    # make lowercase\n",
    "    d = tmt.text_processing.to_lowercase(c)\n",
    "\n",
    "    # split into words list\n",
    "    dl = tmt.text_processing.split_text_into_words(d)\n",
    "    \n",
    "    # build n-grams\n",
    "    #gl = tmt.word_processing.build_ngrams_from_words(dl,2)\n",
    "\n",
    "    # remove stop words\n",
    "    el = tmt.word_processing.remove_stop_words(dl, \"./stopwords/minimal-stop.txt\")\n",
    "    \n",
    "    # only keep words with min length 5\n",
    "    fl = tmt.word_processing.keep_words_min_length(el,5)\n",
    "    \n",
    "    # keep only words found in the Eglish dictionary\n",
    "    gl = [word for word in fl if word in dictionary_set]\n",
    "    \n",
    "    # update index\n",
    "    tmt.index_wordcount.create_wordcount_index_for_document(cr.content_directory, document_name, gl)\n",
    "    \n",
    "    pass"
   ]
  },
  {
   "cell_type": "code",
   "execution_count": 16,
   "metadata": {},
   "outputs": [
    {
     "name": "stdout",
     "output_type": "stream",
     "text": [
      "saving corpus word count index ...  data_sets/hillsborough/txt/index_wordcount.hdf5\n"
     ]
    }
   ],
   "source": [
    "# merge document indices into a corpus index\n",
    "tmt.index_wordcount.merge_wordcount_indices_for_corpus(cr.content_directory)"
   ]
  },
  {
   "cell_type": "code",
   "execution_count": 17,
   "metadata": {},
   "outputs": [
    {
     "name": "stdout",
     "output_type": "stream",
     "text": [
      "saving corpus relevance index ...  data_sets/hillsborough/txt/index_relevance.hdf5\n"
     ]
    }
   ],
   "source": [
    "# delete and build relevance index\n",
    "tmt.index_relevance.delete_index(cr.content_directory)\n",
    "tmt.index_relevance.calculate_relevance_index(cr.content_directory)"
   ]
  },
  {
   "cell_type": "code",
   "execution_count": 18,
   "metadata": {
    "collapsed": true
   },
   "outputs": [],
   "source": [
    "# start here if you have already built the relevance index"
   ]
  },
  {
   "cell_type": "code",
   "execution_count": 19,
   "metadata": {},
   "outputs": [
    {
     "name": "stdout",
     "output_type": "stream",
     "text": [
      "saving singular value decomposition ...  data_sets/hillsborough/txt/svd.hdf5\n"
     ]
    }
   ],
   "source": [
    "# delete and rebuild SVD of doc-term matrix\n",
    "tmt.svd.delete_svd(cr.content_directory)\n",
    "tmt.svd.calculate_singular_value_decomposition(cr.content_directory)"
   ]
  },
  {
   "cell_type": "code",
   "execution_count": null,
   "metadata": {
    "collapsed": true
   },
   "outputs": [],
   "source": []
  },
  {
   "cell_type": "code",
   "execution_count": 20,
   "metadata": {
    "collapsed": true
   },
   "outputs": [],
   "source": [
    "# get SVD eigenvalues\n",
    "eigenvalues = tmt.svd.get_svd_eigenvalues(cr.content_directory)"
   ]
  },
  {
   "cell_type": "code",
   "execution_count": null,
   "metadata": {
    "collapsed": true
   },
   "outputs": [],
   "source": []
  },
  {
   "cell_type": "code",
   "execution_count": 33,
   "metadata": {
    "scrolled": false
   },
   "outputs": [
    {
     "data": {
      "image/png": "[encoded data removed]",
      "text/plain": [
       "<matplotlib.figure.Figure at 0x12889ce10>"
      ]
     },
     "metadata": {},
     "output_type": "display_data"
    }
   ],
   "source": [
    "# visualise the SVD eigenvalues as a barchart to see most significant\n",
    "tmt.visualisation.plot_bar_chart(eigenvalues[:20])"
   ]
  },
  {
   "cell_type": "code",
   "execution_count": 20,
   "metadata": {},
   "outputs": [
    {
     "data": {
      "image/png": "[encoded data removed]",
      "text/plain": [
       "<matplotlib.figure.Figure at 0x1450b3940>"
      ]
     },
     "metadata": {},
     "output_type": "display_data"
    }
   ],
   "source": [
    "# get document-view projection onto 2 dimensions\n",
    "document_view = tmt.svd.get_document_view(cr.content_directory)\n",
    "\n",
    "# plot documents in reduced dimension space with a 2-d scatter \n",
    "tmt.visualisation.plot_scatter_chart(document_view)"
   ]
  },
  {
   "cell_type": "code",
   "execution_count": null,
   "metadata": {
    "collapsed": true
   },
   "outputs": [],
   "source": []
  },
  {
   "cell_type": "code",
   "execution_count": 21,
   "metadata": {},
   "outputs": [
    {
     "data": {
      "text/html": [
       "<div>\n",
       "<table border=\"1\" class=\"dataframe\">\n",
       "  <thead>\n",
       "    <tr style=\"text-align: right;\">\n",
       "      <th></th>\n",
       "      <th>0</th>\n",
       "      <th>1</th>\n",
       "    </tr>\n",
       "  </thead>\n",
       "  <tbody>\n",
       "  </tbody>\n",
       "</table>\n",
       "</div>"
      ],
      "text/plain": [
       "Empty DataFrame\n",
       "Columns: [0, 1]\n",
       "Index: []"
      ]
     },
     "execution_count": 21,
     "metadata": {},
     "output_type": "execute_result"
    }
   ],
   "source": [
    "document_view.T[document_view.T[1] < -0.006]"
   ]
  },
  {
   "cell_type": "code",
   "execution_count": null,
   "metadata": {
    "collapsed": true
   },
   "outputs": [],
   "source": []
  },
  {
   "cell_type": "code",
   "execution_count": 34,
   "metadata": {
    "collapsed": true,
    "scrolled": false
   },
   "outputs": [],
   "source": [
    "# get top n topics, n is usually the same as key dimensions identified by the eigenvalue bar chart above\n",
    "number_of_topics = 15\n",
    "# how many words in each topic (the most significant)\n",
    "topic_length = 10\n",
    "\n",
    "topics_list = tmt.svd.get_topics(cr.content_directory, number_of_topics, topic_length)"
   ]
  },
  {
   "cell_type": "code",
   "execution_count": 35,
   "metadata": {
    "scrolled": false
   },
   "outputs": [
    {
     "name": "stdout",
     "output_type": "stream",
     "text": [
      " topic # 0\n",
      "raised          1.646954\n",
      "actions         1.344083\n",
      "document        1.159934\n",
      "indexer         0.970770\n",
      "instructions    0.953516\n",
      "action          0.946094\n",
      "indicated       0.901837\n",
      "number          0.591718\n",
      "statement       0.580177\n",
      "receivers       0.508224\n",
      "Name: 0, dtype: float64 \n",
      "\n",
      " topic # 1\n",
      "reference     3.179260\n",
      "extension     0.137096\n",
      "telephone     0.114481\n",
      "memorandum    0.113648\n",
      "raised        0.110221\n",
      "london        0.102715\n",
      "scrutiny      0.097901\n",
      "actions       0.089925\n",
      "secretary     0.084932\n",
      "queen         0.071101\n",
      "Name: 1, dtype: float64 \n",
      "\n",
      " topic # 2\n",
      "police        0.677746\n",
      "ground        0.550280\n",
      "material      0.545654\n",
      "raised        0.396858\n",
      "stand         0.350034\n",
      "people        0.342326\n",
      "south         0.333551\n",
      "actions       0.311439\n",
      "supporters    0.310529\n",
      "there         0.298958\n",
      "Name: 2, dtype: float64 \n",
      "\n",
      " topic # 3\n",
      "secretary    0.572476\n",
      "london       0.459885\n",
      "justice      0.365538\n",
      "material     0.355462\n",
      "taylor       0.308684\n",
      "ground       0.307226\n",
      "inquiry      0.292526\n",
      "disaster     0.246981\n",
      "stand        0.236582\n",
      "queen        0.227525\n",
      "Name: 3, dtype: float64 \n",
      "\n",
      " topic # 4\n",
      "chambers     1.377323\n",
      "castle       0.226434\n",
      "tract        0.062330\n",
      "secretary    0.051054\n",
      "attorney     0.030952\n",
      "justice      0.028493\n",
      "general      0.024988\n",
      "taylor       0.024985\n",
      "inquiry      0.024941\n",
      "street       0.021848\n",
      "Name: 4, dtype: float64 \n",
      "\n",
      " topic # 5\n",
      "material     0.363232\n",
      "inquiry      0.338313\n",
      "property     0.252636\n",
      "number       0.237683\n",
      "officers     0.207103\n",
      "people       0.204529\n",
      "briefly      0.195419\n",
      "message      0.194922\n",
      "secretary    0.182719\n",
      "justice      0.182356\n",
      "Name: 5, dtype: float64 \n",
      "\n",
      " topic # 6\n",
      "statement       0.307106\n",
      "property        0.281948\n",
      "signed          0.280987\n",
      "visitors        0.274388\n",
      "people          0.255564\n",
      "witness         0.253254\n",
      "signature       0.227993\n",
      "midlands        0.203407\n",
      "continuation    0.202329\n",
      "court           0.199706\n",
      "Name: 6, dtype: float64 \n",
      "\n",
      " topic # 7\n",
      "visitors     1.186298\n",
      "business     0.127914\n",
      "property     0.100223\n",
      "statement    0.078688\n",
      "number       0.069357\n",
      "witness      0.062938\n",
      "signed       0.062578\n",
      "exhibit      0.054888\n",
      "court        0.053854\n",
      "photo        0.052688\n",
      "Name: 7, dtype: float64 \n",
      "\n",
      " topic # 8\n",
      "property     0.295102\n",
      "telephone    0.265546\n",
      "yorkshire    0.262619\n",
      "police       0.249554\n",
      "subject      0.246568\n",
      "south        0.221909\n",
      "number       0.219346\n",
      "inquiry      0.195477\n",
      "halley       0.181322\n",
      "constable    0.176241\n",
      "Name: 8, dtype: float64 \n",
      "\n",
      " topic # 9\n",
      "halley       1.168691\n",
      "property     0.046086\n",
      "telephone    0.041354\n",
      "yorkshire    0.041154\n",
      "subject      0.038612\n",
      "police       0.038588\n",
      "south        0.034380\n",
      "number       0.034135\n",
      "inquiry      0.031168\n",
      "constable    0.027442\n",
      "Name: 9, dtype: float64 \n",
      "\n",
      " topic # 10\n",
      "secretary    0.380099\n",
      "private      0.255705\n",
      "message      0.247981\n",
      "telephone    0.213645\n",
      "action       0.209681\n",
      "london       0.197113\n",
      "material     0.163540\n",
      "number       0.153276\n",
      "premises     0.145124\n",
      "street       0.144161\n",
      "Name: 10, dtype: float64 \n",
      "\n",
      " topic # 11\n",
      "secretary    0.462739\n",
      "private      0.388733\n",
      "telephone    0.303815\n",
      "message      0.264320\n",
      "sheffield    0.207366\n",
      "inquiry      0.181807\n",
      "signed       0.165700\n",
      "street       0.162892\n",
      "costs        0.143109\n",
      "midlands     0.134161\n",
      "Name: 11, dtype: float64 \n",
      "\n",
      " topic # 12\n",
      "hammond      1.048282\n",
      "commences    0.217295\n",
      "secretary    0.062752\n",
      "private      0.038406\n",
      "london       0.031946\n",
      "evidence     0.030058\n",
      "midlands     0.027553\n",
      "support      0.027198\n",
      "signed       0.024466\n",
      "inquiry      0.023950\n",
      "Name: 12, dtype: float64 \n",
      "\n",
      " topic # 13\n",
      "message      0.250191\n",
      "subject      0.236295\n",
      "street       0.224257\n",
      "london       0.219849\n",
      "people       0.205558\n",
      "downing      0.199686\n",
      "action       0.195125\n",
      "signed       0.181644\n",
      "telephone    0.164518\n",
      "report       0.133955\n",
      "Name: 13, dtype: float64 \n",
      "\n",
      " topic # 14\n",
      "arrive       1.033862\n",
      "secretary    0.092545\n",
      "private      0.087563\n",
      "subject      0.053544\n",
      "sheffield    0.050590\n",
      "justice      0.042844\n",
      "london       0.042612\n",
      "message      0.038389\n",
      "general      0.037748\n",
      "attorney     0.037600\n",
      "Name: 14, dtype: float64 \n",
      "\n"
     ]
    }
   ],
   "source": [
    "for i, topic in enumerate(topics_list):\n",
    "    print(\" topic #\", i)\n",
    "    print(topic, \"\\n\")\n",
    "    pass"
   ]
  },
  {
   "cell_type": "code",
   "execution_count": null,
   "metadata": {
    "collapsed": true,
    "scrolled": true
   },
   "outputs": [],
   "source": [
    "# indicator of topic significance by visualising the magnitude of the topic elements\n",
    "x = tmt.svd.get_word_view(cr.content_directory,10)\n",
    "x.abs().sum().plot()"
   ]
  },
  {
   "cell_type": "code",
   "execution_count": null,
   "metadata": {
    "collapsed": true
   },
   "outputs": [],
   "source": []
  }
 ],
 "metadata": {
  "anaconda-cloud": {},
  "kernelspec": {
   "display_name": "Python 3",
   "language": "python",
   "name": "python3"
  },
  "language_info": {
   "codemirror_mode": {
    "name": "ipython",
    "version": 3
   },
   "file_extension": ".py",
   "mimetype": "text/x-python",
   "name": "python",
   "nbconvert_exporter": "python",
   "pygments_lexer": "ipython3",
   "version": "3.6.1"
  }
 },
 "nbformat": 4,
 "nbformat_minor": 1
}
