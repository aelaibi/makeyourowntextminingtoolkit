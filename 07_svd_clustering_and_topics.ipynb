{
 "cells": [
  {
   "cell_type": "code",
   "execution_count": 1,
   "metadata": {
    "collapsed": true
   },
   "outputs": [],
   "source": [
    "# notebook to illustrate extracting topics using SVD"
   ]
  },
  {
   "cell_type": "code",
   "execution_count": 2,
   "metadata": {
    "collapsed": false
   },
   "outputs": [],
   "source": [
    "# following only used for development, reloads the modules with any code changes\n",
    "%load_ext autoreload\n",
    "%autoreload 2\n",
    "\n",
    "# inline matplotlib charts\n",
    "%matplotlib inline"
   ]
  },
  {
   "cell_type": "code",
   "execution_count": 3,
   "metadata": {
    "collapsed": false
   },
   "outputs": [],
   "source": [
    "# import our text mining toolkit\n",
    "import text_mining_toolkit as tmt"
   ]
  },
  {
   "cell_type": "code",
   "execution_count": 4,
   "metadata": {
    "collapsed": false
   },
   "outputs": [
    {
     "name": "stdout",
     "output_type": "stream",
     "text": [
      "content_directory =  data_sets/iraq_inquiry/txt/\n",
      "text_filename_pattern =  the-report*.txt\n",
      "self.documents populated =  58\n"
     ]
    }
   ],
   "source": [
    "#cr = tmt.corpus_reader.CorpusReader(content_directory=\"data_sets/simple_test/txt/\", text_filename_pattern=\"??.txt\")\n",
    "#cr = tmt.corpus_reader.CorpusReader(content_directory=\"data_sets/recipes/txt/\", text_filename_pattern=\"??.txt\")\n",
    "#cr = tmt.corpus_reader.CorpusReader(directory_of_files=\"data_sets/mystery_corpus_01/txt/\", text_filename_pattern=\"??.txt\")\n",
    "cr = tmt.corpus_reader.CorpusReader(content_directory=\"data_sets/iraq_inquiry/txt/\", text_filename_pattern=\"the-report*.txt\")\n",
    "#cr = tmt.corpus_reader.CorpusReader(content_directory=\"data_sets/clinton_emails/txt/\", text_filename_pattern=\"C0*.txt\")\n",
    "#cr = tmt.corpus_reader.CorpusReader(content_directory=\"data_sets/shakespeare_macbeth/txt/\", text_filename_pattern=\"macbeth_act_0?_scene_0?.txt\")\n",
    "#cr = tmt.corpus_reader.CorpusReader(content_directory=\"data_sets/mixed/txt/\", text_filename_pattern=\"*.txt\")"
   ]
  },
  {
   "cell_type": "code",
   "execution_count": 5,
   "metadata": {
    "collapsed": false,
    "scrolled": false
   },
   "outputs": [],
   "source": [
    "# first clear index\n",
    "tmt.index_wordcount.delete_index(cr.content_directory)\n",
    "\n",
    "# for all documents in corpus\n",
    "for document_name in cr.get_documents():\n",
    "    #print(\"processing \", document_name)\n",
    "\n",
    "    # get document text\n",
    "    document_text = cr.get_text_by_document(document_name)\n",
    "\n",
    "    # simplify whitespace (remove newlines)\n",
    "    b = tmt.text_processing.simplify_whitespace(document_text)\n",
    "\n",
    "    # only keep alphanumeric characters, removes punctuation\n",
    "    c = tmt.text_processing.keep_only_alphanumeric(b)\n",
    "\n",
    "    # make lowercase\n",
    "    d = tmt.text_processing.to_lowercase(c)\n",
    "\n",
    "    # split into words list\n",
    "    dl = tmt.text_processing.split_text_into_words(d)\n",
    "    \n",
    "    # build n-grams\n",
    "    #gl = tmt.word_processing.build_ngrams_from_words(dl,2)\n",
    "\n",
    "    # remove stop words\n",
    "    el = tmt.word_processing.remove_stop_words(dl, \"./stopwords/minimal-stop.txt\")\n",
    "    \n",
    "    # update index\n",
    "    tmt.index_wordcount.create_wordcount_index_for_document(cr.content_directory, document_name, el)\n",
    "    pass"
   ]
  },
  {
   "cell_type": "code",
   "execution_count": 6,
   "metadata": {
    "collapsed": false
   },
   "outputs": [
    {
     "name": "stdout",
     "output_type": "stream",
     "text": [
      "saving corpus word count index ...  data_sets/iraq_inquiry/txt/index_wordcount.hdf5\n"
     ]
    }
   ],
   "source": [
    "# merge document indices into a corpus index\n",
    "tmt.index_wordcount.merge_wordcount_indices_for_corpus(cr.content_directory)"
   ]
  },
  {
   "cell_type": "code",
   "execution_count": 7,
   "metadata": {
    "collapsed": false
   },
   "outputs": [
    {
     "name": "stdout",
     "output_type": "stream",
     "text": [
      "saving corpus relevance index ...  data_sets/iraq_inquiry/txt/index_relevance.hdf5\n"
     ]
    }
   ],
   "source": [
    "# delete and build relevance index\n",
    "tmt.index_relevance.delete_index(cr.content_directory)\n",
    "tmt.index_relevance.calculate_relevance_index(cr.content_directory)"
   ]
  },
  {
   "cell_type": "code",
   "execution_count": 8,
   "metadata": {
    "collapsed": false
   },
   "outputs": [
    {
     "name": "stdout",
     "output_type": "stream",
     "text": [
      "saving singular value decomposition ...  data_sets/iraq_inquiry/txt/svd.hdf5\n"
     ]
    }
   ],
   "source": [
    "# delete and rebuild SVD of doc-term matrix\n",
    "tmt.svd.delete_svd(cr.content_directory)\n",
    "tmt.svd.calculate_singular_value_decomposition(cr.content_directory)"
   ]
  },
  {
   "cell_type": "code",
   "execution_count": null,
   "metadata": {
    "collapsed": true
   },
   "outputs": [],
   "source": []
  },
  {
   "cell_type": "code",
   "execution_count": 9,
   "metadata": {
    "collapsed": false
   },
   "outputs": [],
   "source": [
    "# get SVD eigenvalues\n",
    "eigenvalues = tmt.svd.get_svd_eigenvalues(cr.content_directory)"
   ]
  },
  {
   "cell_type": "code",
   "execution_count": null,
   "metadata": {
    "collapsed": true
   },
   "outputs": [],
   "source": []
  },
  {
   "cell_type": "code",
   "execution_count": 10,
   "metadata": {
    "collapsed": false,
    "scrolled": false
   },
   "outputs": [
    {
     "data": {
      "image/png": "[encoded data removed]",
      "text/plain": [
       "<matplotlib.figure.Figure at 0x1183517f0>"
      ]
     },
     "metadata": {},
     "output_type": "display_data"
    }
   ],
   "source": [
    "# visualise the SVD eigenvalues as a barchart to see most significant\n",
    "tmt.visualisation.plot_bar_chart(eigenvalues)"
   ]
  },
  {
   "cell_type": "code",
   "execution_count": 5,
   "metadata": {
    "collapsed": false
   },
   "outputs": [
    {
     "data": {
      "image/png": "[encoded data removed]",
      "text/plain": [
       "<matplotlib.figure.Figure at 0x116e860f0>"
      ]
     },
     "metadata": {},
     "output_type": "display_data"
    }
   ],
   "source": [
    "# get document-view projection onto 2 dimensions\n",
    "document_view = tmt.svd.get_document_view(cr.content_directory)\n",
    "\n",
    "# plot documents in reduced dimension space with a 2-d scatter \n",
    "tmt.visualisation.plot_scatter_chart(document_view)"
   ]
  },
  {
   "cell_type": "code",
   "execution_count": null,
   "metadata": {
    "collapsed": true
   },
   "outputs": [],
   "source": []
  },
  {
   "cell_type": "code",
   "execution_count": 6,
   "metadata": {
    "collapsed": false
   },
   "outputs": [
    {
     "data": {
      "text/html": [
       "<div>\n",
       "<table border=\"1\" class=\"dataframe\">\n",
       "  <thead>\n",
       "    <tr style=\"text-align: right;\">\n",
       "      <th></th>\n",
       "      <th>0</th>\n",
       "      <th>1</th>\n",
       "    </tr>\n",
       "  </thead>\n",
       "  <tbody>\n",
       "    <tr>\n",
       "      <th>the-report-of-the-iraq-inquiry_section-111.txt</th>\n",
       "      <td>0.000499</td>\n",
       "      <td>-0.007369</td>\n",
       "    </tr>\n",
       "    <tr>\n",
       "      <th>the-report-of-the-iraq-inquiry_section-112.txt</th>\n",
       "      <td>0.000415</td>\n",
       "      <td>-0.010617</td>\n",
       "    </tr>\n",
       "  </tbody>\n",
       "</table>\n",
       "</div>"
      ],
      "text/plain": [
       "                                                       0         1\n",
       "the-report-of-the-iraq-inquiry_section-111.txt  0.000499 -0.007369\n",
       "the-report-of-the-iraq-inquiry_section-112.txt  0.000415 -0.010617"
      ]
     },
     "execution_count": 6,
     "metadata": {},
     "output_type": "execute_result"
    }
   ],
   "source": [
    "document_view.T[document_view.T[1] < -0.006]"
   ]
  },
  {
   "cell_type": "code",
   "execution_count": null,
   "metadata": {
    "collapsed": true
   },
   "outputs": [],
   "source": []
  },
  {
   "cell_type": "code",
   "execution_count": 17,
   "metadata": {
    "collapsed": false,
    "scrolled": false
   },
   "outputs": [],
   "source": [
    "# get top n topics, n is usually the same as key dimensions identified by the eigenvalue bar chart above\n",
    "number_of_topics = 10\n",
    "# how many words in each topic (the most significant)\n",
    "topic_length = 10\n",
    "\n",
    "topics_list = tmt.svd.get_topics(cr.content_directory, number_of_topics, topic_length)"
   ]
  },
  {
   "cell_type": "code",
   "execution_count": 18,
   "metadata": {
    "collapsed": false,
    "scrolled": false
   },
   "outputs": [
    {
     "name": "stdout",
     "output_type": "stream",
     "text": [
      " topic # 0\n",
      "multinational    0.019513\n",
      "map              0.018873\n",
      "mndn             0.009999\n",
      "maps             0.009649\n",
      "division         0.007975\n",
      "dissolved        0.005887\n",
      "provinces        0.005885\n",
      "southeast        0.005879\n",
      "mnfnw            0.005734\n",
      "mndnc            0.005734\n",
      "Name: 0, dtype: float64 \n",
      "\n",
      " topic # 1\n",
      "debaathification    0.010073\n",
      "resolution          0.003564\n",
      "basra               0.002889\n",
      "weapons             0.002380\n",
      "had                 0.002360\n",
      "inspectors          0.002251\n",
      "destruction         0.002238\n",
      "cpa                 0.002217\n",
      "wmd                 0.002115\n",
      "biological          0.002111\n",
      "Name: 1, dtype: float64 \n",
      "\n",
      " topic # 2\n",
      "debaathification    0.016325\n",
      "baath               0.002761\n",
      "resolution          0.002180\n",
      "postinvasion        0.002080\n",
      "no1                 0.002078\n",
      "bremer              0.002075\n",
      "weapons             0.001960\n",
      "destruction         0.001869\n",
      "baathists           0.001798\n",
      "biological          0.001708\n",
      "Name: 2, dtype: float64 \n",
      "\n",
      " topic # 3\n",
      "telegrams      0.008248\n",
      "quotes         0.004428\n",
      "documents      0.003594\n",
      "quote          0.003523\n",
      "bold           0.002878\n",
      "spellings      0.002869\n",
      "redactions     0.002845\n",
      "egram          0.002822\n",
      "transcripts    0.002773\n",
      "navigate       0.002693\n",
      "Name: 3, dtype: float64 \n",
      "\n",
      " topic # 4\n",
      "inquests          0.004623\n",
      "families          0.004157\n",
      "bereaved          0.003888\n",
      "coroners          0.002850\n",
      "mental            0.002770\n",
      "boi               0.002714\n",
      "reservists        0.002711\n",
      "investigations    0.002630\n",
      "telic             0.002620\n",
      "inquest           0.002611\n",
      "Name: 4, dtype: float64 \n",
      "\n",
      " topic # 5\n",
      "basra               0.003605\n",
      "inquests            0.003233\n",
      "bereaved            0.002699\n",
      "debaathification    0.002648\n",
      "families            0.002642\n",
      "butler              0.002636\n",
      "destruction         0.002585\n",
      "weapons             0.002520\n",
      "dfid                0.002233\n",
      "witness             0.002220\n",
      "Name: 5, dtype: float64 \n",
      "\n",
      " topic # 6\n",
      "witness           0.009471\n",
      "director          0.001858\n",
      "20012003          0.001808\n",
      "representative    0.001532\n",
      "lieutenant        0.001475\n",
      "deputy            0.001458\n",
      "resolution        0.001426\n",
      "20002003          0.001356\n",
      "commander         0.001354\n",
      "butler            0.001294\n",
      "Name: 6, dtype: float64 \n",
      "\n",
      " topic # 7\n",
      "resolution     0.003268\n",
      "snatch         0.003229\n",
      "vehicle        0.002454\n",
      "istar          0.002397\n",
      "vehicles       0.002338\n",
      "hutton         0.002313\n",
      "butler         0.002294\n",
      "requirement    0.001761\n",
      "mobility       0.001725\n",
      "destruction    0.001704\n",
      "Name: 7, dtype: float64 \n",
      "\n",
      " topic # 8\n",
      "treaty         0.004037\n",
      "britain        0.003420\n",
      "witness        0.003097\n",
      "feisal         0.002870\n",
      "ottoman        0.002433\n",
      "nuri           0.002356\n",
      "angloiraqi     0.002282\n",
      "mesopotamia    0.002100\n",
      "rashid         0.001794\n",
      "resolution     0.001672\n",
      "Name: 8, dtype: float64 \n",
      "\n",
      " topic # 9\n",
      "veterans      0.004128\n",
      "mental        0.003520\n",
      "medical       0.002977\n",
      "inquests      0.002574\n",
      "health        0.002349\n",
      "inquest       0.002167\n",
      "reservists    0.001946\n",
      "coroners      0.001898\n",
      "resolution    0.001734\n",
      "witness       0.001710\n",
      "Name: 9, dtype: float64 \n",
      "\n"
     ]
    }
   ],
   "source": [
    "for i, topic in enumerate(topics_list):\n",
    "    print(\" topic #\", i)\n",
    "    print(topic, \"\\n\")\n",
    "    pass"
   ]
  },
  {
   "cell_type": "code",
   "execution_count": 19,
   "metadata": {
    "collapsed": false,
    "scrolled": true
   },
   "outputs": [
    {
     "data": {
      "text/plain": [
       "<matplotlib.axes._subplots.AxesSubplot at 0x11cb81630>"
      ]
     },
     "execution_count": 19,
     "metadata": {},
     "output_type": "execute_result"
    },
    {
     "data": {
      "image/png": "[encoded data removed]",
      "text/plain": [
       "<matplotlib.figure.Figure at 0x11dae1fd0>"
      ]
     },
     "metadata": {},
     "output_type": "display_data"
    }
   ],
   "source": [
    "# indicator of topic significance by visualising the magnitude of the topic elements\n",
    "x = tmt.svd.get_word_view(cr.content_directory,10)\n",
    "x.abs().sum().plot()"
   ]
  },
  {
   "cell_type": "code",
   "execution_count": null,
   "metadata": {
    "collapsed": true
   },
   "outputs": [],
   "source": []
  }
 ],
 "metadata": {
  "anaconda-cloud": {},
  "kernelspec": {
   "display_name": "Python 3",
   "language": "python",
   "name": "python3"
  },
  "language_info": {
   "codemirror_mode": {
    "name": "ipython",
    "version": 3
   },
   "file_extension": ".py",
   "mimetype": "text/x-python",
   "name": "python",
   "nbconvert_exporter": "python",
   "pygments_lexer": "ipython3",
   "version": "3.6.0"
  }
 },
 "nbformat": 4,
 "nbformat_minor": 0
}
